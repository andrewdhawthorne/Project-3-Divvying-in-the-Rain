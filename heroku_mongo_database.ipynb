{
 "cells": [
  {
   "cell_type": "code",
   "execution_count": 7,
   "metadata": {},
   "outputs": [],
   "source": [
    "import pymongo\n",
    "from pymongo import MongoClient, UpdateOne\n",
    "import json\n",
    "from Resources import config\n",
    "\n",
    "# Adding for query to find top ten stations \n",
    "#from pymongo.collection import Collection\n",
    "#from pymongo.aggregation import Aggregation##"
   ]
  },
  {
   "cell_type": "code",
   "execution_count": 8,
   "metadata": {},
   "outputs": [],
   "source": [
    "# Access variables from config.py\n",
    "mongo_user = config.mongo_user\n",
    "mongo_password = config.mongo_password\n",
    "mongo_cluster = config.mongo_cluster"
   ]
  },
  {
   "cell_type": "code",
   "execution_count": 9,
   "metadata": {},
   "outputs": [],
   "source": [
    "connection_string = f\"mongodb+srv://{mongo_user}:{mongo_password}@{mongo_cluster}/\"\n",
    "client = MongoClient(connection_string)\n",
    "\n",
    "mongo_local = MongoClient(port=27017)"
   ]
  },
  {
   "cell_type": "code",
   "execution_count": 10,
   "metadata": {},
   "outputs": [
    {
     "name": "stdout",
     "output_type": "stream",
     "text": [
      "['chicago_bikes', 'admin', 'local']\n",
      "['admin', 'chicago_bikes', 'classDB', 'config', 'divvy_db', 'fruits_db', 'gardenDB', 'local', 'met', 'travel_db', 'uk_food', 'withStationName']\n"
     ]
    }
   ],
   "source": [
    "# check our list of collections\n",
    "print(client.list_database_names())\n",
    "print(mongo_local.list_database_names())"
   ]
  },
  {
   "cell_type": "code",
   "execution_count": 11,
   "metadata": {},
   "outputs": [],
   "source": [
    "# assign the database to a variable name\n",
    "db = client.chicago_bikes\n",
    "db_local = mongo_local.chicago_bikes"
   ]
  },
  {
   "cell_type": "code",
   "execution_count": 12,
   "metadata": {},
   "outputs": [
    {
     "name": "stdout",
     "output_type": "stream",
     "text": [
      "['Top10EndStations', 'Top10StartStations', 'sig_prcp_yes_month_with_string_id', 'sig_prcp_no_month_with_string_id', 'divvy_rides_by_month', 'Top10Routes', 'divvy_rides_by_season', 'distinct_station_names', 'weather_daily']\n",
      "['divvy_rides_by_season', 'withLatLong', 'sig_prcp_yes_month_with_string_id', 'withoutStationName', 'Top10Routes', 'Top10EndStations', 'sig_prcp_no_month', 'sig_prcp_yes', 'sig_prcp_no', 'sig_prcp_no_month_with_string_id', 'divvy_rides_by_month', 'sig_prcp_yes_month', 'weather_daily', 'Top10StartStations', 'withStationName', 'distinct_station_names', 'divvy_ridedata_merged', 'divvy_ridedata', 'RouteDistance']\n"
     ]
    }
   ],
   "source": [
    "# review the collections in our new database\n",
    "print(db.list_collection_names())\n",
    "print(db_local.list_collection_names())"
   ]
  },
  {
   "cell_type": "code",
   "execution_count": null,
   "metadata": {},
   "outputs": [],
   "source": [
    "# Local MongoDB instance\n",
    "mongo_local = MongoClient(port=27017)\n",
    "local_db = mongo_local['chicago_bikes']\n",
    "local_collection_name = 'distinct_station_names'\n",
    "local_collection = local_db[local_collection_name]\n",
    "\n",
    "# Remote MongoDB instance (Atlas)\n",
    "remote_client = MongoClient(connection_string)\n",
    "remote_db = remote_client['chicago_bikes']\n",
    "remote_collection_name = 'distinct_station_names'\n",
    "remote_collection = remote_db[remote_collection_name]\n",
    "\n",
    "# Iterate through documents in the local collection and insert into remote collection\n",
    "for document in local_collection.find():\n",
    "    remote_collection.insert_one(document)\n",
    "\n",
    "# Close connections\n",
    "mongo_local.close()\n",
    "remote_client.close()\n"
   ]
  },
  {
   "cell_type": "code",
   "execution_count": null,
   "metadata": {},
   "outputs": [],
   "source": [
    "# Local MongoDB instance\n",
    "mongo_local = MongoClient(port=27017)\n",
    "local_db = mongo_local['chicago_bikes']\n",
    "local_collection_name = 'Top10StartStations'\n",
    "local_collection = local_db[local_collection_name]\n",
    "\n",
    "# Remote MongoDB instance (Atlas)\n",
    "remote_client = MongoClient(connection_string)\n",
    "remote_db = remote_client['chicago_bikes']\n",
    "remote_collection_name = 'Top10StartStations'\n",
    "remote_collection = remote_db[remote_collection_name]\n",
    "\n",
    "# Iterate through documents in the local collection and insert into remote collection\n",
    "for document in local_collection.find():\n",
    "    remote_collection.insert_one(document)\n",
    "\n",
    "# Close connections\n",
    "mongo_local.close()\n",
    "remote_client.close()"
   ]
  },
  {
   "cell_type": "code",
   "execution_count": 22,
   "metadata": {},
   "outputs": [],
   "source": [
    "# Local MongoDB instance\n",
    "mongo_local = MongoClient(port=27017)\n",
    "local_db = mongo_local['chicago_bikes']\n",
    "local_collection_name = 'Top10EndStations'\n",
    "local_collection = local_db[local_collection_name]\n",
    "\n",
    "# Remote MongoDB instance (Atlas)\n",
    "remote_client = MongoClient(connection_string)\n",
    "remote_db = remote_client['chicago_bikes']\n",
    "remote_collection_name = 'Top10EndStations'\n",
    "remote_collection = remote_db[remote_collection_name]\n",
    "\n",
    "# Iterate through documents in the local collection and insert into remote collection\n",
    "for document in local_collection.find():\n",
    "    remote_collection.insert_one(document)\n",
    "\n",
    "# Close connections\n",
    "mongo_local.close()\n",
    "remote_client.close()"
   ]
  },
  {
   "cell_type": "code",
   "execution_count": 23,
   "metadata": {},
   "outputs": [],
   "source": [
    "# Local MongoDB instance\n",
    "mongo_local = MongoClient(port=27017)\n",
    "local_db = mongo_local['chicago_bikes']\n",
    "local_collection_name = 'Top10Routes'\n",
    "local_collection = local_db[local_collection_name]\n",
    "\n",
    "# Remote MongoDB instance (Atlas)\n",
    "remote_client = MongoClient(connection_string)\n",
    "remote_db = remote_client['chicago_bikes']\n",
    "remote_collection_name = 'Top10Routes'\n",
    "remote_collection = remote_db[remote_collection_name]\n",
    "\n",
    "# Iterate through documents in the local collection and insert into remote collection\n",
    "for document in local_collection.find():\n",
    "    remote_collection.insert_one(document)\n",
    "\n",
    "# Close connections\n",
    "mongo_local.close()\n",
    "remote_client.close()"
   ]
  },
  {
   "cell_type": "code",
   "execution_count": 24,
   "metadata": {},
   "outputs": [],
   "source": [
    "# Local MongoDB instance\n",
    "mongo_local = MongoClient(port=27017)\n",
    "local_db = mongo_local['chicago_bikes']\n",
    "local_collection_name = 'divvy_rides_by_month'\n",
    "local_collection = local_db[local_collection_name]\n",
    "\n",
    "# Remote MongoDB instance (Atlas)\n",
    "remote_client = MongoClient(connection_string)\n",
    "remote_db = remote_client['chicago_bikes']\n",
    "remote_collection_name = 'divvy_rides_by_month'\n",
    "remote_collection = remote_db[remote_collection_name]\n",
    "\n",
    "# Iterate through documents in the local collection and insert into remote collection\n",
    "for document in local_collection.find():\n",
    "    remote_collection.insert_one(document)\n",
    "\n",
    "# Close connections\n",
    "mongo_local.close()\n",
    "remote_client.close()"
   ]
  },
  {
   "cell_type": "code",
   "execution_count": 25,
   "metadata": {},
   "outputs": [],
   "source": [
    "# Local MongoDB instance\n",
    "mongo_local = MongoClient(port=27017)\n",
    "local_db = mongo_local['chicago_bikes']\n",
    "local_collection_name = 'divvy_rides_by_season'\n",
    "local_collection = local_db[local_collection_name]\n",
    "\n",
    "# Remote MongoDB instance (Atlas)\n",
    "remote_client = MongoClient(connection_string)\n",
    "remote_db = remote_client['chicago_bikes']\n",
    "remote_collection_name = 'divvy_rides_by_season'\n",
    "remote_collection = remote_db[remote_collection_name]\n",
    "\n",
    "# Iterate through documents in the local collection and insert into remote collection\n",
    "for document in local_collection.find():\n",
    "    remote_collection.insert_one(document)\n",
    "\n",
    "# Close connections\n",
    "mongo_local.close()\n",
    "remote_client.close()"
   ]
  },
  {
   "cell_type": "code",
   "execution_count": 26,
   "metadata": {},
   "outputs": [],
   "source": [
    "# Local MongoDB instance\n",
    "mongo_local = MongoClient(port=27017)\n",
    "local_db = mongo_local['chicago_bikes']\n",
    "local_collection_name = 'sig_prcp_no_month_with_string_id'\n",
    "local_collection = local_db[local_collection_name]\n",
    "\n",
    "# Remote MongoDB instance (Atlas)\n",
    "remote_client = MongoClient(connection_string)\n",
    "remote_db = remote_client['chicago_bikes']\n",
    "remote_collection_name = 'sig_prcp_no_month_with_string_id'\n",
    "remote_collection = remote_db[remote_collection_name]\n",
    "\n",
    "# Iterate through documents in the local collection and insert into remote collection\n",
    "for document in local_collection.find():\n",
    "    remote_collection.insert_one(document)\n",
    "\n",
    "# Close connections\n",
    "mongo_local.close()\n",
    "remote_client.close()"
   ]
  },
  {
   "cell_type": "code",
   "execution_count": null,
   "metadata": {},
   "outputs": [],
   "source": [
    "# Local MongoDB instance\n",
    "mongo_local = MongoClient(port=27017)\n",
    "local_db = mongo_local['chicago_bikes']\n",
    "local_collection_name = 'sig_prcp_yes_month_with_string_id'\n",
    "local_collection = local_db[local_collection_name]\n",
    "\n",
    "# Remote MongoDB instance (Atlas)\n",
    "remote_client = MongoClient(connection_string)\n",
    "remote_db = remote_client['chicago_bikes']\n",
    "remote_collection_name = 'sig_prcp_yes_month_with_string_id'\n",
    "remote_collection = remote_db[remote_collection_name]\n",
    "\n",
    "# Iterate through documents in the local collection and insert into remote collection\n",
    "for document in local_collection.find():\n",
    "    remote_collection.insert_one(document)\n",
    "\n",
    "# Close connections\n",
    "mongo_local.close()\n",
    "remote_client.close()"
   ]
  },
  {
   "cell_type": "code",
   "execution_count": null,
   "metadata": {},
   "outputs": [],
   "source": [
    "\n",
    "Top10StartStations = db['Top10StartStations']\n",
    "Top10EndStations = db['Top10EndStations']\n",
    "Top10Routes = db['Top10Routes']\n",
    "weather_daily = db['weather_daily']\n",
    "divvy_rides_by_month = db[\"divvy_rides_by_month\"]\n",
    "divvy_rides_by_season = db[\"divvy_rides_by_season\"]\n",
    "station_names = db['distinct_station_names']\n",
    "sig_prcp_no_month_string = db[\"sig_prcp_no_month_with_string_id\"]\n",
    "sig_prcp_yes_month_string = db[\"sig_prcp_yes_month_with_string_id\"]"
   ]
  }
 ],
 "metadata": {
  "kernelspec": {
   "display_name": "dev2",
   "language": "python",
   "name": "python3"
  },
  "language_info": {
   "codemirror_mode": {
    "name": "ipython",
    "version": 3
   },
   "file_extension": ".py",
   "mimetype": "text/x-python",
   "name": "python",
   "nbconvert_exporter": "python",
   "pygments_lexer": "ipython3",
   "version": "3.10.12"
  },
  "orig_nbformat": 4
 },
 "nbformat": 4,
 "nbformat_minor": 2
}
