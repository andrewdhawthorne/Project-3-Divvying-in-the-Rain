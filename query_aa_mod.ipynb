{
 "cells": [
  {
   "cell_type": "code",
   "execution_count": 1,
   "metadata": {},
   "outputs": [],
   "source": [
    "import pymongo\n",
    "from pymongo import MongoClient, UpdateOne\n",
    "import json\n",
    "\n",
    "# Adding for query to find top ten stations \n",
    "#from pymongo.collection import Collection\n",
    "#from pymongo.aggregation import Aggregation"
   ]
  },
  {
   "cell_type": "code",
   "execution_count": 2,
   "metadata": {},
   "outputs": [],
   "source": [
    "# Create an instance of MongoClient\n",
    "mongo = MongoClient(port=27017)"
   ]
  },
  {
   "cell_type": "code",
   "execution_count": 3,
   "metadata": {},
   "outputs": [
    {
     "name": "stdout",
     "output_type": "stream",
     "text": [
      "['admin', 'autosaurus', 'chicago_bikes', 'classDB', 'config', 'epa', 'fruits_db', 'local', 'met', 'travel_db', 'uk_food']\n"
     ]
    }
   ],
   "source": [
    "# check our list of databases\n",
    "print(mongo.list_database_names())"
   ]
  },
  {
   "cell_type": "code",
   "execution_count": 4,
   "metadata": {},
   "outputs": [],
   "source": [
    "# assign the database to a variable name\n",
    "db = mongo.chicago_bikes"
   ]
  },
  {
   "cell_type": "code",
   "execution_count": 5,
   "metadata": {},
   "outputs": [
    {
     "name": "stdout",
     "output_type": "stream",
     "text": [
      "['withLatLong', 'RouteDistance', 'divvy_ridedata', 'Top10EndStations', 'weather_daily', 'withoutStationName', 'divvy_rides_by_season', 'divvy_rides_by_month', 'Top10StartStations', 'withStationName', 'divvy_ridedata_merged', 'Top10Routes']\n"
     ]
    }
   ],
   "source": [
    "# review the collections in our new database\n",
    "print(db.list_collection_names())"
   ]
  },
  {
   "cell_type": "code",
   "execution_count": 6,
   "metadata": {},
   "outputs": [],
   "source": [
    "divvy_rides = db['divvy_ridedata']\n",
    "weather_daily = db['weather_daily']\n",
    "withStation = db['withStationName']\n",
    "withoutStation = db['withoutStationName']\n",
    "divvy_ridedata_merged = db['divvy_ridedata_merged']"
   ]
  },
  {
   "cell_type": "code",
   "execution_count": 7,
   "metadata": {},
   "outputs": [],
   "source": [
    "# Create a pipeline query to find docouments that have lat/long  \n",
    "pipeline = [\n",
    "    {\n",
    "        \"$match\": {\n",
    "            \"$and\": [\n",
    "                { \"start_lat\": { \"$ne\": \"\" } },\n",
    "                { \"start_lat\": { \"$ne\": 0 } },\n",
    "                { \"start_lng\": { \"$ne\": \"\" } },\n",
    "                { \"start_lng\": { \"$ne\": 0 } },\n",
    "                { \"end_lat\": { \"$ne\": \"\" } },\n",
    "                { \"end_lat\": { \"$ne\": 0 } },\n",
    "                { \"end_lng\": { \"$ne\": \"\" } },\n",
    "                { \"end_lng\": { \"$ne\": 0 } }\n",
    "            ]\n",
    "        }\n",
    "    }, \n",
    "    {\"$out\": \"withLatLong\"}\n",
    "]\n",
    "\n",
    "# Perform the aggregation\n",
    "result = list(divvy_ridedata_merged.aggregate(pipeline))"
   ]
  },
  {
   "cell_type": "code",
   "execution_count": 8,
   "metadata": {},
   "outputs": [
    {
     "name": "stdout",
     "output_type": "stream",
     "text": [
      "['RouteDistance', 'divvy_ridedata', 'Top10EndStations', 'withLatLong', 'weather_daily', 'withoutStationName', 'divvy_rides_by_season', 'divvy_rides_by_month', 'Top10StartStations', 'withStationName', 'divvy_ridedata_merged', 'Top10Routes']\n"
     ]
    }
   ],
   "source": [
    "# review the collections in our new database\n",
    "print(db.list_collection_names())"
   ]
  },
  {
   "cell_type": "code",
   "execution_count": 9,
   "metadata": {},
   "outputs": [],
   "source": [
    "#Assign collection to a variable\n",
    "withLatLong = db['withLatLong']"
   ]
  },
  {
   "cell_type": "code",
   "execution_count": 10,
   "metadata": {},
   "outputs": [
    {
     "name": "stdout",
     "output_type": "stream",
     "text": [
      "{'_id': ObjectId('64e4eab4a682807a5695d165'), 'end_lat': 42.01256011541, 'end_lng': -87.6743671152, 'end_station_id': 'RP-007', 'end_station_name': 'Clark St & Touhy Ave', 'ended_at': '2022-01-13 12:02:44', 'ended_at_date': '2022-01-13', 'ended_at_time': '12:02:44', 'member_casual': 'casual', 'ride_id': 'C2F7DD78E82EC875', 'rideable_type': 'electric_bike', 'start_lat': 42.0128005, 'start_lng': -87.665906, 'start_station_id': 525, 'start_station_name': 'Glenwood Ave & Touhy Ave', 'started_at': '2022-01-13 11:59:47', 'started_at_date': '2022-01-13', 'started_at_time': '11:59:47', 'weather_data': {'_id': ObjectId('64e4ebecb589d1838b565c57'), 'date': '2022-01-13', 'cloud_cover': 75.0, 'precipitation': 0.0, 'min_temp': 30.72, 'max_temp': 39.83, 'morning_temp': 35.49, 'afternoon_temp': 30.72, 'evening_temp': 34.38, 'night_temp': 39.22, 'max_windspeed': 8.01}}\n"
     ]
    }
   ],
   "source": [
    "print(withLatLong.find_one())"
   ]
  },
  {
   "cell_type": "code",
   "execution_count": 11,
   "metadata": {},
   "outputs": [],
   "source": [
    "# Create a pipeline query to find distance of each route in descending order by length  \n",
    "pipeline = [\n",
    "    {\n",
    "        \"$addFields\": {\n",
    "            \"start_lat\": { \"$toDouble\": \"$start_lat\" },\n",
    "            \"start_lng\": { \"$toDouble\": \"$start_lng\" },\n",
    "            \"end_lat\": { \"$toDouble\": \"$end_lat\" },\n",
    "            \"end_lng\": { \"$toDouble\": \"$end_lng\" }\n",
    "        }\n",
    "    },\n",
    "    {\n",
    "        \"$addFields\": {\n",
    "            \"distance\": {\n",
    "                \"$sqrt\": {\n",
    "                    \"$add\": [\n",
    "                        {\n",
    "                            \"$pow\": [\n",
    "                                { \"$subtract\": [\"$end_lat\", \"$start_lat\"] },\n",
    "                                2\n",
    "                            ]\n",
    "                        },\n",
    "                        {\n",
    "                            \"$pow\": [\n",
    "                                {\n",
    "                                    \"$multiply\": [\n",
    "                                        { \"$subtract\": [\"$end_lng\", \"$start_lng\"] },\n",
    "                                        { \"$cos\": { \"$avg\": [\"$start_lat\", \"$end_lat\"] } }\n",
    "                                    ]\n",
    "                                },\n",
    "                                2\n",
    "                            ]\n",
    "                        }\n",
    "                    ]\n",
    "                }\n",
    "            }\n",
    "        }\n",
    "    },\n",
    "    {\n",
    "        \"$sort\": {\"distance\": -1}\n",
    "    },\n",
    "    {\"$out\": \"RouteDistance\"}\n",
    "]\n",
    "\n",
    "# Perform the aggregation\n",
    "result = list(withLatLong.aggregate(pipeline))\n",
    "\n",
    "# Assign to a variable\n",
    "RouteDistance = db['RouteDistance']"
   ]
  },
  {
   "cell_type": "code",
   "execution_count": 12,
   "metadata": {},
   "outputs": [
    {
     "name": "stdout",
     "output_type": "stream",
     "text": [
      "['divvy_ridedata', 'Top10EndStations', 'withLatLong', 'weather_daily', 'withoutStationName', 'divvy_rides_by_season', 'divvy_rides_by_month', 'Top10StartStations', 'withStationName', 'RouteDistance', 'divvy_ridedata_merged', 'Top10Routes']\n"
     ]
    }
   ],
   "source": [
    "# review the collections in our new database\n",
    "print(db.list_collection_names())"
   ]
  },
  {
   "cell_type": "code",
   "execution_count": 13,
   "metadata": {},
   "outputs": [],
   "source": [
    "RouteDistance = db['RouteDistance']"
   ]
  },
  {
   "cell_type": "code",
   "execution_count": 14,
   "metadata": {},
   "outputs": [
    {
     "name": "stdout",
     "output_type": "stream",
     "text": [
      "{'_id': ObjectId('64e4eab4a682807a5695ff56'), 'end_lat': 41.8646, 'end_lng': -87.681, 'end_station_id': 'Pawel Bialowas - Test- PBSC charging station', 'end_station_name': 'Pawel Bialowas - Test- PBSC charging station', 'ended_at': '2022-01-14 11:15:50', 'ended_at_date': '2022-01-14', 'ended_at_time': '11:15:50', 'member_casual': 'casual', 'ride_id': '3327172413547F64', 'rideable_type': 'electric_bike', 'start_lat': 45.635034323, 'start_lng': -73.79647696, 'start_station_id': 'Pawel Bialowas - Test- PBSC charging station', 'start_station_name': 'Pawel Bialowas - Test- PBSC charging station', 'started_at': '2022-01-14 11:13:15', 'started_at_date': '2022-01-14', 'started_at_time': '11:13:15', 'weather_data': {'_id': ObjectId('64e4ebecb589d1838b565c58'), 'date': '2022-01-14', 'cloud_cover': 34.0, 'precipitation': 0.0, 'min_temp': 30.38, 'max_temp': 38.8, 'morning_temp': 35.74, 'afternoon_temp': 35.15, 'evening_temp': 32.5, 'night_temp': 38.39, 'max_windspeed': 10.0}, 'distance': 14.027235887447166}\n"
     ]
    }
   ],
   "source": [
    "print(RouteDistance.find_one())"
   ]
  },
  {
   "cell_type": "code",
   "execution_count": null,
   "metadata": {},
   "outputs": [],
   "source": []
  }
 ],
 "metadata": {
  "kernelspec": {
   "display_name": "intro_python_requirements_windo",
   "language": "python",
   "name": "python3"
  },
  "language_info": {
   "codemirror_mode": {
    "name": "ipython",
    "version": 3
   },
   "file_extension": ".py",
   "mimetype": "text/x-python",
   "name": "python",
   "nbconvert_exporter": "python",
   "pygments_lexer": "ipython3",
   "version": "3.10.12"
  },
  "orig_nbformat": 4
 },
 "nbformat": 4,
 "nbformat_minor": 2
}
