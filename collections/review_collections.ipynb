{
 "cells": [
  {
   "cell_type": "markdown",
   "metadata": {},
   "source": [
    "Review document in each collection of chicago_rides"
   ]
  },
  {
   "cell_type": "code",
   "execution_count": 34,
   "metadata": {},
   "outputs": [],
   "source": [
    "import pymongo\n",
    "from pymongo import MongoClient, UpdateOne\n",
    "import json"
   ]
  },
  {
   "cell_type": "code",
   "execution_count": 35,
   "metadata": {},
   "outputs": [],
   "source": [
    "# Create an instance of MongoClient\n",
    "mongo = MongoClient(port=27017)"
   ]
  },
  {
   "cell_type": "code",
   "execution_count": 36,
   "metadata": {},
   "outputs": [
    {
     "name": "stdout",
     "output_type": "stream",
     "text": [
      "['admin', 'autosaurus', 'chicago_bikes', 'classDB', 'config', 'epa', 'fruits_db', 'gardenDB', 'local', 'met', 'mongodbVSCodePlaygroundDB', 'petsitly_marketing', 'travel_db', 'uk_food']\n"
     ]
    }
   ],
   "source": [
    "# Confirm list of databases\n",
    "print(mongo.list_database_names())"
   ]
  },
  {
   "cell_type": "code",
   "execution_count": 37,
   "metadata": {},
   "outputs": [],
   "source": [
    "# Assign the database to a variable name\n",
    "db = mongo.chicago_bikes"
   ]
  },
  {
   "cell_type": "code",
   "execution_count": 38,
   "metadata": {},
   "outputs": [
    {
     "name": "stdout",
     "output_type": "stream",
     "text": [
      "['distinct_station_names', 'divvy_ridedata', 'sig_prcp_yes', 'withStationName', 'sig_prcp_yes_month', 'sig_prcp_no', 'withLatLong', 'Top10StartStations', 'Top10Routes', 'Top10EndStations', 'withoutStationName', 'divvy_rides_by_season', 'divvy_ridedata_merged', 'RouteDistance', 'weather_daily', 'divvy_rides_by_month']\n"
     ]
    }
   ],
   "source": [
    "# Review collections in database\n",
    "print(db.list_collection_names())"
   ]
  },
  {
   "cell_type": "code",
   "execution_count": 39,
   "metadata": {},
   "outputs": [
    {
     "name": "stdout",
     "output_type": "stream",
     "text": [
      "{'_id': ObjectId('652035aa8dddd3436e664723'), 'end_lat': 42.01256011541, 'end_lng': -87.6743671152, 'end_station_id': 'RP-007', 'end_station_name': 'Clark St & Touhy Ave', 'ended_at': '2022-01-13 12:02:44', 'ended_at_date': '2022-01-13', 'ended_at_time': '12:02:44', 'member_casual': 'casual', 'ride_id': 'C2F7DD78E82EC875', 'rideable_type': 'electric_bike', 'start_lat': 42.0128005, 'start_lng': -87.665906, 'start_station_id': 525, 'start_station_name': 'Glenwood Ave & Touhy Ave', 'started_at': '2022-01-13 11:59:47', 'started_at_date': '2022-01-13', 'started_at_time': '11:59:47', 'weather_data': {'_id': ObjectId('652045d1b7b2efde78396fb4'), 'date': '2022-01-13', 'cloud_cover': 75.0, 'precipitation': 0.0, 'min_temp': 30.72, 'max_temp': 39.83, 'morning_temp': 35.49, 'afternoon_temp': 30.72, 'evening_temp': 34.38, 'night_temp': 39.22, 'max_windspeed': 8.01, 'prcp_inches': 0.0, 'sig_prcp': 'no', 'avg_temp': 33.53}}\n"
     ]
    }
   ],
   "source": [
    "# Review a document in each collection \n",
    "print(db.divvy_ridedata_merged.find_one())"
   ]
  },
  {
   "cell_type": "code",
   "execution_count": 40,
   "metadata": {},
   "outputs": [
    {
     "name": "stdout",
     "output_type": "stream",
     "text": [
      "{'_id': ObjectId('652045d1b7b2efde78396faa'), 'date': '2022-01-02', 'cloud_cover': 90.0, 'precipitation': 13.81, 'min_temp': 18.81, 'max_temp': 32.77, 'morning_temp': 28.24, 'afternoon_temp': 26.64, 'evening_temp': 19.63, 'night_temp': 32.77, 'max_windspeed': 18.41, 'prcp_inches': 0.5436997, 'sig_prcp': 'yes', 'avg_temp': 24.836666666666662}\n"
     ]
    }
   ],
   "source": [
    "print(db.weather_daily.find_one())"
   ]
  },
  {
   "cell_type": "code",
   "execution_count": 41,
   "metadata": {},
   "outputs": [
    {
     "name": "stdout",
     "output_type": "stream",
     "text": [
      "{'_id': ObjectId('652035aa8dddd3436e66944c'), 'end_lat': 41.95, 'end_lng': -87.71, 'end_station_id': '', 'end_station_name': '', 'ended_at': '2022-01-04 19:11:14', 'ended_at_date': '2022-01-04', 'ended_at_time': '19:11:14', 'member_casual': 'member', 'ride_id': 'B2147BB28A87F330', 'rideable_type': 'electric_bike', 'start_lat': 41.95, 'start_lng': -87.71, 'start_station_id': '', 'start_station_name': '', 'started_at': '2022-01-04 19:09:38', 'started_at_date': '2022-01-04', 'started_at_time': '19:09:38', 'weather_data': {'_id': ObjectId('652045d1b7b2efde78396fac'), 'date': '2022-01-04', 'cloud_cover': 4.0, 'precipitation': 0.0, 'min_temp': 18.03, 'max_temp': 30.36, 'morning_temp': 18.03, 'afternoon_temp': 20.97, 'evening_temp': 21.29, 'night_temp': 19.26, 'max_windspeed': 10.0, 'prcp_inches': 0.0, 'sig_prcp': 'no', 'avg_temp': 20.096666666666668}}\n"
     ]
    }
   ],
   "source": [
    "print(db.withoutStationName.find_one())"
   ]
  },
  {
   "cell_type": "code",
   "execution_count": 42,
   "metadata": {},
   "outputs": [
    {
     "name": "stdout",
     "output_type": "stream",
     "text": [
      "{'_id': ObjectId('652035aa8dddd3436e664723'), 'end_lat': 42.01256011541, 'end_lng': -87.6743671152, 'end_station_id': 'RP-007', 'end_station_name': 'Clark St & Touhy Ave', 'ended_at': '2022-01-13 12:02:44', 'ended_at_date': '2022-01-13', 'ended_at_time': '12:02:44', 'member_casual': 'casual', 'ride_id': 'C2F7DD78E82EC875', 'rideable_type': 'electric_bike', 'start_lat': 42.0128005, 'start_lng': -87.665906, 'start_station_id': 525, 'start_station_name': 'Glenwood Ave & Touhy Ave', 'started_at': '2022-01-13 11:59:47', 'started_at_date': '2022-01-13', 'started_at_time': '11:59:47', 'weather_data': {'_id': ObjectId('652045d1b7b2efde78396fb4'), 'date': '2022-01-13', 'cloud_cover': 75.0, 'precipitation': 0.0, 'min_temp': 30.72, 'max_temp': 39.83, 'morning_temp': 35.49, 'afternoon_temp': 30.72, 'evening_temp': 34.38, 'night_temp': 39.22, 'max_windspeed': 8.01, 'prcp_inches': 0.0, 'sig_prcp': 'no', 'avg_temp': 33.53}}\n"
     ]
    }
   ],
   "source": [
    "print(db.withStationName.find_one())"
   ]
  },
  {
   "cell_type": "code",
   "execution_count": 43,
   "metadata": {},
   "outputs": [
    {
     "name": "stdout",
     "output_type": "stream",
     "text": [
      "{'_id': ObjectId('652035aa8dddd3436e664723'), 'end_lat': 42.01256011541, 'end_lng': -87.6743671152, 'end_station_id': 'RP-007', 'end_station_name': 'Clark St & Touhy Ave', 'ended_at': '2022-01-13 12:02:44', 'ended_at_date': '2022-01-13', 'ended_at_time': '12:02:44', 'member_casual': 'casual', 'ride_id': 'C2F7DD78E82EC875', 'rideable_type': 'electric_bike', 'start_lat': 42.0128005, 'start_lng': -87.665906, 'start_station_id': 525, 'start_station_name': 'Glenwood Ave & Touhy Ave', 'started_at': '2022-01-13 11:59:47', 'started_at_date': '2022-01-13', 'started_at_time': '11:59:47', 'weather_data': {'_id': ObjectId('652045d1b7b2efde78396fb4'), 'date': '2022-01-13', 'cloud_cover': 75.0, 'precipitation': 0.0, 'min_temp': 30.72, 'max_temp': 39.83, 'morning_temp': 35.49, 'afternoon_temp': 30.72, 'evening_temp': 34.38, 'night_temp': 39.22, 'max_windspeed': 8.01}}\n"
     ]
    }
   ],
   "source": [
    "print(db.withLatLong.find_one())"
   ]
  },
  {
   "cell_type": "code",
   "execution_count": 44,
   "metadata": {},
   "outputs": [
    {
     "name": "stdout",
     "output_type": "stream",
     "text": [
      "{'_id': 'Streeter Dr & Grand Ave', 'count': 68245, 'latitude': 41.880958, 'longitude': -87.616743}\n"
     ]
    }
   ],
   "source": [
    "print(db.Top10StartStations.find_one())"
   ]
  },
  {
   "cell_type": "code",
   "execution_count": 45,
   "metadata": {},
   "outputs": [
    {
     "name": "stdout",
     "output_type": "stream",
     "text": [
      "{'_id': 'Streeter Dr & Grand Ave', 'count': 69516, 'latitude': 41.892278, 'longitude': -87.612043}\n"
     ]
    }
   ],
   "source": [
    "print(db.Top10EndStations.find_one())"
   ]
  },
  {
   "cell_type": "code",
   "execution_count": 46,
   "metadata": {},
   "outputs": [
    {
     "name": "stdout",
     "output_type": "stream",
     "text": [
      "{'_id': {'Start Station': 'Streeter Dr & Grand Ave', 'End Station': 'Streeter Dr & Grand Ave'}, 'count': 11633, 'start latitude': 41.892278, 'start longitude': -87.612043, 'end latitude': 41.892278, 'end longitude': -87.612043}\n"
     ]
    }
   ],
   "source": [
    "print(db.Top10Routes.find_one())"
   ]
  },
  {
   "cell_type": "code",
   "execution_count": 47,
   "metadata": {},
   "outputs": [
    {
     "name": "stdout",
     "output_type": "stream",
     "text": [
      "{'_id': ObjectId('65203787260559f00d1ed88b'), 'end_lat': 0.0, 'end_lng': 0.0, 'end_station_id': 'chargingstx07', 'end_station_name': 'Green St & Madison Ave*', 'ended_at': '2022-11-09 12:26:18', 'ended_at_date': '2022-11-09', 'ended_at_time': '12:26:18', 'member_casual': 'member', 'ride_id': 'E9495F1DC3475D41', 'rideable_type': 'classic_bike', 'start_lat': 41.884114, 'start_lng': -87.654264, 'start_station_id': 18062, 'start_station_name': 'Aberdeen St & Randolph St', 'started_at': '2022-11-09 12:21:55', 'started_at_date': '2022-11-09', 'started_at_time': '12:21:55', 'weather_data': {'_id': ObjectId('652045d1b7b2efde783970e1'), 'date': '2022-11-09', 'cloud_cover': 75.0, 'precipitation': 0.0, 'min_temp': 47.35, 'max_temp': 60.37, 'morning_temp': 51.44, 'afternoon_temp': 48.54, 'evening_temp': 51.37, 'night_temp': 51.82, 'max_windspeed': 13.8}, 'distance': 60.51865544715035}\n"
     ]
    }
   ],
   "source": [
    "print(db.RouteDistance.find_one())"
   ]
  },
  {
   "cell_type": "code",
   "execution_count": 48,
   "metadata": {},
   "outputs": [
    {
     "name": "stdout",
     "output_type": "stream",
     "text": [
      "{'_id': ObjectId('65339536c6a39455604df42e'), 'total_rides': 103770, 'year': 2022, 'month': 1}\n"
     ]
    }
   ],
   "source": [
    "print(db.divvy_rides_by_month.find_one())"
   ]
  },
  {
   "cell_type": "code",
   "execution_count": 49,
   "metadata": {},
   "outputs": [
    {
     "name": "stdout",
     "output_type": "stream",
     "text": [
      "{'_id': {'year': 2022, 'season': 'Autumn'}, 'total_rides': 1597759}\n"
     ]
    }
   ],
   "source": [
    "print(db.divvy_rides_by_season.find_one())"
   ]
  }
 ],
 "metadata": {
  "kernelspec": {
   "display_name": "dev2",
   "language": "python",
   "name": "python3"
  },
  "language_info": {
   "codemirror_mode": {
    "name": "ipython",
    "version": 3
   },
   "file_extension": ".py",
   "mimetype": "text/x-python",
   "name": "python",
   "nbconvert_exporter": "python",
   "pygments_lexer": "ipython3",
   "version": "3.10.9"
  },
  "orig_nbformat": 4
 },
 "nbformat": 4,
 "nbformat_minor": 2
}
