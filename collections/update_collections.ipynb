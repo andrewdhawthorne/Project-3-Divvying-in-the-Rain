{
 "cells": [
  {
   "cell_type": "code",
   "execution_count": 11,
   "metadata": {},
   "outputs": [],
   "source": [
    "# Import dependencies \n",
    "import pymongo\n",
    "from pymongo import MongoClient, UpdateOne\n",
    "import json\n",
    "from pprint import pprint"
   ]
  },
  {
   "cell_type": "code",
   "execution_count": 2,
   "metadata": {},
   "outputs": [],
   "source": [
    "# Create an instance of MongoClient\n",
    "mongo = MongoClient(port=27017)"
   ]
  },
  {
   "cell_type": "code",
   "execution_count": 3,
   "metadata": {},
   "outputs": [
    {
     "name": "stdout",
     "output_type": "stream",
     "text": [
      "['admin', 'autosaurus', 'chicago_bikes', 'classDB', 'config', 'epa', 'fruits_db', 'gardenDB', 'local', 'met', 'travel_db', 'uk_food']\n"
     ]
    }
   ],
   "source": [
    "# Confirm list of databases\n",
    "print(mongo.list_database_names())"
   ]
  },
  {
   "cell_type": "code",
   "execution_count": 4,
   "metadata": {},
   "outputs": [],
   "source": [
    "# Assign the database to a variable name\n",
    "db = mongo.chicago_bikes"
   ]
  },
  {
   "cell_type": "code",
   "execution_count": 5,
   "metadata": {},
   "outputs": [
    {
     "name": "stdout",
     "output_type": "stream",
     "text": [
      "['weather_daily', 'withLatLong', 'Top10Routes', 'divvy_rides_by_season', 'Top10EndStations', 'withStationName', 'withoutStationName', 'Top10StartStations', 'divvy_ridedata', 'divvy_rides_by_month', 'divvy_ridedata_merged', 'RouteDistance']\n"
     ]
    }
   ],
   "source": [
    "# Review collections in database\n",
    "print(db.list_collection_names())"
   ]
  },
  {
   "cell_type": "markdown",
   "metadata": {},
   "source": [
    "Remove dictionary from 'weather_data' field in 'withoutStation' collection and add 'weather_date' field "
   ]
  },
  {
   "cell_type": "code",
   "execution_count": 12,
   "metadata": {},
   "outputs": [
    {
     "name": "stdout",
     "output_type": "stream",
     "text": [
      "{'_id': ObjectId('64e404c003505f880ef00187'),\n",
      " 'afternoon_temp': 20.97,\n",
      " 'cloud_cover': 4.0,\n",
      " 'end_lat': 41.93,\n",
      " 'end_lng': -87.71,\n",
      " 'end_station_id': '',\n",
      " 'end_station_name': '',\n",
      " 'ended_at': '2022-01-04 19:36:45',\n",
      " 'ended_at_date': '2022-01-04',\n",
      " 'ended_at_time': '19:36:45',\n",
      " 'evening_temp': 21.29,\n",
      " 'max_temp': 30.36,\n",
      " 'max_windspeed': 10.0,\n",
      " 'member_casual': 'member',\n",
      " 'min_temp': 18.03,\n",
      " 'morning_temp': 18.03,\n",
      " 'night_temp': 19.26,\n",
      " 'precipitation': 0.0,\n",
      " 'ride_id': '4E2C789651AB5E19',\n",
      " 'rideable_type': 'electric_bike',\n",
      " 'start_lat': 41.95,\n",
      " 'start_lng': -87.71,\n",
      " 'start_station_id': '',\n",
      " 'start_station_name': '',\n",
      " 'started_at': '2022-01-04 19:24:02',\n",
      " 'started_at_date': '2022-01-04',\n",
      " 'started_at_time': '19:24:02',\n",
      " 'weather_data': {'_id': ObjectId('64e413e0cf380c0c3c2737e3'),\n",
      "                  'afternoon_temp': 20.97,\n",
      "                  'cloud_cover': 4.0,\n",
      "                  'date': '2022-01-04',\n",
      "                  'evening_temp': 21.29,\n",
      "                  'max_temp': 30.36,\n",
      "                  'max_windspeed': 10.0,\n",
      "                  'min_temp': 18.03,\n",
      "                  'morning_temp': 18.03,\n",
      "                  'night_temp': 19.26,\n",
      "                  'precipitation': 0.0},\n",
      " 'weather_date': '2022-01-04'}\n"
     ]
    }
   ],
   "source": [
    "# Review a document in the collection \n",
    "pprint(db.withoutStationName.find_one())"
   ]
  },
  {
   "cell_type": "code",
   "execution_count": 7,
   "metadata": {},
   "outputs": [],
   "source": [
    "# Assign collection to variable \n",
    "withoutStation = db['withoutStationName']"
   ]
  },
  {
   "cell_type": "code",
   "execution_count": 8,
   "metadata": {},
   "outputs": [],
   "source": [
    "# Iterate through each document in the collection\n",
    "for document in withoutStation.find():\n",
    "    if 'weather_data' in document:\n",
    "        weather_data = document['weather_data']\n",
    "        \n",
    "        # Remove the '_id' field from weather_data\n",
    "        weather_data_id = weather_data.pop('_id')\n",
    "        \n",
    "        # Rename 'date' to 'weather_date' within weather_data\n",
    "        weather_data['weather_date'] = weather_data.pop('date')\n",
    "        \n",
    "        # Add weather_data fields to the document\n",
    "        document.update(weather_data)\n",
    "        \n",
    "        # Set the value of 'weather_data' to the original _id value\n",
    "        document['weather_data'] = weather_data_id\n",
    "        \n",
    "        # Remove the old 'weather_data' field\n",
    "        document.pop('weather_data')\n",
    "        \n",
    "        # Update the document in the collection\n",
    "        withoutStation.update_one({'_id': document['_id']}, {'$set': document})"
   ]
  },
  {
   "cell_type": "code",
   "execution_count": 14,
   "metadata": {},
   "outputs": [
    {
     "name": "stdout",
     "output_type": "stream",
     "text": [
      "{'_id': ObjectId('64e404c003505f880ef00187'),\n",
      " 'afternoon_temp': 20.97,\n",
      " 'cloud_cover': 4.0,\n",
      " 'end_lat': 41.93,\n",
      " 'end_lng': -87.71,\n",
      " 'end_station_id': '',\n",
      " 'end_station_name': '',\n",
      " 'ended_at': '2022-01-04 19:36:45',\n",
      " 'ended_at_date': '2022-01-04',\n",
      " 'ended_at_time': '19:36:45',\n",
      " 'evening_temp': 21.29,\n",
      " 'max_temp': 30.36,\n",
      " 'max_windspeed': 10.0,\n",
      " 'member_casual': 'member',\n",
      " 'min_temp': 18.03,\n",
      " 'morning_temp': 18.03,\n",
      " 'night_temp': 19.26,\n",
      " 'precipitation': 0.0,\n",
      " 'ride_id': '4E2C789651AB5E19',\n",
      " 'rideable_type': 'electric_bike',\n",
      " 'start_lat': 41.95,\n",
      " 'start_lng': -87.71,\n",
      " 'start_station_id': '',\n",
      " 'start_station_name': '',\n",
      " 'started_at': '2022-01-04 19:24:02',\n",
      " 'started_at_date': '2022-01-04',\n",
      " 'started_at_time': '19:24:02',\n",
      " 'weather_data': {'_id': ObjectId('64e413e0cf380c0c3c2737e3'),\n",
      "                  'afternoon_temp': 20.97,\n",
      "                  'cloud_cover': 4.0,\n",
      "                  'date': '2022-01-04',\n",
      "                  'evening_temp': 21.29,\n",
      "                  'max_temp': 30.36,\n",
      "                  'max_windspeed': 10.0,\n",
      "                  'min_temp': 18.03,\n",
      "                  'morning_temp': 18.03,\n",
      "                  'night_temp': 19.26,\n",
      "                  'precipitation': 0.0},\n",
      " 'weather_date': '2022-01-04'}\n"
     ]
    }
   ],
   "source": [
    "# Review document in updated collection \n",
    "pprint(db.withoutStationName.find_one())"
   ]
  },
  {
   "cell_type": "markdown",
   "metadata": {},
   "source": [
    "Remove dictionary from 'weather_data' field in 'withStation' collection and add 'weather_date' field "
   ]
  },
  {
   "cell_type": "code",
   "execution_count": 13,
   "metadata": {},
   "outputs": [
    {
     "name": "stdout",
     "output_type": "stream",
     "text": [
      "{'_id': ObjectId('64e404c003505f880eefb45e'),\n",
      " 'end_lat': 42.01256011541,\n",
      " 'end_lng': -87.6743671152,\n",
      " 'end_station_id': 'RP-007',\n",
      " 'end_station_name': 'Clark St & Touhy Ave',\n",
      " 'ended_at': '2022-01-10 08:46:17',\n",
      " 'ended_at_date': '2022-01-10',\n",
      " 'ended_at_time': '08:46:17',\n",
      " 'member_casual': 'casual',\n",
      " 'ride_id': 'A6CF8980A652D272',\n",
      " 'rideable_type': 'electric_bike',\n",
      " 'start_lat': 42.012763,\n",
      " 'start_lng': -87.6659675,\n",
      " 'start_station_id': 525,\n",
      " 'start_station_name': 'Glenwood Ave & Touhy Ave',\n",
      " 'started_at': '2022-01-10 08:41:56',\n",
      " 'started_at_date': '2022-01-10',\n",
      " 'started_at_time': '08:41:56',\n",
      " 'weather_data': {'_id': ObjectId('64e413e0cf380c0c3c2737eb'),\n",
      "                  'afternoon_temp': 9.73,\n",
      "                  'cloud_cover': 17.0,\n",
      "                  'date': '2022-01-10',\n",
      "                  'evening_temp': 14.0,\n",
      "                  'max_temp': 20.84,\n",
      "                  'max_windspeed': 16.35,\n",
      "                  'min_temp': 9.5,\n",
      "                  'morning_temp': 13.69,\n",
      "                  'night_temp': 20.75,\n",
      "                  'precipitation': 0.24}}\n"
     ]
    }
   ],
   "source": [
    "# Review a document in the collection \n",
    "pprint(db.withStationName.find_one())"
   ]
  },
  {
   "cell_type": "code",
   "execution_count": 15,
   "metadata": {},
   "outputs": [],
   "source": [
    "# Assign collection to variable \n",
    "withStation = db['withStationName']"
   ]
  },
  {
   "cell_type": "code",
   "execution_count": 13,
   "metadata": {},
   "outputs": [],
   "source": [
    "# # Iterate through each document in the collection\n",
    "# for document in withStation.find():\n",
    "#     if 'weather_data' in document:\n",
    "#         weather_data = document['weather_data']\n",
    "        \n",
    "#         # Remove the '_id' field from weather_data\n",
    "#         weather_data_id = weather_data.pop('_id')\n",
    "        \n",
    "#         # Rename 'date' to 'weather_date' within weather_data\n",
    "#         weather_data['weather_date'] = weather_data.pop('date')\n",
    "        \n",
    "#         # Add weather_data fields to the document\n",
    "#         document.update(weather_data)\n",
    "        \n",
    "#         # Set the value of 'weather_data' to the original _id value\n",
    "#         document['weather_data'] = weather_data_id\n",
    "        \n",
    "#         # Remove the old 'weather_data' field\n",
    "#         document.pop('weather_data')\n",
    "        \n",
    "#         # Update the document in the collection\n",
    "#         withStation.update_one({'_id': document['_id']}, {'$set': document})"
   ]
  },
  {
   "cell_type": "code",
   "execution_count": 16,
   "metadata": {},
   "outputs": [],
   "source": [
    "#Bulk update withStations collection\n",
    "from pymongo import UpdateOne\n",
    "\n",
    "# Set the batch size\n",
    "batch_size = 1000\n",
    "\n",
    "# Create an empty list to hold the update operations\n",
    "update_operations = []\n",
    "\n",
    "# Iterate through each document in the collection\n",
    "cursor = withStation.find().batch_size(batch_size)\n",
    "\n",
    "for document in cursor:\n",
    "    if 'weather_data' in document:\n",
    "        weather_data = document['weather_data']\n",
    "        \n",
    "        # Remove the '_id' field from weather_data\n",
    "        weather_data_id = weather_data.pop('_id')\n",
    "        \n",
    "        # Rename 'date' to 'weather_date' within weather_data\n",
    "        weather_data['weather_date'] = weather_data.pop('date')\n",
    "        \n",
    "        # Create the update operation for the current document\n",
    "        update_operation = UpdateOne(\n",
    "            {'_id': document['_id']},\n",
    "            [\n",
    "                {'$set': weather_data},\n",
    "                {'$set': {'weather_data': weather_data_id}}\n",
    "            ]\n",
    "        )\n",
    "        \n",
    "        # Add the update operation to the list\n",
    "        update_operations.append(update_operation)\n",
    "\n",
    "    # Execute bulk write operations when the batch size is reached\n",
    "    if len(update_operations) >= batch_size:\n",
    "        withStation.bulk_write(update_operations)\n",
    "        update_operations = []\n",
    "\n",
    "# Execute any remaining update operations\n",
    "if update_operations:\n",
    "    withStation.bulk_write(update_operations)\n"
   ]
  },
  {
   "cell_type": "code",
   "execution_count": 17,
   "metadata": {},
   "outputs": [
    {
     "name": "stdout",
     "output_type": "stream",
     "text": [
      "{'_id': ObjectId('64e404c003505f880eefb45e'), 'end_lat': 42.01256011541, 'end_lng': -87.6743671152, 'end_station_id': 'RP-007', 'end_station_name': 'Clark St & Touhy Ave', 'ended_at': '2022-01-10 08:46:17', 'ended_at_date': '2022-01-10', 'ended_at_time': '08:46:17', 'member_casual': 'casual', 'ride_id': 'A6CF8980A652D272', 'rideable_type': 'electric_bike', 'start_lat': 42.012763, 'start_lng': -87.6659675, 'start_station_id': 525, 'start_station_name': 'Glenwood Ave & Touhy Ave', 'started_at': '2022-01-10 08:41:56', 'started_at_date': '2022-01-10', 'started_at_time': '08:41:56', 'weather_data': ObjectId('64e413e0cf380c0c3c2737eb'), 'cloud_cover': 17.0, 'precipitation': 0.24, 'min_temp': 9.5, 'max_temp': 20.84, 'morning_temp': 13.69, 'afternoon_temp': 9.73, 'evening_temp': 14.0, 'night_temp': 20.75, 'max_windspeed': 16.35, 'weather_date': '2022-01-10'}\n"
     ]
    }
   ],
   "source": [
    "# Review document in updated collection \n",
    "print(db.withStationName.find_one())"
   ]
  },
  {
   "cell_type": "markdown",
   "metadata": {},
   "source": [
    "Remove dictionary from 'weather_data' field in 'withLatLong' collection and add 'weather_date' field "
   ]
  },
  {
   "cell_type": "code",
   "execution_count": 18,
   "metadata": {},
   "outputs": [
    {
     "name": "stdout",
     "output_type": "stream",
     "text": [
      "{'_id': ObjectId('64e404c003505f880eefb45e'), 'end_lat': 42.01256011541, 'end_lng': -87.6743671152, 'end_station_id': 'RP-007', 'end_station_name': 'Clark St & Touhy Ave', 'ended_at': '2022-01-10 08:46:17', 'ended_at_date': '2022-01-10', 'ended_at_time': '08:46:17', 'member_casual': 'casual', 'ride_id': 'A6CF8980A652D272', 'rideable_type': 'electric_bike', 'start_lat': 42.012763, 'start_lng': -87.6659675, 'start_station_id': 525, 'start_station_name': 'Glenwood Ave & Touhy Ave', 'started_at': '2022-01-10 08:41:56', 'started_at_date': '2022-01-10', 'started_at_time': '08:41:56', 'weather_data': {'_id': ObjectId('64e413e0cf380c0c3c2737eb'), 'date': '2022-01-10', 'cloud_cover': 17.0, 'precipitation': 0.24, 'min_temp': 9.5, 'max_temp': 20.84, 'morning_temp': 13.69, 'afternoon_temp': 9.73, 'evening_temp': 14.0, 'night_temp': 20.75, 'max_windspeed': 16.35}}\n"
     ]
    }
   ],
   "source": [
    "# Review a document in the collection \n",
    "print(db.withLatLong.find_one())"
   ]
  },
  {
   "cell_type": "code",
   "execution_count": 19,
   "metadata": {},
   "outputs": [],
   "source": [
    "# Assign collection to variable \n",
    "withLatLong = db['withLatLong']"
   ]
  },
  {
   "cell_type": "code",
   "execution_count": 20,
   "metadata": {},
   "outputs": [],
   "source": [
    "#Bulk update withLatLong collection\n",
    "from pymongo import UpdateOne\n",
    "\n",
    "# Set the batch size\n",
    "batch_size = 1000\n",
    "\n",
    "# Create an empty list to hold the update operations\n",
    "update_operations = []\n",
    "\n",
    "# Iterate through each document in the collection\n",
    "cursor = withLatLong.find().batch_size(batch_size)\n",
    "\n",
    "for document in cursor:\n",
    "    if 'weather_data' in document:\n",
    "        weather_data = document['weather_data']\n",
    "        \n",
    "        # Remove the '_id' field from weather_data\n",
    "        weather_data_id = weather_data.pop('_id')\n",
    "        \n",
    "        # Rename 'date' to 'weather_date' within weather_data\n",
    "        weather_data['weather_date'] = weather_data.pop('date')\n",
    "        \n",
    "        # Create the update operation for the current document\n",
    "        update_operation = UpdateOne(\n",
    "            {'_id': document['_id']},\n",
    "            [\n",
    "                {'$set': weather_data},\n",
    "                {'$set': {'weather_data': weather_data_id}}\n",
    "            ]\n",
    "        )\n",
    "        \n",
    "        # Add the update operation to the list\n",
    "        update_operations.append(update_operation)\n",
    "\n",
    "    # Execute bulk write operations when the batch size is reached\n",
    "    if len(update_operations) >= batch_size:\n",
    "        withLatLong.bulk_write(update_operations)\n",
    "        update_operations = []\n",
    "\n",
    "# Execute any remaining update operations\n",
    "if update_operations:\n",
    "    withLatLong.bulk_write(update_operations)\n"
   ]
  },
  {
   "cell_type": "code",
   "execution_count": 21,
   "metadata": {},
   "outputs": [
    {
     "name": "stdout",
     "output_type": "stream",
     "text": [
      "{'_id': ObjectId('64e404c003505f880eefb45e'), 'end_lat': 42.01256011541, 'end_lng': -87.6743671152, 'end_station_id': 'RP-007', 'end_station_name': 'Clark St & Touhy Ave', 'ended_at': '2022-01-10 08:46:17', 'ended_at_date': '2022-01-10', 'ended_at_time': '08:46:17', 'member_casual': 'casual', 'ride_id': 'A6CF8980A652D272', 'rideable_type': 'electric_bike', 'start_lat': 42.012763, 'start_lng': -87.6659675, 'start_station_id': 525, 'start_station_name': 'Glenwood Ave & Touhy Ave', 'started_at': '2022-01-10 08:41:56', 'started_at_date': '2022-01-10', 'started_at_time': '08:41:56', 'weather_data': ObjectId('64e413e0cf380c0c3c2737eb'), 'cloud_cover': 17.0, 'precipitation': 0.24, 'min_temp': 9.5, 'max_temp': 20.84, 'morning_temp': 13.69, 'afternoon_temp': 9.73, 'evening_temp': 14.0, 'night_temp': 20.75, 'max_windspeed': 16.35, 'weather_date': '2022-01-10'}\n"
     ]
    }
   ],
   "source": [
    "# Review document in updated collection \n",
    "print(db.withLatLong.find_one())"
   ]
  },
  {
   "cell_type": "markdown",
   "metadata": {},
   "source": [
    "Remove dictionary from 'weather_data' field in 'RouteDistance' collection and add 'weather_date' field "
   ]
  },
  {
   "cell_type": "code",
   "execution_count": 22,
   "metadata": {},
   "outputs": [
    {
     "name": "stdout",
     "output_type": "stream",
     "text": [
      "{'_id': ObjectId('64e404c003505f880eefe24f'), 'end_lat': 41.8646, 'end_lng': -87.681, 'end_station_id': 'Pawel Bialowas - Test- PBSC charging station', 'end_station_name': 'Pawel Bialowas - Test- PBSC charging station', 'ended_at': '2022-01-14 11:15:50', 'ended_at_date': '2022-01-14', 'ended_at_time': '11:15:50', 'member_casual': 'casual', 'ride_id': '3327172413547F64', 'rideable_type': 'electric_bike', 'start_lat': 45.635034323, 'start_lng': -73.79647696, 'start_station_id': 'Pawel Bialowas - Test- PBSC charging station', 'start_station_name': 'Pawel Bialowas - Test- PBSC charging station', 'started_at': '2022-01-14 11:13:15', 'started_at_date': '2022-01-14', 'started_at_time': '11:13:15', 'weather_data': {'_id': ObjectId('64e413e0cf380c0c3c2737f1'), 'date': '2022-01-14', 'cloud_cover': 34.0, 'precipitation': 0.0, 'min_temp': 30.38, 'max_temp': 38.8, 'morning_temp': 35.74, 'afternoon_temp': 35.15, 'evening_temp': 32.5, 'night_temp': 38.39, 'max_windspeed': 10.0}, 'distance': 14.027235887447166}\n"
     ]
    }
   ],
   "source": [
    "# Review a document in the collection \n",
    "print(db.RouteDistance.find_one())"
   ]
  },
  {
   "cell_type": "code",
   "execution_count": 23,
   "metadata": {},
   "outputs": [],
   "source": [
    "# Assign collection to variable \n",
    "RouteDistance = db['RouteDistance']"
   ]
  },
  {
   "cell_type": "code",
   "execution_count": 24,
   "metadata": {},
   "outputs": [],
   "source": [
    "#Bulk update withLatLong collection\n",
    "from pymongo import UpdateOne\n",
    "\n",
    "# Set the batch size\n",
    "batch_size = 1000\n",
    "\n",
    "# Create an empty list to hold the update operations\n",
    "update_operations = []\n",
    "\n",
    "# Iterate through each document in the collection\n",
    "cursor = RouteDistance.find().batch_size(batch_size)\n",
    "\n",
    "for document in cursor:\n",
    "    if 'weather_data' in document:\n",
    "        weather_data = document['weather_data']\n",
    "        \n",
    "        # Remove the '_id' field from weather_data\n",
    "        weather_data_id = weather_data.pop('_id')\n",
    "        \n",
    "        # Rename 'date' to 'weather_date' within weather_data\n",
    "        weather_data['weather_date'] = weather_data.pop('date')\n",
    "        \n",
    "        # Create the update operation for the current document\n",
    "        update_operation = UpdateOne(\n",
    "            {'_id': document['_id']},\n",
    "            [\n",
    "                {'$set': weather_data},\n",
    "                {'$set': {'weather_data': weather_data_id}}\n",
    "            ]\n",
    "        )\n",
    "        \n",
    "        # Add the update operation to the list\n",
    "        update_operations.append(update_operation)\n",
    "\n",
    "    # Execute bulk write operations when the batch size is reached\n",
    "    if len(update_operations) >= batch_size:\n",
    "        RouteDistance.bulk_write(update_operations)\n",
    "        update_operations = []\n",
    "\n",
    "# Execute any remaining update operations\n",
    "if update_operations:\n",
    "    RouteDistance.bulk_write(update_operations)"
   ]
  },
  {
   "cell_type": "code",
   "execution_count": 25,
   "metadata": {},
   "outputs": [
    {
     "name": "stdout",
     "output_type": "stream",
     "text": [
      "{'_id': ObjectId('64e404c003505f880eefe24f'), 'end_lat': 41.8646, 'end_lng': -87.681, 'end_station_id': 'Pawel Bialowas - Test- PBSC charging station', 'end_station_name': 'Pawel Bialowas - Test- PBSC charging station', 'ended_at': '2022-01-14 11:15:50', 'ended_at_date': '2022-01-14', 'ended_at_time': '11:15:50', 'member_casual': 'casual', 'ride_id': '3327172413547F64', 'rideable_type': 'electric_bike', 'start_lat': 45.635034323, 'start_lng': -73.79647696, 'start_station_id': 'Pawel Bialowas - Test- PBSC charging station', 'start_station_name': 'Pawel Bialowas - Test- PBSC charging station', 'started_at': '2022-01-14 11:13:15', 'started_at_date': '2022-01-14', 'started_at_time': '11:13:15', 'weather_data': ObjectId('64e413e0cf380c0c3c2737f1'), 'distance': 14.027235887447166, 'cloud_cover': 34.0, 'precipitation': 0.0, 'min_temp': 30.38, 'max_temp': 38.8, 'morning_temp': 35.74, 'afternoon_temp': 35.15, 'evening_temp': 32.5, 'night_temp': 38.39, 'max_windspeed': 10.0, 'weather_date': '2022-01-14'}\n"
     ]
    }
   ],
   "source": [
    "# Review document in updated collection \n",
    "print(db.RouteDistance.find_one())"
   ]
  },
  {
   "cell_type": "code",
   "execution_count": null,
   "metadata": {},
   "outputs": [],
   "source": []
  }
 ],
 "metadata": {
  "kernelspec": {
   "display_name": "dev2",
   "language": "python",
   "name": "python3"
  },
  "language_info": {
   "codemirror_mode": {
    "name": "ipython",
    "version": 3
   },
   "file_extension": ".py",
   "mimetype": "text/x-python",
   "name": "python",
   "nbconvert_exporter": "python",
   "pygments_lexer": "ipython3",
   "version": "3.7.16"
  },
  "orig_nbformat": 4
 },
 "nbformat": 4,
 "nbformat_minor": 2
}
