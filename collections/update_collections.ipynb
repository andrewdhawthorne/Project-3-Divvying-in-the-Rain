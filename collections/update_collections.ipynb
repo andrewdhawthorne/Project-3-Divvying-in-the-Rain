{
 "cells": [
  {
   "cell_type": "code",
   "execution_count": 1,
   "metadata": {},
   "outputs": [],
   "source": [
    "# Import dependencies \n",
    "import pymongo\n",
    "from pymongo import MongoClient, UpdateOne\n",
    "import json\n",
    "from pprint import pprint"
   ]
  },
  {
   "cell_type": "code",
   "execution_count": 2,
   "metadata": {},
   "outputs": [],
   "source": [
    "# Create an instance of MongoClient\n",
    "mongo = MongoClient(port=27017)"
   ]
  },
  {
   "cell_type": "code",
   "execution_count": 3,
   "metadata": {},
   "outputs": [
    {
     "name": "stdout",
     "output_type": "stream",
     "text": [
      "['admin', 'autosaurus', 'chicago_bikes', 'classDB', 'config', 'epa', 'fruits_db', 'gardenDB', 'local', 'met', 'mongodbVSCodePlaygroundDB', 'petsitly_marketing', 'travel_db', 'uk_food']\n"
     ]
    }
   ],
   "source": [
    "# Confirm list of databases\n",
    "print(mongo.list_database_names())"
   ]
  },
  {
   "cell_type": "code",
   "execution_count": 4,
   "metadata": {},
   "outputs": [],
   "source": [
    "# Assign the database to a variable name\n",
    "db = mongo.chicago_bikes"
   ]
  },
  {
   "cell_type": "code",
   "execution_count": 5,
   "metadata": {},
   "outputs": [
    {
     "name": "stdout",
     "output_type": "stream",
     "text": [
      "['distinct_station_names', 'divvy_ridedata_merged', 'RouteDistance', 'divvy_rides_by_season', 'withStationName', 'sig_prcp_yes', 'weather_daily', 'Top10EndStations', 'Top10Routes', 'withoutStationName', 'withLatLong', 'divvy_ridedata', 'divvy_rides_by_month', 'sig_prcp_no', 'Top10StartStations']\n"
     ]
    }
   ],
   "source": [
    "# Review collections in database\n",
    "print(db.list_collection_names())"
   ]
  },
  {
   "cell_type": "markdown",
   "metadata": {},
   "source": [
    "Remove dictionary from 'weather_data' field in 'withoutStation' collection and add 'weather_date' field "
   ]
  },
  {
   "cell_type": "code",
   "execution_count": 6,
   "metadata": {},
   "outputs": [
    {
     "name": "stdout",
     "output_type": "stream",
     "text": [
      "{'_id': ObjectId('6544a1406281b360c1f90d7b'),\n",
      " 'end_lat': 41.93,\n",
      " 'end_lng': -87.71,\n",
      " 'end_station_id': '',\n",
      " 'end_station_name': '',\n",
      " 'ended_at': '2022-01-04 19:36:45',\n",
      " 'ended_at_date': '2022-01-04',\n",
      " 'ended_at_time': '19:36:45',\n",
      " 'member_casual': 'member',\n",
      " 'ride_id': '4E2C789651AB5E19',\n",
      " 'rideable_type': 'electric_bike',\n",
      " 'start_lat': 41.95,\n",
      " 'start_lng': -87.71,\n",
      " 'start_station_id': '',\n",
      " 'start_station_name': '',\n",
      " 'started_at': '2022-01-04 19:24:02',\n",
      " 'started_at_date': '2022-01-04',\n",
      " 'started_at_time': '19:24:02',\n",
      " 'weather_data': {'_id': ObjectId('6544a21516ac0221c1a8c581'),\n",
      "                  'afternoon_temp': 20.97,\n",
      "                  'cloud_cover': 4.0,\n",
      "                  'date': '2022-01-04',\n",
      "                  'evening_temp': 21.29,\n",
      "                  'max_temp': 30.36,\n",
      "                  'max_windspeed': 10.0,\n",
      "                  'min_temp': 18.03,\n",
      "                  'morning_temp': 18.03,\n",
      "                  'night_temp': 19.26,\n",
      "                  'precipitation': 0.0}}\n"
     ]
    }
   ],
   "source": [
    "# Review a document in the collection \n",
    "pprint(db.withoutStationName.find_one())"
   ]
  },
  {
   "cell_type": "code",
   "execution_count": 7,
   "metadata": {},
   "outputs": [],
   "source": [
    "# Assign collection to variable \n",
    "withoutStation = db['withoutStationName']"
   ]
  },
  {
   "cell_type": "code",
   "execution_count": 8,
   "metadata": {},
   "outputs": [],
   "source": [
    "# Iterate through each document in the collection\n",
    "for document in withoutStation.find():\n",
    "    if 'weather_data' in document:\n",
    "        weather_data = document['weather_data']\n",
    "        \n",
    "        # Remove the '_id' field from weather_data\n",
    "        weather_data_id = weather_data.pop('_id')\n",
    "        \n",
    "        # Rename 'date' to 'weather_date' within weather_data\n",
    "        weather_data['weather_date'] = weather_data.pop('date')\n",
    "        \n",
    "        # Add weather_data fields to the document\n",
    "        document.update(weather_data)\n",
    "        \n",
    "        # Set the value of 'weather_data' to the original _id value\n",
    "        document['weather_data'] = weather_data_id\n",
    "        \n",
    "        # Remove the old 'weather_data' field\n",
    "        document.pop('weather_data')\n",
    "        \n",
    "        # Update the document in the collection\n",
    "        withoutStation.update_one({'_id': document['_id']}, {'$set': document})"
   ]
  },
  {
   "cell_type": "code",
   "execution_count": 9,
   "metadata": {},
   "outputs": [
    {
     "name": "stdout",
     "output_type": "stream",
     "text": [
      "{'_id': ObjectId('6544a1406281b360c1f90d7b'),\n",
      " 'afternoon_temp': 20.97,\n",
      " 'cloud_cover': 4.0,\n",
      " 'end_lat': 41.93,\n",
      " 'end_lng': -87.71,\n",
      " 'end_station_id': '',\n",
      " 'end_station_name': '',\n",
      " 'ended_at': '2022-01-04 19:36:45',\n",
      " 'ended_at_date': '2022-01-04',\n",
      " 'ended_at_time': '19:36:45',\n",
      " 'evening_temp': 21.29,\n",
      " 'max_temp': 30.36,\n",
      " 'max_windspeed': 10.0,\n",
      " 'member_casual': 'member',\n",
      " 'min_temp': 18.03,\n",
      " 'morning_temp': 18.03,\n",
      " 'night_temp': 19.26,\n",
      " 'precipitation': 0.0,\n",
      " 'ride_id': '4E2C789651AB5E19',\n",
      " 'rideable_type': 'electric_bike',\n",
      " 'start_lat': 41.95,\n",
      " 'start_lng': -87.71,\n",
      " 'start_station_id': '',\n",
      " 'start_station_name': '',\n",
      " 'started_at': '2022-01-04 19:24:02',\n",
      " 'started_at_date': '2022-01-04',\n",
      " 'started_at_time': '19:24:02',\n",
      " 'weather_data': {'_id': ObjectId('6544a21516ac0221c1a8c581'),\n",
      "                  'afternoon_temp': 20.97,\n",
      "                  'cloud_cover': 4.0,\n",
      "                  'date': '2022-01-04',\n",
      "                  'evening_temp': 21.29,\n",
      "                  'max_temp': 30.36,\n",
      "                  'max_windspeed': 10.0,\n",
      "                  'min_temp': 18.03,\n",
      "                  'morning_temp': 18.03,\n",
      "                  'night_temp': 19.26,\n",
      "                  'precipitation': 0.0},\n",
      " 'weather_date': '2022-01-04'}\n"
     ]
    }
   ],
   "source": [
    "# Review document in updated collection \n",
    "pprint(db.withoutStationName.find_one())"
   ]
  },
  {
   "cell_type": "markdown",
   "metadata": {},
   "source": [
    "Remove dictionary from 'weather_data' field in 'withStation' collection and add 'weather_date' field "
   ]
  },
  {
   "cell_type": "code",
   "execution_count": 10,
   "metadata": {},
   "outputs": [
    {
     "name": "stdout",
     "output_type": "stream",
     "text": [
      "{'_id': ObjectId('6544a1406281b360c1f8c053'),\n",
      " 'end_lat': 42.01256011541,\n",
      " 'end_lng': -87.6743671152,\n",
      " 'end_station_id': 'RP-007',\n",
      " 'end_station_name': 'Clark St & Touhy Ave',\n",
      " 'ended_at': '2022-01-13 12:02:44',\n",
      " 'ended_at_date': '2022-01-13',\n",
      " 'ended_at_time': '12:02:44',\n",
      " 'member_casual': 'casual',\n",
      " 'ride_id': 'C2F7DD78E82EC875',\n",
      " 'rideable_type': 'electric_bike',\n",
      " 'start_lat': 42.0128005,\n",
      " 'start_lng': -87.665906,\n",
      " 'start_station_id': 525,\n",
      " 'start_station_name': 'Glenwood Ave & Touhy Ave',\n",
      " 'started_at': '2022-01-13 11:59:47',\n",
      " 'started_at_date': '2022-01-13',\n",
      " 'started_at_time': '11:59:47',\n",
      " 'weather_data': {'_id': ObjectId('6544a21516ac0221c1a8c58a'),\n",
      "                  'afternoon_temp': 30.72,\n",
      "                  'cloud_cover': 75.0,\n",
      "                  'date': '2022-01-13',\n",
      "                  'evening_temp': 34.38,\n",
      "                  'max_temp': 39.83,\n",
      "                  'max_windspeed': 8.01,\n",
      "                  'min_temp': 30.72,\n",
      "                  'morning_temp': 35.49,\n",
      "                  'night_temp': 39.22,\n",
      "                  'precipitation': 0.0}}\n"
     ]
    }
   ],
   "source": [
    "# Review a document in the collection \n",
    "pprint(db.withStationName.find_one())"
   ]
  },
  {
   "cell_type": "code",
   "execution_count": 11,
   "metadata": {},
   "outputs": [],
   "source": [
    "# Assign collection to variable \n",
    "withStation = db['withStationName']"
   ]
  },
  {
   "cell_type": "code",
   "execution_count": 12,
   "metadata": {},
   "outputs": [],
   "source": [
    "# # Iterate through each document in the collection\n",
    "# for document in withStation.find():\n",
    "#     if 'weather_data' in document:\n",
    "#         weather_data = document['weather_data']\n",
    "        \n",
    "#         # Remove the '_id' field from weather_data\n",
    "#         weather_data_id = weather_data.pop('_id')\n",
    "        \n",
    "#         # Rename 'date' to 'weather_date' within weather_data\n",
    "#         weather_data['weather_date'] = weather_data.pop('date')\n",
    "        \n",
    "#         # Add weather_data fields to the document\n",
    "#         document.update(weather_data)\n",
    "        \n",
    "#         # Set the value of 'weather_data' to the original _id value\n",
    "#         document['weather_data'] = weather_data_id\n",
    "        \n",
    "#         # Remove the old 'weather_data' field\n",
    "#         document.pop('weather_data')\n",
    "        \n",
    "#         # Update the document in the collection\n",
    "#         withStation.update_one({'_id': document['_id']}, {'$set': document})"
   ]
  },
  {
   "cell_type": "code",
   "execution_count": 13,
   "metadata": {},
   "outputs": [],
   "source": [
    "#Bulk update withStations collection\n",
    "from pymongo import UpdateOne\n",
    "\n",
    "# Set the batch size\n",
    "batch_size = 1000\n",
    "\n",
    "# Create an empty list to hold the update operations\n",
    "update_operations = []\n",
    "\n",
    "# Iterate through each document in the collection\n",
    "cursor = withStation.find().batch_size(batch_size)\n",
    "\n",
    "for document in cursor:\n",
    "    if 'weather_data' in document:\n",
    "        weather_data = document['weather_data']\n",
    "        \n",
    "        # Remove the '_id' field from weather_data\n",
    "        weather_data_id = weather_data.pop('_id')\n",
    "        \n",
    "        # Rename 'date' to 'weather_date' within weather_data\n",
    "        weather_data['weather_date'] = weather_data.pop('date')\n",
    "        \n",
    "        # Create the update operation for the current document\n",
    "        update_operation = UpdateOne(\n",
    "            {'_id': document['_id']},\n",
    "            [\n",
    "                {'$set': weather_data},\n",
    "                {'$set': {'weather_data': weather_data_id}}\n",
    "            ]\n",
    "        )\n",
    "        \n",
    "        # Add the update operation to the list\n",
    "        update_operations.append(update_operation)\n",
    "\n",
    "    # Execute bulk write operations when the batch size is reached\n",
    "    if len(update_operations) >= batch_size:\n",
    "        withStation.bulk_write(update_operations)\n",
    "        update_operations = []\n",
    "\n",
    "# Execute any remaining update operations\n",
    "if update_operations:\n",
    "    withStation.bulk_write(update_operations)\n"
   ]
  },
  {
   "cell_type": "code",
   "execution_count": 14,
   "metadata": {},
   "outputs": [
    {
     "name": "stdout",
     "output_type": "stream",
     "text": [
      "{'_id': ObjectId('6544a1406281b360c1f8c053'), 'end_lat': 42.01256011541, 'end_lng': -87.6743671152, 'end_station_id': 'RP-007', 'end_station_name': 'Clark St & Touhy Ave', 'ended_at': '2022-01-13 12:02:44', 'ended_at_date': '2022-01-13', 'ended_at_time': '12:02:44', 'member_casual': 'casual', 'ride_id': 'C2F7DD78E82EC875', 'rideable_type': 'electric_bike', 'start_lat': 42.0128005, 'start_lng': -87.665906, 'start_station_id': 525, 'start_station_name': 'Glenwood Ave & Touhy Ave', 'started_at': '2022-01-13 11:59:47', 'started_at_date': '2022-01-13', 'started_at_time': '11:59:47', 'weather_data': ObjectId('6544a21516ac0221c1a8c58a'), 'cloud_cover': 75.0, 'precipitation': 0.0, 'min_temp': 30.72, 'max_temp': 39.83, 'morning_temp': 35.49, 'afternoon_temp': 30.72, 'evening_temp': 34.38, 'night_temp': 39.22, 'max_windspeed': 8.01, 'weather_date': '2022-01-13'}\n"
     ]
    }
   ],
   "source": [
    "# Review document in updated collection \n",
    "print(db.withStationName.find_one())"
   ]
  },
  {
   "cell_type": "markdown",
   "metadata": {},
   "source": [
    "Remove dictionary from 'weather_data' field in 'withLatLong' collection and add 'weather_date' field "
   ]
  },
  {
   "cell_type": "code",
   "execution_count": 15,
   "metadata": {},
   "outputs": [
    {
     "name": "stdout",
     "output_type": "stream",
     "text": [
      "{'_id': ObjectId('6544a1406281b360c1f8c053'), 'end_lat': 42.01256011541, 'end_lng': -87.6743671152, 'end_station_id': 'RP-007', 'end_station_name': 'Clark St & Touhy Ave', 'ended_at': '2022-01-13 12:02:44', 'ended_at_date': '2022-01-13', 'ended_at_time': '12:02:44', 'member_casual': 'casual', 'ride_id': 'C2F7DD78E82EC875', 'rideable_type': 'electric_bike', 'start_lat': 42.0128005, 'start_lng': -87.665906, 'start_station_id': 525, 'start_station_name': 'Glenwood Ave & Touhy Ave', 'started_at': '2022-01-13 11:59:47', 'started_at_date': '2022-01-13', 'started_at_time': '11:59:47', 'weather_data': {'_id': ObjectId('6544a21516ac0221c1a8c58a'), 'date': '2022-01-13', 'cloud_cover': 75.0, 'precipitation': 0.0, 'min_temp': 30.72, 'max_temp': 39.83, 'morning_temp': 35.49, 'afternoon_temp': 30.72, 'evening_temp': 34.38, 'night_temp': 39.22, 'max_windspeed': 8.01}}\n"
     ]
    }
   ],
   "source": [
    "# Review a document in the collection \n",
    "print(db.withLatLong.find_one())"
   ]
  },
  {
   "cell_type": "code",
   "execution_count": 16,
   "metadata": {},
   "outputs": [],
   "source": [
    "# Assign collection to variable \n",
    "withLatLong = db['withLatLong']"
   ]
  },
  {
   "cell_type": "code",
   "execution_count": 17,
   "metadata": {},
   "outputs": [],
   "source": [
    "#Bulk update withLatLong collection\n",
    "from pymongo import UpdateOne\n",
    "\n",
    "# Set the batch size\n",
    "batch_size = 1000\n",
    "\n",
    "# Create an empty list to hold the update operations\n",
    "update_operations = []\n",
    "\n",
    "# Iterate through each document in the collection\n",
    "cursor = withLatLong.find().batch_size(batch_size)\n",
    "\n",
    "for document in cursor:\n",
    "    if 'weather_data' in document:\n",
    "        weather_data = document['weather_data']\n",
    "        \n",
    "        # Remove the '_id' field from weather_data\n",
    "        weather_data_id = weather_data.pop('_id')\n",
    "        \n",
    "        # Rename 'date' to 'weather_date' within weather_data\n",
    "        weather_data['weather_date'] = weather_data.pop('date')\n",
    "        \n",
    "        # Create the update operation for the current document\n",
    "        update_operation = UpdateOne(\n",
    "            {'_id': document['_id']},\n",
    "            [\n",
    "                {'$set': weather_data},\n",
    "                {'$set': {'weather_data': weather_data_id}}\n",
    "            ]\n",
    "        )\n",
    "        \n",
    "        # Add the update operation to the list\n",
    "        update_operations.append(update_operation)\n",
    "\n",
    "    # Execute bulk write operations when the batch size is reached\n",
    "    if len(update_operations) >= batch_size:\n",
    "        withLatLong.bulk_write(update_operations)\n",
    "        update_operations = []\n",
    "\n",
    "# Execute any remaining update operations\n",
    "if update_operations:\n",
    "    withLatLong.bulk_write(update_operations)\n"
   ]
  },
  {
   "cell_type": "code",
   "execution_count": 18,
   "metadata": {},
   "outputs": [
    {
     "name": "stdout",
     "output_type": "stream",
     "text": [
      "{'_id': ObjectId('6544a1406281b360c1f8c053'), 'end_lat': 42.01256011541, 'end_lng': -87.6743671152, 'end_station_id': 'RP-007', 'end_station_name': 'Clark St & Touhy Ave', 'ended_at': '2022-01-13 12:02:44', 'ended_at_date': '2022-01-13', 'ended_at_time': '12:02:44', 'member_casual': 'casual', 'ride_id': 'C2F7DD78E82EC875', 'rideable_type': 'electric_bike', 'start_lat': 42.0128005, 'start_lng': -87.665906, 'start_station_id': 525, 'start_station_name': 'Glenwood Ave & Touhy Ave', 'started_at': '2022-01-13 11:59:47', 'started_at_date': '2022-01-13', 'started_at_time': '11:59:47', 'weather_data': ObjectId('6544a21516ac0221c1a8c58a'), 'cloud_cover': 75.0, 'precipitation': 0.0, 'min_temp': 30.72, 'max_temp': 39.83, 'morning_temp': 35.49, 'afternoon_temp': 30.72, 'evening_temp': 34.38, 'night_temp': 39.22, 'max_windspeed': 8.01, 'weather_date': '2022-01-13'}\n"
     ]
    }
   ],
   "source": [
    "# Review document in updated collection \n",
    "print(db.withLatLong.find_one())"
   ]
  },
  {
   "cell_type": "markdown",
   "metadata": {},
   "source": [
    "Remove dictionary from 'weather_data' field in 'RouteDistance' collection and add 'weather_date' field "
   ]
  },
  {
   "cell_type": "code",
   "execution_count": 19,
   "metadata": {},
   "outputs": [
    {
     "name": "stdout",
     "output_type": "stream",
     "text": [
      "{'_id': ObjectId('6544a1ade61f9c6d659ecc3a'), 'end_lat': 0.0, 'end_lng': 0.0, 'end_station_id': 'chargingstx07', 'end_station_name': 'Green St & Madison Ave*', 'ended_at': '2022-11-09 12:26:18', 'ended_at_date': '2022-11-09', 'ended_at_time': '12:26:18', 'member_casual': 'member', 'ride_id': 'E9495F1DC3475D41', 'rideable_type': 'classic_bike', 'start_lat': 41.884114, 'start_lng': -87.654264, 'start_station_id': 18062, 'start_station_name': 'Aberdeen St & Randolph St', 'started_at': '2022-11-09 12:21:55', 'started_at_date': '2022-11-09', 'started_at_time': '12:21:55', 'weather_data': {'_id': ObjectId('6544a21516ac0221c1a8c6b5'), 'date': '2022-11-09', 'cloud_cover': 75.0, 'precipitation': 0.0, 'min_temp': 47.35, 'max_temp': 60.37, 'morning_temp': 51.44, 'afternoon_temp': 48.54, 'evening_temp': 51.37, 'night_temp': 51.82, 'max_windspeed': 13.8}, 'distance': 60.51865544715035}\n"
     ]
    }
   ],
   "source": [
    "# Review a document in the collection \n",
    "print(db.RouteDistance.find_one())"
   ]
  },
  {
   "cell_type": "code",
   "execution_count": 20,
   "metadata": {},
   "outputs": [],
   "source": [
    "# Assign collection to variable \n",
    "RouteDistance = db['RouteDistance']"
   ]
  },
  {
   "cell_type": "code",
   "execution_count": 21,
   "metadata": {},
   "outputs": [],
   "source": [
    "#Bulk update withLatLong collection\n",
    "from pymongo import UpdateOne\n",
    "\n",
    "# Set the batch size\n",
    "batch_size = 1000\n",
    "\n",
    "# Create an empty list to hold the update operations\n",
    "update_operations = []\n",
    "\n",
    "# Iterate through each document in the collection\n",
    "cursor = RouteDistance.find().batch_size(batch_size)\n",
    "\n",
    "for document in cursor:\n",
    "    if 'weather_data' in document:\n",
    "        weather_data = document['weather_data']\n",
    "        \n",
    "        # Remove the '_id' field from weather_data\n",
    "        weather_data_id = weather_data.pop('_id')\n",
    "        \n",
    "        # Rename 'date' to 'weather_date' within weather_data\n",
    "        weather_data['weather_date'] = weather_data.pop('date')\n",
    "        \n",
    "        # Create the update operation for the current document\n",
    "        update_operation = UpdateOne(\n",
    "            {'_id': document['_id']},\n",
    "            [\n",
    "                {'$set': weather_data},\n",
    "                {'$set': {'weather_data': weather_data_id}}\n",
    "            ]\n",
    "        )\n",
    "        \n",
    "        # Add the update operation to the list\n",
    "        update_operations.append(update_operation)\n",
    "\n",
    "    # Execute bulk write operations when the batch size is reached\n",
    "    if len(update_operations) >= batch_size:\n",
    "        RouteDistance.bulk_write(update_operations)\n",
    "        update_operations = []\n",
    "\n",
    "# Execute any remaining update operations\n",
    "if update_operations:\n",
    "    RouteDistance.bulk_write(update_operations)"
   ]
  },
  {
   "cell_type": "code",
   "execution_count": 22,
   "metadata": {},
   "outputs": [
    {
     "name": "stdout",
     "output_type": "stream",
     "text": [
      "{'_id': ObjectId('6544a1ade61f9c6d659ecc3a'), 'end_lat': 0.0, 'end_lng': 0.0, 'end_station_id': 'chargingstx07', 'end_station_name': 'Green St & Madison Ave*', 'ended_at': '2022-11-09 12:26:18', 'ended_at_date': '2022-11-09', 'ended_at_time': '12:26:18', 'member_casual': 'member', 'ride_id': 'E9495F1DC3475D41', 'rideable_type': 'classic_bike', 'start_lat': 41.884114, 'start_lng': -87.654264, 'start_station_id': 18062, 'start_station_name': 'Aberdeen St & Randolph St', 'started_at': '2022-11-09 12:21:55', 'started_at_date': '2022-11-09', 'started_at_time': '12:21:55', 'weather_data': ObjectId('6544a21516ac0221c1a8c6b5'), 'distance': 60.51865544715035, 'cloud_cover': 75.0, 'precipitation': 0.0, 'min_temp': 47.35, 'max_temp': 60.37, 'morning_temp': 51.44, 'afternoon_temp': 48.54, 'evening_temp': 51.37, 'night_temp': 51.82, 'max_windspeed': 13.8, 'weather_date': '2022-11-09'}\n"
     ]
    }
   ],
   "source": [
    "# Review document in updated collection \n",
    "print(db.RouteDistance.find_one())"
   ]
  },
  {
   "cell_type": "code",
   "execution_count": null,
   "metadata": {},
   "outputs": [],
   "source": []
  }
 ],
 "metadata": {
  "kernelspec": {
   "display_name": "dev2",
   "language": "python",
   "name": "python3"
  },
  "language_info": {
   "codemirror_mode": {
    "name": "ipython",
    "version": 3
   },
   "file_extension": ".py",
   "mimetype": "text/x-python",
   "name": "python",
   "nbconvert_exporter": "python",
   "pygments_lexer": "ipython3",
   "version": "3.10.9"
  },
  "orig_nbformat": 4
 },
 "nbformat": 4,
 "nbformat_minor": 2
}
