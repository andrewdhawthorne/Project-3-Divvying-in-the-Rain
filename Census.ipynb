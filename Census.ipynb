{
 "cells": [
  {
   "cell_type": "code",
   "execution_count": 1,
   "metadata": {},
   "outputs": [],
   "source": [
    "import requests\n",
    "import pandas as pd\n",
    "from pymongo import MongoClient, UpdateOne\n",
    "import json\n",
    "import requests\n",
    "import time\n",
    "from config import api_key_zip, api_key_census"
   ]
  },
  {
   "cell_type": "code",
   "execution_count": 2,
   "metadata": {},
   "outputs": [
    {
     "name": "stdout",
     "output_type": "stream",
     "text": [
      "Start Stations Coordinates: [(41.880958, -87.616743), (41.867888, -87.623041), (41.897448, -87.628722), (41.869265218438194, -87.67373085021973), (41.897448, -87.628722), (41.8810317, -87.62408432), (41.920771, -87.663712), (41.926277, -87.630834), (41.893992, -87.629318), (41.893992, -87.629318)]\n",
      "End Stations Coordinates: [(41.892278, -87.612043), (41.911722, -87.626804), (41.90096039, -87.62377664), (41.880958, -87.616743), (41.912133, -87.634656), (41.8810317, -87.62408432), (41.926277, -87.630834), (41.902973, -87.63128), (41.88917683258, -87.6385057718), (41.903222, -87.634324)]\n"
     ]
    }
   ],
   "source": [
    "# Get the latitude and longitude from the top 10 stations and top 10 end stations\n",
    "# MongoDB connection URI\n",
    "mongo_uri = \"mongodb://localhost:27017/\"\n",
    "mongo = MongoClient(mongo_uri)\n",
    "\n",
    "# Connect to the database\n",
    "db = mongo.chicago_bikes  \n",
    "\n",
    "# Connect to collections\n",
    "start_stations_collection = db.Top10StartStations\n",
    "end_stations_collection = db.Top10EndStations\n",
    "\n",
    "# Fetch the top 10 start and end stations\n",
    "top_start_stations = start_stations_collection.find({}, {'_id': 0, 'latitude': 1, 'longitude': 1})\n",
    "top_end_stations = end_stations_collection.find({}, {'_id': 0, 'latitude': 1, 'longitude': 1})\n",
    "\n",
    "# Function to iterate over the cursor and extract lat and long data\n",
    "def extract_lat_long(cursor):\n",
    "    return [(station['latitude'], station['longitude']) for station in cursor]\n",
    "\n",
    "# Extracting latitudes and longitudes\n",
    "start_station_coordinates = extract_lat_long(top_start_stations)\n",
    "end_station_coordinates = extract_lat_long(top_end_stations)\n",
    "\n",
    "# Now there are two lists of tuples containing the latitudes and longitudes\n",
    "# of the top 10 start and end stations, respectively:\n",
    "print(\"Start Stations Coordinates:\", start_station_coordinates)\n",
    "print(\"End Stations Coordinates:\", end_station_coordinates)"
   ]
  },
  {
   "cell_type": "code",
   "execution_count": 3,
   "metadata": {},
   "outputs": [
    {
     "name": "stdout",
     "output_type": "stream",
     "text": [
      "Coordinates: (41.880958, -87.616743) => ZIP Code: 60601\n",
      "Coordinates: (41.892278, -87.612043) => ZIP Code: 60611\n",
      "Coordinates: (41.867888, -87.623041) => ZIP Code: 60605\n",
      "Coordinates: (41.911722, -87.626804) => ZIP Code: 60614\n",
      "Coordinates: (41.897448, -87.628722) => ZIP Code: 60654\n",
      "Coordinates: (41.90096039, -87.62377664) => ZIP Code: 60611\n",
      "Coordinates: (41.869265218438194, -87.67373085021973) => ZIP Code: 60612\n",
      "Coordinates: (41.880958, -87.616743) => ZIP Code: 60601\n",
      "Coordinates: (41.897448, -87.628722) => ZIP Code: 60654\n",
      "Coordinates: (41.912133, -87.634656) => ZIP Code: 60614\n",
      "Coordinates: (41.8810317, -87.62408432) => ZIP Code: 60601\n",
      "Coordinates: (41.8810317, -87.62408432) => ZIP Code: 60601\n",
      "Coordinates: (41.920771, -87.663712) => ZIP Code: 60614\n",
      "Coordinates: (41.926277, -87.630834) => ZIP Code: 60657\n",
      "Coordinates: (41.926277, -87.630834) => ZIP Code: 60657\n",
      "Coordinates: (41.902973, -87.63128) => ZIP Code: 60610\n",
      "Coordinates: (41.893992, -87.629318) => ZIP Code: 60654\n",
      "Coordinates: (41.88917683258, -87.6385057718) => ZIP Code: 60654\n",
      "Coordinates: (41.893992, -87.629318) => ZIP Code: 60654\n",
      "Coordinates: (41.903222, -87.634324) => ZIP Code: 60610\n"
     ]
    }
   ],
   "source": [
    "# Find the zip codes corresponding to each latitude and longitude using LocationIQ API\n",
    "\n",
    "# Endpoint URL for reverse geocoding\n",
    "URL = 'https://us1.locationiq.com/v1/reverse.php'\n",
    "\n",
    "# Change variable name for start and end station coordinates\n",
    "coordinates_list1 = start_station_coordinates\n",
    "coordinates_list2 = end_station_coordinates\n",
    "\n",
    "# Function to retrieve postal codes from two lists of coordinates \n",
    "def get_zip_codes_locationiq(start_station_coordinates, end_station_coordinates, api_key):\n",
    "    zip_codes = []\n",
    "    for (lat1, lon1), (lat2, lon2) in zip(start_station_coordinates, end_station_coordinates):\n",
    "        for lat, lon in [(lat1, lon1), (lat2, lon2)]:\n",
    "            params = {\n",
    "                'key': api_key,\n",
    "                'lat': lat,\n",
    "                'lon': lon,\n",
    "                'format': 'json'\n",
    "            }\n",
    "            \n",
    "            # Make the request to LocationIQ\n",
    "            response = requests.get(URL, params=params)\n",
    "            \n",
    "            if response.status_code == 200:\n",
    "                data = response.json()\n",
    "                # Check if postcode is available in the response\n",
    "                zip_code = data.get('address', {}).get('postcode', None)\n",
    "                zip_codes.append((lat, lon, zip_code))\n",
    "            else:\n",
    "                print(f\"Error for {lat}, {lon}: {response.text}\")\n",
    "                zip_codes.append((lat, lon, None))\n",
    "            \n",
    "            # Respect the free tier limit of 1 request per second\n",
    "            time.sleep(1)\n",
    "    \n",
    "    return zip_codes\n",
    "\n",
    "# Retrieve ZIP codes for the provided coordinates\n",
    "zip_codes_list = get_zip_codes_locationiq(coordinates_list1, coordinates_list2, api_key_zip)\n",
    "\n",
    "# Output the results\n",
    "for lat, lon, zip_code in zip_codes_list:\n",
    "    print(f\"Coordinates: ({lat}, {lon}) => ZIP Code: {zip_code}\")\n"
   ]
  },
  {
   "cell_type": "code",
   "execution_count": 10,
   "metadata": {},
   "outputs": [
    {
     "name": "stdout",
     "output_type": "stream",
     "text": [
      "['60601', '60611', '60605', '60614', '60654', '60611', '60612', '60601', '60654', '60614', '60601', '60601', '60614', '60657', '60657', '60610', '60654', '60654', '60654', '60610']\n",
      "The population for ZIP code 60601 is 15083\n",
      "The population for ZIP code 60611 is 33224\n",
      "The population for ZIP code 60605 is 29060\n",
      "The population for ZIP code 60614 is 71954\n",
      "The population for ZIP code 60654 is 20022\n",
      "The population for ZIP code 60612 is 33735\n",
      "The population for ZIP code 60657 is 70958\n",
      "The population for ZIP code 60610 is 40548\n"
     ]
    }
   ],
   "source": [
    "# Find the population for each zip code, using the American Community Survey (ACS) API.  We are using the ACS 5-year estimates as the 1 year estimates only cover areas with populations of 65,000 people or more\n",
    "\n",
    "# List of ZIP codes from zip_code_list tuple\n",
    "zip_codes = [tup[2] for tup in zip_codes_list if len(tup)>2]\n",
    "\n",
    "# Your API key for the U.S. Census Bureau\n",
    "api_key = api_key_census\n",
    "\n",
    "# The base URL for the ACS5 5-Year Estimates API\n",
    "base_url = 'https://api.census.gov/data/2019/acs/acs5'\n",
    "\n",
    "# The variable code for total population\n",
    "population_variable = 'B01003_001E'\n",
    "\n",
    "# Dictionary to store the population data\n",
    "population_data = {}\n",
    "\n",
    "# Function to retrieve population by ZIP code\n",
    "def get_population_by_zip(zip_code):\n",
    "    parameters = {\n",
    "        'get': population_variable,\n",
    "        'for': f'zip code tabulation area:{zip_code}',\n",
    "        'in': 'state:17',  # Adding the state code for Illinois\n",
    "        'key': api_key\n",
    "    }\n",
    "    try:\n",
    "        response = requests.get(base_url, params=parameters)\n",
    "        response.raise_for_status()  # This will raise an HTTPError if the HTTP request returned an unsuccessful status code\n",
    "        data = response.json()\n",
    "        # Assuming the first element is headers, the second is data\n",
    "        return int(data[1][0])\n",
    "    except requests.exceptions.HTTPError as errh:\n",
    "        print(f\"HTTP Error for ZIP code {zip_code}: {errh}\")\n",
    "    except requests.exceptions.ConnectionError as errc:\n",
    "        print(f\"Error Connecting for ZIP code {zip_code}: {errc}\")\n",
    "    except requests.exceptions.Timeout as errt:\n",
    "        print(f\"Timeout Error for ZIP code {zip_code}: {errt}\")\n",
    "    except requests.exceptions.RequestException as err:\n",
    "        print(f\"Error for ZIP code {zip_code}: {err}\")\n",
    "    return None\n",
    "\n",
    "# Retrieve the population for each ZIP code and store in the dictionary\n",
    "for zip_code in zip_codes:\n",
    "    population_data[zip_code] = get_population_by_zip(zip_code)\n",
    "\n",
    "# Print out the population data\n",
    "for zip_code, population in population_data.items():\n",
    "    if population is not None:\n",
    "        print(f\"The population for ZIP code {zip_code} is {population}\")\n",
    "    else:\n",
    "        print(f\"Population data not available for ZIP code {zip_code}.\")"
   ]
  },
  {
   "cell_type": "code",
   "execution_count": null,
   "metadata": {},
   "outputs": [],
   "source": [
    "# Merge population data back with Top 10 Start Stations and Top 10 End Stations\n"
   ]
  },
  {
   "cell_type": "code",
   "execution_count": null,
   "metadata": {},
   "outputs": [],
   "source": [
    "# Close the MongoDB connection\n",
    "mongo.close()"
   ]
  }
 ],
 "metadata": {
  "kernelspec": {
   "display_name": "base",
   "language": "python",
   "name": "python3"
  },
  "language_info": {
   "codemirror_mode": {
    "name": "ipython",
    "version": 3
   },
   "file_extension": ".py",
   "mimetype": "text/x-python",
   "name": "python",
   "nbconvert_exporter": "python",
   "pygments_lexer": "ipython3",
   "version": "3.10.9"
  }
 },
 "nbformat": 4,
 "nbformat_minor": 2
}
