{
 "cells": [
  {
   "cell_type": "code",
   "execution_count": 1,
   "metadata": {},
   "outputs": [],
   "source": [
    "import requests\n",
    "import pandas as pd\n",
    "from pymongo import MongoClient, UpdateOne\n",
    "import json\n",
    "from uszipcode import SearchEngine"
   ]
  },
  {
   "cell_type": "code",
   "execution_count": 12,
   "metadata": {},
   "outputs": [
    {
     "name": "stdout",
     "output_type": "stream",
     "text": [
      "Start Stations Coordinates: [(41.880958, -87.616743), (41.867888, -87.623041), (41.897448, -87.628722), (41.869265218438194, -87.67373085021973), (41.897448, -87.628722), (41.8810317, -87.62408432), (41.920771, -87.663712), (41.926277, -87.630834), (41.893992, -87.629318), (41.893992, -87.629318)]\n",
      "End Stations Coordinates: [(41.892278, -87.612043), (41.911722, -87.626804), (41.90096039, -87.62377664), (41.880958, -87.616743), (41.912133, -87.634656), (41.8810317, -87.62408432), (41.926277, -87.630834), (41.902973, -87.63128), (41.88917683258, -87.6385057718), (41.903222, -87.634324)]\n"
     ]
    }
   ],
   "source": [
    "# Get the latitude and longitude from the top 10 stations and top 10 end stations\n",
    "# MongoDB connection URI\n",
    "mongo_uri = \"mongodb://localhost:27017/\"\n",
    "mongo = MongoClient(mongo_uri)\n",
    "\n",
    "# Connect to your database\n",
    "db = mongo.chicago_bikes  # Replace with your database name\n",
    "\n",
    "# Connect to collections\n",
    "start_stations_collection = db.Top10StartStations\n",
    "end_stations_collection = db.Top10EndStations\n",
    "\n",
    "# Fetch the top 10 start and end stations\n",
    "top_start_stations = start_stations_collection.find({}, {'_id': 0, 'latitude': 1, 'longitude': 1})\n",
    "top_end_stations = end_stations_collection.find({}, {'_id': 0, 'latitude': 1, 'longitude': 1})\n",
    "\n",
    "# Function to iterate over the cursor and extract data\n",
    "def extract_lat_long(cursor):\n",
    "    return [(station['latitude'], station['longitude']) for station in cursor]\n",
    "\n",
    "# Extracting latitudes and longitudes\n",
    "start_station_coordinates = extract_lat_long(top_start_stations)\n",
    "end_station_coordinates = extract_lat_long(top_end_stations)\n",
    "\n",
    "# Now there are two lists of tuples containing the latitudes and longitudes\n",
    "# of the top 10 start and end stations, respectively:\n",
    "print(\"Start Stations Coordinates:\", start_station_coordinates)\n",
    "print(\"End Stations Coordinates:\", end_station_coordinates)\n",
    "\n",
    "# # Close the MongoDB connection\n",
    "# mongo.close()"
   ]
  },
  {
   "cell_type": "code",
   "execution_count": 13,
   "metadata": {},
   "outputs": [
    {
     "ename": "AttributeError",
     "evalue": "'Session' object has no attribute 'scalars'",
     "output_type": "error",
     "traceback": [
      "\u001b[1;31m---------------------------------------------------------------------------\u001b[0m",
      "\u001b[1;31mAttributeError\u001b[0m                            Traceback (most recent call last)",
      "\u001b[1;32mc:\\Users\\alici\\Desktop\\Project-3-Divvying-in-the-Rain\\Census.ipynb Cell 3\u001b[0m line \u001b[0;36m1\n\u001b[0;32m     <a href='vscode-notebook-cell:/c%3A/Users/alici/Desktop/Project-3-Divvying-in-the-Rain/Census.ipynb#W2sZmlsZQ%3D%3D?line=9'>10</a>\u001b[0m end_stations_coords \u001b[39m=\u001b[39m [(\u001b[39m41.892278\u001b[39m, \u001b[39m-\u001b[39m\u001b[39m87.612043\u001b[39m), (\u001b[39m41.911722\u001b[39m, \u001b[39m-\u001b[39m\u001b[39m87.626804\u001b[39m), (\u001b[39m41.90096039\u001b[39m, \u001b[39m-\u001b[39m\u001b[39m87.62377664\u001b[39m), (\u001b[39m41.880958\u001b[39m, \u001b[39m-\u001b[39m\u001b[39m87.616743\u001b[39m), (\u001b[39m41.912133\u001b[39m, \u001b[39m-\u001b[39m\u001b[39m87.634656\u001b[39m), (\u001b[39m41.8810317\u001b[39m, \u001b[39m-\u001b[39m\u001b[39m87.62408432\u001b[39m), (\u001b[39m41.926277\u001b[39m, \u001b[39m-\u001b[39m\u001b[39m87.630834\u001b[39m), (\u001b[39m41.902973\u001b[39m, \u001b[39m-\u001b[39m\u001b[39m87.63128\u001b[39m), (\u001b[39m41.88917683258\u001b[39m, \u001b[39m-\u001b[39m\u001b[39m87.6385057718\u001b[39m), (\u001b[39m41.903222\u001b[39m, \u001b[39m-\u001b[39m\u001b[39m87.634324\u001b[39m)]\n\u001b[0;32m     <a href='vscode-notebook-cell:/c%3A/Users/alici/Desktop/Project-3-Divvying-in-the-Rain/Census.ipynb#W2sZmlsZQ%3D%3D?line=11'>12</a>\u001b[0m \u001b[39m# Retrieving zip codes\u001b[39;00m\n\u001b[1;32m---> <a href='vscode-notebook-cell:/c%3A/Users/alici/Desktop/Project-3-Divvying-in-the-Rain/Census.ipynb#W2sZmlsZQ%3D%3D?line=12'>13</a>\u001b[0m start_stations_zip_codes \u001b[39m=\u001b[39m [get_zipcode_from_coords(lat, lng) \u001b[39mfor\u001b[39;00m lat, lng \u001b[39min\u001b[39;00m start_stations_coords]\n\u001b[0;32m     <a href='vscode-notebook-cell:/c%3A/Users/alici/Desktop/Project-3-Divvying-in-the-Rain/Census.ipynb#W2sZmlsZQ%3D%3D?line=13'>14</a>\u001b[0m end_stations_zip_codes \u001b[39m=\u001b[39m [get_zipcode_from_coords(lat, lng) \u001b[39mfor\u001b[39;00m lat, lng \u001b[39min\u001b[39;00m end_stations_coords]\n\u001b[0;32m     <a href='vscode-notebook-cell:/c%3A/Users/alici/Desktop/Project-3-Divvying-in-the-Rain/Census.ipynb#W2sZmlsZQ%3D%3D?line=15'>16</a>\u001b[0m \u001b[39m# Output\u001b[39;00m\n",
      "\u001b[1;32mc:\\Users\\alici\\Desktop\\Project-3-Divvying-in-the-Rain\\Census.ipynb Cell 3\u001b[0m line \u001b[0;36m1\n\u001b[0;32m     <a href='vscode-notebook-cell:/c%3A/Users/alici/Desktop/Project-3-Divvying-in-the-Rain/Census.ipynb#W2sZmlsZQ%3D%3D?line=9'>10</a>\u001b[0m end_stations_coords \u001b[39m=\u001b[39m [(\u001b[39m41.892278\u001b[39m, \u001b[39m-\u001b[39m\u001b[39m87.612043\u001b[39m), (\u001b[39m41.911722\u001b[39m, \u001b[39m-\u001b[39m\u001b[39m87.626804\u001b[39m), (\u001b[39m41.90096039\u001b[39m, \u001b[39m-\u001b[39m\u001b[39m87.62377664\u001b[39m), (\u001b[39m41.880958\u001b[39m, \u001b[39m-\u001b[39m\u001b[39m87.616743\u001b[39m), (\u001b[39m41.912133\u001b[39m, \u001b[39m-\u001b[39m\u001b[39m87.634656\u001b[39m), (\u001b[39m41.8810317\u001b[39m, \u001b[39m-\u001b[39m\u001b[39m87.62408432\u001b[39m), (\u001b[39m41.926277\u001b[39m, \u001b[39m-\u001b[39m\u001b[39m87.630834\u001b[39m), (\u001b[39m41.902973\u001b[39m, \u001b[39m-\u001b[39m\u001b[39m87.63128\u001b[39m), (\u001b[39m41.88917683258\u001b[39m, \u001b[39m-\u001b[39m\u001b[39m87.6385057718\u001b[39m), (\u001b[39m41.903222\u001b[39m, \u001b[39m-\u001b[39m\u001b[39m87.634324\u001b[39m)]\n\u001b[0;32m     <a href='vscode-notebook-cell:/c%3A/Users/alici/Desktop/Project-3-Divvying-in-the-Rain/Census.ipynb#W2sZmlsZQ%3D%3D?line=11'>12</a>\u001b[0m \u001b[39m# Retrieving zip codes\u001b[39;00m\n\u001b[1;32m---> <a href='vscode-notebook-cell:/c%3A/Users/alici/Desktop/Project-3-Divvying-in-the-Rain/Census.ipynb#W2sZmlsZQ%3D%3D?line=12'>13</a>\u001b[0m start_stations_zip_codes \u001b[39m=\u001b[39m [get_zipcode_from_coords(lat, lng) \u001b[39mfor\u001b[39;00m lat, lng \u001b[39min\u001b[39;00m start_stations_coords]\n\u001b[0;32m     <a href='vscode-notebook-cell:/c%3A/Users/alici/Desktop/Project-3-Divvying-in-the-Rain/Census.ipynb#W2sZmlsZQ%3D%3D?line=13'>14</a>\u001b[0m end_stations_zip_codes \u001b[39m=\u001b[39m [get_zipcode_from_coords(lat, lng) \u001b[39mfor\u001b[39;00m lat, lng \u001b[39min\u001b[39;00m end_stations_coords]\n\u001b[0;32m     <a href='vscode-notebook-cell:/c%3A/Users/alici/Desktop/Project-3-Divvying-in-the-Rain/Census.ipynb#W2sZmlsZQ%3D%3D?line=15'>16</a>\u001b[0m \u001b[39m# Output\u001b[39;00m\n",
      "\u001b[1;32mc:\\Users\\alici\\Desktop\\Project-3-Divvying-in-the-Rain\\Census.ipynb Cell 3\u001b[0m line \u001b[0;36m5\n\u001b[0;32m      <a href='vscode-notebook-cell:/c%3A/Users/alici/Desktop/Project-3-Divvying-in-the-Rain/Census.ipynb#W2sZmlsZQ%3D%3D?line=2'>3</a>\u001b[0m \u001b[39mdef\u001b[39;00m \u001b[39mget_zipcode_from_coords\u001b[39m(latitude, longitude):\n\u001b[0;32m      <a href='vscode-notebook-cell:/c%3A/Users/alici/Desktop/Project-3-Divvying-in-the-Rain/Census.ipynb#W2sZmlsZQ%3D%3D?line=3'>4</a>\u001b[0m     search \u001b[39m=\u001b[39m SearchEngine()  \u001b[39m# Set simple_zipcode=False for rich info\u001b[39;00m\n\u001b[1;32m----> <a href='vscode-notebook-cell:/c%3A/Users/alici/Desktop/Project-3-Divvying-in-the-Rain/Census.ipynb#W2sZmlsZQ%3D%3D?line=4'>5</a>\u001b[0m     result \u001b[39m=\u001b[39m search\u001b[39m.\u001b[39;49mby_coordinates(lat\u001b[39m=\u001b[39;49mlatitude, lng\u001b[39m=\u001b[39;49mlongitude, radius \u001b[39m=\u001b[39;49m \u001b[39m1\u001b[39;49m)\n\u001b[0;32m      <a href='vscode-notebook-cell:/c%3A/Users/alici/Desktop/Project-3-Divvying-in-the-Rain/Census.ipynb#W2sZmlsZQ%3D%3D?line=5'>6</a>\u001b[0m     \u001b[39mreturn\u001b[39;00m result[\u001b[39m0\u001b[39m]\u001b[39m.\u001b[39mzipcode \u001b[39mif\u001b[39;00m result \u001b[39melse\u001b[39;00m \u001b[39mNone\u001b[39;00m\n",
      "File \u001b[1;32mc:\\Users\\alici\\anaconda3\\lib\\site-packages\\uszipcode\\search.py:836\u001b[0m, in \u001b[0;36mSearchEngine.by_coordinates\u001b[1;34m(self, lat, lng, radius, zipcode_type, sort_by, ascending, returns)\u001b[0m\n\u001b[0;32m    809\u001b[0m \u001b[39mdef\u001b[39;00m \u001b[39mby_coordinates\u001b[39m(\n\u001b[0;32m    810\u001b[0m     \u001b[39mself\u001b[39m,\n\u001b[0;32m    811\u001b[0m     lat: typing\u001b[39m.\u001b[39mUnion[\u001b[39mint\u001b[39m, \u001b[39mfloat\u001b[39m],\n\u001b[1;32m   (...)\u001b[0m\n\u001b[0;32m    817\u001b[0m     returns: \u001b[39mint\u001b[39m \u001b[39m=\u001b[39m DEFAULT_LIMIT,\n\u001b[0;32m    818\u001b[0m ):\n\u001b[0;32m    819\u001b[0m \u001b[39m    \u001b[39m\u001b[39m\"\"\"\u001b[39;00m\n\u001b[0;32m    820\u001b[0m \u001b[39m    Search zipcode information near a coordinates on a map.\u001b[39;00m\n\u001b[0;32m    821\u001b[0m \n\u001b[1;32m   (...)\u001b[0m\n\u001b[0;32m    834\u001b[0m \u001b[39m      限定的半径的直接丢弃.\u001b[39;00m\n\u001b[0;32m    835\u001b[0m \u001b[39m    \"\"\"\u001b[39;00m\n\u001b[1;32m--> 836\u001b[0m     \u001b[39mreturn\u001b[39;00m \u001b[39mself\u001b[39;49m\u001b[39m.\u001b[39;49mquery(\n\u001b[0;32m    837\u001b[0m         lat\u001b[39m=\u001b[39;49mlat, lng\u001b[39m=\u001b[39;49mlng, radius\u001b[39m=\u001b[39;49mradius,\n\u001b[0;32m    838\u001b[0m         sort_by\u001b[39m=\u001b[39;49msort_by, zipcode_type\u001b[39m=\u001b[39;49mzipcode_type,\n\u001b[0;32m    839\u001b[0m         ascending\u001b[39m=\u001b[39;49mascending, returns\u001b[39m=\u001b[39;49mreturns,\n\u001b[0;32m    840\u001b[0m     )\n",
      "File \u001b[1;32mc:\\Users\\alici\\anaconda3\\lib\\site-packages\\uszipcode\\search.py:662\u001b[0m, in \u001b[0;36mSearchEngine.query\u001b[1;34m(self, zipcode, prefix, pattern, city, state, lat, lng, radius, population_lower, population_upper, population_density_lower, population_density_upper, land_area_in_sqmi_lower, land_area_in_sqmi_upper, water_area_in_sqmi_lower, water_area_in_sqmi_upper, housing_units_lower, housing_units_upper, occupied_housing_units_lower, occupied_housing_units_upper, median_home_value_lower, median_home_value_upper, median_household_income_lower, median_household_income_upper, zipcode_type, sort_by, ascending, returns)\u001b[0m\n\u001b[0;32m    658\u001b[0m \u001b[39mif\u001b[39;00m flag_radius_query:\n\u001b[0;32m    659\u001b[0m     \u001b[39m# if we query by radius, then ignore returns limit before the\u001b[39;00m\n\u001b[0;32m    660\u001b[0m     \u001b[39m# distance calculation, and then manually limit the returns\u001b[39;00m\n\u001b[0;32m    661\u001b[0m     pairs \u001b[39m=\u001b[39m \u001b[39mlist\u001b[39m()\n\u001b[1;32m--> 662\u001b[0m     \u001b[39mfor\u001b[39;00m z \u001b[39min\u001b[39;00m \u001b[39mself\u001b[39;49m\u001b[39m.\u001b[39;49mses\u001b[39m.\u001b[39;49mscalars(stmt):\n\u001b[0;32m    663\u001b[0m         dist \u001b[39m=\u001b[39m z\u001b[39m.\u001b[39mdist_from(lat, lng)\n\u001b[0;32m    664\u001b[0m         \u001b[39mif\u001b[39;00m dist \u001b[39m<\u001b[39m\u001b[39m=\u001b[39m radius:\n",
      "\u001b[1;31mAttributeError\u001b[0m: 'Session' object has no attribute 'scalars'"
     ]
    }
   ],
   "source": [
    "from uszipcode import SearchEngine\n",
    "\n",
    "def get_zipcode_from_coords(latitude, longitude):\n",
    "    search = SearchEngine()  # Set simple_zipcode=False for rich info\n",
    "    result = search.by_coordinates(lat=latitude, lng=longitude, radius = 1)\n",
    "    return result[0].zipcode if result else None\n",
    "\n",
    "# Coordinates\n",
    "start_stations_coords =  [(41.880958, -87.616743), (41.867888, -87.623041), (41.897448, -87.628722), (41.869265218438194, -87.67373085021973), (41.897448, -87.628722), (41.8810317, -87.62408432), (41.920771, -87.663712), (41.926277, -87.630834), (41.893992, -87.629318), (41.893992, -87.629318)] # Continue with your coordinates\n",
    "end_stations_coords = [(41.892278, -87.612043), (41.911722, -87.626804), (41.90096039, -87.62377664), (41.880958, -87.616743), (41.912133, -87.634656), (41.8810317, -87.62408432), (41.926277, -87.630834), (41.902973, -87.63128), (41.88917683258, -87.6385057718), (41.903222, -87.634324)]\n",
    "\n",
    "# Retrieving zip codes\n",
    "start_stations_zip_codes = [get_zipcode_from_coords(lat, lng) for lat, lng in start_stations_coords]\n",
    "end_stations_zip_codes = [get_zipcode_from_coords(lat, lng) for lat, lng in end_stations_coords]\n",
    "\n",
    "# Output\n",
    "print(\"Start Stations Zip Codes:\", start_stations_zip_codes)\n",
    "print(\"End Stations Zip Codes:\", end_stations_zip_codes)"
   ]
  }
 ],
 "metadata": {
  "kernelspec": {
   "display_name": "base",
   "language": "python",
   "name": "python3"
  },
  "language_info": {
   "codemirror_mode": {
    "name": "ipython",
    "version": 3
   },
   "file_extension": ".py",
   "mimetype": "text/x-python",
   "name": "python",
   "nbconvert_exporter": "python",
   "pygments_lexer": "ipython3",
   "version": "3.10.9"
  }
 },
 "nbformat": 4,
 "nbformat_minor": 2
}
