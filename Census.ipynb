{
 "cells": [
  {
   "cell_type": "code",
   "execution_count": 37,
   "metadata": {},
   "outputs": [
    {
     "ename": "ModuleNotFoundError",
     "evalue": "No module named 'seaborn'",
     "output_type": "error",
     "traceback": [
      "\u001b[1;31m---------------------------------------------------------------------------\u001b[0m",
      "\u001b[1;31mModuleNotFoundError\u001b[0m                       Traceback (most recent call last)",
      "\u001b[1;32mc:\\Users\\alici\\Desktop\\Project-3-Divvying-in-the-Rain\\Census.ipynb Cell 1\u001b[0m line \u001b[0;36m9\n\u001b[0;32m      <a href='vscode-notebook-cell:/c%3A/Users/alici/Desktop/Project-3-Divvying-in-the-Rain/Census.ipynb#Y134sZmlsZQ%3D%3D?line=6'>7</a>\u001b[0m \u001b[39mfrom\u001b[39;00m \u001b[39mconfig\u001b[39;00m \u001b[39mimport\u001b[39;00m api_key_zip, api_key_census\n\u001b[0;32m      <a href='vscode-notebook-cell:/c%3A/Users/alici/Desktop/Project-3-Divvying-in-the-Rain/Census.ipynb#Y134sZmlsZQ%3D%3D?line=7'>8</a>\u001b[0m \u001b[39mimport\u001b[39;00m \u001b[39mmatplotlib\u001b[39;00m\u001b[39m.\u001b[39;00m\u001b[39mpyplot\u001b[39;00m \u001b[39mas\u001b[39;00m \u001b[39mplt\u001b[39;00m\n\u001b[1;32m----> <a href='vscode-notebook-cell:/c%3A/Users/alici/Desktop/Project-3-Divvying-in-the-Rain/Census.ipynb#Y134sZmlsZQ%3D%3D?line=8'>9</a>\u001b[0m \u001b[39mimport\u001b[39;00m \u001b[39mseaborn\u001b[39;00m \u001b[39mas\u001b[39;00m \u001b[39msns\u001b[39;00m\n",
      "\u001b[1;31mModuleNotFoundError\u001b[0m: No module named 'seaborn'"
     ]
    }
   ],
   "source": [
    "import requests\n",
    "import pandas as pd\n",
    "from pymongo import MongoClient, UpdateOne\n",
    "import json\n",
    "import requests\n",
    "import time\n",
    "from config import api_key_zip, api_key_census\n",
    "import matplotlib.pyplot as plt\n",
    "import seaborn as sns\n"
   ]
  },
  {
   "cell_type": "code",
   "execution_count": 2,
   "metadata": {},
   "outputs": [
    {
     "name": "stdout",
     "output_type": "stream",
     "text": [
      "Documents in Top10StartStationsCopy:\n",
      "{'_id': 'Streeter Dr & Grand Ave', 'count': 71269, 'latitude': 41.880958, 'longitude': -87.616743}\n",
      "{'_id': 'DuSable Lake Shore Dr & Monroe St', 'count': 39251, 'latitude': 41.867888, 'longitude': -87.623041}\n",
      "{'_id': 'DuSable Lake Shore Dr & North Blvd', 'count': 37698, 'latitude': 41.897448, 'longitude': -87.628722}\n",
      "{'_id': 'Michigan Ave & Oak St', 'count': 37208, 'latitude': 41.869265218438194, 'longitude': -87.67373085021973}\n",
      "{'_id': 'Wells St & Concord Ln', 'count': 34508, 'latitude': 41.897448, 'longitude': -87.628722}\n",
      "{'_id': 'Millennium Park', 'count': 32849, 'latitude': 41.8810317, 'longitude': -87.62408432}\n",
      "{'_id': 'Clark St & Elm St', 'count': 32560, 'latitude': 41.920771, 'longitude': -87.663712}\n",
      "{'_id': 'Kingsbury St & Kinzie St', 'count': 31614, 'latitude': 41.893992, 'longitude': -87.629318}\n",
      "{'_id': 'Theater on the Lake', 'count': 31283, 'latitude': 41.926277, 'longitude': -87.630834}\n",
      "{'_id': 'Wells St & Elm St', 'count': 28978, 'latitude': 41.893992, 'longitude': -87.629318}\n",
      "\n",
      "Documents in Top10EndStationsCopy:\n",
      "{'_id': 'Streeter Dr & Grand Ave', 'count': 72540, 'latitude': 41.892278, 'longitude': -87.612043}\n",
      "{'_id': 'DuSable Lake Shore Dr & North Blvd', 'count': 40563, 'latitude': 41.911722, 'longitude': -87.626804}\n",
      "{'_id': 'DuSable Lake Shore Dr & Monroe St', 'count': 38500, 'latitude': 41.880958, 'longitude': -87.616743}\n",
      "{'_id': 'Michigan Ave & Oak St', 'count': 38279, 'latitude': 41.90096039, 'longitude': -87.62377664}\n",
      "{'_id': 'Wells St & Concord Ln', 'count': 34688, 'latitude': 41.912133, 'longitude': -87.634656}\n",
      "{'_id': 'Millennium Park', 'count': 33705, 'latitude': 41.8810317, 'longitude': -87.62408432}\n",
      "{'_id': 'Clark St & Elm St', 'count': 32227, 'latitude': 41.902973, 'longitude': -87.63128}\n",
      "{'_id': 'Theater on the Lake', 'count': 31672, 'latitude': 41.926277, 'longitude': -87.630834}\n",
      "{'_id': 'Kingsbury St & Kinzie St', 'count': 30450, 'latitude': 41.88917683258, 'longitude': -87.6385057718}\n",
      "{'_id': 'Wells St & Elm St', 'count': 28346, 'latitude': 41.903222, 'longitude': -87.634324}\n"
     ]
    }
   ],
   "source": [
    "# Create a new database to hold copies of collections as to not interfere with data in the original collections\n",
    "# MongoDB connection URI\n",
    "mongo_uri = \"mongodb://localhost:27017/\"\n",
    "mongo = MongoClient(mongo_uri)\n",
    "\n",
    "# Connect to the original database\n",
    "db = mongo.chicago_bikes\n",
    "\n",
    "# Connect to the collections in the original database\n",
    "start_stations_original = db['Top10StartStations']\n",
    "end_stations_original = db['Top10EndStations']\n",
    "\n",
    "# Connect to the new database\n",
    "db2 = mongo[\"chicago_bikes_copy\"]\n",
    "\n",
    "# Specify the names of the new collections\n",
    "new_start_collection_name = 'Top10StartStationsCopy'\n",
    "new_end_collection_name = 'Top10EndStationsCopy'\n",
    "\n",
    "# Drop existing collections with the same names in the new database (if needed)\n",
    "db2[new_start_collection_name].drop()\n",
    "db2[new_end_collection_name].drop()\n",
    "\n",
    "# Create new collections in the new database\n",
    "db2[new_start_collection_name].insert_many(start_stations_original.find())\n",
    "db2[new_end_collection_name].insert_many(end_stations_original.find())\n",
    "\n",
    "# Print each document in the new start stations collection to verify the data transfer\n",
    "print(f\"Documents in {new_start_collection_name}:\")\n",
    "for doc in db2[new_start_collection_name].find():\n",
    "    print(doc)\n",
    "\n",
    "# Print each document in the new end stations collection to verify the data transfer\n",
    "print(f\"\\nDocuments in {new_end_collection_name}:\")\n",
    "for doc in db2[new_end_collection_name].find():\n",
    "    print(doc)"
   ]
  },
  {
   "cell_type": "code",
   "execution_count": 4,
   "metadata": {},
   "outputs": [],
   "source": [
    "# Create a new database to hold the new collections\n",
    "# MongoDB connection URI\n",
    "mongo_uri = \"mongodb://localhost:27017/\"\n",
    "mongo = MongoClient(mongo_uri)\n",
    "\n",
    "# Create a new database\n",
    "db2 = mongo[\"chicago_bikes_copy\"]\n",
    "\n",
    "# Add the collections to the database\n",
    "Top10StartStationsCopy = db2[\"Top10StartStationsCopy\"]\n",
    "Top10EndStationsCopy = db2[\"Top10EndStationsCopy\"]"
   ]
  },
  {
   "cell_type": "code",
   "execution_count": 5,
   "metadata": {},
   "outputs": [
    {
     "name": "stdout",
     "output_type": "stream",
     "text": [
      "{'_id': 'Streeter Dr & Grand Ave', 'count': 71269, 'latitude': 41.880958, 'longitude': -87.616743}\n",
      "{'_id': 'DuSable Lake Shore Dr & Monroe St', 'count': 39251, 'latitude': 41.867888, 'longitude': -87.623041}\n",
      "{'_id': 'DuSable Lake Shore Dr & North Blvd', 'count': 37698, 'latitude': 41.897448, 'longitude': -87.628722}\n",
      "{'_id': 'Michigan Ave & Oak St', 'count': 37208, 'latitude': 41.869265218438194, 'longitude': -87.67373085021973}\n",
      "{'_id': 'Wells St & Concord Ln', 'count': 34508, 'latitude': 41.897448, 'longitude': -87.628722}\n",
      "{'_id': 'Millennium Park', 'count': 32849, 'latitude': 41.8810317, 'longitude': -87.62408432}\n",
      "{'_id': 'Clark St & Elm St', 'count': 32560, 'latitude': 41.920771, 'longitude': -87.663712}\n",
      "{'_id': 'Kingsbury St & Kinzie St', 'count': 31614, 'latitude': 41.893992, 'longitude': -87.629318}\n",
      "{'_id': 'Theater on the Lake', 'count': 31283, 'latitude': 41.926277, 'longitude': -87.630834}\n",
      "{'_id': 'Wells St & Elm St', 'count': 28978, 'latitude': 41.893992, 'longitude': -87.629318}\n"
     ]
    }
   ],
   "source": [
    "# Pull in the data from Top10StartStations from original database\n",
    "collection_name = 'Top10StartStationsCopy'\n",
    "collection = db2[collection_name]\n",
    "# The find() method without any parameters will return all documents in the collection\n",
    "documents = collection.find()\n",
    "\n",
    "# Print each document\n",
    "for doc in documents:\n",
    "    print(doc)"
   ]
  },
  {
   "cell_type": "code",
   "execution_count": 7,
   "metadata": {},
   "outputs": [
    {
     "name": "stdout",
     "output_type": "stream",
     "text": [
      "{'_id': 'Streeter Dr & Grand Ave', 'count': 72540, 'latitude': 41.892278, 'longitude': -87.612043}\n",
      "{'_id': 'DuSable Lake Shore Dr & North Blvd', 'count': 40563, 'latitude': 41.911722, 'longitude': -87.626804}\n",
      "{'_id': 'DuSable Lake Shore Dr & Monroe St', 'count': 38500, 'latitude': 41.880958, 'longitude': -87.616743}\n",
      "{'_id': 'Michigan Ave & Oak St', 'count': 38279, 'latitude': 41.90096039, 'longitude': -87.62377664}\n",
      "{'_id': 'Wells St & Concord Ln', 'count': 34688, 'latitude': 41.912133, 'longitude': -87.634656}\n",
      "{'_id': 'Millennium Park', 'count': 33705, 'latitude': 41.8810317, 'longitude': -87.62408432}\n",
      "{'_id': 'Clark St & Elm St', 'count': 32227, 'latitude': 41.902973, 'longitude': -87.63128}\n",
      "{'_id': 'Theater on the Lake', 'count': 31672, 'latitude': 41.926277, 'longitude': -87.630834}\n",
      "{'_id': 'Kingsbury St & Kinzie St', 'count': 30450, 'latitude': 41.88917683258, 'longitude': -87.6385057718}\n",
      "{'_id': 'Wells St & Elm St', 'count': 28346, 'latitude': 41.903222, 'longitude': -87.634324}\n"
     ]
    }
   ],
   "source": [
    "# Check to see that end stations was copied correctly\n",
    "collection_name = 'Top10EndStationsCopy'\n",
    "collection = db2[collection_name]\n",
    "# The find() method without any parameters will return all documents in the collection\n",
    "documents = collection.find()\n",
    "\n",
    "# Print each document\n",
    "for doc in documents:\n",
    "    print(doc)"
   ]
  },
  {
   "cell_type": "code",
   "execution_count": 18,
   "metadata": {},
   "outputs": [
    {
     "name": "stdout",
     "output_type": "stream",
     "text": [
      "Updated ZIP code for station Streeter Dr & Grand Ave at (41.880958, -87.616743) to 60601\n",
      "Updated ZIP code for station DuSable Lake Shore Dr & Monroe St at (41.867888, -87.623041) to 60605\n",
      "Updated ZIP code for station DuSable Lake Shore Dr & North Blvd at (41.897448, -87.628722) to 60654\n",
      "Updated ZIP code for station Michigan Ave & Oak St at (41.869265218438194, -87.67373085021973) to 60612\n",
      "Updated ZIP code for station Wells St & Concord Ln at (41.897448, -87.628722) to 60654\n",
      "Updated ZIP code for station Millennium Park at (41.8810317, -87.62408432) to 60601\n",
      "Updated ZIP code for station Clark St & Elm St at (41.920771, -87.663712) to 60614\n",
      "Updated ZIP code for station Kingsbury St & Kinzie St at (41.893992, -87.629318) to 60654\n",
      "Updated ZIP code for station Theater on the Lake at (41.926277, -87.630834) to 60657\n",
      "Updated ZIP code for station Wells St & Elm St at (41.893992, -87.629318) to 60654\n",
      "Updated ZIP code for station Streeter Dr & Grand Ave at (41.892278, -87.612043) to 60611\n",
      "Updated ZIP code for station DuSable Lake Shore Dr & North Blvd at (41.911722, -87.626804) to 60614\n",
      "Updated ZIP code for station DuSable Lake Shore Dr & Monroe St at (41.880958, -87.616743) to 60601\n",
      "Updated ZIP code for station Michigan Ave & Oak St at (41.90096039, -87.62377664) to 60611\n",
      "Updated ZIP code for station Wells St & Concord Ln at (41.912133, -87.634656) to 60614\n",
      "Updated ZIP code for station Millennium Park at (41.8810317, -87.62408432) to 60601\n",
      "Updated ZIP code for station Clark St & Elm St at (41.902973, -87.63128) to 60610\n",
      "Updated ZIP code for station Theater on the Lake at (41.926277, -87.630834) to 60657\n",
      "Updated ZIP code for station Kingsbury St & Kinzie St at (41.88917683258, -87.6385057718) to 60654\n",
      "Updated ZIP code for station Wells St & Elm St at (41.903222, -87.634324) to 60610\n"
     ]
    }
   ],
   "source": [
    "# Find the zip code using the latitude and longitude for each station\n",
    "# MongoDB setup\n",
    "mongo_uri = \"mongodb://localhost:27017/\"\n",
    "mongo = MongoClient(mongo_uri)\n",
    "db2 = mongo[\"chicago_bikes_copy\"]\n",
    "\n",
    "# LocationIQ API setup\n",
    "api_key_locationiq = api_key_zip\n",
    "\n",
    "# Function to get zip code using LocationIQ\n",
    "def get_zip_code(latitude, longitude, api_key):\n",
    "    url = f\"https://us1.locationiq.com/v1/reverse.php?key={api_key}&lat={latitude}&lon={longitude}&format=json\"\n",
    "    response = requests.get(url)\n",
    "    if response.status_code == 200:\n",
    "        data = response.json()\n",
    "        return data.get(\"address\", {}).get(\"postcode\")\n",
    "    else:\n",
    "        print(f\"Error retrieving ZIP code for {latitude}, {longitude}: {response.text}\")\n",
    "        return None\n",
    "\n",
    "# Function to update ZIP codes in MongoDB collection\n",
    "def update_zip_codes(collection_name):\n",
    "    collection = db2[collection_name]\n",
    "    for station in collection.find():\n",
    "        lat = station.get(\"latitude\")\n",
    "        lon = station.get(\"longitude\")\n",
    "        zip_code = get_zip_code(lat, lon, api_key_locationiq)\n",
    "        if zip_code:\n",
    "            collection.update_one({'_id': station['_id']}, {'$set': {'zip_code': zip_code}})\n",
    "            print(f\"Updated ZIP code for station {station['_id']} at ({lat}, {lon}) to {zip_code}\")\n",
    "        else:\n",
    "            print(f\"No ZIP code found for station {station['_id']} at ({lat}, {lon})\")\n",
    "\n",
    "        # Delay for 1 second to comply with API rate limits\n",
    "        time.sleep(1)\n",
    "\n",
    "# Update ZIP codes for Top 10 Start and End Stations\n",
    "update_zip_codes('Top10StartStationsCopy')\n",
    "update_zip_codes('Top10EndStationsCopy')"
   ]
  },
  {
   "cell_type": "code",
   "execution_count": 19,
   "metadata": {},
   "outputs": [
    {
     "name": "stdout",
     "output_type": "stream",
     "text": [
      "Documents in Top10StartStationsCopy:\n",
      "{'_id': 'Streeter Dr & Grand Ave', 'count': 71269, 'latitude': 41.880958, 'longitude': -87.616743, 'zip_code': '60601'}\n",
      "{'_id': 'DuSable Lake Shore Dr & Monroe St', 'count': 39251, 'latitude': 41.867888, 'longitude': -87.623041, 'zip_code': '60605'}\n",
      "{'_id': 'DuSable Lake Shore Dr & North Blvd', 'count': 37698, 'latitude': 41.897448, 'longitude': -87.628722, 'zip_code': '60654'}\n",
      "{'_id': 'Michigan Ave & Oak St', 'count': 37208, 'latitude': 41.869265218438194, 'longitude': -87.67373085021973, 'zip_code': '60612'}\n",
      "{'_id': 'Wells St & Concord Ln', 'count': 34508, 'latitude': 41.897448, 'longitude': -87.628722, 'zip_code': '60654'}\n",
      "{'_id': 'Millennium Park', 'count': 32849, 'latitude': 41.8810317, 'longitude': -87.62408432, 'zip_code': '60601'}\n",
      "{'_id': 'Clark St & Elm St', 'count': 32560, 'latitude': 41.920771, 'longitude': -87.663712, 'zip_code': '60614'}\n",
      "{'_id': 'Kingsbury St & Kinzie St', 'count': 31614, 'latitude': 41.893992, 'longitude': -87.629318, 'zip_code': '60654'}\n",
      "{'_id': 'Theater on the Lake', 'count': 31283, 'latitude': 41.926277, 'longitude': -87.630834, 'zip_code': '60657'}\n",
      "{'_id': 'Wells St & Elm St', 'count': 28978, 'latitude': 41.893992, 'longitude': -87.629318, 'zip_code': '60654'}\n",
      "\n",
      "Documents in Top10EndStationsCopy:\n",
      "{'_id': 'Streeter Dr & Grand Ave', 'count': 72540, 'latitude': 41.892278, 'longitude': -87.612043, 'zip_code': '60611'}\n",
      "{'_id': 'DuSable Lake Shore Dr & North Blvd', 'count': 40563, 'latitude': 41.911722, 'longitude': -87.626804, 'zip_code': '60614'}\n",
      "{'_id': 'DuSable Lake Shore Dr & Monroe St', 'count': 38500, 'latitude': 41.880958, 'longitude': -87.616743, 'zip_code': '60601'}\n",
      "{'_id': 'Michigan Ave & Oak St', 'count': 38279, 'latitude': 41.90096039, 'longitude': -87.62377664, 'zip_code': '60611'}\n",
      "{'_id': 'Wells St & Concord Ln', 'count': 34688, 'latitude': 41.912133, 'longitude': -87.634656, 'zip_code': '60614'}\n",
      "{'_id': 'Millennium Park', 'count': 33705, 'latitude': 41.8810317, 'longitude': -87.62408432, 'zip_code': '60601'}\n",
      "{'_id': 'Clark St & Elm St', 'count': 32227, 'latitude': 41.902973, 'longitude': -87.63128, 'zip_code': '60610'}\n",
      "{'_id': 'Theater on the Lake', 'count': 31672, 'latitude': 41.926277, 'longitude': -87.630834, 'zip_code': '60657'}\n",
      "{'_id': 'Kingsbury St & Kinzie St', 'count': 30450, 'latitude': 41.88917683258, 'longitude': -87.6385057718, 'zip_code': '60654'}\n",
      "{'_id': 'Wells St & Elm St', 'count': 28346, 'latitude': 41.903222, 'longitude': -87.634324, 'zip_code': '60610'}\n"
     ]
    }
   ],
   "source": [
    "# Make sure the zip codes were added to db2's collections\n",
    "# Collections names\n",
    "new_start_collection_name = 'Top10StartStationsCopy'\n",
    "new_end_collection_name = 'Top10EndStationsCopy'\n",
    "\n",
    "# Connect to the collections in the new database\n",
    "new_start_collection = db2[new_start_collection_name]\n",
    "new_end_collection = db2[new_end_collection_name]\n",
    "\n",
    "# Print documents in Top10StartStationsCopy\n",
    "print(f\"Documents in {new_start_collection_name}:\")\n",
    "for doc in new_start_collection.find():\n",
    "    print(doc)\n",
    "\n",
    "# Print documents in Top10EndStationsCopy\n",
    "print(f\"\\nDocuments in {new_end_collection_name}:\")\n",
    "for doc in new_end_collection.find():\n",
    "    print(doc)"
   ]
  },
  {
   "cell_type": "code",
   "execution_count": 20,
   "metadata": {},
   "outputs": [
    {
     "name": "stdout",
     "output_type": "stream",
     "text": [
      "ZIP code 60605 has a population of 29060\n",
      "ZIP code 60601 has a population of 15083\n",
      "ZIP code 60610 has a population of 40548\n",
      "ZIP code 60614 has a population of 71954\n",
      "ZIP code 60611 has a population of 33224\n",
      "ZIP code 60657 has a population of 70958\n",
      "ZIP code 60612 has a population of 33735\n",
      "ZIP code 60654 has a population of 20022\n"
     ]
    }
   ],
   "source": [
    "# MongoDB setup\n",
    "mongo_uri = \"mongodb://localhost:27017/\"\n",
    "mongo = MongoClient(mongo_uri)\n",
    "db2 = mongo[\"chicago_bikes\"]\n",
    "\n",
    "# Function to extract unique ZIP codes\n",
    "def extract_zip_codes(collection):\n",
    "    return collection.distinct(\"zip_code\")\n",
    "\n",
    "# Extract ZIP codes\n",
    "start_collection = db2['Top10StartStationsCopy']\n",
    "end_collection = db2['Top10EndStationsCopy']\n",
    "start_zip_codes = extract_zip_codes(start_collection)\n",
    "end_zip_codes = extract_zip_codes(end_collection)\n",
    "unique_zip_codes = set(start_zip_codes + end_zip_codes)\n",
    "\n",
    "# ACS API setup\n",
    "api_key = api_key_census\n",
    "base_url = \"https://api.census.gov/data/2019/acs/acs5\"\n",
    "\n",
    "# Function to get population by ZIP code using ACS API\n",
    "def get_population(zip_code):\n",
    "    params = {\n",
    "        \"get\": \"B01003_001E\",  # Code for total population\n",
    "        \"for\": f\"zip code tabulation area:{zip_code}\",\n",
    "        \"in\": \"state:17\",  # State code for Illinois\n",
    "        \"key\": api_key\n",
    "    }\n",
    "    response = requests.get(base_url, params=params)\n",
    "    if response.status_code == 200:\n",
    "        data = response.json()\n",
    "        return int(data[1][0])  # The first element is the header\n",
    "    else:\n",
    "        print(f\"Error retrieving data for ZIP code {zip_code}: {response.text}\")\n",
    "        return None\n",
    "\n",
    "# Retrieve population data for each ZIP code\n",
    "population_data = {zip_code: get_population(zip_code) for zip_code in unique_zip_codes}\n",
    "\n",
    "# Print the population data\n",
    "for zip_code, population in population_data.items():\n",
    "    print(f\"ZIP code {zip_code} has a population of {population}\")"
   ]
  },
  {
   "cell_type": "code",
   "execution_count": 21,
   "metadata": {},
   "outputs": [
    {
     "name": "stdout",
     "output_type": "stream",
     "text": [
      "\n",
      "Sample documents from Top10StartStationsCopy:\n",
      "{'_id': 'Streeter Dr & Grand Ave', 'count': 71269, 'latitude': 41.880958, 'longitude': -87.616743, 'zip_code': '60601'}\n",
      "{'_id': 'DuSable Lake Shore Dr & Monroe St', 'count': 39251, 'latitude': 41.867888, 'longitude': -87.623041, 'zip_code': '60605'}\n",
      "{'_id': 'DuSable Lake Shore Dr & North Blvd', 'count': 37698, 'latitude': 41.897448, 'longitude': -87.628722, 'zip_code': '60654'}\n",
      "{'_id': 'Michigan Ave & Oak St', 'count': 37208, 'latitude': 41.869265218438194, 'longitude': -87.67373085021973, 'zip_code': '60612'}\n",
      "{'_id': 'Wells St & Concord Ln', 'count': 34508, 'latitude': 41.897448, 'longitude': -87.628722, 'zip_code': '60654'}\n",
      "{'_id': 'Millennium Park', 'count': 32849, 'latitude': 41.8810317, 'longitude': -87.62408432, 'zip_code': '60601'}\n",
      "{'_id': 'Clark St & Elm St', 'count': 32560, 'latitude': 41.920771, 'longitude': -87.663712, 'zip_code': '60614'}\n",
      "{'_id': 'Kingsbury St & Kinzie St', 'count': 31614, 'latitude': 41.893992, 'longitude': -87.629318, 'zip_code': '60654'}\n",
      "{'_id': 'Theater on the Lake', 'count': 31283, 'latitude': 41.926277, 'longitude': -87.630834, 'zip_code': '60657'}\n",
      "{'_id': 'Wells St & Elm St', 'count': 28978, 'latitude': 41.893992, 'longitude': -87.629318, 'zip_code': '60654'}\n",
      "\n",
      "Sample documents from Top10EndStationsCopy:\n",
      "{'_id': 'Streeter Dr & Grand Ave', 'count': 72540, 'latitude': 41.892278, 'longitude': -87.612043, 'zip_code': '60611'}\n",
      "{'_id': 'DuSable Lake Shore Dr & North Blvd', 'count': 40563, 'latitude': 41.911722, 'longitude': -87.626804, 'zip_code': '60614'}\n",
      "{'_id': 'DuSable Lake Shore Dr & Monroe St', 'count': 38500, 'latitude': 41.880958, 'longitude': -87.616743, 'zip_code': '60601'}\n",
      "{'_id': 'Michigan Ave & Oak St', 'count': 38279, 'latitude': 41.90096039, 'longitude': -87.62377664, 'zip_code': '60611'}\n",
      "{'_id': 'Wells St & Concord Ln', 'count': 34688, 'latitude': 41.912133, 'longitude': -87.634656, 'zip_code': '60614'}\n",
      "{'_id': 'Millennium Park', 'count': 33705, 'latitude': 41.8810317, 'longitude': -87.62408432, 'zip_code': '60601'}\n",
      "{'_id': 'Clark St & Elm St', 'count': 32227, 'latitude': 41.902973, 'longitude': -87.63128, 'zip_code': '60610'}\n",
      "{'_id': 'Theater on the Lake', 'count': 31672, 'latitude': 41.926277, 'longitude': -87.630834, 'zip_code': '60657'}\n",
      "{'_id': 'Kingsbury St & Kinzie St', 'count': 30450, 'latitude': 41.88917683258, 'longitude': -87.6385057718, 'zip_code': '60654'}\n",
      "{'_id': 'Wells St & Elm St', 'count': 28346, 'latitude': 41.903222, 'longitude': -87.634324, 'zip_code': '60610'}\n"
     ]
    }
   ],
   "source": [
    "from pymongo import MongoClient\n",
    "\n",
    "# MongoDB connection URI\n",
    "mongo_uri = \"mongodb://localhost:27017/\"\n",
    "mongo = MongoClient(mongo_uri)\n",
    "\n",
    "# Connect to the new database\n",
    "db2 = mongo[\"chicago_bikes_copy\"]\n",
    "\n",
    "# Connect to the collections\n",
    "start_collection = db2['Top10StartStationsCopy']\n",
    "end_collection = db2['Top10EndStationsCopy']\n",
    "\n",
    "# Function to print all fields of sample documents\n",
    "def print_sample_documents(collection, collection_name):\n",
    "    print(f\"\\nSample documents from {collection_name}:\")\n",
    "    sample_docs = collection.find().limit(10)  \n",
    "    for doc in sample_docs:\n",
    "        print(doc)\n",
    "\n",
    "# Print sample documents from both collections\n",
    "print_sample_documents(start_collection, 'Top10StartStationsCopy')\n",
    "print_sample_documents(end_collection, 'Top10EndStationsCopy')"
   ]
  },
  {
   "cell_type": "code",
   "execution_count": 12,
   "metadata": {},
   "outputs": [
    {
     "name": "stdout",
     "output_type": "stream",
     "text": [
      "Document ID Streeter Dr & Grand Ave has ZIP code: 60601\n",
      "Document ID DuSable Lake Shore Dr & Monroe St has ZIP code: 60605\n",
      "Document ID DuSable Lake Shore Dr & North Blvd has ZIP code: 60654\n",
      "Document ID Michigan Ave & Oak St has ZIP code: 60612\n",
      "Document ID Wells St & Concord Ln has ZIP code: 60654\n",
      "Document ID Millennium Park has ZIP code: 60601\n",
      "Document ID Clark St & Elm St has ZIP code: 60614\n",
      "Document ID Kingsbury St & Kinzie St has ZIP code: 60654\n",
      "Document ID Theater on the Lake has ZIP code: 60657\n",
      "Document ID Wells St & Elm St has ZIP code: 60654\n",
      "Document ID Streeter Dr & Grand Ave has ZIP code: 60611\n",
      "Document ID DuSable Lake Shore Dr & North Blvd has ZIP code: 60614\n",
      "Document ID DuSable Lake Shore Dr & Monroe St has ZIP code: 60601\n",
      "Document ID Michigan Ave & Oak St has ZIP code: 60611\n",
      "Document ID Wells St & Concord Ln has ZIP code: 60614\n",
      "Document ID Millennium Park has ZIP code: 60601\n",
      "Document ID Clark St & Elm St has ZIP code: 60610\n",
      "Document ID Theater on the Lake has ZIP code: 60657\n",
      "Document ID Kingsbury St & Kinzie St has ZIP code: 60654\n",
      "Document ID Wells St & Elm St has ZIP code: 60610\n"
     ]
    }
   ],
   "source": [
    "# Check to make sure the zip codes were put into the collections correctly\n",
    "# Collections to check\n",
    "collections_to_check = ['Top10StartStationsCopy', 'Top10EndStationsCopy']\n",
    "\n",
    "for collection_name in collections_to_check:\n",
    "    collection = db[collection_name]\n",
    "    # Fetch all documents in the collection\n",
    "    documents = collection.find({})\n",
    "\n",
    "    # Iterate through the documents and check the 'zip_code' field\n",
    "    for doc in documents:\n",
    "        if 'zip_code' in doc and doc['zip_code'] is not None:\n",
    "            print(f\"Document ID {doc['_id']} has ZIP code: {doc['zip_code']}\")\n",
    "        else:\n",
    "            print(f\"Document ID {doc['_id']} does not have a ZIP code or it's set to None.\")"
   ]
  },
  {
   "cell_type": "code",
   "execution_count": 22,
   "metadata": {},
   "outputs": [
    {
     "name": "stdout",
     "output_type": "stream",
     "text": [
      "Updated 1 documents in collection 'Top10StartStationsCopy' with ZIP code 60605 to population 29060\n",
      "Updated 2 documents in collection 'Top10StartStationsCopy' with ZIP code 60601 to population 15083\n",
      "Updated 0 documents in collection 'Top10StartStationsCopy' with ZIP code 60610 to population 40548\n",
      "Updated 1 documents in collection 'Top10StartStationsCopy' with ZIP code 60614 to population 71954\n",
      "Updated 0 documents in collection 'Top10StartStationsCopy' with ZIP code 60611 to population 33224\n",
      "Updated 1 documents in collection 'Top10StartStationsCopy' with ZIP code 60657 to population 70958\n",
      "Updated 1 documents in collection 'Top10StartStationsCopy' with ZIP code 60612 to population 33735\n",
      "Updated 4 documents in collection 'Top10StartStationsCopy' with ZIP code 60654 to population 20022\n",
      "Updated 0 documents in collection 'Top10EndStationsCopy' with ZIP code 60605 to population 29060\n",
      "Updated 2 documents in collection 'Top10EndStationsCopy' with ZIP code 60601 to population 15083\n",
      "Updated 2 documents in collection 'Top10EndStationsCopy' with ZIP code 60610 to population 40548\n",
      "Updated 2 documents in collection 'Top10EndStationsCopy' with ZIP code 60614 to population 71954\n",
      "Updated 2 documents in collection 'Top10EndStationsCopy' with ZIP code 60611 to population 33224\n",
      "Updated 1 documents in collection 'Top10EndStationsCopy' with ZIP code 60657 to population 70958\n",
      "Updated 0 documents in collection 'Top10EndStationsCopy' with ZIP code 60612 to population 33735\n",
      "Updated 1 documents in collection 'Top10EndStationsCopy' with ZIP code 60654 to population 20022\n"
     ]
    }
   ],
   "source": [
    "# Add population data back with Top 10 Start Stations and Top 10 End Stations collections\n",
    "\n",
    "# Connect to collections\n",
    "start_stations_collection = db2.Top10StartStationsCopy\n",
    "end_stations_collection = db2.Top10EndStationsCopy\n",
    "\n",
    "# Retrieve the population data for each ZIP code from the census API\n",
    "def get_population_data(api_key_census, zip_codes):\n",
    "    population_data = {}\n",
    "    for zip_code in zip_codes:\n",
    "        # Construct the API request URL\n",
    "        response = requests.get(\n",
    "            f\"https://api.census.gov/data/2019/acs/acs5\",\n",
    "            params={\n",
    "                'get': 'B01003_001E',\n",
    "                'for': f'zip code tabulation area:{zip_code}',\n",
    "                'in': 'state:17',  # Illinois state code\n",
    "                'key': api_key_census\n",
    "            }\n",
    "        )\n",
    "        if response.status_code == 200:\n",
    "            data = response.json()\n",
    "            # Extract the population count and update the population_data dictionary\n",
    "            population_data[zip_code] = int(data[1][0])\n",
    "        else:\n",
    "            print(f\"Failed to retrieve data for ZIP code {zip_code}: {response.text}\")\n",
    "    \n",
    "    return population_data\n",
    "\n",
    "# Function to update the station documents with population data\n",
    "def update_stations_with_population(collection, population_data):\n",
    "    for zip_code, population in population_data.items():\n",
    "        # Update documents in the collection with the matching ZIP code\n",
    "        result = collection.update_many(\n",
    "            {'zip_code': zip_code},\n",
    "            {'$set': {'population': population}}\n",
    "        )\n",
    "        print(f\"Updated {result.modified_count} documents in collection '{collection.name}' with ZIP code {zip_code} to population {population}\")\n",
    "\n",
    "# Retrieve a list of unique ZIP codes from both collections, safely checking for the 'zip_code' field\n",
    "relevant_zip_codes = []\n",
    "for collection in [start_stations_collection, end_stations_collection]:\n",
    "    for doc in collection.find():\n",
    "        zip_code = doc.get('zip_code')\n",
    "        if zip_code:\n",
    "            relevant_zip_codes.append(zip_code)\n",
    "relevant_zip_codes = list(set(relevant_zip_codes))  # Remove duplicates\n",
    "\n",
    "# Retrieve population data for the relevant ZIP codes\n",
    "population_data = get_population_data(api_key_census, relevant_zip_codes)\n",
    "\n",
    "# Update the collections with the population data\n",
    "update_stations_with_population(start_stations_collection, population_data)\n",
    "update_stations_with_population(end_stations_collection, population_data)"
   ]
  },
  {
   "cell_type": "code",
   "execution_count": 25,
   "metadata": {},
   "outputs": [
    {
     "name": "stdout",
     "output_type": "stream",
     "text": [
      "{'_id': 'Streeter Dr & Grand Ave', 'count': 71269, 'latitude': 41.880958, 'longitude': -87.616743, 'zip_code': '60601', 'population': 15083}\n",
      "{'_id': 'DuSable Lake Shore Dr & Monroe St', 'count': 39251, 'latitude': 41.867888, 'longitude': -87.623041, 'zip_code': '60605', 'population': 29060}\n",
      "{'_id': 'DuSable Lake Shore Dr & North Blvd', 'count': 37698, 'latitude': 41.897448, 'longitude': -87.628722, 'zip_code': '60654', 'population': 20022}\n",
      "{'_id': 'Michigan Ave & Oak St', 'count': 37208, 'latitude': 41.869265218438194, 'longitude': -87.67373085021973, 'zip_code': '60612', 'population': 33735}\n",
      "{'_id': 'Wells St & Concord Ln', 'count': 34508, 'latitude': 41.897448, 'longitude': -87.628722, 'zip_code': '60654', 'population': 20022}\n",
      "{'_id': 'Millennium Park', 'count': 32849, 'latitude': 41.8810317, 'longitude': -87.62408432, 'zip_code': '60601', 'population': 15083}\n",
      "{'_id': 'Clark St & Elm St', 'count': 32560, 'latitude': 41.920771, 'longitude': -87.663712, 'zip_code': '60614', 'population': 71954}\n",
      "{'_id': 'Kingsbury St & Kinzie St', 'count': 31614, 'latitude': 41.893992, 'longitude': -87.629318, 'zip_code': '60654', 'population': 20022}\n",
      "{'_id': 'Theater on the Lake', 'count': 31283, 'latitude': 41.926277, 'longitude': -87.630834, 'zip_code': '60657', 'population': 70958}\n",
      "{'_id': 'Wells St & Elm St', 'count': 28978, 'latitude': 41.893992, 'longitude': -87.629318, 'zip_code': '60654', 'population': 20022}\n"
     ]
    }
   ],
   "source": [
    "# Check to make sure the population was added to db2's collection Top10StartStationsCopy\n",
    "collection_name = 'Top10StartStationsCopy'\n",
    "collection = db2[collection_name]\n",
    "# The find() method without any parameters will return all documents in the collection\n",
    "documents = collection.find()\n",
    "\n",
    "# Print each document\n",
    "for doc in documents:\n",
    "    print(doc)"
   ]
  },
  {
   "cell_type": "code",
   "execution_count": 27,
   "metadata": {},
   "outputs": [
    {
     "name": "stdout",
     "output_type": "stream",
     "text": [
      "{'_id': 'Streeter Dr & Grand Ave', 'count': 72540, 'latitude': 41.892278, 'longitude': -87.612043, 'zip_code': '60611', 'population': 33224}\n",
      "{'_id': 'DuSable Lake Shore Dr & North Blvd', 'count': 40563, 'latitude': 41.911722, 'longitude': -87.626804, 'zip_code': '60614', 'population': 71954}\n",
      "{'_id': 'DuSable Lake Shore Dr & Monroe St', 'count': 38500, 'latitude': 41.880958, 'longitude': -87.616743, 'zip_code': '60601', 'population': 15083}\n",
      "{'_id': 'Michigan Ave & Oak St', 'count': 38279, 'latitude': 41.90096039, 'longitude': -87.62377664, 'zip_code': '60611', 'population': 33224}\n",
      "{'_id': 'Wells St & Concord Ln', 'count': 34688, 'latitude': 41.912133, 'longitude': -87.634656, 'zip_code': '60614', 'population': 71954}\n",
      "{'_id': 'Millennium Park', 'count': 33705, 'latitude': 41.8810317, 'longitude': -87.62408432, 'zip_code': '60601', 'population': 15083}\n",
      "{'_id': 'Clark St & Elm St', 'count': 32227, 'latitude': 41.902973, 'longitude': -87.63128, 'zip_code': '60610', 'population': 40548}\n",
      "{'_id': 'Theater on the Lake', 'count': 31672, 'latitude': 41.926277, 'longitude': -87.630834, 'zip_code': '60657', 'population': 70958}\n",
      "{'_id': 'Kingsbury St & Kinzie St', 'count': 30450, 'latitude': 41.88917683258, 'longitude': -87.6385057718, 'zip_code': '60654', 'population': 20022}\n",
      "{'_id': 'Wells St & Elm St', 'count': 28346, 'latitude': 41.903222, 'longitude': -87.634324, 'zip_code': '60610', 'population': 40548}\n"
     ]
    }
   ],
   "source": [
    "# Check to make sure the population was added to db2's collection Top10EndStationsCopy\n",
    "collection_name = 'Top10EndStationsCopy'\n",
    "collection = db2[collection_name]\n",
    "# The find() method without any parameters will return all documents in the collection\n",
    "documents = collection.find()\n",
    "\n",
    "# Print each document\n",
    "for doc in documents:\n",
    "    print(doc)"
   ]
  },
  {
   "cell_type": "code",
   "execution_count": 29,
   "metadata": {},
   "outputs": [],
   "source": [
    "# Save data as a .json file\n",
    "# MongoDB setup\n",
    "mongo_uri = \"mongodb://localhost:27017/\"\n",
    "mongo = MongoClient(mongo_uri)\n",
    "db2 = mongo[\"chicago_bikes_copy\"]\n",
    "# Collection from which to extract data\n",
    "collection = db2['Top10StartStationsCopy']\n",
    "\n",
    "# Extract data\n",
    "data = list(collection.find({}))\n",
    "\n",
    "# Save to a JSON file\n",
    "with open('Top10StartStationsCopy.json', 'w', encoding='utf-8') as file:\n",
    "    json.dump(data, file, ensure_ascii=False, indent=4)"
   ]
  },
  {
   "cell_type": "code",
   "execution_count": 31,
   "metadata": {},
   "outputs": [],
   "source": [
    "# Save data as a .json file\n",
    "# MongoDB setup\n",
    "mongo_uri = \"mongodb://localhost:27017/\"\n",
    "mongo = MongoClient(mongo_uri)\n",
    "db2 = mongo[\"chicago_bikes_copy\"]\n",
    "\n",
    "# Collection from which to extract data\n",
    "collection = db2['Top10EndStationsCopy']\n",
    "\n",
    "# Extract data\n",
    "data = list(collection.find({}))\n",
    "\n",
    "# Save to a JSON file\n",
    "with open('Top10EndStationsCopy.json', 'w', encoding='utf-8') as file:\n",
    "    json.dump(data, file, ensure_ascii=False, indent=4)"
   ]
  },
  {
   "cell_type": "markdown",
   "metadata": {},
   "source": [
    "# Begin analysis of data"
   ]
  },
  {
   "cell_type": "code",
   "execution_count": 42,
   "metadata": {},
   "outputs": [],
   "source": [
    "# Find the basic statistics for population \n",
    "# MongoDB setup\n",
    "mongo_uri = \"mongodb://localhost:27017/\"\n",
    "mongo = MongoClient(mongo_uri)\n",
    "db = mongo[\"chicago_bikes_copy\"]\n",
    "\n",
    "def calculate_statistics(collection):\n",
    "    pipeline = [\n",
    "        {\n",
    "            \"$group\": {\n",
    "                \"_id\": None,\n",
    "                \"mean_population\": {\"$avg\": \"$population\"},\n",
    "                \"max_population\": {\"$max\": \"$population\"},\n",
    "                \"min_population\": {\"$min\": \"$population\"},\n",
    "                \"standard_deviation_population\": {\"$stdDevPop\": \"$population\"}\n",
    "            }\n",
    "        }\n",
    "    ]\n",
    "    stats = list(collection.aggregate(pipeline))[0]\n",
    "    return stats"
   ]
  },
  {
   "cell_type": "code",
   "execution_count": 43,
   "metadata": {},
   "outputs": [
    {
     "name": "stdout",
     "output_type": "stream",
     "text": [
      "Statistics for Top10StartStationsCopy:\n",
      "Mean Population: 31596.1\n",
      "Maximum Population: 71954\n",
      "Minimum Population: 15083\n",
      "Standard Deviation of Population: 20664.77695718006\n",
      "\n",
      "Statistics for Top10EndStationsCopy:\n",
      "Mean Population: 41259.8\n",
      "Maximum Population: 71954\n",
      "Minimum Population: 15083\n",
      "Standard Deviation of Population: 21720.74183263546\n"
     ]
    }
   ],
   "source": [
    "# Connect to the collections\n",
    "start_stations_collection = db2['Top10StartStationsCopy']\n",
    "end_stations_collection = db2['Top10EndStationsCopy']\n",
    "\n",
    "# Calculate statistics for each collection\n",
    "start_stats = calculate_statistics(start_stations_collection)\n",
    "end_stats = calculate_statistics(end_stations_collection)\n",
    "\n",
    "# Print results for Top10StartStationsCopy\n",
    "print(\"Statistics for Top10StartStationsCopy:\")\n",
    "print(f\"Mean Population: {start_stats['mean_population']}\")\n",
    "print(f\"Maximum Population: {start_stats['max_population']}\")\n",
    "print(f\"Minimum Population: {start_stats['min_population']}\")\n",
    "print(f\"Standard Deviation of Population: {start_stats['standard_deviation_population']}\")\n",
    "\n",
    "# Print results for Top10EndStationsCopy\n",
    "print(\"\\nStatistics for Top10EndStationsCopy:\")\n",
    "print(f\"Mean Population: {end_stats['mean_population']}\")\n",
    "print(f\"Maximum Population: {end_stats['max_population']}\")\n",
    "print(f\"Minimum Population: {end_stats['min_population']}\")\n",
    "print(f\"Standard Deviation of Population: {end_stats['standard_deviation_population']}\")"
   ]
  },
  {
   "cell_type": "code",
   "execution_count": 47,
   "metadata": {},
   "outputs": [],
   "source": [
    "# Find the basic statistics for count \n",
    "# MongoDB setup\n",
    "mongo_uri = \"mongodb://localhost:27017/\"\n",
    "mongo = MongoClient(mongo_uri)\n",
    "db = mongo[\"chicago_bikes_copy\"]\n",
    "\n",
    "def calculate_statistics(collection):\n",
    "    pipeline = [\n",
    "        {\n",
    "            \"$group\": {\n",
    "                \"_id\": None,\n",
    "                \"mean_count\": {\"$avg\": \"$count\"},\n",
    "                \"max_count\": {\"$max\": \"$count\"},\n",
    "                \"min_count\": {\"$min\": \"$count\"},\n",
    "                \"standard_deviation_count\": {\"$stdDevPop\": \"$count\"}\n",
    "            }\n",
    "        }\n",
    "    ]\n",
    "    stats = list(collection.aggregate(pipeline))[0]\n",
    "    return stats"
   ]
  },
  {
   "cell_type": "code",
   "execution_count": 48,
   "metadata": {},
   "outputs": [
    {
     "name": "stdout",
     "output_type": "stream",
     "text": [
      "Statistics for Top10StartStationsCopy:\n",
      "Mean Count: 37721.8\n",
      "Maximum Count: 71269\n",
      "Minimum Count: 28978\n",
      "Standard Deviation of Count: 11592.89399416729\n",
      "\n",
      "Statistics for Top10EndStationsCopy:\n",
      "Mean Count: 38097.0\n",
      "Maximum Count: 72540\n",
      "Minimum Count: 28346\n",
      "Standard Deviation of Count: 12053.23200639563\n"
     ]
    }
   ],
   "source": [
    "# Connect to the collections\n",
    "start_stations_collection = db2['Top10StartStationsCopy']\n",
    "end_stations_collection = db2['Top10EndStationsCopy']\n",
    "\n",
    "# Calculate statistics for each collection\n",
    "start_stats = calculate_statistics(start_stations_collection)\n",
    "end_stats = calculate_statistics(end_stations_collection)\n",
    "\n",
    "# Print results for Top10StartStationsCopy\n",
    "print(\"Statistics for Top10StartStationsCopy:\")\n",
    "print(f\"Mean Count: {start_stats['mean_count']}\")\n",
    "print(f\"Maximum Count: {start_stats['max_count']}\")\n",
    "print(f\"Minimum Count: {start_stats['min_count']}\")\n",
    "print(f\"Standard Deviation of Count: {start_stats['standard_deviation_count']}\")\n",
    "\n",
    "# Print results for Top10EndStationsCopy\n",
    "print(\"\\nStatistics for Top10EndStationsCopy:\")\n",
    "print(f\"Mean Count: {end_stats['mean_count']}\")\n",
    "print(f\"Maximum Count: {end_stats['max_count']}\")\n",
    "print(f\"Minimum Count: {end_stats['min_count']}\")\n",
    "print(f\"Standard Deviation of Count: {end_stats['standard_deviation_count']}\")"
   ]
  },
  {
   "cell_type": "code",
   "execution_count": 53,
   "metadata": {},
   "outputs": [
    {
     "name": "stdout",
     "output_type": "stream",
     "text": [
      "Correlation coefficient between station usage and population for Top10StationsCopy: -0.30508560169567184\n"
     ]
    },
    {
     "data": {
      "image/png": "[encoded data removed]",
      "text/plain": [
       "<Figure size 640x480 with 1 Axes>"
      ]
     },
     "metadata": {},
     "output_type": "display_data"
    }
   ],
   "source": [
    "# Load data from JSON file\n",
    "file_path = 'Top10StartStationsCopy.json'  # Update with the correct file path\n",
    "df = pd.read_json(file_path)\n",
    "\n",
    "# Calculate correlation coefficient\n",
    "correlation = df['count'].corr(df['population'])\n",
    "print(f\"Correlation coefficient between station usage and population for Top10StationsCopy: {correlation}\")\n",
    "\n",
    "# Scatter plot of station usage vs. population\n",
    "plt.scatter(df['population'], df['count'])\n",
    "plt.title('Station Usage vs Population for Top 10 Start Stations')\n",
    "plt.xlabel('Population')\n",
    "plt.ylabel('Station Usage (Count)')\n",
    "plt.grid(True)\n",
    "plt.show()"
   ]
  },
  {
   "cell_type": "markdown",
   "metadata": {},
   "source": [
    "The weak negative correlation coefficient suggests no relationship between population size and bike usage for the Top 10 Starting Stations. We can verify from the map on the html page (and in the .json and db2 database) that 4 of the Top 10 Start Stations are in the same zip code, leading them to having the same population. "
   ]
  },
  {
   "cell_type": "code",
   "execution_count": 54,
   "metadata": {},
   "outputs": [
    {
     "name": "stdout",
     "output_type": "stream",
     "text": [
      "Correlation coefficient between station usage and population for Top10EndStationsCopy: -0.08405159671251905\n"
     ]
    },
    {
     "data": {
      "image/png": "[encoded data removed]",
      "text/plain": [
       "<Figure size 640x480 with 1 Axes>"
      ]
     },
     "metadata": {},
     "output_type": "display_data"
    }
   ],
   "source": [
    "# Load data from JSON file\n",
    "file_path2 = 'Top10EndStationsCopy.json'  # Update with the correct file path\n",
    "df2 = pd.read_json(file_path2)\n",
    "\n",
    "# Calculate correlation coefficient\n",
    "correlation2 = df2['count'].corr(df2['population'])\n",
    "print(f\"Correlation coefficient between station usage and population for Top10EndStationsCopy: {correlation2}\")\n",
    "\n",
    "# Scatter plot of station usage vs. population\n",
    "plt.scatter(df2['population'], df2['count'])\n",
    "plt.title('Station Usage vs Population for Top 10 End Stations')\n",
    "plt.xlabel('Population')\n",
    "plt.ylabel('Station Usage (Count)')\n",
    "plt.grid(True)\n",
    "plt.show()"
   ]
  },
  {
   "cell_type": "markdown",
   "metadata": {},
   "source": [
    "We can see that "
   ]
  },
  {
   "cell_type": "code",
   "execution_count": null,
   "metadata": {},
   "outputs": [],
   "source": []
  },
  {
   "cell_type": "code",
   "execution_count": null,
   "metadata": {},
   "outputs": [],
   "source": []
  }
 ],
 "metadata": {
  "kernelspec": {
   "display_name": "base",
   "language": "python",
   "name": "python3"
  },
  "language_info": {
   "codemirror_mode": {
    "name": "ipython",
    "version": 3
   },
   "file_extension": ".py",
   "mimetype": "text/x-python",
   "name": "python",
   "nbconvert_exporter": "python",
   "pygments_lexer": "ipython3",
   "version": "3.10.9"
  }
 },
 "nbformat": 4,
 "nbformat_minor": 2
}
