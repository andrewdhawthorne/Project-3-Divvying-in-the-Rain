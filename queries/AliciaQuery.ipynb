{
 "cells": [
  {
   "cell_type": "code",
   "execution_count": 1,
   "metadata": {},
   "outputs": [],
   "source": [
    "import pymongo\n",
    "from pymongo import MongoClient, UpdateOne\n",
    "import json\n",
    "import pprint\n",
    "from datetime import datetime"
   ]
  },
  {
   "cell_type": "code",
   "execution_count": 2,
   "metadata": {},
   "outputs": [],
   "source": [
    "# Create an instance of MongoClient\n",
    "mongo = MongoClient(port=27017)"
   ]
  },
  {
   "cell_type": "code",
   "execution_count": 3,
   "metadata": {},
   "outputs": [
    {
     "name": "stdout",
     "output_type": "stream",
     "text": [
      "['admin', 'autosaurus', 'chicago_bikes', 'classDB', 'config', 'epa', 'fruits_db', 'gardenDB', 'local', 'met', 'mongodbVSCodePlaygroundDB', 'petsitly_marketing', 'travel_db', 'uk_food']\n"
     ]
    }
   ],
   "source": [
    "# Confirm list of databases\n",
    "print(mongo.list_database_names())"
   ]
  },
  {
   "cell_type": "code",
   "execution_count": 4,
   "metadata": {},
   "outputs": [],
   "source": [
    "# Assign the database to a variable name\n",
    "db = mongo.chicago_bikes"
   ]
  },
  {
   "cell_type": "code",
   "execution_count": 5,
   "metadata": {},
   "outputs": [
    {
     "name": "stdout",
     "output_type": "stream",
     "text": [
      "['distinct_station_names', 'divvy_ridedata_merged', 'RouteDistance', 'divvy_rides_by_season', 'withStationName', 'weather_daily', 'Top10EndStations', 'Top10Routes', 'sig_prcp_yes', 'sig_prcp_no', 'withoutStationName', 'withLatLong', 'divvy_ridedata', 'divvy_rides_by_month', 'Top10StartStations']\n"
     ]
    }
   ],
   "source": [
    "# Review collections in database\n",
    "print(db.list_collection_names())"
   ]
  },
  {
   "cell_type": "code",
   "execution_count": 6,
   "metadata": {},
   "outputs": [],
   "source": [
    "# Assign weather data to a variable \n",
    "weather_daily = db['weather_daily']"
   ]
  },
  {
   "cell_type": "code",
   "execution_count": 7,
   "metadata": {},
   "outputs": [
    {
     "name": "stdout",
     "output_type": "stream",
     "text": [
      "365\n"
     ]
    }
   ],
   "source": [
    "# Count the number of documents in weather data \n",
    "print(weather_daily.count_documents({}))"
   ]
  },
  {
   "cell_type": "code",
   "execution_count": 8,
   "metadata": {},
   "outputs": [
    {
     "name": "stdout",
     "output_type": "stream",
     "text": [
      "{'_id': ObjectId('6544a21516ac0221c1a8c57f'), 'date': '2022-01-01', 'cloud_cover': 90.0, 'precipitation': 0.18, 'min_temp': 33.22, 'max_temp': 42.1, 'morning_temp': 42.1, 'afternoon_temp': 38.43, 'evening_temp': 35.24, 'night_temp': 38.44, 'max_windspeed': 15.01, 'prcp_inches': 0.0070866, 'sig_prcp': 'no', 'avg_temp': 38.59}\n"
     ]
    }
   ],
   "source": [
    "# Review a document in the weather_daily collection \n",
    "print(db.weather_daily.find_one())"
   ]
  },
  {
   "cell_type": "code",
   "execution_count": 9,
   "metadata": {},
   "outputs": [],
   "source": [
    "# Define the aggregation pipeline to calculate monthly averages\n",
    "pipeline = [\n",
    "    {\n",
    "        \"$project\": {\n",
    "            \"month\": {\"$month\": {\"$toDate\": \"$date\"}},  # Convert \"date\" to Date type and then extract the month\n",
    "            \"min_temp\": \"$min_temp\",\n",
    "            \"max_temp\": \"$max_temp\",\n",
    "            \"precipitation\": \"$precipitation\",  # Assuming \"prcp_inches\" is the field with precipitation in inches\n",
    "        }\n",
    "    },\n",
    "    {\n",
    "        \"$group\": {\n",
    "            \"_id\": \"$month\",\n",
    "            \"avg_min_temp\": {\"$avg\": \"$min_temp\"},\n",
    "            \"avg_max_temp\": {\"$avg\": \"$max_temp\"},\n",
    "            \"avg_precipitation\": {\"$avg\": \"$precipitation\"},\n",
    "        }\n",
    "    },\n",
    "    {\n",
    "        \"$sort\": {\"_id\": 1}\n",
    "    }\n",
    "]"
   ]
  },
  {
   "cell_type": "code",
   "execution_count": 10,
   "metadata": {},
   "outputs": [],
   "source": [
    "# Execute the aggregation pipeline\n",
    "result = list(weather_daily.aggregate(pipeline))"
   ]
  },
  {
   "cell_type": "code",
   "execution_count": 11,
   "metadata": {},
   "outputs": [
    {
     "name": "stdout",
     "output_type": "stream",
     "text": [
      "Month: 1, Avg Min Temp: 14.02°F, Avg Max Temp: 27.96°F, Avg precipitation: 1.315806451612903 inches\n",
      "Month: 2, Avg Min Temp: 20.09°F, Avg Max Temp: 34.76°F, Avg precipitation: 2.6885714285714286 inches\n",
      "Month: 3, Avg Min Temp: 33.26°F, Avg Max Temp: 50.77°F, Avg precipitation: 3.3270967741935484 inches\n",
      "Month: 4, Avg Min Temp: 41.26°F, Avg Max Temp: 55.70°F, Avg precipitation: 2.396666666666667 inches\n",
      "Month: 5, Avg Min Temp: 56.25°F, Avg Max Temp: 73.21°F, Avg precipitation: 2.105161290322581 inches\n",
      "Month: 6, Avg Min Temp: 63.45°F, Avg Max Temp: 84.04°F, Avg precipitation: 1.3813333333333333 inches\n",
      "Month: 7, Avg Min Temp: 67.41°F, Avg Max Temp: 84.28°F, Avg precipitation: 3.9932258064516133 inches\n",
      "Month: 8, Avg Min Temp: 66.52°F, Avg Max Temp: 82.94°F, Avg precipitation: 1.326451612903226 inches\n",
      "Month: 9, Avg Min Temp: 59.74°F, Avg Max Temp: 77.16°F, Avg precipitation: 0.6896666666666668 inches\n",
      "Month: 10, Avg Min Temp: 46.69°F, Avg Max Temp: 63.98°F, Avg precipitation: 2.0316129032258066 inches\n",
      "Month: 11, Avg Min Temp: 37.33°F, Avg Max Temp: 52.17°F, Avg precipitation: 1.4736666666666667 inches\n",
      "Month: 12, Avg Min Temp: 24.50°F, Avg Max Temp: 35.47°F, Avg precipitation: 1.9303225806451614 inches\n"
     ]
    }
   ],
   "source": [
    "# Print the results\n",
    "for month_data in result:\n",
    "    month = month_data[\"_id\"]\n",
    "    avg_min_temp = month_data[\"avg_min_temp\"]\n",
    "    avg_max_temp = month_data[\"avg_max_temp\"]\n",
    "    avg_precipitation = month_data[\"avg_precipitation\"]\n",
    "    print(f\"Month: {month}, Avg Min Temp: {avg_min_temp:.2f}°F, Avg Max Temp: {avg_max_temp:.2f}°F, Avg precipitation: {avg_precipitation} inches\")"
   ]
  },
  {
   "cell_type": "code",
   "execution_count": 12,
   "metadata": {},
   "outputs": [],
   "source": [
    "# Close the MongoDB connection\n",
    "mongo.close()"
   ]
  }
 ],
 "metadata": {
  "kernelspec": {
   "display_name": "Python 3",
   "language": "python",
   "name": "python3"
  },
  "language_info": {
   "codemirror_mode": {
    "name": "ipython",
    "version": 3
   },
   "file_extension": ".py",
   "mimetype": "text/x-python",
   "name": "python",
   "nbconvert_exporter": "python",
   "pygments_lexer": "ipython3",
   "version": "3.11.4"
  },
  "orig_nbformat": 4
 },
 "nbformat": 4,
 "nbformat_minor": 2
}
