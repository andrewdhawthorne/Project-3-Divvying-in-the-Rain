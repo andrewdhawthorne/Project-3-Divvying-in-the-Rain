{
 "cells": [
  {
   "cell_type": "code",
   "execution_count": null,
   "metadata": {},
   "outputs": [],
   "source": [
    "# Import Dependencies\n",
    "import pandas as pd\n",
    "import json\n",
    "import requests\n",
    "from datetime import date, timedelta, datetime\n",
    "from config import api_key\n",
    "from pymongo import MongoClient\n"
   ]
  },
  {
   "cell_type": "code",
   "execution_count": null,
   "metadata": {},
   "outputs": [],
   "source": [
    "# Save config information for openweather API call\n",
    "url = \"https://api.openweathermap.org/data/3.0/onecall/day_summary?\"\n",
    "lat = 41.881832\n",
    "lon = -87.623177\n",
    "units = \"imperial\""
   ]
  },
  {
   "cell_type": "code",
   "execution_count": null,
   "metadata": {},
   "outputs": [],
   "source": [
    "#Define start and end dates, create a date list and a loop to add all desired dates to the date list\n",
    "start_date = date(2022, 1, 1) \n",
    "end_date = date(2022, 12, 31)\n",
    "current_date = start_date\n",
    "date_list = []\n",
    "\n",
    "while current_date <= end_date:\n",
    "    date_list.append(current_date.strftime('%Y-%m-%d'))\n",
    "    current_date+=timedelta(days=1)"
   ]
  },
  {
   "cell_type": "code",
   "execution_count": null,
   "metadata": {},
   "outputs": [],
   "source": [
    "#Create a for loop to retrieve OpenWeather data for all dates in the date list\n",
    "\n",
    "#Set up response info lists\n",
    "cloud_cover = []\n",
    "precipitation = []\n",
    "min_temp = []\n",
    "max_temp = []\n",
    "temp_mrng = []\n",
    "temp_aft = []\n",
    "temp_eve = []\n",
    "temp_night = []\n",
    "wind_max = []\n",
    "\n",
    "# Loop through all the cities in our list to fetch weather data\n",
    "for day in date_list:\n",
    "        \n",
    "# Create endpoint URL with each day\n",
    "    query_url = f\"{url}&lat={lat}&lon={lon}&units={units}&date={day}&appid={api_key}&q=\"\n",
    "\n",
    "    response = requests.get(query_url).json()\n",
    "    cloud_cover.append(response['cloud_cover']['afternoon'])\n",
    "    precipitation.append(response['precipitation']['total'])\n",
    "    min_temp.append(response['temperature']['min'])\n",
    "    max_temp.append(response['temperature']['max'])\n",
    "    temp_mrng.append(response['temperature']['morning'])\n",
    "    temp_aft.append(response['temperature']['afternoon'])\n",
    "    temp_eve.append(response['temperature']['evening'])\n",
    "    temp_night.append(response['temperature']['night'])\n",
    "    wind_max.append(response['wind']['max']['speed'])\n"
   ]
  },
  {
   "cell_type": "code",
   "execution_count": null,
   "metadata": {},
   "outputs": [],
   "source": [
    "weather_dict = {\n",
    "    \"date\": date_list,\n",
    "    \"cloud_cover\": cloud_cover,\n",
    "    \"precipitation\": precipitation,\n",
    "    \"min_temp\": min_temp,\n",
    "    \"max_temp\": max_temp,\n",
    "    \"morning_temp\": temp_mrng,\n",
    "    \"afternoon_temp\": temp_aft,\n",
    "    \"evening_temp\": temp_eve,\n",
    "    \"night_temp\": temp_night,\n",
    "    \"max_windspeed\": wind_max\n",
    "}\n",
    "\n",
    "weather_df = pd.DataFrame(weather_dict)\n",
    "weather_df.head()"
   ]
  },
  {
   "cell_type": "code",
   "execution_count": null,
   "metadata": {},
   "outputs": [],
   "source": [
    "#Export our weather dataframe to a csv file\n",
    "weather_df.to_csv(\"../Resources/weather_daily.csv\", index=False, header=True)"
   ]
  },
  {
   "cell_type": "code",
   "execution_count": null,
   "metadata": {},
   "outputs": [],
   "source": [
    "csv_file_path = 'weather_daily.csv'\n",
    "weather_df = pd.read_csv(csv_file_path)"
   ]
  },
  {
   "cell_type": "code",
   "execution_count": null,
   "metadata": {},
   "outputs": [],
   "source": [
    "# mongo = MongoClient(port=27017)\n",
    "# db = mongo.chicago_bikes\n",
    "# divvy_rides = db['divvy_ridedata']  \n",
    "\n",
    "# weather_records = weather_df.to_dict(orient='records')\n",
    "# weather_records\n",
    "# # Insert weather records into the collection\n",
    "# collection.insert_many(weather_records)\n",
    "\n",
    "# #print(collection.find_one())\n",
    "\n",
    "# # Close the MongoDB connection\n",
    "# #client.close()"
   ]
  }
 ],
 "metadata": {
  "kernelspec": {
   "display_name": "intro_python_requirements_windo",
   "language": "python",
   "name": "python3"
  },
  "language_info": {
   "codemirror_mode": {
    "name": "ipython",
    "version": 3
   },
   "file_extension": ".py",
   "mimetype": "text/x-python",
   "name": "python",
   "nbconvert_exporter": "python",
   "pygments_lexer": "ipython3",
   "version": "3.10.12"
  },
  "orig_nbformat": 4
 },
 "nbformat": 4,
 "nbformat_minor": 2
}
