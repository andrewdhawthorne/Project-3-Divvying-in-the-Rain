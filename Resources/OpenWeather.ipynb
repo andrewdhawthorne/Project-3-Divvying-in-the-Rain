{
 "cells": [
  {
   "cell_type": "code",
   "execution_count": 1,
   "metadata": {},
   "outputs": [],
   "source": [
    "# Import Dependencies\n",
    "import json\n",
    "import requests\n",
    "from config import api_key"
   ]
  },
  {
   "cell_type": "code",
   "execution_count": null,
   "metadata": {},
   "outputs": [],
   "source": [
    "# Save config information\n",
    "url = \"https://api.openweathermap.org/data/3.0/onecall/day_summary?\"\n",
    "lat = 41.881832\n",
    "lon = -87.623177\n",
    "\n",
    "# Build query URL\n",
    "query_url = url + \"appid=\" + api_key + \"&q=\" + city"
   ]
  }
 ],
 "metadata": {
  "kernelspec": {
   "display_name": "intro_python_requirements_windo",
   "language": "python",
   "name": "python3"
  },
  "language_info": {
   "codemirror_mode": {
    "name": "ipython",
    "version": 3
   },
   "file_extension": ".py",
   "mimetype": "text/x-python",
   "name": "python",
   "nbconvert_exporter": "python",
   "pygments_lexer": "ipython3",
   "version": "3.7.16"
  },
  "orig_nbformat": 4
 },
 "nbformat": 4,
 "nbformat_minor": 2
}
