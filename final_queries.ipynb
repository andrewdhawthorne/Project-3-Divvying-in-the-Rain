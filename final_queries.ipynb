{
 "cells": [
  {
   "cell_type": "markdown",
   "metadata": {},
   "source": [
    "Final queries for visualizations"
   ]
  },
  {
   "cell_type": "code",
   "execution_count": 2,
   "metadata": {},
   "outputs": [],
   "source": [
    "import pymongo\n",
    "from pymongo import MongoClient, UpdateOne\n",
    "import json\n",
    "from calendar import monthrange\n",
    "from datetime import datetime"
   ]
  },
  {
   "cell_type": "code",
   "execution_count": 3,
   "metadata": {},
   "outputs": [],
   "source": [
    "# Create an instance of MongoClient\n",
    "mongo = MongoClient(port=27017)"
   ]
  },
  {
   "cell_type": "code",
   "execution_count": 4,
   "metadata": {},
   "outputs": [
    {
     "name": "stdout",
     "output_type": "stream",
     "text": [
      "['admin', 'chicago_bikes', 'config', 'local']\n"
     ]
    }
   ],
   "source": [
    "# Confirm list of databases\n",
    "print(mongo.list_database_names())"
   ]
  },
  {
   "cell_type": "code",
   "execution_count": 5,
   "metadata": {},
   "outputs": [],
   "source": [
    "# Assign the database to a variable name\n",
    "db = mongo.chicago_bikes"
   ]
  },
  {
   "cell_type": "code",
   "execution_count": 6,
   "metadata": {},
   "outputs": [
    {
     "name": "stdout",
     "output_type": "stream",
     "text": [
      "['divvy_rides_by_season', 'weather_daily', 'withoutStationName', 'divvy_rides_by_month', 'sig_prcp_yes', 'Top10StartStations', 'divvy_ridedata_merged', 'Top10Routes', 'sig_prcp_no', 'withLatLong', 'distinct_station_names', 'RouteDistance', 'withStationName', 'divvy_ridedata', 'Top10EndStations']\n"
     ]
    }
   ],
   "source": [
    "# Review collections in database\n",
    "print(db.list_collection_names())"
   ]
  },
  {
   "cell_type": "code",
   "execution_count": 7,
   "metadata": {},
   "outputs": [],
   "source": [
    "# Assign collections to variables \n",
    "divvy_rides = db['divvy_ridedata']\n",
    "weather_daily = db['weather_daily']\n",
    "divvy_ridedata_merged = db['divvy_ridedata_merged']\n",
    "withoutStation = db['withoutStationName']\n",
    "withStation = db['withStationName']\n",
    "withLatLong = db['withLatLong']"
   ]
  },
  {
   "cell_type": "code",
   "execution_count": 8,
   "metadata": {},
   "outputs": [
    {
     "name": "stdout",
     "output_type": "stream",
     "text": [
      "5667717\n",
      "365\n",
      "5667717\n",
      "427449\n",
      "4369360\n",
      "5661859\n"
     ]
    }
   ],
   "source": [
    "# Count the number of documents in the collections \n",
    "print(divvy_rides.count_documents({}))\n",
    "print(weather_daily.count_documents({}))\n",
    "print(divvy_ridedata_merged.count_documents({}))\n",
    "print(withoutStation.count_documents({}))\n",
    "print(withStation.count_documents({}))\n",
    "print(withLatLong.count_documents({}))"
   ]
  },
  {
   "cell_type": "code",
   "execution_count": 9,
   "metadata": {},
   "outputs": [
    {
     "name": "stdout",
     "output_type": "stream",
     "text": [
      "{'_id': ObjectId('655f1914044b5b5ebbf90d67'), 'ride_id': 'A6CF8980A652D272', 'rideable_type': 'electric_bike', 'started_at': '2022-01-10 08:41:56', 'ended_at': '2022-01-10 08:46:17', 'start_station_name': 'Glenwood Ave & Touhy Ave', 'start_station_id': 525, 'end_station_name': 'Clark St & Touhy Ave', 'end_station_id': 'RP-007', 'start_lat': 42.012763, 'start_lng': -87.6659675, 'end_lat': 42.01256011541, 'end_lng': -87.6743671152, 'member_casual': 'casual', 'started_at_date': '2022-01-10', 'started_at_time': '08:41:56', 'ended_at_date': '2022-01-10', 'ended_at_time': '08:46:17'}\n",
      "{'_id': ObjectId('655f19d5f1c6af1dd0f57470'), 'date': '2022-01-01', 'cloud_cover': 90.0, 'precipitation': 0.18, 'min_temp': 33.22, 'max_temp': 42.1, 'morning_temp': 42.1, 'afternoon_temp': 38.43, 'evening_temp': 35.24, 'night_temp': 38.44, 'max_windspeed': 15.01, 'prcp_inches': 0.0070866, 'sig_prcp': 'no', 'avg_temp': 38.59}\n",
      "{'_id': ObjectId('655f1914044b5b5ebbf90d67'), 'end_lat': 42.01256011541, 'end_lng': -87.6743671152, 'end_station_id': 'RP-007', 'end_station_name': 'Clark St & Touhy Ave', 'ended_at': '2022-01-10 08:46:17', 'ended_at_date': '2022-01-10', 'ended_at_time': '08:46:17', 'member_casual': 'casual', 'ride_id': 'A6CF8980A652D272', 'rideable_type': 'electric_bike', 'start_lat': 42.012763, 'start_lng': -87.6659675, 'start_station_id': 525, 'start_station_name': 'Glenwood Ave & Touhy Ave', 'started_at': '2022-01-10 08:41:56', 'started_at_date': '2022-01-10', 'started_at_time': '08:41:56', 'weather_data': {'_id': ObjectId('655f19d5f1c6af1dd0f5747e'), 'date': '2022-01-10', 'cloud_cover': 17.0, 'precipitation': 0.24, 'min_temp': 9.5, 'max_temp': 20.84, 'morning_temp': 13.69, 'afternoon_temp': 9.73, 'evening_temp': 14.0, 'night_temp': 20.75, 'max_windspeed': 16.35}}\n",
      "{'_id': ObjectId('655f1914044b5b5ebbf95a90'), 'end_lat': 41.95, 'end_lng': -87.71, 'end_station_id': '', 'end_station_name': '', 'ended_at': '2022-01-04 19:11:14', 'ended_at_date': '2022-01-04', 'ended_at_time': '19:11:14', 'member_casual': 'member', 'ride_id': 'B2147BB28A87F330', 'rideable_type': 'electric_bike', 'start_lat': 41.95, 'start_lng': -87.71, 'start_station_id': '', 'start_station_name': '', 'started_at': '2022-01-04 19:09:38', 'started_at_date': '2022-01-04', 'started_at_time': '19:09:38', 'weather_data': {'_id': ObjectId('655f19d5f1c6af1dd0f57472'), 'date': '2022-01-04', 'cloud_cover': 4.0, 'precipitation': 0.0, 'min_temp': 18.03, 'max_temp': 30.36, 'morning_temp': 18.03, 'afternoon_temp': 20.97, 'evening_temp': 21.29, 'night_temp': 19.26, 'max_windspeed': 10.0}, 'afternoon_temp': 20.97, 'cloud_cover': 4.0, 'evening_temp': 21.29, 'max_temp': 30.36, 'max_windspeed': 10.0, 'min_temp': 18.03, 'morning_temp': 18.03, 'night_temp': 19.26, 'precipitation': 0.0, 'weather_date': '2022-01-04'}\n",
      "{'_id': ObjectId('655f1914044b5b5ebbf90d67'), 'end_lat': 42.01256011541, 'end_lng': -87.6743671152, 'end_station_id': 'RP-007', 'end_station_name': 'Clark St & Touhy Ave', 'ended_at': '2022-01-10 08:46:17', 'ended_at_date': '2022-01-10', 'ended_at_time': '08:46:17', 'member_casual': 'casual', 'ride_id': 'A6CF8980A652D272', 'rideable_type': 'electric_bike', 'start_lat': 42.012763, 'start_lng': -87.6659675, 'start_station_id': 525, 'start_station_name': 'Glenwood Ave & Touhy Ave', 'started_at': '2022-01-10 08:41:56', 'started_at_date': '2022-01-10', 'started_at_time': '08:41:56', 'weather_data': ObjectId('655f19d5f1c6af1dd0f5747e'), 'cloud_cover': 17.0, 'precipitation': 0.24, 'min_temp': 9.5, 'max_temp': 20.84, 'morning_temp': 13.69, 'afternoon_temp': 9.73, 'evening_temp': 14.0, 'night_temp': 20.75, 'max_windspeed': 16.35, 'weather_date': '2022-01-10'}\n",
      "{'_id': ObjectId('655f1914044b5b5ebbf90d67'), 'end_lat': 42.01256011541, 'end_lng': -87.6743671152, 'end_station_id': 'RP-007', 'end_station_name': 'Clark St & Touhy Ave', 'ended_at': '2022-01-10 08:46:17', 'ended_at_date': '2022-01-10', 'ended_at_time': '08:46:17', 'member_casual': 'casual', 'ride_id': 'A6CF8980A652D272', 'rideable_type': 'electric_bike', 'start_lat': 42.012763, 'start_lng': -87.6659675, 'start_station_id': 525, 'start_station_name': 'Glenwood Ave & Touhy Ave', 'started_at': '2022-01-10 08:41:56', 'started_at_date': '2022-01-10', 'started_at_time': '08:41:56', 'weather_data': {'_id': ObjectId('655f19d5f1c6af1dd0f5747e'), 'date': '2022-01-10', 'cloud_cover': 17.0, 'precipitation': 0.24, 'min_temp': 9.5, 'max_temp': 20.84, 'morning_temp': 13.69, 'afternoon_temp': 9.73, 'evening_temp': 14.0, 'night_temp': 20.75, 'max_windspeed': 16.35}}\n"
     ]
    }
   ],
   "source": [
    "# Review a document in each collection \n",
    "print(db.divvy_ridedata.find_one())\n",
    "print(db.weather_daily.find_one())\n",
    "print(db.divvy_ridedata_merged.find_one())\n",
    "print(db.withoutStationName.find_one())\n",
    "print(db.withStationName.find_one())\n",
    "print(db.withLatLong.find_one())"
   ]
  },
  {
   "cell_type": "code",
   "execution_count": 10,
   "metadata": {},
   "outputs": [],
   "source": [
    "# Use aggregation pipeline to find top ten start stations\n",
    "pipeline = [\n",
    "    {\n",
    "        \"$group\": {\n",
    "            \"_id\": \"$start_station_name\",\n",
    "            \"count\": {\"$sum\": 1},\n",
    "            \"latitude\": {\"$first\": \"$end_lat\"},\n",
    "            \"longitude\": {\"$first\": \"$end_lng\"}\n",
    "        }\n",
    "    },\n",
    "    {\n",
    "        \"$sort\": {\"count\": -1}\n",
    "    },\n",
    "    {\n",
    "        \"$limit\": 10\n",
    "    },\n",
    "    {   \"$out\": \"Top10StartStations\"\n",
    "}\n",
    "]\n",
    "# Perform the aggregation\n",
    "result = list(withStation.aggregate(pipeline))\n",
    "\n",
    "# Assign results to variable \n",
    "Top10StartStations = db['Top10StartStations']"
   ]
  },
  {
   "cell_type": "code",
   "execution_count": 11,
   "metadata": {},
   "outputs": [
    {
     "name": "stdout",
     "output_type": "stream",
     "text": [
      "10\n"
     ]
    }
   ],
   "source": [
    "# Count the number of documents in the collection \n",
    "print(Top10StartStations.count_documents({}))"
   ]
  },
  {
   "cell_type": "code",
   "execution_count": 12,
   "metadata": {},
   "outputs": [
    {
     "name": "stdout",
     "output_type": "stream",
     "text": [
      "{'_id': 'Streeter Dr & Grand Ave', 'count': 71269, 'latitude': 41.880958, 'longitude': -87.616743}\n"
     ]
    }
   ],
   "source": [
    "# Review a document in the collection \n",
    "print(db.Top10StartStations.find_one())"
   ]
  },
  {
   "cell_type": "code",
   "execution_count": 13,
   "metadata": {},
   "outputs": [],
   "source": [
    "# Use aggregation pipeline to find top ten end stations\n",
    "pipeline = [\n",
    "    {\n",
    "        \"$group\": {\n",
    "            \"_id\": \"$end_station_name\",\n",
    "            \"count\": {\"$sum\": 1},\n",
    "            \"latitude\": {\"$first\": \"$end_lat\"},\n",
    "            \"longitude\": {\"$first\": \"$end_lng\"}\n",
    "        }\n",
    "    },\n",
    "    {\n",
    "        \"$sort\": {\"count\": -1}\n",
    "    },\n",
    "    {\n",
    "        \"$limit\": 10\n",
    "    },\n",
    "    {   \"$out\": \"Top10EndStations\"\n",
    "}\n",
    "]\n",
    "# Perform the aggregation\n",
    "result = list(withStation.aggregate(pipeline))\n",
    "\n",
    "# Assign to a variable\n",
    "Top10EndStations = db['Top10EndStations']"
   ]
  },
  {
   "cell_type": "code",
   "execution_count": 14,
   "metadata": {},
   "outputs": [
    {
     "name": "stdout",
     "output_type": "stream",
     "text": [
      "10\n"
     ]
    }
   ],
   "source": [
    "# Count the number of documents in the collection \n",
    "print(Top10EndStations.count_documents({}))"
   ]
  },
  {
   "cell_type": "code",
   "execution_count": 15,
   "metadata": {},
   "outputs": [
    {
     "name": "stdout",
     "output_type": "stream",
     "text": [
      "{'_id': 'Streeter Dr & Grand Ave', 'count': 72540, 'latitude': 41.892278, 'longitude': -87.612043}\n"
     ]
    }
   ],
   "source": [
    "# Review a document in the collection \n",
    "print(db.Top10EndStations.find_one())"
   ]
  },
  {
   "cell_type": "code",
   "execution_count": 16,
   "metadata": {},
   "outputs": [],
   "source": [
    "# Create a pipeline query to find the top ten bike routes (by start and end station)\n",
    "pipeline = [\n",
    "    {\n",
    "        \"$group\": {\n",
    "            \"_id\": { \"Start Station\": \"$start_station_name\", \"End Station\": \"$end_station_name\"},\n",
    "            \"count\": {\"$sum\": 1},\n",
    "            \"start latitude\": {\"$first\": \"$start_lat\"},\n",
    "            \"start longitude\": {\"$first\": \"$start_lng\"},\n",
    "            \"end latitude\": {\"$first\": \"$end_lat\"},\n",
    "            \"end longitude\": {\"$first\": \"$end_lng\"}\n",
    "        }\n",
    "    },\n",
    "    {\"$sort\": {\"count\": -1}\n",
    "},\n",
    "    {\n",
    "        \"$limit\": 10\n",
    "},\n",
    "    {   \"$out\": \"Top10Routes\"\n",
    "}\n",
    "]\n",
    "# Perform the aggregation\n",
    "result = list(withStation.aggregate(pipeline))\n",
    "\n",
    "# Assign to a variable\n",
    "Top10Routes = db['Top10Routes']"
   ]
  },
  {
   "cell_type": "code",
   "execution_count": 17,
   "metadata": {},
   "outputs": [
    {
     "name": "stdout",
     "output_type": "stream",
     "text": [
      "10\n"
     ]
    }
   ],
   "source": [
    "# Count the number of documents in the collection \n",
    "print(Top10Routes.count_documents({}))"
   ]
  },
  {
   "cell_type": "code",
   "execution_count": 18,
   "metadata": {},
   "outputs": [
    {
     "name": "stdout",
     "output_type": "stream",
     "text": [
      "{'_id': {'Start Station': 'Streeter Dr & Grand Ave', 'End Station': 'Streeter Dr & Grand Ave'}, 'count': 12202, 'start latitude': 41.892278, 'start longitude': -87.612043, 'end latitude': 41.892278, 'end longitude': -87.612043}\n"
     ]
    }
   ],
   "source": [
    "# Review a document in the collection \n",
    "print(db.Top10Routes.find_one())"
   ]
  },
  {
   "cell_type": "code",
   "execution_count": 19,
   "metadata": {},
   "outputs": [],
   "source": [
    "# Create a pipeline query to find docouments that have lat/long  \n",
    "pipeline = [\n",
    "    {\n",
    "        \"$match\": {\n",
    "            \"$and\": [\n",
    "                { \"start_lat\": { \"$ne\": \"\" } },\n",
    "                { \"start_lng\": { \"$ne\": \"\" } },\n",
    "                { \"end_lat\": { \"$ne\": \"\" } },\n",
    "                { \"end_lng\": { \"$ne\": \"\" } }\n",
    "            ]\n",
    "        }\n",
    "    }, \n",
    "    {\"$out\": \"withLatLong\"}\n",
    "]\n",
    "\n",
    "# Perform the aggregation\n",
    "result = list(divvy_ridedata_merged.aggregate(pipeline))"
   ]
  },
  {
   "cell_type": "code",
   "execution_count": 20,
   "metadata": {},
   "outputs": [],
   "source": [
    "# Create a pipeline query to find distance of each route in descending order by length  \n",
    "pipeline = [\n",
    "    {\n",
    "        \"$addFields\": {\n",
    "            \"start_lat\": { \"$toDouble\": \"$start_lat\" },\n",
    "            \"start_lng\": { \"$toDouble\": \"$start_lng\" },\n",
    "            \"end_lat\": { \"$toDouble\": \"$end_lat\" },\n",
    "            \"end_lng\": { \"$toDouble\": \"$end_lng\" }\n",
    "        }\n",
    "    },\n",
    "    {\n",
    "        \"$addFields\": {\n",
    "            \"distance\": {\n",
    "                \"$sqrt\": {\n",
    "                    \"$add\": [\n",
    "                        {\n",
    "                            \"$pow\": [\n",
    "                                { \"$subtract\": [\"$end_lat\", \"$start_lat\"] },\n",
    "                                2\n",
    "                            ]\n",
    "                        },\n",
    "                        {\n",
    "                            \"$pow\": [\n",
    "                                {\n",
    "                                    \"$multiply\": [\n",
    "                                        { \"$subtract\": [\"$end_lng\", \"$start_lng\"] },\n",
    "                                        { \"$cos\": { \"$avg\": [\"$start_lat\", \"$end_lat\"] } }\n",
    "                                    ]\n",
    "                                },\n",
    "                                2\n",
    "                            ]\n",
    "                        }\n",
    "                    ]\n",
    "                }\n",
    "            }\n",
    "        }\n",
    "    },\n",
    "    {\n",
    "        \"$sort\": {\"distance\": -1}\n",
    "    },\n",
    "    {\"$out\": \"RouteDistance\"}\n",
    "]\n",
    "\n",
    "# Perform the aggregation\n",
    "result = list(withLatLong.aggregate(pipeline))\n",
    "\n",
    "# Assign to a variable\n",
    "RouteDistance = db['RouteDistance']"
   ]
  },
  {
   "cell_type": "code",
   "execution_count": 21,
   "metadata": {},
   "outputs": [
    {
     "name": "stdout",
     "output_type": "stream",
     "text": [
      "5661859\n"
     ]
    }
   ],
   "source": [
    "# Count the number of documents in the collection \n",
    "print(RouteDistance.count_documents({}))"
   ]
  },
  {
   "cell_type": "code",
   "execution_count": 22,
   "metadata": {},
   "outputs": [
    {
     "name": "stdout",
     "output_type": "stream",
     "text": [
      "{'_id': ObjectId('655f19c25e397d4d01a2c9fc'), 'end_lat': 0.0, 'end_lng': 0.0, 'end_station_id': 'chargingstx07', 'end_station_name': 'Green St & Madison Ave*', 'ended_at': '2022-11-09 12:26:18', 'ended_at_date': '2022-11-09', 'ended_at_time': '12:26:18', 'member_casual': 'member', 'ride_id': 'E9495F1DC3475D41', 'rideable_type': 'classic_bike', 'start_lat': 41.884114, 'start_lng': -87.654264, 'start_station_id': 18062, 'start_station_name': 'Aberdeen St & Randolph St', 'started_at': '2022-11-09 12:21:55', 'started_at_date': '2022-11-09', 'started_at_time': '12:21:55', 'weather_data': {'_id': ObjectId('655f19d5f1c6af1dd0f575a8'), 'date': '2022-11-09', 'cloud_cover': 75.0, 'precipitation': 0.0, 'min_temp': 47.35, 'max_temp': 60.37, 'morning_temp': 51.44, 'afternoon_temp': 48.54, 'evening_temp': 51.37, 'night_temp': 51.82, 'max_windspeed': 13.8}, 'distance': 60.51865544715035}\n",
      "{'_id': ObjectId('655f19c25e397d4d01a2cbfb'), 'end_lat': 0.0, 'end_lng': 0.0, 'end_station_id': 'chargingstx07', 'end_station_name': 'Green St & Madison Ave*', 'ended_at': '2022-11-09 13:28:28', 'ended_at_date': '2022-11-09', 'ended_at_time': '13:28:28', 'member_casual': 'member', 'ride_id': '7F49424E860E7094', 'rideable_type': 'classic_bike', 'start_lat': 41.88318130597391, 'start_lng': -87.64872461557388, 'start_station_id': 13053, 'start_station_name': 'Green St & Washington Blvd', 'started_at': '2022-11-09 13:27:04', 'started_at_date': '2022-11-09', 'started_at_time': '13:27:04', 'weather_data': {'_id': ObjectId('655f19d5f1c6af1dd0f575a8'), 'date': '2022-11-09', 'cloud_cover': 75.0, 'precipitation': 0.0, 'min_temp': 47.35, 'max_temp': 60.37, 'morning_temp': 51.44, 'afternoon_temp': 48.54, 'evening_temp': 51.37, 'night_temp': 51.82, 'max_windspeed': 13.8}, 'distance': 60.49044026059129}\n",
      "{'_id': ObjectId('655f19c25e397d4d01a2cafe'), 'end_lat': 0.0, 'end_lng': 0.0, 'end_station_id': 'chargingstx07', 'end_station_name': 'Green St & Madison Ave*', 'ended_at': '2022-11-09 15:52:23', 'ended_at_date': '2022-11-09', 'ended_at_time': '15:52:23', 'member_casual': 'member', 'ride_id': '75DE33501313D0CE', 'rideable_type': 'classic_bike', 'start_lat': 41.881892, 'start_lng': -87.648789, 'start_station_id': 'TA1307000120', 'start_station_name': 'Green St & Madison St', 'started_at': '2022-11-09 15:52:08', 'started_at_date': '2022-11-09', 'started_at_time': '15:52:08', 'weather_data': {'_id': ObjectId('655f19d5f1c6af1dd0f575a8'), 'date': '2022-11-09', 'cloud_cover': 75.0, 'precipitation': 0.0, 'min_temp': 47.35, 'max_temp': 60.37, 'morning_temp': 51.44, 'afternoon_temp': 48.54, 'evening_temp': 51.37, 'night_temp': 51.82, 'max_windspeed': 13.8}, 'distance': 60.45421892068916}\n",
      "{'_id': ObjectId('655f19bf5e397d4d019f1562'), 'end_lat': 0.0, 'end_lng': 0.0, 'end_station_id': 'chargingstx07', 'end_station_name': 'Green St & Madison Ave*', 'ended_at': '2022-11-09 13:44:38', 'ended_at_date': '2022-11-09', 'ended_at_time': '13:44:38', 'member_casual': 'member', 'ride_id': '3B47B333C0D186F0', 'rideable_type': 'classic_bike', 'start_lat': 41.87943409140013, 'start_lng': -87.63550400733948, 'start_station_id': 'TA1309000008', 'start_station_name': 'Franklin St & Adams St (Temp)', 'started_at': '2022-11-09 13:39:03', 'started_at_date': '2022-11-09', 'started_at_time': '13:39:03', 'weather_data': {'_id': ObjectId('655f19d5f1c6af1dd0f575a8'), 'date': '2022-11-09', 'cloud_cover': 75.0, 'precipitation': 0.0, 'min_temp': 47.35, 'max_temp': 60.37, 'morning_temp': 51.44, 'afternoon_temp': 48.54, 'evening_temp': 51.37, 'night_temp': 51.82, 'max_windspeed': 13.8}, 'distance': 60.3803869222743}\n",
      "{'_id': ObjectId('655f19bf5e397d4d019f74e8'), 'end_lat': 0.0, 'end_lng': 0.0, 'end_station_id': 'chargingstx07', 'end_station_name': 'Green St & Madison Ave*', 'ended_at': '2022-11-09 11:37:30', 'ended_at_date': '2022-11-09', 'ended_at_time': '11:37:30', 'member_casual': 'member', 'ride_id': 'BB8AA29838266294', 'rideable_type': 'classic_bike', 'start_lat': 41.879255, 'start_lng': -87.639904, 'start_station_id': 13011, 'start_station_name': 'Canal St & Adams St', 'started_at': '2022-11-09 11:32:53', 'started_at_date': '2022-11-09', 'started_at_time': '11:32:53', 'weather_data': {'_id': ObjectId('655f19d5f1c6af1dd0f575a8'), 'date': '2022-11-09', 'cloud_cover': 75.0, 'precipitation': 0.0, 'min_temp': 47.35, 'max_temp': 60.37, 'morning_temp': 51.44, 'afternoon_temp': 48.54, 'evening_temp': 51.37, 'night_temp': 51.82, 'max_windspeed': 13.8}, 'distance': 60.37692802078634}\n",
      "{'_id': ObjectId('655f19c25e397d4d01a2cbb4'), 'end_lat': 0.0, 'end_lng': 0.0, 'end_station_id': 'chargingstx07', 'end_station_name': 'Green St & Madison Ave*', 'ended_at': '2022-11-09 11:06:21', 'ended_at_date': '2022-11-09', 'ended_at_time': '11:06:21', 'member_casual': 'member', 'ride_id': '0A6988FE859F4D54', 'rideable_type': 'classic_bike', 'start_lat': 41.878166, 'start_lng': -87.631929, 'start_station_id': 'TA1309000004', 'start_station_name': 'LaSalle St & Jackson Blvd', 'started_at': '2022-11-09 10:58:37', 'started_at_date': '2022-11-09', 'started_at_time': '10:58:37', 'weather_data': {'_id': ObjectId('655f19d5f1c6af1dd0f575a8'), 'date': '2022-11-09', 'cloud_cover': 75.0, 'precipitation': 0.0, 'min_temp': 47.35, 'max_temp': 60.37, 'morning_temp': 51.44, 'afternoon_temp': 48.54, 'evening_temp': 51.37, 'night_temp': 51.82, 'max_windspeed': 13.8}, 'distance': 60.34348482835676}\n",
      "{'_id': ObjectId('655f19c25e397d4d01a2c5c9'), 'end_lat': 0.0, 'end_lng': 0.0, 'end_station_id': 'chargingstx07', 'end_station_name': 'Green St & Madison Ave*', 'ended_at': '2022-11-09 16:26:17', 'ended_at_date': '2022-11-09', 'ended_at_time': '16:26:17', 'member_casual': 'casual', 'ride_id': '6AFE1471227BD76F', 'rideable_type': 'classic_bike', 'start_lat': 41.871737, 'start_lng': -87.65103, 'start_station_id': 'TA1307000130', 'start_station_name': 'Morgan St & Polk St', 'started_at': '2022-11-09 16:17:16', 'started_at_date': '2022-11-09', 'started_at_time': '16:17:16', 'weather_data': {'_id': ObjectId('655f19d5f1c6af1dd0f575a8'), 'date': '2022-11-09', 'cloud_cover': 75.0, 'precipitation': 0.0, 'min_temp': 47.35, 'max_temp': 60.37, 'morning_temp': 51.44, 'afternoon_temp': 48.54, 'evening_temp': 51.37, 'night_temp': 51.82, 'max_windspeed': 13.8}, 'distance': 60.16971839274559}\n",
      "{'_id': ObjectId('655f19bf5e397d4d019f6207'), 'end_lat': 0.0, 'end_lng': 0.0, 'end_station_id': 'chargingstx07', 'end_station_name': 'Green St & Madison Ave*', 'ended_at': '2022-11-09 16:38:06', 'ended_at_date': '2022-11-09', 'ended_at_time': '16:38:06', 'member_casual': 'casual', 'ride_id': '42AF82C53D831251', 'rideable_type': 'electric_bike', 'start_lat': 41.85491616666667, 'start_lng': -87.663692, 'start_station_id': 13307, 'start_station_name': 'Laflin St & Cullerton St', 'started_at': '2022-11-09 16:17:40', 'started_at_date': '2022-11-09', 'started_at_time': '16:17:40', 'weather_data': {'_id': ObjectId('655f19d5f1c6af1dd0f575a8'), 'date': '2022-11-09', 'cloud_cover': 75.0, 'precipitation': 0.0, 'min_temp': 47.35, 'max_temp': 60.37, 'morning_temp': 51.44, 'afternoon_temp': 48.54, 'evening_temp': 51.37, 'night_temp': 51.82, 'max_windspeed': 13.8}, 'distance': 59.702291866770615}\n",
      "{'_id': ObjectId('655f1914044b5b5ebbf93b59'), 'end_lat': 41.8646, 'end_lng': -87.681, 'end_station_id': 'Pawel Bialowas - Test- PBSC charging station', 'end_station_name': 'Pawel Bialowas - Test- PBSC charging station', 'ended_at': '2022-01-14 11:15:50', 'ended_at_date': '2022-01-14', 'ended_at_time': '11:15:50', 'member_casual': 'casual', 'ride_id': '3327172413547F64', 'rideable_type': 'electric_bike', 'start_lat': 45.635034323, 'start_lng': -73.79647696, 'start_station_id': 'Pawel Bialowas - Test- PBSC charging station', 'start_station_name': 'Pawel Bialowas - Test- PBSC charging station', 'started_at': '2022-01-14 11:13:15', 'started_at_date': '2022-01-14', 'started_at_time': '11:13:15', 'weather_data': {'_id': ObjectId('655f19d5f1c6af1dd0f5747c'), 'date': '2022-01-14', 'cloud_cover': 34.0, 'precipitation': 0.0, 'min_temp': 30.38, 'max_temp': 38.8, 'morning_temp': 35.74, 'afternoon_temp': 35.15, 'evening_temp': 32.5, 'night_temp': 38.39, 'max_windspeed': 10.0}, 'distance': 14.027235887447166}\n",
      "{'_id': ObjectId('655f1981a4d9addd3d2db7f3'), 'end_lat': 42.37, 'end_lng': -87.83, 'end_station_id': '', 'end_station_name': '', 'ended_at': '2022-07-13 18:02:44', 'ended_at_date': '2022-07-13', 'ended_at_time': '18:02:44', 'member_casual': 'member', 'ride_id': '5CE2D7C544D25B78', 'rideable_type': 'electric_bike', 'start_lat': 42.050428867, 'start_lng': -87.677878022, 'start_station_id': 'E008', 'start_station_name': 'Chicago Ave & Sheridan Rd', 'started_at': '2022-07-13 13:51:38', 'started_at_date': '2022-07-13', 'started_at_time': '13:51:38', 'weather_data': {'_id': ObjectId('655f19d5f1c6af1dd0f57530'), 'date': '2022-07-13', 'cloud_cover': 20.0, 'precipitation': 0.0, 'min_temp': 68.34, 'max_temp': 84.45, 'morning_temp': 78.44, 'afternoon_temp': 70.48, 'evening_temp': 72.48, 'night_temp': 84.4, 'max_windspeed': 14.97}, 'distance': 0.3210151153143836}\n"
     ]
    }
   ],
   "source": [
    "# Find the first 10 documents\n",
    "documents = RouteDistance.find().sort(\"distance\", -1).limit(10)\n",
    "\n",
    "# Print the documents\n",
    "for doc in documents:\n",
    "    print(doc)"
   ]
  },
  {
   "cell_type": "code",
   "execution_count": 23,
   "metadata": {},
   "outputs": [],
   "source": [
    "db[\"divvy_rides_by_month\"].drop()"
   ]
  },
  {
   "cell_type": "code",
   "execution_count": 24,
   "metadata": {},
   "outputs": [
    {
     "name": "stdout",
     "output_type": "stream",
     "text": [
      "Aggregation result has been written to the new collection.\n",
      "Year: 2022, Month: 1, Total Rides: 103770\n",
      "Year: 2022, Month: 2, Total Rides: 115609\n",
      "Year: 2022, Month: 3, Total Rides: 284042\n",
      "Year: 2022, Month: 4, Total Rides: 371249\n",
      "Year: 2022, Month: 5, Total Rides: 634858\n",
      "Year: 2022, Month: 6, Total Rides: 769204\n",
      "Year: 2022, Month: 7, Total Rides: 823488\n",
      "Year: 2022, Month: 8, Total Rides: 785932\n",
      "Year: 2022, Month: 9, Total Rides: 701339\n",
      "Year: 2022, Month: 10, Total Rides: 558685\n",
      "Year: 2022, Month: 11, Total Rides: 337735\n",
      "Year: 2022, Month: 12, Total Rides: 181806\n"
     ]
    }
   ],
   "source": [
    "# Define the aggregation pipeline to pull rides by month \n",
    "pipeline = [\n",
    "    {\n",
    "        \"$group\": {\n",
    "            \"_id\": {\n",
    "                \"year\": {\"$year\": {\"$toDate\": \"$started_at\"}},\n",
    "                \"month\": {\"$month\": {\"$toDate\": \"$started_at\"}}\n",
    "            },\n",
    "            \"total_rides\": {\"$sum\": 1}\n",
    "        }\n",
    "    },\n",
    "    {\n",
    "        \"$project\": {\n",
    "            \"_id\": 0,\n",
    "            \"year\": \"$_id.year\",\n",
    "            \"month\": \"$_id.month\",\n",
    "            \"total_rides\": 1\n",
    "        }\n",
    "    },\n",
    "    {\n",
    "        \"$sort\": {\"year\": 1, \"month\": 1}\n",
    "    }\n",
    "]\n",
    "\n",
    "# Execute the aggregation pipeline and write to a new collection\n",
    "divvy_rides_by_month = db[\"divvy_rides_by_month\"]\n",
    "divvy_rides_by_month.drop()  # Drop the collection\n",
    "aggregated_result = divvy_ridedata_merged.aggregate(pipeline, allowDiskUse=True, collation=None)\n",
    "\n",
    "for doc in aggregated_result:\n",
    "    divvy_rides_by_month.insert_one(doc)\n",
    "\n",
    "print(\"Aggregation result has been written to the new collection.\")\n",
    "\n",
    "# Query the divvy_rides_by_month collection\n",
    "rides_by_month_cursor = divvy_rides_by_month.find({}, {\"_id\": 0, \"year\": 1, \"month\": 1, \"total_rides\": 1})\n",
    "\n",
    "# Iterate through the results and print the information\n",
    "for document in rides_by_month_cursor:\n",
    "    print(f\"Year: {document['year']}, Month: {document['month']}, Total Rides: {document['total_rides']}\")"
   ]
  },
  {
   "cell_type": "code",
   "execution_count": 25,
   "metadata": {},
   "outputs": [
    {
     "name": "stdout",
     "output_type": "stream",
     "text": [
      "Inserting document: {'_id': {'year': 2022, 'season': 'Autumn'}, 'total_rides': 1597759}\n",
      "Inserting document: {'_id': {'year': 2022, 'season': 'Spring'}, 'total_rides': 1290149}\n",
      "Inserting document: {'_id': {'year': 2022, 'season': 'Summer'}, 'total_rides': 2378624}\n",
      "Inserting document: {'_id': {'year': 2022, 'season': 'Winter'}, 'total_rides': 401185}\n",
      "Aggregation by season result has been written to the new collection.\n"
     ]
    }
   ],
   "source": [
    "# Define the aggregation pipeline to define divvy rides by season \n",
    "pipeline = [\n",
    "    {\n",
    "        \"$group\": {\n",
    "            \"_id\": {\n",
    "                \"year\": \"$year\",\n",
    "                \"season\": {\n",
    "                    \"$switch\": {\n",
    "                        \"branches\": [\n",
    "                            {\"case\": {\"$in\": [\"$month\", [3, 4, 5]]}, \"then\": \"Spring\"},\n",
    "                            {\"case\": {\"$in\": [\"$month\", [6, 7, 8]]}, \"then\": \"Summer\"},\n",
    "                            {\"case\": {\"$in\": [\"$month\", [9, 10, 11]]}, \"then\": \"Autumn\"},\n",
    "                            {\"case\": {\"$in\": [\"$month\", [12, 1, 2]]}, \"then\": \"Winter\"}\n",
    "                        ],\n",
    "                        \"default\": \"Unknown\"\n",
    "                    }\n",
    "                }\n",
    "            },\n",
    "            \"total_rides\": {\"$sum\": \"$total_rides\"}\n",
    "        }\n",
    "    },\n",
    "    {\n",
    "        \"$sort\": {\"_id.year\": 1, \"_id.season\": 1}\n",
    "    }\n",
    "]\n",
    "\n",
    "# Execute the aggregation pipeline\n",
    "divvy_rides_by_season = db[\"divvy_rides_by_season\"]\n",
    "divvy_rides_by_season.drop()  # Drop the collection\n",
    "aggregated_result = list(divvy_rides_by_month.aggregate(pipeline, allowDiskUse=True, collation=None))\n",
    "\n",
    "# Insert the aggregated documents into the new collection\n",
    "for doc in aggregated_result:\n",
    "    print(\"Inserting document:\", doc)\n",
    "    divvy_rides_by_season.insert_one(doc)\n",
    "\n",
    "print(\"Aggregation by season result has been written to the new collection.\")"
   ]
  },
  {
   "cell_type": "code",
   "execution_count": 26,
   "metadata": {},
   "outputs": [
    {
     "name": "stdout",
     "output_type": "stream",
     "text": [
      "['divvy_rides_by_season', 'weather_daily', 'withoutStationName', 'sig_prcp_yes', 'divvy_ridedata_merged', 'sig_prcp_no', 'distinct_station_names', 'Top10Routes', 'Top10EndStations', 'Top10StartStations', 'RouteDistance', 'withStationName', 'divvy_rides_by_month', 'withLatLong', 'divvy_ridedata']\n"
     ]
    }
   ],
   "source": [
    "print(db.list_collection_names())"
   ]
  },
  {
   "cell_type": "code",
   "execution_count": 27,
   "metadata": {},
   "outputs": [
    {
     "name": "stdout",
     "output_type": "stream",
     "text": [
      "1556 distinct station names imported into 'distinct_station_names' collection.\n"
     ]
    }
   ],
   "source": [
    "from bson import ObjectId\n",
    "\n",
    "# Get distinct station names along with start_lat and start_lng\n",
    "distinct_station_data = db[\"withStationName\"].aggregate([\n",
    "    {\n",
    "        \"$group\": {\n",
    "            \"_id\": \"$start_station_name\",\n",
    "            \"start_lat\": {\"$first\": \"$start_lat\"},\n",
    "            \"start_lng\": {\"$first\": \"$start_lng\"}\n",
    "        }\n",
    "    }\n",
    "])\n",
    "\n",
    "collection_name = \"distinct_station_names\"\n",
    "station_names = db[collection_name]\n",
    "\n",
    "station_name_documents = []\n",
    "for data in distinct_station_data:\n",
    "    station_name_documents.append({\n",
    "        \"start_station_name\": data[\"_id\"],\n",
    "        \"start_lat\": data[\"start_lat\"],\n",
    "        \"start_lng\": data[\"start_lng\"],\n",
    "        \"_id\": str(ObjectId())\n",
    "    })\n",
    "\n",
    "station_names.insert_many(station_name_documents)\n",
    "\n",
    "print(f\"{len(station_name_documents)} distinct station names imported into '{collection_name}' collection.\")"
   ]
  },
  {
   "cell_type": "code",
   "execution_count": 28,
   "metadata": {},
   "outputs": [
    {
     "data": {
      "text/plain": [
       "{'_id': '655f2577804185fa68c89e9a',\n",
       " 'start_station_name': 'Mason Ave & Roosevelt Rd',\n",
       " 'start_lat': 41.87,\n",
       " 'start_lng': -87.77}"
      ]
     },
     "execution_count": 28,
     "metadata": {},
     "output_type": "execute_result"
    }
   ],
   "source": [
    "station_names.find_one()\n"
   ]
  },
  {
   "cell_type": "code",
   "execution_count": 46,
   "metadata": {},
   "outputs": [
    {
     "name": "stdout",
     "output_type": "stream",
     "text": [
      "{'_id': ObjectId('655f1914044b5b5ebbf90d67'), 'end_lat': 42.01256011541, 'end_lng': -87.6743671152, 'end_station_id': 'RP-007', 'end_station_name': 'Clark St & Touhy Ave', 'ended_at': '2022-01-10 08:46:17', 'ended_at_date': '2022-01-10', 'ended_at_time': '08:46:17', 'member_casual': 'casual', 'ride_id': 'A6CF8980A652D272', 'rideable_type': 'electric_bike', 'start_lat': 42.012763, 'start_lng': -87.6659675, 'start_station_id': 525, 'start_station_name': 'Glenwood Ave & Touhy Ave', 'started_at': '2022-01-10 08:41:56', 'started_at_date': '2022-01-10', 'started_at_time': '08:41:56', 'weather_data': {'_id': ObjectId('655f19d5f1c6af1dd0f5747e'), 'date': '2022-01-10', 'cloud_cover': 17.0, 'precipitation': 0.24, 'min_temp': 9.5, 'max_temp': 20.84, 'morning_temp': 13.69, 'afternoon_temp': 9.73, 'evening_temp': 14.0, 'night_temp': 20.75, 'max_windspeed': 16.35, 'prcp_inches': 0.0094488, 'sig_prcp': 'no', 'avg_temp': 12.473333333333334}}\n",
      "{'_id': ObjectId('655f1914044b5b5ebbf90d68'), 'end_lat': 42.01256011541, 'end_lng': -87.6743671152, 'end_station_id': 'RP-007', 'end_station_name': 'Clark St & Touhy Ave', 'ended_at': '2022-01-13 12:02:44', 'ended_at_date': '2022-01-13', 'ended_at_time': '12:02:44', 'member_casual': 'casual', 'ride_id': 'C2F7DD78E82EC875', 'rideable_type': 'electric_bike', 'start_lat': 42.0128005, 'start_lng': -87.665906, 'start_station_id': 525, 'start_station_name': 'Glenwood Ave & Touhy Ave', 'started_at': '2022-01-13 11:59:47', 'started_at_date': '2022-01-13', 'started_at_time': '11:59:47', 'weather_data': {'_id': ObjectId('655f19d5f1c6af1dd0f5747b'), 'date': '2022-01-13', 'cloud_cover': 75.0, 'precipitation': 0.0, 'min_temp': 30.72, 'max_temp': 39.83, 'morning_temp': 35.49, 'afternoon_temp': 30.72, 'evening_temp': 34.38, 'night_temp': 39.22, 'max_windspeed': 8.01, 'prcp_inches': 0.0, 'sig_prcp': 'no', 'avg_temp': 33.53}}\n",
      "{'_id': ObjectId('655f1914044b5b5ebbf90d69'), 'end_lat': 41.961507, 'end_lng': -87.671387, 'end_station_id': 'TA1309000021', 'end_station_name': 'Paulina St & Montrose Ave', 'ended_at': '2022-01-04 00:33:00', 'ended_at_date': '2022-01-04', 'ended_at_time': '00:33:00', 'member_casual': 'casual', 'ride_id': 'CBB80ED419105406', 'rideable_type': 'classic_bike', 'start_lat': 41.983593, 'start_lng': -87.669154, 'start_station_id': 'KA1504000151', 'start_station_name': 'Clark St & Bryn Mawr Ave', 'started_at': '2022-01-04 00:18:04', 'started_at_date': '2022-01-04', 'started_at_time': '00:18:04', 'weather_data': {'_id': ObjectId('655f19d5f1c6af1dd0f57472'), 'date': '2022-01-04', 'cloud_cover': 4.0, 'precipitation': 0.0, 'min_temp': 18.03, 'max_temp': 30.36, 'morning_temp': 18.03, 'afternoon_temp': 20.97, 'evening_temp': 21.29, 'night_temp': 19.26, 'max_windspeed': 10.0, 'prcp_inches': 0.0, 'sig_prcp': 'no', 'avg_temp': 20.096666666666668}}\n",
      "{'_id': ObjectId('655f1914044b5b5ebbf90d6a'), 'end_lat': 41.88462107257936, 'end_lng': -87.62783423066139, 'end_station_id': 'TA1305000029', 'end_station_name': 'State St & Randolph St', 'ended_at': '2022-01-20 01:37:12', 'ended_at_date': '2022-01-20', 'ended_at_time': '01:37:12', 'member_casual': 'member', 'ride_id': 'DDC963BFDDA51EEA', 'rideable_type': 'classic_bike', 'start_lat': 41.87785, 'start_lng': -87.62408, 'start_station_id': 'TA1309000002', 'start_station_name': 'Michigan Ave & Jackson Blvd', 'started_at': '2022-01-20 01:31:10', 'started_at_date': '2022-01-20', 'started_at_time': '01:31:10', 'weather_data': {'_id': ObjectId('655f19d5f1c6af1dd0f57482'), 'date': '2022-01-20', 'cloud_cover': 20.0, 'precipitation': 0.0, 'min_temp': 6.44, 'max_temp': 20.73, 'morning_temp': 15.89, 'afternoon_temp': 10.58, 'evening_temp': 7.16, 'night_temp': 20.7, 'max_windspeed': 14.0, 'prcp_inches': 0.0, 'sig_prcp': 'no', 'avg_temp': 11.21}}\n",
      "{'_id': ObjectId('655f1914044b5b5ebbf90d6b'), 'end_lat': 41.92533, 'end_lng': -87.6658, 'end_station_id': 'TA1307000001', 'end_station_name': 'Greenview Ave & Fullerton Ave', 'ended_at': '2022-01-25 04:58:01', 'ended_at_date': '2022-01-25', 'ended_at_time': '04:58:01', 'member_casual': 'member', 'ride_id': 'BD0F91DFF741C66D', 'rideable_type': 'classic_bike', 'start_lat': 41.9256018819, 'start_lng': -87.6537080423, 'start_station_id': 'TA1306000016', 'start_station_name': 'Sheffield Ave & Fullerton Ave', 'started_at': '2022-01-25 04:53:40', 'started_at_date': '2022-01-25', 'started_at_time': '04:53:40', 'weather_data': {'_id': ObjectId('655f19d5f1c6af1dd0f57487'), 'date': '2022-01-25', 'cloud_cover': 24.0, 'precipitation': 0.0, 'min_temp': 3.22, 'max_temp': 25.95, 'morning_temp': 15.78, 'afternoon_temp': 10.44, 'evening_temp': 3.94, 'night_temp': 25.95, 'max_windspeed': 11.99, 'prcp_inches': 0.0, 'sig_prcp': 'no', 'avg_temp': 10.053333333333333}}\n"
     ]
    }
   ],
   "source": [
    "# Debug: Look at the structure of divvy_ridedata_merged Access the database and collection\n",
    "divvy_ridedata_merged_collection = db[\"divvy_ridedata_merged\"]\n",
    "\n",
    "# Find and print a few documents from the collection\n",
    "cursor = divvy_ridedata_merged_collection.find().limit(5)  # Limiting to 5 documents for illustration\n",
    "\n",
    "# Print each document\n",
    "for document in cursor:\n",
    "    print(document)"
   ]
  },
  {
   "cell_type": "code",
   "execution_count": 30,
   "metadata": {},
   "outputs": [
    {
     "name": "stdout",
     "output_type": "stream",
     "text": [
      "{'_id': ObjectId('655f1914044b5b5ebbf90d67'), 'end_lat': 42.01256011541, 'end_lng': -87.6743671152, 'end_station_id': 'RP-007', 'end_station_name': 'Clark St & Touhy Ave', 'ended_at': '2022-01-10 08:46:17', 'ended_at_date': '2022-01-10', 'ended_at_time': '08:46:17', 'member_casual': 'casual', 'ride_id': 'A6CF8980A652D272', 'rideable_type': 'electric_bike', 'start_lat': 42.012763, 'start_lng': -87.6659675, 'start_station_id': 525, 'start_station_name': 'Glenwood Ave & Touhy Ave', 'started_at': '2022-01-10 08:41:56', 'started_at_date': '2022-01-10', 'started_at_time': '08:41:56', 'weather_data': {'_id': ObjectId('655f19d5f1c6af1dd0f5747e'), 'date': '2022-01-10', 'cloud_cover': 17.0, 'precipitation': 0.24, 'min_temp': 9.5, 'max_temp': 20.84, 'morning_temp': 13.69, 'afternoon_temp': 9.73, 'evening_temp': 14.0, 'night_temp': 20.75, 'max_windspeed': 16.35}}\n",
      "{'_id': ObjectId('655f1914044b5b5ebbf90d68'), 'end_lat': 42.01256011541, 'end_lng': -87.6743671152, 'end_station_id': 'RP-007', 'end_station_name': 'Clark St & Touhy Ave', 'ended_at': '2022-01-13 12:02:44', 'ended_at_date': '2022-01-13', 'ended_at_time': '12:02:44', 'member_casual': 'casual', 'ride_id': 'C2F7DD78E82EC875', 'rideable_type': 'electric_bike', 'start_lat': 42.0128005, 'start_lng': -87.665906, 'start_station_id': 525, 'start_station_name': 'Glenwood Ave & Touhy Ave', 'started_at': '2022-01-13 11:59:47', 'started_at_date': '2022-01-13', 'started_at_time': '11:59:47', 'weather_data': {'_id': ObjectId('655f19d5f1c6af1dd0f5747b'), 'date': '2022-01-13', 'cloud_cover': 75.0, 'precipitation': 0.0, 'min_temp': 30.72, 'max_temp': 39.83, 'morning_temp': 35.49, 'afternoon_temp': 30.72, 'evening_temp': 34.38, 'night_temp': 39.22, 'max_windspeed': 8.01}}\n",
      "{'_id': ObjectId('655f1914044b5b5ebbf90d69'), 'end_lat': 41.961507, 'end_lng': -87.671387, 'end_station_id': 'TA1309000021', 'end_station_name': 'Paulina St & Montrose Ave', 'ended_at': '2022-01-04 00:33:00', 'ended_at_date': '2022-01-04', 'ended_at_time': '00:33:00', 'member_casual': 'casual', 'ride_id': 'CBB80ED419105406', 'rideable_type': 'classic_bike', 'start_lat': 41.983593, 'start_lng': -87.669154, 'start_station_id': 'KA1504000151', 'start_station_name': 'Clark St & Bryn Mawr Ave', 'started_at': '2022-01-04 00:18:04', 'started_at_date': '2022-01-04', 'started_at_time': '00:18:04', 'weather_data': {'_id': ObjectId('655f19d5f1c6af1dd0f57472'), 'date': '2022-01-04', 'cloud_cover': 4.0, 'precipitation': 0.0, 'min_temp': 18.03, 'max_temp': 30.36, 'morning_temp': 18.03, 'afternoon_temp': 20.97, 'evening_temp': 21.29, 'night_temp': 19.26, 'max_windspeed': 10.0}}\n",
      "{'_id': ObjectId('655f1914044b5b5ebbf90d6a'), 'end_lat': 41.88462107257936, 'end_lng': -87.62783423066139, 'end_station_id': 'TA1305000029', 'end_station_name': 'State St & Randolph St', 'ended_at': '2022-01-20 01:37:12', 'ended_at_date': '2022-01-20', 'ended_at_time': '01:37:12', 'member_casual': 'member', 'ride_id': 'DDC963BFDDA51EEA', 'rideable_type': 'classic_bike', 'start_lat': 41.87785, 'start_lng': -87.62408, 'start_station_id': 'TA1309000002', 'start_station_name': 'Michigan Ave & Jackson Blvd', 'started_at': '2022-01-20 01:31:10', 'started_at_date': '2022-01-20', 'started_at_time': '01:31:10', 'weather_data': {'_id': ObjectId('655f19d5f1c6af1dd0f57482'), 'date': '2022-01-20', 'cloud_cover': 20.0, 'precipitation': 0.0, 'min_temp': 6.44, 'max_temp': 20.73, 'morning_temp': 15.89, 'afternoon_temp': 10.58, 'evening_temp': 7.16, 'night_temp': 20.7, 'max_windspeed': 14.0}}\n",
      "{'_id': ObjectId('655f1914044b5b5ebbf90d6b'), 'end_lat': 41.92533, 'end_lng': -87.6658, 'end_station_id': 'TA1307000001', 'end_station_name': 'Greenview Ave & Fullerton Ave', 'ended_at': '2022-01-25 04:58:01', 'ended_at_date': '2022-01-25', 'ended_at_time': '04:58:01', 'member_casual': 'member', 'ride_id': 'BD0F91DFF741C66D', 'rideable_type': 'classic_bike', 'start_lat': 41.9256018819, 'start_lng': -87.6537080423, 'start_station_id': 'TA1306000016', 'start_station_name': 'Sheffield Ave & Fullerton Ave', 'started_at': '2022-01-25 04:53:40', 'started_at_date': '2022-01-25', 'started_at_time': '04:53:40', 'weather_data': {'_id': ObjectId('655f19d5f1c6af1dd0f57487'), 'date': '2022-01-25', 'cloud_cover': 24.0, 'precipitation': 0.0, 'min_temp': 3.22, 'max_temp': 25.95, 'morning_temp': 15.78, 'afternoon_temp': 10.44, 'evening_temp': 3.94, 'night_temp': 25.95, 'max_windspeed': 11.99}}\n"
     ]
    }
   ],
   "source": [
    "# Debug: Access the database and collection\n",
    "divvy_ridedata_merged_collection = db[\"divvy_ridedata_merged\"]\n",
    "\n",
    "# Find and print the first few documents in divvy_ridedata_merged\n",
    "for doc in divvy_ridedata_merged_collection.find().limit(5):\n",
    "    print(doc)"
   ]
  },
  {
   "cell_type": "code",
   "execution_count": 45,
   "metadata": {},
   "outputs": [
    {
     "name": "stdout",
     "output_type": "stream",
     "text": [
      "{'_id': ObjectId('655f19d5f1c6af1dd0f5747e'), 'date': '2022-01-10', 'cloud_cover': 17.0, 'precipitation': 0.24, 'min_temp': 9.5, 'max_temp': 20.84, 'morning_temp': 13.69, 'afternoon_temp': 9.73, 'evening_temp': 14.0, 'night_temp': 20.75, 'max_windspeed': 16.35}\n",
      "{'_id': ObjectId('655f19d5f1c6af1dd0f5747b'), 'date': '2022-01-13', 'cloud_cover': 75.0, 'precipitation': 0.0, 'min_temp': 30.72, 'max_temp': 39.83, 'morning_temp': 35.49, 'afternoon_temp': 30.72, 'evening_temp': 34.38, 'night_temp': 39.22, 'max_windspeed': 8.01}\n",
      "{'_id': ObjectId('655f19d5f1c6af1dd0f57472'), 'date': '2022-01-04', 'cloud_cover': 4.0, 'precipitation': 0.0, 'min_temp': 18.03, 'max_temp': 30.36, 'morning_temp': 18.03, 'afternoon_temp': 20.97, 'evening_temp': 21.29, 'night_temp': 19.26, 'max_windspeed': 10.0}\n",
      "{'_id': ObjectId('655f19d5f1c6af1dd0f57482'), 'date': '2022-01-20', 'cloud_cover': 20.0, 'precipitation': 0.0, 'min_temp': 6.44, 'max_temp': 20.73, 'morning_temp': 15.89, 'afternoon_temp': 10.58, 'evening_temp': 7.16, 'night_temp': 20.7, 'max_windspeed': 14.0}\n",
      "{'_id': ObjectId('655f19d5f1c6af1dd0f57487'), 'date': '2022-01-25', 'cloud_cover': 24.0, 'precipitation': 0.0, 'min_temp': 3.22, 'max_temp': 25.95, 'morning_temp': 15.78, 'afternoon_temp': 10.44, 'evening_temp': 3.94, 'night_temp': 25.95, 'max_windspeed': 11.99}\n"
     ]
    }
   ],
   "source": [
    "# Debug: Print weather_data for the first few documents in divvy_ridedata_merged\n",
    "for document in divvy_ridedata_merged.find().limit(5):\n",
    "    print(document.get('weather_data'))"
   ]
  },
  {
   "cell_type": "code",
   "execution_count": 47,
   "metadata": {},
   "outputs": [
    {
     "name": "stdout",
     "output_type": "stream",
     "text": [
      "No documents matched the aggregation criteria.\n",
      "Number of documents in sig_prcp_yes collection: 748440\n"
     ]
    }
   ],
   "source": [
    "# Debug: Define the aggregation pipeline to pull rides by month\n",
    "pipeline = [\n",
    "    {\"$match\": {\"weather_data.sig_prcp\": {\"$exists\": True, \"$eq\": \"yes\"}}},\n",
    "    {\"$out\": \"sig_prcp_yes\"}\n",
    "]\n",
    "\n",
    "# Perform the aggregation\n",
    "result = list(divvy_ridedata_merged.aggregate(pipeline))\n",
    "\n",
    "# Access the new collection\n",
    "sig_prcp_yes_collection = db[\"sig_prcp_yes\"]\n",
    "\n",
    "# Check if the aggregation was successful\n",
    "if result:\n",
    "    print(\"Aggregation successful.\")\n",
    "else:\n",
    "    print(\"No documents matched the aggregation criteria.\")\n",
    "\n",
    "# Check if the sig_prcp_yes collection is populated\n",
    "count_documents = sig_prcp_yes_collection.count_documents({})\n",
    "print(f\"Number of documents in sig_prcp_yes collection: {count_documents}\")"
   ]
  },
  {
   "cell_type": "code",
   "execution_count": 48,
   "metadata": {},
   "outputs": [],
   "source": [
    "# Define the aggregation pipeline to pull rides by month \n",
    "\n",
    "# Use aggregation pipeline to create a collection that contains start and end station names\n",
    "pipeline = [\n",
    "         {\"$match\": {\"weather_data.sig_prcp\": {\"$exists\": True, \"$eq\": \"yes\"},\n",
    "                     }},\n",
    "         {\"$out\": \"sig_prcp_yes\"}\n",
    "         \n",
    "]\n",
    "# Perform the aggregation\n",
    "result = list(divvy_ridedata_merged.aggregate(pipeline))\n",
    "# Assign to a variable\n",
    "sig_prcp_yes = db[\"sig_prcp_yes\"]\n"
   ]
  },
  {
   "cell_type": "code",
   "execution_count": 49,
   "metadata": {},
   "outputs": [
    {
     "name": "stdout",
     "output_type": "stream",
     "text": [
      "Total number of documents in 'sig_prcp_yes': 748440\n",
      "Sample document in 'sig_prcp_yes': {'_id': ObjectId('655f1914044b5b5ebbf90d70'), 'end_lat': 41.88338, 'end_lng': -87.64117, 'end_station_id': 'WL-012', 'end_station_name': 'Clinton St & Washington Blvd', 'ended_at': '2022-01-28 15:35:16', 'ended_at_date': '2022-01-28', 'ended_at_time': '15:35:16', 'member_casual': 'member', 'ride_id': '72DC25B2DD467EEF', 'rideable_type': 'classic_bike', 'start_lat': 41.878166, 'start_lng': -87.631929, 'start_station_id': 'TA1309000004', 'start_station_name': 'LaSalle St & Jackson Blvd', 'started_at': '2022-01-28 15:27:53', 'started_at_date': '2022-01-28', 'started_at_time': '15:27:53', 'weather_data': {'_id': ObjectId('655f19d5f1c6af1dd0f5748f'), 'date': '2022-01-28', 'cloud_cover': 100.0, 'precipitation': 6.18, 'min_temp': 15.89, 'max_temp': 32.04, 'morning_temp': 29.03, 'afternoon_temp': 26.51, 'evening_temp': 17.65, 'night_temp': 29.01, 'max_windspeed': 11.5, 'prcp_inches': 0.2433066, 'sig_prcp': 'yes', 'avg_temp': 24.396666666666665}}\n"
     ]
    }
   ],
   "source": [
    "# Debug: See if anything is in sig_prcp_yes\n",
    "# Access the database and collection\n",
    "sig_prcp_yes_collection = db[\"sig_prcp_yes\"]\n",
    "\n",
    "# Count the documents in the collection\n",
    "document_count = sig_prcp_yes_collection.count_documents({})\n",
    "print(\"Total number of documents in 'sig_prcp_yes':\", document_count)\n",
    "\n",
    "# Print a sample document\n",
    "sample_document = sig_prcp_yes_collection.find_one()\n",
    "print(\"Sample document in 'sig_prcp_yes':\", sample_document)"
   ]
  },
  {
   "cell_type": "code",
   "execution_count": 50,
   "metadata": {},
   "outputs": [],
   "source": [
    "# Define the aggregation pipeline to pull rides by month \n",
    "\n",
    "# Use aggregation pipeline to create a collection that contains start and end station names\n",
    "pipeline = [\n",
    "         {\"$match\": {\"weather_data.sig_prcp\": {\"$exists\": True, \"$eq\": \"no\"},\n",
    "                     }},\n",
    "         {\"$out\": \"sig_prcp_no\"}\n",
    "         \n",
    "]\n",
    "# Perform the aggregation\n",
    "result = list(divvy_ridedata_merged.aggregate(pipeline))\n",
    "# Assign to a variable\n",
    "sig_prcp_no = db[\"sig_prcp_no\"]"
   ]
  },
  {
   "cell_type": "code",
   "execution_count": 51,
   "metadata": {},
   "outputs": [
    {
     "name": "stdout",
     "output_type": "stream",
     "text": [
      "Document: {'_id': ObjectId('6560a56bc3359531e70984cb'), 'total_rides': 9308, 'year': 2022, 'month': 1, 'num_days': 31, 'sig_prcp_count': 5}\n",
      "{'_id': ObjectId('6560a56bc3359531e70984cb'), 'total_rides': 9308, 'year': 2022, 'month': 1, 'num_days': 31, 'sig_prcp_count': 5}\n",
      "Document: {'_id': ObjectId('6560a56bc3359531e70984cc'), 'total_rides': 26036, 'year': 2022, 'month': 2, 'num_days': 28, 'sig_prcp_count': 8}\n",
      "{'_id': ObjectId('6560a56bc3359531e70984cc'), 'total_rides': 26036, 'year': 2022, 'month': 2, 'num_days': 28, 'sig_prcp_count': 8}\n",
      "Document: {'_id': ObjectId('6560a56bc3359531e70984cd'), 'total_rides': 71873, 'year': 2022, 'month': 3, 'num_days': 31, 'sig_prcp_count': 9}\n",
      "{'_id': ObjectId('6560a56bc3359531e70984cd'), 'total_rides': 71873, 'year': 2022, 'month': 3, 'num_days': 31, 'sig_prcp_count': 9}\n",
      "Document: {'_id': ObjectId('6560a56bc3359531e70984ce'), 'total_rides': 147085, 'year': 2022, 'month': 4, 'num_days': 30, 'sig_prcp_count': 11}\n",
      "{'_id': ObjectId('6560a56bc3359531e70984ce'), 'total_rides': 147085, 'year': 2022, 'month': 4, 'num_days': 30, 'sig_prcp_count': 11}\n",
      "Document: {'_id': ObjectId('6560a56bc3359531e70984cf'), 'total_rides': 49842, 'year': 2022, 'month': 5, 'num_days': 31, 'sig_prcp_count': 4}\n",
      "{'_id': ObjectId('6560a56bc3359531e70984cf'), 'total_rides': 49842, 'year': 2022, 'month': 5, 'num_days': 31, 'sig_prcp_count': 4}\n",
      "Document: {'_id': ObjectId('6560a56bc3359531e70984d0'), 'total_rides': 58888, 'year': 2022, 'month': 6, 'num_days': 30, 'sig_prcp_count': 3}\n",
      "{'_id': ObjectId('6560a56bc3359531e70984d0'), 'total_rides': 58888, 'year': 2022, 'month': 6, 'num_days': 30, 'sig_prcp_count': 3}\n",
      "Document: {'_id': ObjectId('6560a56bc3359531e70984d1'), 'total_rides': 134832, 'year': 2022, 'month': 7, 'num_days': 31, 'sig_prcp_count': 6}\n",
      "{'_id': ObjectId('6560a56bc3359531e70984d1'), 'total_rides': 134832, 'year': 2022, 'month': 7, 'num_days': 31, 'sig_prcp_count': 6}\n",
      "Document: {'_id': ObjectId('6560a56bc3359531e70984d2'), 'total_rides': 78175, 'year': 2022, 'month': 8, 'num_days': 31, 'sig_prcp_count': 4}\n",
      "{'_id': ObjectId('6560a56bc3359531e70984d2'), 'total_rides': 78175, 'year': 2022, 'month': 8, 'num_days': 31, 'sig_prcp_count': 4}\n",
      "Document: {'_id': ObjectId('6560a56bc3359531e70984d3'), 'total_rides': 26657, 'year': 2022, 'month': 9, 'num_days': 30, 'sig_prcp_count': 2}\n",
      "{'_id': ObjectId('6560a56bc3359531e70984d3'), 'total_rides': 26657, 'year': 2022, 'month': 9, 'num_days': 30, 'sig_prcp_count': 2}\n",
      "Document: {'_id': ObjectId('6560a56bc3359531e70984d4'), 'total_rides': 72295, 'year': 2022, 'month': 10, 'num_days': 31, 'sig_prcp_count': 5}\n",
      "{'_id': ObjectId('6560a56bc3359531e70984d4'), 'total_rides': 72295, 'year': 2022, 'month': 10, 'num_days': 31, 'sig_prcp_count': 5}\n",
      "Document: {'_id': ObjectId('6560a56bc3359531e70984d5'), 'total_rides': 47911, 'year': 2022, 'month': 11, 'num_days': 30, 'sig_prcp_count': 5}\n",
      "{'_id': ObjectId('6560a56bc3359531e70984d5'), 'total_rides': 47911, 'year': 2022, 'month': 11, 'num_days': 30, 'sig_prcp_count': 5}\n",
      "Document: {'_id': ObjectId('6560a56bc3359531e70984d6'), 'total_rides': 25538, 'year': 2022, 'month': 12, 'num_days': 31, 'sig_prcp_count': 6}\n",
      "{'_id': ObjectId('6560a56bc3359531e70984d6'), 'total_rides': 25538, 'year': 2022, 'month': 12, 'num_days': 31, 'sig_prcp_count': 6}\n"
     ]
    }
   ],
   "source": [
    "# Create a new collection that shows average daily rides per month with precipitation \n",
    "\n",
    "pipeline = [\n",
    "    {\n",
    "        \"$group\": {\n",
    "            \"_id\": {\n",
    "                \"year\": {\"$year\": {\"$toDate\": \"$started_at\"}},\n",
    "                \"month\": {\"$month\": {\"$toDate\": \"$started_at\"}}\n",
    "            },\n",
    "            \"total_rides\": {\"$sum\": 1}\n",
    "        }\n",
    "    },\n",
    "    {\n",
    "        \"$project\": {\n",
    "            \"_id\": 0,\n",
    "            \"year\": \"$_id.year\",\n",
    "            \"month\": \"$_id.month\",\n",
    "            \"total_rides\": 1\n",
    "        }\n",
    "    },\n",
    "    {\n",
    "        \"$sort\": {\"year\": 1, \"month\": 1}\n",
    "    }\n",
    "]\n",
    "\n",
    "# Execute the aggregation pipeline and write to a new collection\n",
    "sig_prcp_yes_month = db[\"sig_prcp_yes_month\"]\n",
    "#divvy_rides_by_month = db[\"divvy_rides_by_month\"]\n",
    "sig_prcp_yes_month.drop()  # Drop the collection\n",
    "aggregated_result = sig_prcp_yes.aggregate(pipeline, allowDiskUse=True, collation=None)\n",
    "\n",
    "for doc in aggregated_result:\n",
    "    sig_prcp_yes_month.insert_one(doc)\n",
    "\n",
    "# Function to insert number of days and sig_prcp count for each month\n",
    "def update_num_days_and_sig_prcp_count(year, month):\n",
    "    _, num_days = monthrange(year, month)\n",
    "    query = {'year': year, 'month': month}\n",
    "    update_query = {'$set': {'num_days': num_days}}\n",
    "    sig_prcp_yes_month.update_one(query, update_query)\n",
    "\n",
    "    # Count the number of days with sig_prcp = 'no' for the given month\n",
    "    sig_prcp_count = weather_daily.count_documents({\n",
    "        'date': {'$regex': f'^{year:04d}-{month:02d}'},  # Match the year and month in the date field\n",
    "        'sig_prcp': 'yes'\n",
    "    })\n",
    "    update_query = {'$set': {'sig_prcp_count': sig_prcp_count}}\n",
    "    sig_prcp_yes_month.update_one(query, update_query)\n",
    "\n",
    "    # Calculate average rides per day\n",
    "    # Added for loop to make sure values aren't null \n",
    "    result = sig_prcp_yes_month.find_one(query)\n",
    "    if result is not None:\n",
    "        total_rides = result['total_rides']\n",
    "        sig_prcp_yes_month.update_one(query, update_query)\n",
    "    else:\n",
    "        total_rides = 0  # Assign a default value\n",
    "\n",
    "    # Calculate and update average rides per day with no significant precipitation\n",
    "    query = {'year': 2022, 'month': month}\n",
    "    document = sig_prcp_yes_month.find_one(query)\n",
    "    print(f\"Document: {document}\")\n",
    "\n",
    "    # Changed to deal with null documents in March\n",
    "    if document is not None and document['sig_prcp_count'] > 0:\n",
    "        print(document)\n",
    "        average_rides_per_day = document['total_rides'] / document['sig_prcp_count']\n",
    "        update_query = {'$set': {'average_rides_per_day': average_rides_per_day}}\n",
    "        sig_prcp_yes_month.update_one(query, update_query)\n",
    "\n",
    "# Loop through each month in the year 2022\n",
    "for month in range(1, 13):\n",
    "    update_num_days_and_sig_prcp_count(2022, month)\n"
   ]
  },
  {
   "cell_type": "code",
   "execution_count": 52,
   "metadata": {},
   "outputs": [],
   "source": [
    "# Create a new collection that shows average daily rides per month with no precipitation \n",
    "\n",
    "pipeline = [\n",
    "    {\n",
    "        \"$group\": {\n",
    "            \"_id\": {\n",
    "                \"year\": {\"$year\": {\"$toDate\": \"$started_at\"}},\n",
    "                \"month\": {\"$month\": {\"$toDate\": \"$started_at\"}}\n",
    "            },\n",
    "            \"total_rides\": {\"$sum\": 1}\n",
    "        }\n",
    "    },\n",
    "    {\n",
    "        \"$project\": {\n",
    "            \"_id\": 0,\n",
    "            \"year\": \"$_id.year\",\n",
    "            \"month\": \"$_id.month\",\n",
    "            \"total_rides\": 1\n",
    "        }\n",
    "    },\n",
    "    {\n",
    "        \"$sort\": {\"year\": 1, \"month\": 1}\n",
    "    }\n",
    "]\n",
    "\n",
    "# Execute the aggregation pipeline and write to a new collection\n",
    "sig_prcp_no_month = db[\"sig_prcp_no_month\"]\n",
    "#divvy_rides_by_month = db[\"divvy_rides_by_month\"]\n",
    "sig_prcp_no_month.drop()  # Drop the collection\n",
    "aggregated_result = sig_prcp_no.aggregate(pipeline, allowDiskUse=True, collation=None)\n",
    "\n",
    "for doc in aggregated_result:\n",
    "    sig_prcp_no_month.insert_one(doc)\n",
    "\n",
    "def update_num_days_and_sig_prcp_count(year, month):\n",
    "    _, num_days = monthrange(year, month)\n",
    "    query = {'year': year, 'month': month}\n",
    "    update_query = {'$set': {'num_days': num_days}}\n",
    "    sig_prcp_no_month.update_one(query, update_query)\n",
    "\n",
    "    # Count the number of days with sig_prcp = 'no' for the given month\n",
    "    sig_prcp_count = weather_daily.count_documents({\n",
    "        'date': {'$regex': f'^{year:04d}-{month:02d}'},\n",
    "        'sig_prcp': 'no'\n",
    "    })\n",
    "    update_query = {'$set': {'sig_prcp_count': sig_prcp_count}}\n",
    "    sig_prcp_no_month.update_one(query, update_query)\n",
    "\n",
    "    # Calculate average rides per day\n",
    "    document = sig_prcp_no_month.find_one(query)\n",
    "    \n",
    "    if document is not None and document['sig_prcp_count'] > 0:\n",
    "        total_rides = document['total_rides']\n",
    "        average_rides_per_day = total_rides / document['sig_prcp_count']\n",
    "        update_query = {'$set': {'average_rides_per_day': average_rides_per_day}}\n",
    "        sig_prcp_no_month.update_one(query, update_query)\n",
    "\n",
    "# Loop through each month in the year 2022\n",
    "for month in range(1, 13):\n",
    "    update_num_days_and_sig_prcp_count(2022, month)\n"
   ]
  },
  {
   "cell_type": "code",
   "execution_count": 53,
   "metadata": {},
   "outputs": [
    {
     "name": "stdout",
     "output_type": "stream",
     "text": [
      "{'_id': ObjectId('6560a5a5c3359531e70984d9'), 'total_rides': 212169, 'year': 2022, 'month': 3, 'num_days': 31, 'sig_prcp_count': 22, 'average_rides_per_day': 9644.045454545454}\n"
     ]
    }
   ],
   "source": [
    "# Delete: Specify the year and month you want to check (e.g., March)\n",
    "target_year = 2022\n",
    "target_month = 3\n",
    "\n",
    "# Query the \"sig_prcp_no_month\" collection for documents in the specified year and month\n",
    "documents_in_march = sig_prcp_no_month.find({\"year\": target_year, \"month\": target_month})\n",
    "\n",
    "# Print information about each document in March\n",
    "for doc in documents_in_march:\n",
    "    print(doc)"
   ]
  },
  {
   "cell_type": "code",
   "execution_count": 54,
   "metadata": {},
   "outputs": [
    {
     "name": "stdout",
     "output_type": "stream",
     "text": [
      "Documents with string _id inserted into the new collection.\n"
     ]
    }
   ],
   "source": [
    "# Create a new collection to store documents with string _id\n",
    "# sig_prcp_no_month_string.drop()\n",
    "sig_prcp_no_month_string = db[\"sig_prcp_no_month_with_string_id\"]\n",
    "\n",
    "# Iterate through the documents in the original collection\n",
    "for document in sig_prcp_no_month.find({}):\n",
    "    document_id = document['_id']\n",
    "    string_id = str(document_id)\n",
    "    \n",
    "    # Create a new document with the string _id and other fields\n",
    "    new_document = {\n",
    "        '_id': string_id,\n",
    "        'year': document['year'],\n",
    "        'month': document['month'],\n",
    "        'total_rides': document['total_rides'],\n",
    "        'num_days': document['num_days'],\n",
    "        'sig_prcp_count': document['sig_prcp_count'],\n",
    "        'average_rides_per_day': document['average_rides_per_day']\n",
    "        # Include other fields from the original document\n",
    "    }\n",
    "    \n",
    "    # Insert the new document into the new collection\n",
    "    sig_prcp_no_month_string.insert_one(new_document)\n",
    "\n",
    "print(\"Documents with string _id inserted into the new collection.\")"
   ]
  },
  {
   "cell_type": "code",
   "execution_count": 55,
   "metadata": {},
   "outputs": [
    {
     "name": "stdout",
     "output_type": "stream",
     "text": [
      "{'_id': '6560a5a5c3359531e70984d9', 'year': 2022, 'month': 3, 'total_rides': 212169, 'num_days': 31, 'sig_prcp_count': 22, 'average_rides_per_day': 9644.045454545454}\n"
     ]
    }
   ],
   "source": [
    "# Specify the year and month you want to check (e.g., March)\n",
    "target_year = 2022\n",
    "target_month = 3\n",
    "\n",
    "# Query the \"sig_prcp_yes_month_with_string_id\" collection for documents in the specified year and month\n",
    "documents_in_march = sig_prcp_no_month_string.find({\"year\": target_year, \"month\": target_month})\n",
    "\n",
    "# Print information about each document in March\n",
    "for doc in documents_in_march:\n",
    "    print(doc)"
   ]
  },
  {
   "cell_type": "code",
   "execution_count": 56,
   "metadata": {},
   "outputs": [
    {
     "name": "stdout",
     "output_type": "stream",
     "text": [
      "Documents with string _id inserted into the new collection.\n"
     ]
    }
   ],
   "source": [
    "# Create a new collection to store documents with string _id\n",
    "# sig_prcp_yes_month_string.drop()\n",
    "sig_prcp_yes_month_string = db[\"sig_prcp_yes_month_with_string_id\"]\n",
    "\n",
    "# Iterate through the documents in the original collection\n",
    "for document in sig_prcp_yes_month.find({}):\n",
    "    document_id = document['_id']\n",
    "    string_id = str(document_id)\n",
    "    \n",
    "    # Create a new document with the string _id and other fields\n",
    "    new_document = {\n",
    "        '_id': string_id,\n",
    "        'year': document['year'],\n",
    "        'month': document['month'],\n",
    "        'total_rides': document['total_rides'],\n",
    "        'num_days': document['num_days'],\n",
    "        'sig_prcp_count': document['sig_prcp_count'],\n",
    "        'average_rides_per_day': document['average_rides_per_day']\n",
    "        # Include other fields from the original document\n",
    "    }\n",
    "    \n",
    "    # Insert the new document into the new collection\n",
    "    sig_prcp_yes_month_string.insert_one(new_document)\n",
    "\n",
    "print(\"Documents with string _id inserted into the new collection.\")"
   ]
  },
  {
   "cell_type": "code",
   "execution_count": 58,
   "metadata": {},
   "outputs": [
    {
     "name": "stdout",
     "output_type": "stream",
     "text": [
      "{'_id': '6560a56bc3359531e70984cd', 'year': 2022, 'month': 3, 'total_rides': 71873, 'num_days': 31, 'sig_prcp_count': 9, 'average_rides_per_day': 7985.888888888889}\n"
     ]
    }
   ],
   "source": [
    "# Delete this code: Check for March\n",
    "target_month = 3\n",
    "\n",
    "# Query the \"sig_prcp_yes_month_with_string_id\" collection for documents in the specified year and month\n",
    "documents_in_march = sig_prcp_yes_month_string.find({\"year\": target_year, \"month\": target_month})\n",
    "\n",
    "# Print information about each document in March\n",
    "for doc in documents_in_march:\n",
    "    print(doc)"
   ]
  },
  {
   "cell_type": "code",
   "execution_count": 59,
   "metadata": {},
   "outputs": [
    {
     "name": "stdout",
     "output_type": "stream",
     "text": [
      "{'_id': '6560a56bc3359531e70984cb', 'year': 2022, 'month': 1, 'total_rides': 9308, 'num_days': 31, 'sig_prcp_count': 5, 'average_rides_per_day': 1861.6}\n",
      "{'_id': '6560a56bc3359531e70984cc', 'year': 2022, 'month': 2, 'total_rides': 26036, 'num_days': 28, 'sig_prcp_count': 8, 'average_rides_per_day': 3254.5}\n",
      "{'_id': '6560a56bc3359531e70984cd', 'year': 2022, 'month': 3, 'total_rides': 71873, 'num_days': 31, 'sig_prcp_count': 9, 'average_rides_per_day': 7985.888888888889}\n",
      "{'_id': '6560a56bc3359531e70984ce', 'year': 2022, 'month': 4, 'total_rides': 147085, 'num_days': 30, 'sig_prcp_count': 11, 'average_rides_per_day': 13371.363636363636}\n",
      "{'_id': '6560a56bc3359531e70984cf', 'year': 2022, 'month': 5, 'total_rides': 49842, 'num_days': 31, 'sig_prcp_count': 4, 'average_rides_per_day': 12460.5}\n",
      "{'_id': '6560a56bc3359531e70984d0', 'year': 2022, 'month': 6, 'total_rides': 58888, 'num_days': 30, 'sig_prcp_count': 3, 'average_rides_per_day': 19629.333333333332}\n",
      "{'_id': '6560a56bc3359531e70984d1', 'year': 2022, 'month': 7, 'total_rides': 134832, 'num_days': 31, 'sig_prcp_count': 6, 'average_rides_per_day': 22472.0}\n",
      "{'_id': '6560a56bc3359531e70984d2', 'year': 2022, 'month': 8, 'total_rides': 78175, 'num_days': 31, 'sig_prcp_count': 4, 'average_rides_per_day': 19543.75}\n",
      "{'_id': '6560a56bc3359531e70984d3', 'year': 2022, 'month': 9, 'total_rides': 26657, 'num_days': 30, 'sig_prcp_count': 2, 'average_rides_per_day': 13328.5}\n",
      "{'_id': '6560a56bc3359531e70984d4', 'year': 2022, 'month': 10, 'total_rides': 72295, 'num_days': 31, 'sig_prcp_count': 5, 'average_rides_per_day': 14459.0}\n",
      "{'_id': '6560a56bc3359531e70984d5', 'year': 2022, 'month': 11, 'total_rides': 47911, 'num_days': 30, 'sig_prcp_count': 5, 'average_rides_per_day': 9582.2}\n",
      "{'_id': '6560a56bc3359531e70984d6', 'year': 2022, 'month': 12, 'total_rides': 25538, 'num_days': 31, 'sig_prcp_count': 6, 'average_rides_per_day': 4256.333333333333}\n"
     ]
    }
   ],
   "source": [
    "# Retrieve all documents from the collection\n",
    "all_documents = sig_prcp_yes_month_string.find({})\n",
    "\n",
    "# Iterate through the documents and print them\n",
    "for doc in all_documents:\n",
    "    print(doc)"
   ]
  },
  {
   "cell_type": "code",
   "execution_count": 60,
   "metadata": {},
   "outputs": [
    {
     "name": "stdout",
     "output_type": "stream",
     "text": [
      "{'_id': '6560a5a5c3359531e70984d7', 'year': 2022, 'month': 1, 'total_rides': 94462, 'num_days': 31, 'sig_prcp_count': 26, 'average_rides_per_day': 3633.153846153846}\n",
      "{'_id': '6560a5a5c3359531e70984d8', 'year': 2022, 'month': 2, 'total_rides': 89573, 'num_days': 28, 'sig_prcp_count': 20, 'average_rides_per_day': 4478.65}\n",
      "{'_id': '6560a5a5c3359531e70984d9', 'year': 2022, 'month': 3, 'total_rides': 212169, 'num_days': 31, 'sig_prcp_count': 22, 'average_rides_per_day': 9644.045454545454}\n",
      "{'_id': '6560a5a5c3359531e70984da', 'year': 2022, 'month': 4, 'total_rides': 224164, 'num_days': 30, 'sig_prcp_count': 19, 'average_rides_per_day': 11798.105263157895}\n",
      "{'_id': '6560a5a5c3359531e70984db', 'year': 2022, 'month': 5, 'total_rides': 585016, 'num_days': 31, 'sig_prcp_count': 27, 'average_rides_per_day': 21667.25925925926}\n",
      "{'_id': '6560a5a5c3359531e70984dc', 'year': 2022, 'month': 6, 'total_rides': 710316, 'num_days': 30, 'sig_prcp_count': 27, 'average_rides_per_day': 26308.0}\n",
      "{'_id': '6560a5a5c3359531e70984dd', 'year': 2022, 'month': 7, 'total_rides': 688656, 'num_days': 31, 'sig_prcp_count': 25, 'average_rides_per_day': 27546.24}\n",
      "{'_id': '6560a5a5c3359531e70984de', 'year': 2022, 'month': 8, 'total_rides': 707757, 'num_days': 31, 'sig_prcp_count': 27, 'average_rides_per_day': 26213.222222222223}\n",
      "{'_id': '6560a5a5c3359531e70984df', 'year': 2022, 'month': 9, 'total_rides': 674682, 'num_days': 30, 'sig_prcp_count': 28, 'average_rides_per_day': 24095.785714285714}\n",
      "{'_id': '6560a5a5c3359531e70984e0', 'year': 2022, 'month': 10, 'total_rides': 486390, 'num_days': 31, 'sig_prcp_count': 26, 'average_rides_per_day': 18707.30769230769}\n",
      "{'_id': '6560a5a5c3359531e70984e1', 'year': 2022, 'month': 11, 'total_rides': 289824, 'num_days': 30, 'sig_prcp_count': 25, 'average_rides_per_day': 11592.96}\n",
      "{'_id': '6560a5a5c3359531e70984e2', 'year': 2022, 'month': 12, 'total_rides': 156268, 'num_days': 31, 'sig_prcp_count': 25, 'average_rides_per_day': 6250.72}\n"
     ]
    }
   ],
   "source": [
    "# Retrieve all documents from the collection\n",
    "all_documents = sig_prcp_no_month_string.find({})\n",
    "\n",
    "# Iterate through the documents and print them\n",
    "for doc in all_documents:\n",
    "    print(doc)"
   ]
  },
  {
   "cell_type": "code",
   "execution_count": 61,
   "metadata": {},
   "outputs": [
    {
     "name": "stdout",
     "output_type": "stream",
     "text": [
      "5667717\n",
      "365\n",
      "5667717\n",
      "427449\n",
      "4369360\n",
      "5661859\n"
     ]
    }
   ],
   "source": [
    "# Count the number of documents in the collections \n",
    "print(divvy_rides.count_documents({}))\n",
    "print(weather_daily.count_documents({}))\n",
    "print(divvy_ridedata_merged.count_documents({}))\n",
    "print(withoutStation.count_documents({}))\n",
    "print(withStation.count_documents({}))\n",
    "print(withLatLong.count_documents({}))"
   ]
  }
 ],
 "metadata": {
  "kernelspec": {
   "display_name": "dev2",
   "language": "python",
   "name": "python3"
  },
  "language_info": {
   "codemirror_mode": {
    "name": "ipython",
    "version": 3
   },
   "file_extension": ".py",
   "mimetype": "text/x-python",
   "name": "python",
   "nbconvert_exporter": "python",
   "pygments_lexer": "ipython3",
   "version": "3.10.9"
  },
  "orig_nbformat": 4
 },
 "nbformat": 4,
 "nbformat_minor": 2
}
