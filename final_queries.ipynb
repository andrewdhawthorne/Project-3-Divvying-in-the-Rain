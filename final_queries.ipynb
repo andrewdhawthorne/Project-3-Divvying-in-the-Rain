{
 "cells": [
  {
   "cell_type": "markdown",
   "metadata": {},
   "source": [
    "Final queries for visualizations"
   ]
  },
  {
   "cell_type": "code",
   "execution_count": 1,
   "metadata": {},
   "outputs": [],
   "source": [
    "import pymongo\n",
    "from pymongo import MongoClient, UpdateOne\n",
    "import json\n",
    "from calendar import monthrange\n",
    "from datetime import datetime"
   ]
  },
  {
   "cell_type": "code",
   "execution_count": 2,
   "metadata": {},
   "outputs": [],
   "source": [
    "# Create an instance of MongoClient\n",
    "mongo = MongoClient(port=27017)"
   ]
  },
  {
   "cell_type": "code",
   "execution_count": 3,
   "metadata": {},
   "outputs": [
    {
     "name": "stdout",
     "output_type": "stream",
     "text": [
      "['admin', 'autosaurus', 'chicago_bikes', 'classDB', 'config', 'epa', 'fruits_db', 'gardenDB', 'local', 'met', 'mongodbVSCodePlaygroundDB', 'petsitly_marketing', 'travel_db', 'uk_food']\n"
     ]
    }
   ],
   "source": [
    "# Confirm list of databases\n",
    "print(mongo.list_database_names())"
   ]
  },
  {
   "cell_type": "code",
   "execution_count": 4,
   "metadata": {},
   "outputs": [],
   "source": [
    "# Assign the database to a variable name\n",
    "db = mongo.chicago_bikes"
   ]
  },
  {
   "cell_type": "code",
   "execution_count": 5,
   "metadata": {},
   "outputs": [
    {
     "name": "stdout",
     "output_type": "stream",
     "text": [
      "['divvy_ridedata', 'Top10Routes', 'withoutStationName', 'Top10EndStations', 'withStationName', 'Top10StartStations', 'divvy_ridedata_merged', 'weather_daily']\n"
     ]
    }
   ],
   "source": [
    "# Review collections in database\n",
    "print(db.list_collection_names())"
   ]
  },
  {
   "cell_type": "code",
   "execution_count": 6,
   "metadata": {},
   "outputs": [],
   "source": [
    "# Assign collections to variables \n",
    "divvy_rides = db['divvy_ridedata']\n",
    "weather_daily = db['weather_daily']\n",
    "divvy_ridedata_merged = db['divvy_ridedata_merged']\n",
    "withoutStation = db['withoutStationName']\n",
    "withStation = db['withStationName']\n",
    "withLatLong = db['withLatLong']"
   ]
  },
  {
   "cell_type": "code",
   "execution_count": 7,
   "metadata": {},
   "outputs": [
    {
     "name": "stdout",
     "output_type": "stream",
     "text": [
      "5435346\n",
      "365\n",
      "5435346\n",
      "397105\n",
      "4204965\n",
      "0\n"
     ]
    }
   ],
   "source": [
    "# Count the number of documents in the collections \n",
    "print(divvy_rides.count_documents({}))\n",
    "print(weather_daily.count_documents({}))\n",
    "print(divvy_ridedata_merged.count_documents({}))\n",
    "print(withoutStation.count_documents({}))\n",
    "print(withStation.count_documents({}))\n",
    "print(withLatLong.count_documents({}))"
   ]
  },
  {
   "cell_type": "code",
   "execution_count": 8,
   "metadata": {},
   "outputs": [
    {
     "name": "stdout",
     "output_type": "stream",
     "text": [
      "{'_id': ObjectId('652035aa8dddd3436e664723'), 'ride_id': 'C2F7DD78E82EC875', 'rideable_type': 'electric_bike', 'started_at': '2022-01-13 11:59:47', 'ended_at': '2022-01-13 12:02:44', 'start_station_name': 'Glenwood Ave & Touhy Ave', 'start_station_id': 525, 'end_station_name': 'Clark St & Touhy Ave', 'end_station_id': 'RP-007', 'start_lat': 42.0128005, 'start_lng': -87.665906, 'end_lat': 42.01256011541, 'end_lng': -87.6743671152, 'member_casual': 'casual', 'started_at_date': '2022-01-13', 'started_at_time': '11:59:47', 'ended_at_date': '2022-01-13', 'ended_at_time': '12:02:44'}\n",
      "{'_id': ObjectId('652045d1b7b2efde78396faa'), 'date': '2022-01-02', 'cloud_cover': 90.0, 'precipitation': 13.81, 'min_temp': 18.81, 'max_temp': 32.77, 'morning_temp': 28.24, 'afternoon_temp': 26.64, 'evening_temp': 19.63, 'night_temp': 32.77, 'max_windspeed': 18.41}\n",
      "{'_id': ObjectId('652035aa8dddd3436e664723'), 'end_lat': 42.01256011541, 'end_lng': -87.6743671152, 'end_station_id': 'RP-007', 'end_station_name': 'Clark St & Touhy Ave', 'ended_at': '2022-01-13 12:02:44', 'ended_at_date': '2022-01-13', 'ended_at_time': '12:02:44', 'member_casual': 'casual', 'ride_id': 'C2F7DD78E82EC875', 'rideable_type': 'electric_bike', 'start_lat': 42.0128005, 'start_lng': -87.665906, 'start_station_id': 525, 'start_station_name': 'Glenwood Ave & Touhy Ave', 'started_at': '2022-01-13 11:59:47', 'started_at_date': '2022-01-13', 'started_at_time': '11:59:47', 'weather_data': {'_id': ObjectId('652045d1b7b2efde78396fb4'), 'date': '2022-01-13', 'cloud_cover': 75.0, 'precipitation': 0.0, 'min_temp': 30.72, 'max_temp': 39.83, 'morning_temp': 35.49, 'afternoon_temp': 30.72, 'evening_temp': 34.38, 'night_temp': 39.22, 'max_windspeed': 8.01}}\n",
      "{'_id': ObjectId('652035aa8dddd3436e66944c'), 'end_lat': 41.95, 'end_lng': -87.71, 'end_station_id': '', 'end_station_name': '', 'ended_at': '2022-01-04 19:11:14', 'ended_at_date': '2022-01-04', 'ended_at_time': '19:11:14', 'member_casual': 'member', 'ride_id': 'B2147BB28A87F330', 'rideable_type': 'electric_bike', 'start_lat': 41.95, 'start_lng': -87.71, 'start_station_id': '', 'start_station_name': '', 'started_at': '2022-01-04 19:09:38', 'started_at_date': '2022-01-04', 'started_at_time': '19:09:38', 'weather_data': {'_id': ObjectId('652045d1b7b2efde78396fac'), 'date': '2022-01-04', 'cloud_cover': 4.0, 'precipitation': 0.0, 'min_temp': 18.03, 'max_temp': 30.36, 'morning_temp': 18.03, 'afternoon_temp': 20.97, 'evening_temp': 21.29, 'night_temp': 19.26, 'max_windspeed': 10.0}}\n",
      "{'_id': ObjectId('652035aa8dddd3436e664723'), 'end_lat': 42.01256011541, 'end_lng': -87.6743671152, 'end_station_id': 'RP-007', 'end_station_name': 'Clark St & Touhy Ave', 'ended_at': '2022-01-13 12:02:44', 'ended_at_date': '2022-01-13', 'ended_at_time': '12:02:44', 'member_casual': 'casual', 'ride_id': 'C2F7DD78E82EC875', 'rideable_type': 'electric_bike', 'start_lat': 42.0128005, 'start_lng': -87.665906, 'start_station_id': 525, 'start_station_name': 'Glenwood Ave & Touhy Ave', 'started_at': '2022-01-13 11:59:47', 'started_at_date': '2022-01-13', 'started_at_time': '11:59:47', 'weather_data': {'_id': ObjectId('652045d1b7b2efde78396fb4'), 'date': '2022-01-13', 'cloud_cover': 75.0, 'precipitation': 0.0, 'min_temp': 30.72, 'max_temp': 39.83, 'morning_temp': 35.49, 'afternoon_temp': 30.72, 'evening_temp': 34.38, 'night_temp': 39.22, 'max_windspeed': 8.01}}\n",
      "None\n"
     ]
    }
   ],
   "source": [
    "# Review a document in each collection \n",
    "print(db.divvy_ridedata.find_one())\n",
    "print(db.weather_daily.find_one())\n",
    "print(db.divvy_ridedata_merged.find_one())\n",
    "print(db.withoutStationName.find_one())\n",
    "print(db.withStationName.find_one())\n",
    "print(db.withLatLong.find_one())"
   ]
  },
  {
   "cell_type": "code",
   "execution_count": 9,
   "metadata": {},
   "outputs": [],
   "source": [
    "# Use aggregation pipeline to find top ten start stations\n",
    "pipeline = [\n",
    "    {\n",
    "        \"$group\": {\n",
    "            \"_id\": \"$start_station_name\",\n",
    "            \"count\": {\"$sum\": 1},\n",
    "            \"latitude\": {\"$first\": \"$end_lat\"},\n",
    "            \"longitude\": {\"$first\": \"$end_lng\"}\n",
    "        }\n",
    "    },\n",
    "    {\n",
    "        \"$sort\": {\"count\": -1}\n",
    "    },\n",
    "    {\n",
    "        \"$limit\": 10\n",
    "    },\n",
    "    {   \"$out\": \"Top10StartStations\"\n",
    "}\n",
    "]\n",
    "# Perform the aggregation\n",
    "result = list(withStation.aggregate(pipeline))\n",
    "\n",
    "# Assign results to variable \n",
    "Top10StartStations = db['Top10StartStations']"
   ]
  },
  {
   "cell_type": "code",
   "execution_count": 10,
   "metadata": {},
   "outputs": [
    {
     "name": "stdout",
     "output_type": "stream",
     "text": [
      "10\n"
     ]
    }
   ],
   "source": [
    "# Count the number of documents in the collection \n",
    "print(Top10StartStations.count_documents({}))"
   ]
  },
  {
   "cell_type": "code",
   "execution_count": 11,
   "metadata": {},
   "outputs": [
    {
     "name": "stdout",
     "output_type": "stream",
     "text": [
      "{'_id': 'Streeter Dr & Grand Ave', 'count': 68245, 'latitude': 41.880958, 'longitude': -87.616743}\n"
     ]
    }
   ],
   "source": [
    "# Review a document in the collection \n",
    "print(db.Top10StartStations.find_one())"
   ]
  },
  {
   "cell_type": "code",
   "execution_count": 12,
   "metadata": {},
   "outputs": [],
   "source": [
    "# Use aggregation pipeline to find top ten end stations\n",
    "pipeline = [\n",
    "    {\n",
    "        \"$group\": {\n",
    "            \"_id\": \"$end_station_name\",\n",
    "            \"count\": {\"$sum\": 1},\n",
    "            \"latitude\": {\"$first\": \"$end_lat\"},\n",
    "            \"longitude\": {\"$first\": \"$end_lng\"}\n",
    "        }\n",
    "    },\n",
    "    {\n",
    "        \"$sort\": {\"count\": -1}\n",
    "    },\n",
    "    {\n",
    "        \"$limit\": 10\n",
    "    },\n",
    "    {   \"$out\": \"Top10EndStations\"\n",
    "}\n",
    "]\n",
    "# Perform the aggregation\n",
    "result = list(withStation.aggregate(pipeline))\n",
    "\n",
    "# Assign to a variable\n",
    "Top10EndStations = db['Top10EndStations']"
   ]
  },
  {
   "cell_type": "code",
   "execution_count": 13,
   "metadata": {},
   "outputs": [
    {
     "name": "stdout",
     "output_type": "stream",
     "text": [
      "10\n"
     ]
    }
   ],
   "source": [
    "# Count the number of documents in the collection \n",
    "print(Top10EndStations.count_documents({}))"
   ]
  },
  {
   "cell_type": "code",
   "execution_count": 14,
   "metadata": {},
   "outputs": [
    {
     "name": "stdout",
     "output_type": "stream",
     "text": [
      "{'_id': 'Streeter Dr & Grand Ave', 'count': 69516, 'latitude': 41.892278, 'longitude': -87.612043}\n"
     ]
    }
   ],
   "source": [
    "# Review a document in the collection \n",
    "print(db.Top10EndStations.find_one())"
   ]
  },
  {
   "cell_type": "code",
   "execution_count": 15,
   "metadata": {},
   "outputs": [],
   "source": [
    "# Create a pipeline query to find the top ten bike routes (by start and end station)\n",
    "pipeline = [\n",
    "    {\n",
    "        \"$group\": {\n",
    "            \"_id\": { \"Start Station\": \"$start_station_name\", \"End Station\": \"$end_station_name\"},\n",
    "            \"count\": {\"$sum\": 1},\n",
    "            \"start latitude\": {\"$first\": \"$start_lat\"},\n",
    "            \"start longitude\": {\"$first\": \"$start_lng\"},\n",
    "            \"end latitude\": {\"$first\": \"$end_lat\"},\n",
    "            \"end longitude\": {\"$first\": \"$end_lng\"}\n",
    "        }\n",
    "    },\n",
    "    {\"$sort\": {\"count\": -1}\n",
    "},\n",
    "    {\n",
    "        \"$limit\": 10\n",
    "},\n",
    "    {   \"$out\": \"Top10Routes\"\n",
    "}\n",
    "]\n",
    "# Perform the aggregation\n",
    "result = list(withStation.aggregate(pipeline))\n",
    "\n",
    "# Assign to a variable\n",
    "Top10Routes = db['Top10Routes']"
   ]
  },
  {
   "cell_type": "code",
   "execution_count": 16,
   "metadata": {},
   "outputs": [
    {
     "name": "stdout",
     "output_type": "stream",
     "text": [
      "10\n"
     ]
    }
   ],
   "source": [
    "# Count the number of documents in the collection \n",
    "print(Top10Routes.count_documents({}))"
   ]
  },
  {
   "cell_type": "code",
   "execution_count": 17,
   "metadata": {},
   "outputs": [
    {
     "name": "stdout",
     "output_type": "stream",
     "text": [
      "{'_id': {'Start Station': 'Streeter Dr & Grand Ave', 'End Station': 'Streeter Dr & Grand Ave'}, 'count': 11633, 'start latitude': 41.892278, 'start longitude': -87.612043, 'end latitude': 41.892278, 'end longitude': -87.612043}\n"
     ]
    }
   ],
   "source": [
    "# Review a document in the collection \n",
    "print(db.Top10Routes.find_one())"
   ]
  },
  {
   "cell_type": "code",
   "execution_count": 18,
   "metadata": {},
   "outputs": [],
   "source": [
    "# Create a pipeline query to find docouments that have lat/long  \n",
    "pipeline = [\n",
    "    {\n",
    "        \"$match\": {\n",
    "            \"$and\": [\n",
    "                { \"start_lat\": { \"$ne\": \"\" } },\n",
    "                { \"start_lng\": { \"$ne\": \"\" } },\n",
    "                { \"end_lat\": { \"$ne\": \"\" } },\n",
    "                { \"end_lng\": { \"$ne\": \"\" } }\n",
    "            ]\n",
    "        }\n",
    "    }, \n",
    "    {\"$out\": \"withLatLong\"}\n",
    "]\n",
    "\n",
    "# Perform the aggregation\n",
    "result = list(divvy_ridedata_merged.aggregate(pipeline))"
   ]
  },
  {
   "cell_type": "code",
   "execution_count": 19,
   "metadata": {},
   "outputs": [],
   "source": [
    "# Create a pipeline query to find distance of each route in descending order by length  \n",
    "pipeline = [\n",
    "    {\n",
    "        \"$addFields\": {\n",
    "            \"start_lat\": { \"$toDouble\": \"$start_lat\" },\n",
    "            \"start_lng\": { \"$toDouble\": \"$start_lng\" },\n",
    "            \"end_lat\": { \"$toDouble\": \"$end_lat\" },\n",
    "            \"end_lng\": { \"$toDouble\": \"$end_lng\" }\n",
    "        }\n",
    "    },\n",
    "    {\n",
    "        \"$addFields\": {\n",
    "            \"distance\": {\n",
    "                \"$sqrt\": {\n",
    "                    \"$add\": [\n",
    "                        {\n",
    "                            \"$pow\": [\n",
    "                                { \"$subtract\": [\"$end_lat\", \"$start_lat\"] },\n",
    "                                2\n",
    "                            ]\n",
    "                        },\n",
    "                        {\n",
    "                            \"$pow\": [\n",
    "                                {\n",
    "                                    \"$multiply\": [\n",
    "                                        { \"$subtract\": [\"$end_lng\", \"$start_lng\"] },\n",
    "                                        { \"$cos\": { \"$avg\": [\"$start_lat\", \"$end_lat\"] } }\n",
    "                                    ]\n",
    "                                },\n",
    "                                2\n",
    "                            ]\n",
    "                        }\n",
    "                    ]\n",
    "                }\n",
    "            }\n",
    "        }\n",
    "    },\n",
    "    {\n",
    "        \"$sort\": {\"distance\": -1}\n",
    "    },\n",
    "    {\"$out\": \"RouteDistance\"}\n",
    "]\n",
    "\n",
    "# Perform the aggregation\n",
    "result = list(withLatLong.aggregate(pipeline))\n",
    "\n",
    "# Assign to a variable\n",
    "RouteDistance = db['RouteDistance']"
   ]
  },
  {
   "cell_type": "code",
   "execution_count": 20,
   "metadata": {},
   "outputs": [
    {
     "name": "stdout",
     "output_type": "stream",
     "text": [
      "5429682\n"
     ]
    }
   ],
   "source": [
    "# Count the number of documents in the collection \n",
    "print(RouteDistance.count_documents({}))"
   ]
  },
  {
   "cell_type": "code",
   "execution_count": 21,
   "metadata": {},
   "outputs": [
    {
     "name": "stdout",
     "output_type": "stream",
     "text": [
      "{'_id': ObjectId('65203787260559f00d1ed88b'), 'end_lat': 0.0, 'end_lng': 0.0, 'end_station_id': 'chargingstx07', 'end_station_name': 'Green St & Madison Ave*', 'ended_at': '2022-11-09 12:26:18', 'ended_at_date': '2022-11-09', 'ended_at_time': '12:26:18', 'member_casual': 'member', 'ride_id': 'E9495F1DC3475D41', 'rideable_type': 'classic_bike', 'start_lat': 41.884114, 'start_lng': -87.654264, 'start_station_id': 18062, 'start_station_name': 'Aberdeen St & Randolph St', 'started_at': '2022-11-09 12:21:55', 'started_at_date': '2022-11-09', 'started_at_time': '12:21:55', 'weather_data': {'_id': ObjectId('652045d1b7b2efde783970e1'), 'date': '2022-11-09', 'cloud_cover': 75.0, 'precipitation': 0.0, 'min_temp': 47.35, 'max_temp': 60.37, 'morning_temp': 51.44, 'afternoon_temp': 48.54, 'evening_temp': 51.37, 'night_temp': 51.82, 'max_windspeed': 13.8}, 'distance': 60.51865544715035}\n",
      "{'_id': ObjectId('65203787260559f00d1eda8a'), 'end_lat': 0.0, 'end_lng': 0.0, 'end_station_id': 'chargingstx07', 'end_station_name': 'Green St & Madison Ave*', 'ended_at': '2022-11-09 13:28:28', 'ended_at_date': '2022-11-09', 'ended_at_time': '13:28:28', 'member_casual': 'member', 'ride_id': '7F49424E860E7094', 'rideable_type': 'classic_bike', 'start_lat': 41.88318130597391, 'start_lng': -87.64872461557388, 'start_station_id': 13053, 'start_station_name': 'Green St & Washington Blvd', 'started_at': '2022-11-09 13:27:04', 'started_at_date': '2022-11-09', 'started_at_time': '13:27:04', 'weather_data': {'_id': ObjectId('652045d1b7b2efde783970e1'), 'date': '2022-11-09', 'cloud_cover': 75.0, 'precipitation': 0.0, 'min_temp': 47.35, 'max_temp': 60.37, 'morning_temp': 51.44, 'afternoon_temp': 48.54, 'evening_temp': 51.37, 'night_temp': 51.82, 'max_windspeed': 13.8}, 'distance': 60.49044026059129}\n",
      "{'_id': ObjectId('65203787260559f00d1ed98e'), 'end_lat': 0.0, 'end_lng': 0.0, 'end_station_id': 'chargingstx07', 'end_station_name': 'Green St & Madison Ave*', 'ended_at': '2022-11-09 15:52:23', 'ended_at_date': '2022-11-09', 'ended_at_time': '15:52:23', 'member_casual': 'member', 'ride_id': '75DE33501313D0CE', 'rideable_type': 'classic_bike', 'start_lat': 41.881892, 'start_lng': -87.648789, 'start_station_id': 'TA1307000120', 'start_station_name': 'Green St & Madison St', 'started_at': '2022-11-09 15:52:08', 'started_at_date': '2022-11-09', 'started_at_time': '15:52:08', 'weather_data': {'_id': ObjectId('652045d1b7b2efde783970e1'), 'date': '2022-11-09', 'cloud_cover': 75.0, 'precipitation': 0.0, 'min_temp': 47.35, 'max_temp': 60.37, 'morning_temp': 51.44, 'afternoon_temp': 48.54, 'evening_temp': 51.37, 'night_temp': 51.82, 'max_windspeed': 13.8}, 'distance': 60.45421892068916}\n",
      "{'_id': ObjectId('65203783260559f00d1b23f4'), 'end_lat': 0.0, 'end_lng': 0.0, 'end_station_id': 'chargingstx07', 'end_station_name': 'Green St & Madison Ave*', 'ended_at': '2022-11-09 13:44:38', 'ended_at_date': '2022-11-09', 'ended_at_time': '13:44:38', 'member_casual': 'member', 'ride_id': '3B47B333C0D186F0', 'rideable_type': 'classic_bike', 'start_lat': 41.87943409140013, 'start_lng': -87.63550400733948, 'start_station_id': 'TA1309000008', 'start_station_name': 'Franklin St & Adams St (Temp)', 'started_at': '2022-11-09 13:39:03', 'started_at_date': '2022-11-09', 'started_at_time': '13:39:03', 'weather_data': {'_id': ObjectId('652045d1b7b2efde783970e1'), 'date': '2022-11-09', 'cloud_cover': 75.0, 'precipitation': 0.0, 'min_temp': 47.35, 'max_temp': 60.37, 'morning_temp': 51.44, 'afternoon_temp': 48.54, 'evening_temp': 51.37, 'night_temp': 51.82, 'max_windspeed': 13.8}, 'distance': 60.3803869222743}\n",
      "{'_id': ObjectId('65203784260559f00d1b8379'), 'end_lat': 0.0, 'end_lng': 0.0, 'end_station_id': 'chargingstx07', 'end_station_name': 'Green St & Madison Ave*', 'ended_at': '2022-11-09 11:37:30', 'ended_at_date': '2022-11-09', 'ended_at_time': '11:37:30', 'member_casual': 'member', 'ride_id': 'BB8AA29838266294', 'rideable_type': 'classic_bike', 'start_lat': 41.879255, 'start_lng': -87.639904, 'start_station_id': 13011, 'start_station_name': 'Canal St & Adams St', 'started_at': '2022-11-09 11:32:53', 'started_at_date': '2022-11-09', 'started_at_time': '11:32:53', 'weather_data': {'_id': ObjectId('652045d1b7b2efde783970e1'), 'date': '2022-11-09', 'cloud_cover': 75.0, 'precipitation': 0.0, 'min_temp': 47.35, 'max_temp': 60.37, 'morning_temp': 51.44, 'afternoon_temp': 48.54, 'evening_temp': 51.37, 'night_temp': 51.82, 'max_windspeed': 13.8}, 'distance': 60.37692802078634}\n",
      "{'_id': ObjectId('65203787260559f00d1eda44'), 'end_lat': 0.0, 'end_lng': 0.0, 'end_station_id': 'chargingstx07', 'end_station_name': 'Green St & Madison Ave*', 'ended_at': '2022-11-09 11:06:21', 'ended_at_date': '2022-11-09', 'ended_at_time': '11:06:21', 'member_casual': 'member', 'ride_id': '0A6988FE859F4D54', 'rideable_type': 'classic_bike', 'start_lat': 41.878166, 'start_lng': -87.631929, 'start_station_id': 'TA1309000004', 'start_station_name': 'LaSalle St & Jackson Blvd', 'started_at': '2022-11-09 10:58:37', 'started_at_date': '2022-11-09', 'started_at_time': '10:58:37', 'weather_data': {'_id': ObjectId('652045d1b7b2efde783970e1'), 'date': '2022-11-09', 'cloud_cover': 75.0, 'precipitation': 0.0, 'min_temp': 47.35, 'max_temp': 60.37, 'morning_temp': 51.44, 'afternoon_temp': 48.54, 'evening_temp': 51.37, 'night_temp': 51.82, 'max_windspeed': 13.8}, 'distance': 60.34348482835676}\n",
      "{'_id': ObjectId('65203787260559f00d1ed458'), 'end_lat': 0.0, 'end_lng': 0.0, 'end_station_id': 'chargingstx07', 'end_station_name': 'Green St & Madison Ave*', 'ended_at': '2022-11-09 16:26:17', 'ended_at_date': '2022-11-09', 'ended_at_time': '16:26:17', 'member_casual': 'casual', 'ride_id': '6AFE1471227BD76F', 'rideable_type': 'classic_bike', 'start_lat': 41.871737, 'start_lng': -87.65103, 'start_station_id': 'TA1307000130', 'start_station_name': 'Morgan St & Polk St', 'started_at': '2022-11-09 16:17:16', 'started_at_date': '2022-11-09', 'started_at_time': '16:17:16', 'weather_data': {'_id': ObjectId('652045d1b7b2efde783970e1'), 'date': '2022-11-09', 'cloud_cover': 75.0, 'precipitation': 0.0, 'min_temp': 47.35, 'max_temp': 60.37, 'morning_temp': 51.44, 'afternoon_temp': 48.54, 'evening_temp': 51.37, 'night_temp': 51.82, 'max_windspeed': 13.8}, 'distance': 60.16971839274559}\n",
      "{'_id': ObjectId('65203784260559f00d1b7097'), 'end_lat': 0.0, 'end_lng': 0.0, 'end_station_id': 'chargingstx07', 'end_station_name': 'Green St & Madison Ave*', 'ended_at': '2022-11-09 16:38:06', 'ended_at_date': '2022-11-09', 'ended_at_time': '16:38:06', 'member_casual': 'casual', 'ride_id': '42AF82C53D831251', 'rideable_type': 'electric_bike', 'start_lat': 41.85491616666667, 'start_lng': -87.663692, 'start_station_id': 13307, 'start_station_name': 'Laflin St & Cullerton St', 'started_at': '2022-11-09 16:17:40', 'started_at_date': '2022-11-09', 'started_at_time': '16:17:40', 'weather_data': {'_id': ObjectId('652045d1b7b2efde783970e1'), 'date': '2022-11-09', 'cloud_cover': 75.0, 'precipitation': 0.0, 'min_temp': 47.35, 'max_temp': 60.37, 'morning_temp': 51.44, 'afternoon_temp': 48.54, 'evening_temp': 51.37, 'night_temp': 51.82, 'max_windspeed': 13.8}, 'distance': 59.702291866770615}\n",
      "{'_id': ObjectId('652035aa8dddd3436e667514'), 'end_lat': 41.8646, 'end_lng': -87.681, 'end_station_id': 'Pawel Bialowas - Test- PBSC charging station', 'end_station_name': 'Pawel Bialowas - Test- PBSC charging station', 'ended_at': '2022-01-14 11:15:50', 'ended_at_date': '2022-01-14', 'ended_at_time': '11:15:50', 'member_casual': 'casual', 'ride_id': '3327172413547F64', 'rideable_type': 'electric_bike', 'start_lat': 45.635034323, 'start_lng': -73.79647696, 'start_station_id': 'Pawel Bialowas - Test- PBSC charging station', 'start_station_name': 'Pawel Bialowas - Test- PBSC charging station', 'started_at': '2022-01-14 11:13:15', 'started_at_date': '2022-01-14', 'started_at_time': '11:13:15', 'weather_data': {'_id': ObjectId('652045d1b7b2efde78396fb7'), 'date': '2022-01-14', 'cloud_cover': 34.0, 'precipitation': 0.0, 'min_temp': 30.38, 'max_temp': 38.8, 'morning_temp': 35.74, 'afternoon_temp': 35.15, 'evening_temp': 32.5, 'night_temp': 38.39, 'max_windspeed': 10.0}, 'distance': 14.027235887447166}\n",
      "{'_id': ObjectId('65203741e2e6dba226f133eb'), 'end_lat': 42.37, 'end_lng': -87.83, 'end_station_id': '', 'end_station_name': '', 'ended_at': '2022-07-13 18:02:44', 'ended_at_date': '2022-07-13', 'ended_at_time': '18:02:44', 'member_casual': 'member', 'ride_id': '5CE2D7C544D25B78', 'rideable_type': 'electric_bike', 'start_lat': 42.050428867, 'start_lng': -87.677878022, 'start_station_id': 'E008', 'start_station_name': 'Chicago Ave & Sheridan Rd', 'started_at': '2022-07-13 13:51:38', 'started_at_date': '2022-07-13', 'started_at_time': '13:51:38', 'weather_data': {'_id': ObjectId('652045d1b7b2efde7839706b'), 'date': '2022-07-13', 'cloud_cover': 20.0, 'precipitation': 0.0, 'min_temp': 68.34, 'max_temp': 84.45, 'morning_temp': 78.44, 'afternoon_temp': 70.48, 'evening_temp': 72.48, 'night_temp': 84.4, 'max_windspeed': 14.97}, 'distance': 0.3210151153143836}\n"
     ]
    }
   ],
   "source": [
    "# Find the first 10 documents\n",
    "documents = RouteDistance.find().sort(\"distance\", -1).limit(10)\n",
    "\n",
    "# Print the documents\n",
    "for doc in documents:\n",
    "    print(doc)"
   ]
  },
  {
   "cell_type": "code",
   "execution_count": 22,
   "metadata": {},
   "outputs": [],
   "source": [
    "db[\"divvy_rides_by_month\"].drop()"
   ]
  },
  {
   "cell_type": "code",
   "execution_count": 23,
   "metadata": {},
   "outputs": [
    {
     "name": "stdout",
     "output_type": "stream",
     "text": [
      "Aggregation result has been written to the new collection.\n"
     ]
    }
   ],
   "source": [
    "# Define the aggregation pipeline to pull rides by month \n",
    "pipeline = [\n",
    "    {\n",
    "        \"$group\": {\n",
    "            \"_id\": {\n",
    "                \"year\": {\"$year\": {\"$toDate\": \"$started_at\"}},\n",
    "                \"month\": {\"$month\": {\"$toDate\": \"$started_at\"}}\n",
    "            },\n",
    "            \"total_rides\": {\"$sum\": 1}\n",
    "        }\n",
    "    },\n",
    "    {\n",
    "        \"$project\": {\n",
    "            \"_id\": 0,\n",
    "            \"year\": \"$_id.year\",\n",
    "            \"month\": \"$_id.month\",\n",
    "            \"total_rides\": 1\n",
    "        }\n",
    "    },\n",
    "    {\n",
    "        \"$sort\": {\"year\": 1, \"month\": 1}\n",
    "    }\n",
    "]\n",
    "\n",
    "# Execute the aggregation pipeline and write to a new collection\n",
    "divvy_rides_by_month = db[\"divvy_rides_by_month\"]\n",
    "divvy_rides_by_month.drop()  # Drop the collection\n",
    "aggregated_result = divvy_ridedata_merged.aggregate(pipeline, allowDiskUse=True, collation=None)\n",
    "\n",
    "for doc in aggregated_result:\n",
    "    divvy_rides_by_month.insert_one(doc)\n",
    "\n",
    "print(\"Aggregation result has been written to the new collection.\")"
   ]
  },
  {
   "cell_type": "code",
   "execution_count": 24,
   "metadata": {},
   "outputs": [
    {
     "name": "stdout",
     "output_type": "stream",
     "text": [
      "Inserting document: {'_id': {'year': 2022, 'season': 'Autumn'}, 'total_rides': 1597759}\n",
      "Inserting document: {'_id': {'year': 2022, 'season': 'Spring'}, 'total_rides': 1057778}\n",
      "Inserting document: {'_id': {'year': 2022, 'season': 'Summer'}, 'total_rides': 2378624}\n",
      "Inserting document: {'_id': {'year': 2022, 'season': 'Winter'}, 'total_rides': 401185}\n",
      "Aggregation by season result has been written to the new collection.\n"
     ]
    }
   ],
   "source": [
    "# Define the aggregation pipeline to define divvy rides by season \n",
    "pipeline = [\n",
    "    {\n",
    "        \"$group\": {\n",
    "            \"_id\": {\n",
    "                \"year\": \"$year\",\n",
    "                \"season\": {\n",
    "                    \"$switch\": {\n",
    "                        \"branches\": [\n",
    "                            {\"case\": {\"$in\": [\"$month\", [3, 4, 5]]}, \"then\": \"Spring\"},\n",
    "                            {\"case\": {\"$in\": [\"$month\", [6, 7, 8]]}, \"then\": \"Summer\"},\n",
    "                            {\"case\": {\"$in\": [\"$month\", [9, 10, 11]]}, \"then\": \"Autumn\"},\n",
    "                            {\"case\": {\"$in\": [\"$month\", [12, 1, 2]]}, \"then\": \"Winter\"}\n",
    "                        ],\n",
    "                        \"default\": \"Unknown\"\n",
    "                    }\n",
    "                }\n",
    "            },\n",
    "            \"total_rides\": {\"$sum\": \"$total_rides\"}\n",
    "        }\n",
    "    },\n",
    "    {\n",
    "        \"$sort\": {\"_id.year\": 1, \"_id.season\": 1}\n",
    "    }\n",
    "]\n",
    "\n",
    "# Execute the aggregation pipeline\n",
    "divvy_rides_by_season = db[\"divvy_rides_by_season\"]\n",
    "divvy_rides_by_season.drop()  # Drop the collection\n",
    "aggregated_result = list(divvy_rides_by_month.aggregate(pipeline, allowDiskUse=True, collation=None))\n",
    "\n",
    "# Insert the aggregated documents into the new collection\n",
    "for doc in aggregated_result:\n",
    "    print(\"Inserting document:\", doc)\n",
    "    divvy_rides_by_season.insert_one(doc)\n",
    "\n",
    "print(\"Aggregation by season result has been written to the new collection.\")"
   ]
  },
  {
   "cell_type": "code",
   "execution_count": 25,
   "metadata": {},
   "outputs": [
    {
     "name": "stdout",
     "output_type": "stream",
     "text": [
      "['divvy_ridedata', 'withLatLong', 'Top10StartStations', 'withoutStationName', 'Top10Routes', 'withStationName', 'Top10EndStations', 'divvy_rides_by_season', 'divvy_ridedata_merged', 'RouteDistance', 'weather_daily', 'divvy_rides_by_month']\n"
     ]
    }
   ],
   "source": [
    "print(db.list_collection_names())"
   ]
  },
  {
   "cell_type": "code",
   "execution_count": 26,
   "metadata": {},
   "outputs": [
    {
     "name": "stdout",
     "output_type": "stream",
     "text": [
      "1635 distinct station names imported into 'distinct_station_names' collection.\n"
     ]
    }
   ],
   "source": [
    "from bson import ObjectId\n",
    "\n",
    "# Get distinct station names along with start_lat and start_lng\n",
    "distinct_station_data = db[\"withStationName\"].aggregate([\n",
    "    {\n",
    "        \"$group\": {\n",
    "            \"_id\": \"$start_station_name\",\n",
    "            \"start_lat\": {\"$first\": \"$start_lat\"},\n",
    "            \"start_lng\": {\"$first\": \"$start_lng\"}\n",
    "        }\n",
    "    }\n",
    "])\n",
    "\n",
    "collection_name = \"distinct_station_names\"\n",
    "station_names = db[collection_name]\n",
    "\n",
    "station_name_documents = []\n",
    "for data in distinct_station_data:\n",
    "    station_name_documents.append({\n",
    "        \"start_station_name\": data[\"_id\"],\n",
    "        \"start_lat\": data[\"start_lat\"],\n",
    "        \"start_lng\": data[\"start_lng\"],\n",
    "        \"_id\": str(ObjectId())\n",
    "    })\n",
    "\n",
    "station_names.insert_many(station_name_documents)\n",
    "\n",
    "print(f\"{len(station_name_documents)} distinct station names imported into '{collection_name}' collection.\")"
   ]
  },
  {
   "cell_type": "code",
   "execution_count": 27,
   "metadata": {},
   "outputs": [
    {
     "ename": "NameError",
     "evalue": "name 'distinct_station_names' is not defined",
     "output_type": "error",
     "traceback": [
      "\u001b[1;31m---------------------------------------------------------------------------\u001b[0m",
      "\u001b[1;31mNameError\u001b[0m                                 Traceback (most recent call last)",
      "\u001b[1;32mc:\\Users\\alici\\Desktop\\Project-3-Divvying-in-the-Rain\\final_queries.ipynb Cell 28\u001b[0m line \u001b[0;36m1\n\u001b[1;32m----> <a href='vscode-notebook-cell:/c%3A/Users/alici/Desktop/Project-3-Divvying-in-the-Rain/final_queries.ipynb#X36sZmlsZQ%3D%3D?line=0'>1</a>\u001b[0m \u001b[39mprint\u001b[39m(distinct_station_names)\n",
      "\u001b[1;31mNameError\u001b[0m: name 'distinct_station_names' is not defined"
     ]
    }
   ],
   "source": [
    "print(distinct_station_names)"
   ]
  },
  {
   "cell_type": "code",
   "execution_count": 28,
   "metadata": {},
   "outputs": [
    {
     "data": {
      "text/plain": [
       "{'_id': '65339541c6a39455604df43a',\n",
       " 'start_station_name': 'Harborside',\n",
       " 'start_lat': 40.7192517,\n",
       " 'start_lng': -74.034234}"
      ]
     },
     "execution_count": 28,
     "metadata": {},
     "output_type": "execute_result"
    }
   ],
   "source": [
    "station_names.find_one()\n"
   ]
  },
  {
   "cell_type": "code",
   "execution_count": 29,
   "metadata": {},
   "outputs": [],
   "source": [
    "# Define the aggregation pipeline to pull rides by month \n",
    "\n",
    "# Use aggregation pipeline to create a collection that contains start and end station names\n",
    "pipeline = [\n",
    "         {\"$match\": {\"weather_data.sig_prcp\": {\"$exists\": True, \"$eq\": \"yes\"},\n",
    "                     }},\n",
    "         {\"$out\": \"sig_prcp_yes\"}\n",
    "         \n",
    "]\n",
    "# Perform the aggregation\n",
    "result = list(divvy_ridedata_merged.aggregate(pipeline))\n",
    "# Assign to a variable\n",
    "sig_prcp_yes = db[\"sig_prcp_yes\"]\n"
   ]
  },
  {
   "cell_type": "code",
   "execution_count": 30,
   "metadata": {},
   "outputs": [],
   "source": [
    "# Define the aggregation pipeline to pull rides by month \n",
    "\n",
    "# Use aggregation pipeline to create a collection that contains start and end station names\n",
    "pipeline = [\n",
    "         {\"$match\": {\"weather_data.sig_prcp\": {\"$exists\": True, \"$eq\": \"no\"},\n",
    "                     }},\n",
    "         {\"$out\": \"sig_prcp_no\"}\n",
    "         \n",
    "]\n",
    "# Perform the aggregation\n",
    "result = list(divvy_ridedata_merged.aggregate(pipeline))\n",
    "# Assign to a variable\n",
    "sig_prcp_no = db[\"sig_prcp_no\"]"
   ]
  },
  {
   "cell_type": "code",
   "execution_count": 31,
   "metadata": {},
   "outputs": [
    {
     "ename": "TypeError",
     "evalue": "'NoneType' object is not subscriptable",
     "output_type": "error",
     "traceback": [
      "\u001b[1;31m---------------------------------------------------------------------------\u001b[0m",
      "\u001b[1;31mTypeError\u001b[0m                                 Traceback (most recent call last)",
      "\u001b[1;32mc:\\Users\\alici\\Desktop\\Project-3-Divvying-in-the-Rain\\final_queries.ipynb Cell 32\u001b[0m line \u001b[0;36m6\n\u001b[0;32m     <a href='vscode-notebook-cell:/c%3A/Users/alici/Desktop/Project-3-Divvying-in-the-Rain/final_queries.ipynb#X43sZmlsZQ%3D%3D?line=63'>64</a>\u001b[0m \u001b[39m# Loop through each month in the year 2022\u001b[39;00m\n\u001b[0;32m     <a href='vscode-notebook-cell:/c%3A/Users/alici/Desktop/Project-3-Divvying-in-the-Rain/final_queries.ipynb#X43sZmlsZQ%3D%3D?line=64'>65</a>\u001b[0m \u001b[39mfor\u001b[39;00m month \u001b[39min\u001b[39;00m \u001b[39mrange\u001b[39m(\u001b[39m1\u001b[39m, \u001b[39m13\u001b[39m):\n\u001b[1;32m---> <a href='vscode-notebook-cell:/c%3A/Users/alici/Desktop/Project-3-Divvying-in-the-Rain/final_queries.ipynb#X43sZmlsZQ%3D%3D?line=65'>66</a>\u001b[0m     update_num_days_and_sig_prcp_count(\u001b[39m2022\u001b[39;49m, month)\n",
      "\u001b[1;32mc:\\Users\\alici\\Desktop\\Project-3-Divvying-in-the-Rain\\final_queries.ipynb Cell 32\u001b[0m line \u001b[0;36m5\n\u001b[0;32m     <a href='vscode-notebook-cell:/c%3A/Users/alici/Desktop/Project-3-Divvying-in-the-Rain/final_queries.ipynb#X43sZmlsZQ%3D%3D?line=48'>49</a>\u001b[0m sig_prcp_yes_month\u001b[39m.\u001b[39mupdate_one(query, update_query)\n\u001b[0;32m     <a href='vscode-notebook-cell:/c%3A/Users/alici/Desktop/Project-3-Divvying-in-the-Rain/final_queries.ipynb#X43sZmlsZQ%3D%3D?line=50'>51</a>\u001b[0m \u001b[39m# Calculate average rides per day\u001b[39;00m\n\u001b[1;32m---> <a href='vscode-notebook-cell:/c%3A/Users/alici/Desktop/Project-3-Divvying-in-the-Rain/final_queries.ipynb#X43sZmlsZQ%3D%3D?line=51'>52</a>\u001b[0m total_rides \u001b[39m=\u001b[39m sig_prcp_yes_month\u001b[39m.\u001b[39;49mfind_one(query)[\u001b[39m'\u001b[39;49m\u001b[39mtotal_rides\u001b[39;49m\u001b[39m'\u001b[39;49m]\n\u001b[0;32m     <a href='vscode-notebook-cell:/c%3A/Users/alici/Desktop/Project-3-Divvying-in-the-Rain/final_queries.ipynb#X43sZmlsZQ%3D%3D?line=52'>53</a>\u001b[0m sig_prcp_yes_month\u001b[39m.\u001b[39mupdate_one(query, update_query)\n\u001b[0;32m     <a href='vscode-notebook-cell:/c%3A/Users/alici/Desktop/Project-3-Divvying-in-the-Rain/final_queries.ipynb#X43sZmlsZQ%3D%3D?line=54'>55</a>\u001b[0m \u001b[39m# Calculate and update average rides per day with no significant precipitation\u001b[39;00m\n",
      "\u001b[1;31mTypeError\u001b[0m: 'NoneType' object is not subscriptable"
     ]
    }
   ],
   "source": [
    "# Create a new collection that shows average daily rides per month with precipitation \n",
    "\n",
    "pipeline = [\n",
    "    {\n",
    "        \"$group\": {\n",
    "            \"_id\": {\n",
    "                \"year\": {\"$year\": {\"$toDate\": \"$started_at\"}},\n",
    "                \"month\": {\"$month\": {\"$toDate\": \"$started_at\"}}\n",
    "            },\n",
    "            \"total_rides\": {\"$sum\": 1}\n",
    "        }\n",
    "    },\n",
    "    {\n",
    "        \"$project\": {\n",
    "            \"_id\": 0,\n",
    "            \"year\": \"$_id.year\",\n",
    "            \"month\": \"$_id.month\",\n",
    "            \"total_rides\": 1\n",
    "        }\n",
    "    },\n",
    "    {\n",
    "        \"$sort\": {\"year\": 1, \"month\": 1}\n",
    "    }\n",
    "]\n",
    "\n",
    "# Execute the aggregation pipeline and write to a new collection\n",
    "sig_prcp_yes_month = db[\"sig_prcp_yes_month\"]\n",
    "#divvy_rides_by_month = db[\"divvy_rides_by_month\"]\n",
    "sig_prcp_yes_month.drop()  # Drop the collection\n",
    "aggregated_result = sig_prcp_yes.aggregate(pipeline, allowDiskUse=True, collation=None)\n",
    "\n",
    "for doc in aggregated_result:\n",
    "    sig_prcp_yes_month.insert_one(doc)\n",
    "\n",
    "# Function to insert number of days and sig_prcp count for each month\n",
    "def update_num_days_and_sig_prcp_count(year, month):\n",
    "    _, num_days = monthrange(year, month)\n",
    "    query = {'year': year, 'month': month}\n",
    "    update_query = {'$set': {'num_days': num_days}}\n",
    "    sig_prcp_yes_month.update_one(query, update_query)\n",
    "\n",
    "    # Count the number of days with sig_prcp = 'no' for the given month\n",
    "# Count the number of days with sig_prcp = 'no' for the given month\n",
    "    sig_prcp_count = weather_daily.count_documents({\n",
    "        'date': {'$regex': f'^{year:04d}-{month:02d}'},  # Match the year and month in the date field\n",
    "        'sig_prcp': 'yes'\n",
    "    })\n",
    "    update_query = {'$set': {'sig_prcp_count': sig_prcp_count}}\n",
    "    sig_prcp_yes_month.update_one(query, update_query)\n",
    "\n",
    "    # Calculate average rides per day\n",
    "    total_rides = sig_prcp_yes_month.find_one(query)['total_rides']\n",
    "    sig_prcp_yes_month.update_one(query, update_query)\n",
    "\n",
    "    # Calculate and update average rides per day with no significant precipitation\n",
    "    query = {'year': 2022, 'month': month}\n",
    "    document = sig_prcp_yes_month.find_one(query)\n",
    "    \n",
    "    if document['sig_prcp_count'] > 0:  # To avoid division by zero\n",
    "        average_rides_per_day = document['total_rides'] / document['sig_prcp_count']\n",
    "        update_query = {'$set': {'average_rides_per_day': average_rides_per_day}}\n",
    "        sig_prcp_yes_month.update_one(query, update_query)\n",
    "\n",
    "# Loop through each month in the year 2022\n",
    "for month in range(1, 13):\n",
    "    update_num_days_and_sig_prcp_count(2022, month)\n"
   ]
  },
  {
   "cell_type": "code",
   "execution_count": null,
   "metadata": {},
   "outputs": [],
   "source": [
    "# Create a new collection that shows average daily rides per month with no precipitation \n",
    "\n",
    "pipeline = [\n",
    "    {\n",
    "        \"$group\": {\n",
    "            \"_id\": {\n",
    "                \"year\": {\"$year\": {\"$toDate\": \"$started_at\"}},\n",
    "                \"month\": {\"$month\": {\"$toDate\": \"$started_at\"}}\n",
    "            },\n",
    "            \"total_rides\": {\"$sum\": 1}\n",
    "        }\n",
    "    },\n",
    "    {\n",
    "        \"$project\": {\n",
    "            \"_id\": 0,\n",
    "            \"year\": \"$_id.year\",\n",
    "            \"month\": \"$_id.month\",\n",
    "            \"total_rides\": 1\n",
    "        }\n",
    "    },\n",
    "    {\n",
    "        \"$sort\": {\"year\": 1, \"month\": 1}\n",
    "    }\n",
    "]\n",
    "\n",
    "# Execute the aggregation pipeline and write to a new collection\n",
    "sig_prcp_no_month = db[\"sig_prcp_no_month\"]\n",
    "#divvy_rides_by_month = db[\"divvy_rides_by_month\"]\n",
    "sig_prcp_no_month.drop()  # Drop the collection\n",
    "aggregated_result = sig_prcp_no.aggregate(pipeline, allowDiskUse=True, collation=None)\n",
    "\n",
    "for doc in aggregated_result:\n",
    "    sig_prcp_no_month.insert_one(doc)\n",
    "\n",
    "def update_num_days_and_sig_prcp_count(year, month):\n",
    "    _, num_days = monthrange(year, month)\n",
    "    query = {'year': year, 'month': month}\n",
    "    update_query = {'$set': {'num_days': num_days}}\n",
    "    sig_prcp_no_month.update_one(query, update_query)\n",
    "\n",
    "    # Count the number of days with sig_prcp = 'no' for the given month\n",
    "    sig_prcp_count = weather_daily.count_documents({\n",
    "        'date': {'$regex': f'^{year:04d}-{month:02d}'},\n",
    "        'sig_prcp': 'no'\n",
    "    })\n",
    "    update_query = {'$set': {'sig_prcp_count': sig_prcp_count}}\n",
    "    sig_prcp_no_month.update_one(query, update_query)\n",
    "\n",
    "    # Calculate average rides per day\n",
    "    document = sig_prcp_no_month.find_one(query)\n",
    "    \n",
    "    if document['sig_prcp_count'] > 0:\n",
    "        total_rides = document['total_rides']\n",
    "        average_rides_per_day = total_rides / document['sig_prcp_count']\n",
    "        update_query = {'$set': {'average_rides_per_day': average_rides_per_day}}\n",
    "        sig_prcp_no_month.update_one(query, update_query)\n",
    "\n",
    "# Loop through each month in the year 2022\n",
    "for month in range(1, 13):\n",
    "    update_num_days_and_sig_prcp_count(2022, month)\n"
   ]
  },
  {
   "cell_type": "code",
   "execution_count": null,
   "metadata": {},
   "outputs": [],
   "source": [
    "# Create a new collection to store documents with string _id\n",
    "sig_prcp_no_month_string.drop()\n",
    "sig_prcp_no_month_string = db[\"sig_prcp_no_month_with_string_id\"]\n",
    "\n",
    "# Iterate through the documents in the original collection\n",
    "for document in sig_prcp_no_month.find({}):\n",
    "    document_id = document['_id']\n",
    "    string_id = str(document_id)\n",
    "    \n",
    "    # Create a new document with the string _id and other fields\n",
    "    new_document = {\n",
    "        '_id': string_id,\n",
    "        'year': document['year'],\n",
    "        'month': document['month'],\n",
    "        'total_rides': document['total_rides'],\n",
    "        'num_days': document['num_days'],\n",
    "        'sig_prcp_count': document['sig_prcp_count'],\n",
    "        'average_rides_per_day': document['average_rides_per_day']\n",
    "        # Include other fields from the original document\n",
    "    }\n",
    "    \n",
    "    # Insert the new document into the new collection\n",
    "    sig_prcp_no_month_string.insert_one(new_document)\n",
    "\n",
    "print(\"Documents with string _id inserted into the new collection.\")"
   ]
  },
  {
   "cell_type": "code",
   "execution_count": null,
   "metadata": {},
   "outputs": [],
   "source": [
    "# Create a new collection to store documents with string _id\n",
    "sig_prcp_yes_month_string.drop()\n",
    "sig_prcp_yes_month_string = db[\"sig_prcp_yes_month_with_string_id\"]\n",
    "\n",
    "# Iterate through the documents in the original collection\n",
    "for document in sig_prcp_yes_month.find({}):\n",
    "    document_id = document['_id']\n",
    "    string_id = str(document_id)\n",
    "    \n",
    "    # Create a new document with the string _id and other fields\n",
    "    new_document = {\n",
    "        '_id': string_id,\n",
    "        'year': document['year'],\n",
    "        'month': document['month'],\n",
    "        'total_rides': document['total_rides'],\n",
    "        'num_days': document['num_days'],\n",
    "        'sig_prcp_count': document['sig_prcp_count'],\n",
    "        'average_rides_per_day': document['average_rides_per_day']\n",
    "        # Include other fields from the original document\n",
    "    }\n",
    "    \n",
    "    # Insert the new document into the new collection\n",
    "    sig_prcp_yes_month_string.insert_one(new_document)\n",
    "\n",
    "print(\"Documents with string _id inserted into the new collection.\")"
   ]
  },
  {
   "cell_type": "code",
   "execution_count": 32,
   "metadata": {},
   "outputs": [
    {
     "ename": "NameError",
     "evalue": "name 'sig_prcp_yes_month_string' is not defined",
     "output_type": "error",
     "traceback": [
      "\u001b[1;31m---------------------------------------------------------------------------\u001b[0m",
      "\u001b[1;31mNameError\u001b[0m                                 Traceback (most recent call last)",
      "\u001b[1;32mc:\\Users\\alici\\Desktop\\Project-3-Divvying-in-the-Rain\\final_queries.ipynb Cell 36\u001b[0m line \u001b[0;36m2\n\u001b[0;32m      <a href='vscode-notebook-cell:/c%3A/Users/alici/Desktop/Project-3-Divvying-in-the-Rain/final_queries.ipynb#X50sZmlsZQ%3D%3D?line=0'>1</a>\u001b[0m \u001b[39m# Retrieve all documents from the collection\u001b[39;00m\n\u001b[1;32m----> <a href='vscode-notebook-cell:/c%3A/Users/alici/Desktop/Project-3-Divvying-in-the-Rain/final_queries.ipynb#X50sZmlsZQ%3D%3D?line=1'>2</a>\u001b[0m all_documents \u001b[39m=\u001b[39m sig_prcp_yes_month_string\u001b[39m.\u001b[39mfind({})\n\u001b[0;32m      <a href='vscode-notebook-cell:/c%3A/Users/alici/Desktop/Project-3-Divvying-in-the-Rain/final_queries.ipynb#X50sZmlsZQ%3D%3D?line=3'>4</a>\u001b[0m \u001b[39m# Iterate through the documents and print them\u001b[39;00m\n\u001b[0;32m      <a href='vscode-notebook-cell:/c%3A/Users/alici/Desktop/Project-3-Divvying-in-the-Rain/final_queries.ipynb#X50sZmlsZQ%3D%3D?line=4'>5</a>\u001b[0m \u001b[39mfor\u001b[39;00m doc \u001b[39min\u001b[39;00m all_documents:\n",
      "\u001b[1;31mNameError\u001b[0m: name 'sig_prcp_yes_month_string' is not defined"
     ]
    }
   ],
   "source": [
    "# Retrieve all documents from the collection\n",
    "all_documents = sig_prcp_yes_month_string.find({})\n",
    "\n",
    "# Iterate through the documents and print them\n",
    "for doc in all_documents:\n",
    "    print(doc)"
   ]
  },
  {
   "cell_type": "code",
   "execution_count": null,
   "metadata": {},
   "outputs": [],
   "source": [
    "# Retrieve all documents from the collection\n",
    "all_documents = sig_prcp_no_month_string.find({})\n",
    "\n",
    "# Iterate through the documents and print them\n",
    "for doc in all_documents:\n",
    "    print(doc)"
   ]
  }
 ],
 "metadata": {
  "kernelspec": {
   "display_name": "dev2",
   "language": "python",
   "name": "python3"
  },
  "language_info": {
   "codemirror_mode": {
    "name": "ipython",
    "version": 3
   },
   "file_extension": ".py",
   "mimetype": "text/x-python",
   "name": "python",
   "nbconvert_exporter": "python",
   "pygments_lexer": "ipython3",
   "version": "3.10.9"
  },
  "orig_nbformat": 4
 },
 "nbformat": 4,
 "nbformat_minor": 2
}
