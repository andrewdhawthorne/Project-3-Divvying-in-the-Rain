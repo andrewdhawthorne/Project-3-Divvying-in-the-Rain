{
 "cells": [
  {
   "cell_type": "markdown",
   "metadata": {},
   "source": [
    "Final queries for visualizations"
   ]
  },
  {
   "cell_type": "code",
   "execution_count": 113,
   "metadata": {},
   "outputs": [],
   "source": [
    "import pymongo\n",
    "from pymongo import MongoClient, UpdateOne\n",
    "import json"
   ]
  },
  {
   "cell_type": "code",
   "execution_count": 114,
   "metadata": {},
   "outputs": [],
   "source": [
    "# Create an instance of MongoClient\n",
    "mongo = MongoClient(port=27017)"
   ]
  },
  {
   "cell_type": "code",
   "execution_count": 115,
   "metadata": {},
   "outputs": [
    {
     "name": "stdout",
     "output_type": "stream",
     "text": [
      "['admin', 'chicago_bikes', 'classDB', 'config', 'fruits_db', 'gardenDB', 'local', 'met', 'travel_db', 'uk_food', 'withStationName']\n"
     ]
    }
   ],
   "source": [
    "# Confirm list of databases\n",
    "print(mongo.list_database_names())"
   ]
  },
  {
   "cell_type": "code",
   "execution_count": 116,
   "metadata": {},
   "outputs": [],
   "source": [
    "# Assign the database to a variable name\n",
    "db = mongo.chicago_bikes"
   ]
  },
  {
   "cell_type": "code",
   "execution_count": 322,
   "metadata": {},
   "outputs": [
    {
     "name": "stdout",
     "output_type": "stream",
     "text": [
      "['divvy_rides_by_season', 'withLatLong', 'sig_prcp_yes_month_with_string_id', 'withoutStationName', 'Top10Routes', 'Top10EndStations', 'sig_prcp_yes', 'sig_prcp_no', 'sig_prcp_no_month_with_string_id', 'divvy_rides_by_month', 'sig_prcp_yes_month', 'weather_daily', 'Top10StartStations', 'withStationName', 'divvy_ridedata_merged', 'divvy_ridedata', 'RouteDistance', 'sig_prcp_no_month']\n"
     ]
    }
   ],
   "source": [
    "# Review collections in database\n",
    "print(db.list_collection_names())"
   ]
  },
  {
   "cell_type": "code",
   "execution_count": 306,
   "metadata": {},
   "outputs": [],
   "source": [
    "# Assign collections to variables \n",
    "divvy_rides = db['divvy_ridedata']\n",
    "weather_daily = db['weather_daily']\n",
    "divvy_ridedata_merged = db['divvy_ridedata_merged']\n",
    "withoutStation = db['withoutStationName']\n",
    "withStation = db['withStationName']\n",
    "withLatLong = db['withLatLong']"
   ]
  },
  {
   "cell_type": "code",
   "execution_count": 53,
   "metadata": {},
   "outputs": [
    {
     "name": "stdout",
     "output_type": "stream",
     "text": [
      "5667717\n",
      "365\n",
      "5667717\n",
      "427449\n",
      "4369360\n",
      "5661859\n"
     ]
    }
   ],
   "source": [
    "# Count the number of documents in the collections \n",
    "print(divvy_rides.count_documents({}))\n",
    "print(weather_daily.count_documents({}))\n",
    "print(divvy_ridedata_merged.count_documents({}))\n",
    "print(withoutStation.count_documents({}))\n",
    "print(withStation.count_documents({}))\n",
    "print(withLatLong.count_documents({}))"
   ]
  },
  {
   "cell_type": "code",
   "execution_count": 57,
   "metadata": {},
   "outputs": [
    {
     "name": "stdout",
     "output_type": "stream",
     "text": [
      "{'_id': ObjectId('64e4163d948aee61d19bb3bc'), 'ride_id': 'A6CF8980A652D272', 'rideable_type': 'electric_bike', 'started_at': '2022-01-10 08:41:56', 'ended_at': '2022-01-10 08:46:17', 'start_station_name': 'Glenwood Ave & Touhy Ave', 'start_station_id': 525, 'end_station_name': 'Clark St & Touhy Ave', 'end_station_id': 'RP-007', 'start_lat': 42.012763, 'start_lng': -87.6659675, 'end_lat': 42.01256011541, 'end_lng': -87.6743671152, 'member_casual': 'casual', 'started_at_date': '2022-01-10', 'started_at_time': '08:41:56', 'ended_at_date': '2022-01-10', 'ended_at_time': '08:46:17', 'weather_data': {'_id': ObjectId('64e434c9b6c5bdee4f41aa4e'), 'date': '2022-01-10', 'cloud_cover': 17, 'precipitation': 0.24, 'min_temp': 9.5, 'max_temp': 20.84, 'morning_temp': 13.69, 'afternoon_temp': 9.73, 'evening_temp': 14, 'night_temp': 20.75, 'max_windspeed': 16.35}, 'cloud_cover': 17, 'precipitation': 0.24, 'min_temp': 9.5, 'max_temp': 20.84, 'morning_temp': 13.69, 'afternoon_temp': 9.73, 'evening_temp': 14, 'night_temp': 20.75, 'max_windspeed': 16.35}\n",
      "{'_id': ObjectId('64e434c9b6c5bdee4f41aa4b'), 'date': '2022-01-02', 'cloud_cover': 90, 'precipitation': 13.81, 'min_temp': 18.81, 'max_temp': 32.77, 'morning_temp': 28.24, 'afternoon_temp': 26.64, 'evening_temp': 19.63, 'night_temp': 32.77, 'max_windspeed': 18.41, 'prcp_inches': 0.5436997, 'sig_prcp': 'yes', 'avg_temp': 24.836666666666662}\n",
      "{'_id': ObjectId('64e4163d948aee61d19bb3bc'), 'afternoon_temp': 9.73, 'cloud_cover': 17, 'end_lat': 42.01256011541, 'end_lng': -87.6743671152, 'end_station_id': 'RP-007', 'end_station_name': 'Clark St & Touhy Ave', 'ended_at': '2022-01-10 08:46:17', 'ended_at_date': '2022-01-10', 'ended_at_time': '08:46:17', 'evening_temp': 14, 'max_temp': 20.84, 'max_windspeed': 16.35, 'member_casual': 'casual', 'min_temp': 9.5, 'morning_temp': 13.69, 'night_temp': 20.75, 'precipitation': 0.24, 'ride_id': 'A6CF8980A652D272', 'rideable_type': 'electric_bike', 'start_lat': 42.012763, 'start_lng': -87.6659675, 'start_station_id': 525, 'start_station_name': 'Glenwood Ave & Touhy Ave', 'started_at': '2022-01-10 08:41:56', 'started_at_date': '2022-01-10', 'started_at_time': '08:41:56', 'weather_data': {'_id': ObjectId('64e434c9b6c5bdee4f41aa4e'), 'date': '2022-01-10', 'cloud_cover': 17, 'precipitation': 0.24, 'min_temp': 9.5, 'max_temp': 20.84, 'morning_temp': 13.69, 'afternoon_temp': 9.73, 'evening_temp': 14, 'night_temp': 20.75, 'max_windspeed': 16.35}}\n",
      "{'_id': ObjectId('64e4163d948aee61d19c00e4'), 'afternoon_temp': 20.97, 'cloud_cover': 4, 'end_lat': 41.95, 'end_lng': -87.71, 'end_station_id': '', 'end_station_name': '', 'ended_at': '2022-01-04 19:11:14', 'ended_at_date': '2022-01-04', 'ended_at_time': '19:11:14', 'evening_temp': 21.29, 'max_temp': 30.36, 'max_windspeed': 10, 'member_casual': 'member', 'min_temp': 18.03, 'morning_temp': 18.03, 'night_temp': 19.26, 'precipitation': 0, 'ride_id': 'B2147BB28A87F330', 'rideable_type': 'electric_bike', 'start_lat': 41.95, 'start_lng': -87.71, 'start_station_id': '', 'start_station_name': '', 'started_at': '2022-01-04 19:09:38', 'started_at_date': '2022-01-04', 'started_at_time': '19:09:38', 'weather_data': {'_id': ObjectId('64e434c9b6c5bdee4f41aa51'), 'date': '2022-01-04', 'cloud_cover': 4, 'precipitation': 0, 'min_temp': 18.03, 'max_temp': 30.36, 'morning_temp': 18.03, 'afternoon_temp': 20.97, 'evening_temp': 21.29, 'night_temp': 19.26, 'max_windspeed': 10}, 'weather_date': '2022-01-04'}\n",
      "{'_id': ObjectId('64e4163d948aee61d19bb3bc'), 'afternoon_temp': 9.73, 'cloud_cover': 17, 'end_lat': 42.01256011541, 'end_lng': -87.6743671152, 'end_station_id': 'RP-007', 'end_station_name': 'Clark St & Touhy Ave', 'ended_at': '2022-01-10 08:46:17', 'ended_at_date': '2022-01-10', 'ended_at_time': '08:46:17', 'evening_temp': 14, 'max_temp': 20.84, 'max_windspeed': 16.35, 'member_casual': 'casual', 'min_temp': 9.5, 'morning_temp': 13.69, 'night_temp': 20.75, 'precipitation': 0.24, 'ride_id': 'A6CF8980A652D272', 'rideable_type': 'electric_bike', 'start_lat': 42.012763, 'start_lng': -87.6659675, 'start_station_id': 525, 'start_station_name': 'Glenwood Ave & Touhy Ave', 'started_at': '2022-01-10 08:41:56', 'started_at_date': '2022-01-10', 'started_at_time': '08:41:56', 'weather_data': ObjectId('64e434c9b6c5bdee4f41aa4e'), 'weather_date': '2022-01-10'}\n",
      "{'_id': ObjectId('64e4163d948aee61d19bb3bc'), 'afternoon_temp': 9.73, 'cloud_cover': 17, 'end_lat': 42.01256011541, 'end_lng': -87.6743671152, 'end_station_id': 'RP-007', 'end_station_name': 'Clark St & Touhy Ave', 'ended_at': '2022-01-10 08:46:17', 'ended_at_date': '2022-01-10', 'ended_at_time': '08:46:17', 'evening_temp': 14, 'max_temp': 20.84, 'max_windspeed': 16.35, 'member_casual': 'casual', 'min_temp': 9.5, 'morning_temp': 13.69, 'night_temp': 20.75, 'precipitation': 0.24, 'ride_id': 'A6CF8980A652D272', 'rideable_type': 'electric_bike', 'start_lat': 42.012763, 'start_lng': -87.6659675, 'start_station_id': 525, 'start_station_name': 'Glenwood Ave & Touhy Ave', 'started_at': '2022-01-10 08:41:56', 'started_at_date': '2022-01-10', 'started_at_time': '08:41:56', 'weather_data': {'_id': ObjectId('64e434c9b6c5bdee4f41aa4e'), 'date': '2022-01-10', 'cloud_cover': 17, 'precipitation': 0.24, 'min_temp': 9.5, 'max_temp': 20.84, 'morning_temp': 13.69, 'afternoon_temp': 9.73, 'evening_temp': 14, 'night_temp': 20.75, 'max_windspeed': 16.35}}\n"
     ]
    }
   ],
   "source": [
    "# Review a document in each collection \n",
    "print(db.divvy_ridedata.find_one())\n",
    "print(db.weather_daily.find_one())\n",
    "print(db.divvy_ridedata_merged.find_one())\n",
    "print(db.withoutStationName.find_one())\n",
    "print(db.withStationName.find_one())\n",
    "print(db.withLatLong.find_one())"
   ]
  },
  {
   "cell_type": "code",
   "execution_count": 15,
   "metadata": {},
   "outputs": [],
   "source": [
    "# Use aggregation pipeline to find top ten start stations\n",
    "pipeline = [\n",
    "    {\n",
    "        \"$group\": {\n",
    "            \"_id\": \"$start_station_name\",\n",
    "            \"count\": {\"$sum\": 1},\n",
    "            \"latitude\": {\"$first\": \"$end_lat\"},\n",
    "            \"longitude\": {\"$first\": \"$end_lng\"}\n",
    "        }\n",
    "    },\n",
    "    {\n",
    "        \"$sort\": {\"count\": -1}\n",
    "    },\n",
    "    {\n",
    "        \"$limit\": 10\n",
    "    },\n",
    "    {   \"$out\": \"Top10StartStations\"\n",
    "}\n",
    "]\n",
    "# Perform the aggregation\n",
    "result = list(withStation.aggregate(pipeline))\n",
    "\n",
    "# Assign results to variable \n",
    "Top10StartStations = db['Top10StartStations']"
   ]
  },
  {
   "cell_type": "code",
   "execution_count": 37,
   "metadata": {},
   "outputs": [
    {
     "name": "stdout",
     "output_type": "stream",
     "text": [
      "10\n"
     ]
    }
   ],
   "source": [
    "# Count the number of documents in the collection \n",
    "print(Top10StartStations.count_documents({}))"
   ]
  },
  {
   "cell_type": "code",
   "execution_count": 38,
   "metadata": {},
   "outputs": [
    {
     "name": "stdout",
     "output_type": "stream",
     "text": [
      "{'_id': 'Streeter Dr & Grand Ave', 'count': 71269, 'latitude': 41.880958, 'longitude': -87.616743}\n"
     ]
    }
   ],
   "source": [
    "# Review a document in the collection \n",
    "print(db.Top10StartStations.find_one())"
   ]
  },
  {
   "cell_type": "code",
   "execution_count": 18,
   "metadata": {},
   "outputs": [],
   "source": [
    "# Use aggregation pipeline to find top ten end stations\n",
    "pipeline = [\n",
    "    {\n",
    "        \"$group\": {\n",
    "            \"_id\": \"$end_station_name\",\n",
    "            \"count\": {\"$sum\": 1},\n",
    "            \"latitude\": {\"$first\": \"$end_lat\"},\n",
    "            \"longitude\": {\"$first\": \"$end_lng\"}\n",
    "        }\n",
    "    },\n",
    "    {\n",
    "        \"$sort\": {\"count\": -1}\n",
    "    },\n",
    "    {\n",
    "        \"$limit\": 10\n",
    "    },\n",
    "    {   \"$out\": \"Top10EndStations\"\n",
    "}\n",
    "]\n",
    "# Perform the aggregation\n",
    "result = list(withStation.aggregate(pipeline))\n",
    "\n",
    "# Assign to a variable\n",
    "Top10EndStations = db['Top10EndStations']"
   ]
  },
  {
   "cell_type": "code",
   "execution_count": 39,
   "metadata": {},
   "outputs": [
    {
     "name": "stdout",
     "output_type": "stream",
     "text": [
      "10\n"
     ]
    }
   ],
   "source": [
    "# Count the number of documents in the collection \n",
    "print(Top10EndStations.count_documents({}))"
   ]
  },
  {
   "cell_type": "code",
   "execution_count": 40,
   "metadata": {},
   "outputs": [
    {
     "name": "stdout",
     "output_type": "stream",
     "text": [
      "{'_id': 'Streeter Dr & Grand Ave', 'count': 72540, 'latitude': 41.892278, 'longitude': -87.612043}\n"
     ]
    }
   ],
   "source": [
    "# Review a document in the collection \n",
    "print(db.Top10EndStations.find_one())"
   ]
  },
  {
   "cell_type": "code",
   "execution_count": 42,
   "metadata": {},
   "outputs": [],
   "source": [
    "# Create a pipeline query to find the top ten bike routes (by start and end station)\n",
    "pipeline = [\n",
    "    {\n",
    "        \"$group\": {\n",
    "            \"_id\": { \"Start Station\": \"$start_station_name\", \"End Station\": \"$end_station_name\"},\n",
    "            \"count\": {\"$sum\": 1},\n",
    "            \"start latitude\": {\"$first\": \"$start_lat\"},\n",
    "            \"start longitude\": {\"$first\": \"$start_lng\"},\n",
    "            \"end latitude\": {\"$first\": \"$end_lat\"},\n",
    "            \"end longitude\": {\"$first\": \"$end_lng\"}\n",
    "        }\n",
    "    },\n",
    "    {\"$sort\": {\"count\": -1}\n",
    "},\n",
    "    {\n",
    "        \"$limit\": 10\n",
    "},\n",
    "    {   \"$out\": \"Top10Routes\"\n",
    "}\n",
    "]\n",
    "# Perform the aggregation\n",
    "result = list(withStation.aggregate(pipeline))\n",
    "\n",
    "# Assign to a variable\n",
    "Top10Routes = db['Top10Routes']"
   ]
  },
  {
   "cell_type": "code",
   "execution_count": 43,
   "metadata": {},
   "outputs": [
    {
     "name": "stdout",
     "output_type": "stream",
     "text": [
      "10\n"
     ]
    }
   ],
   "source": [
    "# Count the number of documents in the collection \n",
    "print(Top10Routes.count_documents({}))"
   ]
  },
  {
   "cell_type": "code",
   "execution_count": 44,
   "metadata": {},
   "outputs": [
    {
     "name": "stdout",
     "output_type": "stream",
     "text": [
      "{'_id': {'Start Station': 'Streeter Dr & Grand Ave', 'End Station': 'Streeter Dr & Grand Ave'}, 'count': 12202, 'latitude': 41.892278, 'longitude': -87.612043}\n"
     ]
    }
   ],
   "source": [
    "# Review a document in the collection \n",
    "print(db.Top10Routes.find_one())"
   ]
  },
  {
   "cell_type": "code",
   "execution_count": 24,
   "metadata": {},
   "outputs": [],
   "source": [
    "# Create a pipeline query to find docouments that have lat/long  \n",
    "pipeline = [\n",
    "    {\n",
    "        \"$match\": {\n",
    "            \"$and\": [\n",
    "                { \"start_lat\": { \"$ne\": \"\" } },\n",
    "                { \"start_lng\": { \"$ne\": \"\" } },\n",
    "                { \"end_lat\": { \"$ne\": \"\" } },\n",
    "                { \"end_lng\": { \"$ne\": \"\" } }\n",
    "            ]\n",
    "        }\n",
    "    }, \n",
    "    {\"$out\": \"withLatLong\"}\n",
    "]\n",
    "\n",
    "# Perform the aggregation\n",
    "result = list(divvy_ridedata_merged.aggregate(pipeline))"
   ]
  },
  {
   "cell_type": "code",
   "execution_count": 25,
   "metadata": {},
   "outputs": [],
   "source": [
    "# Create a pipeline query to find distance of each route in descending order by length  \n",
    "pipeline = [\n",
    "    {\n",
    "        \"$addFields\": {\n",
    "            \"start_lat\": { \"$toDouble\": \"$start_lat\" },\n",
    "            \"start_lng\": { \"$toDouble\": \"$start_lng\" },\n",
    "            \"end_lat\": { \"$toDouble\": \"$end_lat\" },\n",
    "            \"end_lng\": { \"$toDouble\": \"$end_lng\" }\n",
    "        }\n",
    "    },\n",
    "    {\n",
    "        \"$addFields\": {\n",
    "            \"distance\": {\n",
    "                \"$sqrt\": {\n",
    "                    \"$add\": [\n",
    "                        {\n",
    "                            \"$pow\": [\n",
    "                                { \"$subtract\": [\"$end_lat\", \"$start_lat\"] },\n",
    "                                2\n",
    "                            ]\n",
    "                        },\n",
    "                        {\n",
    "                            \"$pow\": [\n",
    "                                {\n",
    "                                    \"$multiply\": [\n",
    "                                        { \"$subtract\": [\"$end_lng\", \"$start_lng\"] },\n",
    "                                        { \"$cos\": { \"$avg\": [\"$start_lat\", \"$end_lat\"] } }\n",
    "                                    ]\n",
    "                                },\n",
    "                                2\n",
    "                            ]\n",
    "                        }\n",
    "                    ]\n",
    "                }\n",
    "            }\n",
    "        }\n",
    "    },\n",
    "    {\n",
    "        \"$sort\": {\"distance\": -1}\n",
    "    },\n",
    "    {\"$out\": \"RouteDistance\"}\n",
    "]\n",
    "\n",
    "# Perform the aggregation\n",
    "result = list(withLatLong.aggregate(pipeline))\n",
    "\n",
    "# Assign to a variable\n",
    "RouteDistance = db['RouteDistance']"
   ]
  },
  {
   "cell_type": "code",
   "execution_count": 26,
   "metadata": {},
   "outputs": [
    {
     "name": "stdout",
     "output_type": "stream",
     "text": [
      "5661859\n"
     ]
    }
   ],
   "source": [
    "# Count the number of documents in the collection \n",
    "print(RouteDistance.count_documents({}))"
   ]
  },
  {
   "cell_type": "code",
   "execution_count": 27,
   "metadata": {},
   "outputs": [
    {
     "name": "stdout",
     "output_type": "stream",
     "text": [
      "{'_id': ObjectId('64e416a13e678b4792669420'), 'afternoon_temp': 48.54, 'cloud_cover': 75, 'end_lat': 0.0, 'end_lng': 0.0, 'end_station_id': 'chargingstx07', 'end_station_name': 'Green St & Madison Ave*', 'ended_at': '2022-11-09 12:26:18', 'ended_at_date': '2022-11-09', 'ended_at_time': '12:26:18', 'evening_temp': 51.37, 'max_temp': 60.37, 'max_windspeed': 13.8, 'member_casual': 'member', 'min_temp': 47.35, 'morning_temp': 51.44, 'night_temp': 51.82, 'precipitation': 0, 'ride_id': 'E9495F1DC3475D41', 'rideable_type': 'classic_bike', 'start_lat': 41.884114, 'start_lng': -87.654264, 'start_station_id': 18062, 'start_station_name': 'Aberdeen St & Randolph St', 'started_at': '2022-11-09 12:21:55', 'started_at_date': '2022-11-09', 'started_at_time': '12:21:55', 'weather_data': {'_id': ObjectId('64e434c9b6c5bdee4f41ab80'), 'date': '2022-11-09', 'cloud_cover': 75, 'precipitation': 0, 'min_temp': 47.35, 'max_temp': 60.37, 'morning_temp': 51.44, 'afternoon_temp': 48.54, 'evening_temp': 51.37, 'night_temp': 51.82, 'max_windspeed': 13.8}, 'distance': 60.51865544715035}\n",
      "{'_id': ObjectId('64e416a13e678b479266961b'), 'afternoon_temp': 48.54, 'cloud_cover': 75, 'end_lat': 0.0, 'end_lng': 0.0, 'end_station_id': 'chargingstx07', 'end_station_name': 'Green St & Madison Ave*', 'ended_at': '2022-11-09 13:28:28', 'ended_at_date': '2022-11-09', 'ended_at_time': '13:28:28', 'evening_temp': 51.37, 'max_temp': 60.37, 'max_windspeed': 13.8, 'member_casual': 'member', 'min_temp': 47.35, 'morning_temp': 51.44, 'night_temp': 51.82, 'precipitation': 0, 'ride_id': '7F49424E860E7094', 'rideable_type': 'classic_bike', 'start_lat': 41.88318130597391, 'start_lng': -87.64872461557388, 'start_station_id': 13053, 'start_station_name': 'Green St & Washington Blvd', 'started_at': '2022-11-09 13:27:04', 'started_at_date': '2022-11-09', 'started_at_time': '13:27:04', 'weather_data': {'_id': ObjectId('64e434c9b6c5bdee4f41ab80'), 'date': '2022-11-09', 'cloud_cover': 75, 'precipitation': 0, 'min_temp': 47.35, 'max_temp': 60.37, 'morning_temp': 51.44, 'afternoon_temp': 48.54, 'evening_temp': 51.37, 'night_temp': 51.82, 'max_windspeed': 13.8}, 'distance': 60.49044026059129}\n",
      "{'_id': ObjectId('64e416a13e678b4792669524'), 'afternoon_temp': 48.54, 'cloud_cover': 75, 'end_lat': 0.0, 'end_lng': 0.0, 'end_station_id': 'chargingstx07', 'end_station_name': 'Green St & Madison Ave*', 'ended_at': '2022-11-09 15:52:23', 'ended_at_date': '2022-11-09', 'ended_at_time': '15:52:23', 'evening_temp': 51.37, 'max_temp': 60.37, 'max_windspeed': 13.8, 'member_casual': 'member', 'min_temp': 47.35, 'morning_temp': 51.44, 'night_temp': 51.82, 'precipitation': 0, 'ride_id': '75DE33501313D0CE', 'rideable_type': 'classic_bike', 'start_lat': 41.881892, 'start_lng': -87.648789, 'start_station_id': 'TA1307000120', 'start_station_name': 'Green St & Madison St', 'started_at': '2022-11-09 15:52:08', 'started_at_date': '2022-11-09', 'started_at_time': '15:52:08', 'weather_data': {'_id': ObjectId('64e434c9b6c5bdee4f41ab80'), 'date': '2022-11-09', 'cloud_cover': 75, 'precipitation': 0, 'min_temp': 47.35, 'max_temp': 60.37, 'morning_temp': 51.44, 'afternoon_temp': 48.54, 'evening_temp': 51.37, 'night_temp': 51.82, 'max_windspeed': 13.8}, 'distance': 60.45421892068916}\n",
      "{'_id': ObjectId('64e4169d3e678b479262df88'), 'afternoon_temp': 48.54, 'cloud_cover': 75, 'end_lat': 0.0, 'end_lng': 0.0, 'end_station_id': 'chargingstx07', 'end_station_name': 'Green St & Madison Ave*', 'ended_at': '2022-11-09 13:44:38', 'ended_at_date': '2022-11-09', 'ended_at_time': '13:44:38', 'evening_temp': 51.37, 'max_temp': 60.37, 'max_windspeed': 13.8, 'member_casual': 'member', 'min_temp': 47.35, 'morning_temp': 51.44, 'night_temp': 51.82, 'precipitation': 0, 'ride_id': '3B47B333C0D186F0', 'rideable_type': 'classic_bike', 'start_lat': 41.87943409140013, 'start_lng': -87.63550400733948, 'start_station_id': 'TA1309000008', 'start_station_name': 'Franklin St & Adams St (Temp)', 'started_at': '2022-11-09 13:39:03', 'started_at_date': '2022-11-09', 'started_at_time': '13:39:03', 'weather_data': {'_id': ObjectId('64e434c9b6c5bdee4f41ab80'), 'date': '2022-11-09', 'cloud_cover': 75, 'precipitation': 0, 'min_temp': 47.35, 'max_temp': 60.37, 'morning_temp': 51.44, 'afternoon_temp': 48.54, 'evening_temp': 51.37, 'night_temp': 51.82, 'max_windspeed': 13.8}, 'distance': 60.3803869222743}\n",
      "{'_id': ObjectId('64e4169d3e678b4792633f0d'), 'afternoon_temp': 48.54, 'cloud_cover': 75, 'end_lat': 0.0, 'end_lng': 0.0, 'end_station_id': 'chargingstx07', 'end_station_name': 'Green St & Madison Ave*', 'ended_at': '2022-11-09 11:37:30', 'ended_at_date': '2022-11-09', 'ended_at_time': '11:37:30', 'evening_temp': 51.37, 'max_temp': 60.37, 'max_windspeed': 13.8, 'member_casual': 'member', 'min_temp': 47.35, 'morning_temp': 51.44, 'night_temp': 51.82, 'precipitation': 0, 'ride_id': 'BB8AA29838266294', 'rideable_type': 'classic_bike', 'start_lat': 41.879255, 'start_lng': -87.639904, 'start_station_id': 13011, 'start_station_name': 'Canal St & Adams St', 'started_at': '2022-11-09 11:32:53', 'started_at_date': '2022-11-09', 'started_at_time': '11:32:53', 'weather_data': {'_id': ObjectId('64e434c9b6c5bdee4f41ab80'), 'date': '2022-11-09', 'cloud_cover': 75, 'precipitation': 0, 'min_temp': 47.35, 'max_temp': 60.37, 'morning_temp': 51.44, 'afternoon_temp': 48.54, 'evening_temp': 51.37, 'night_temp': 51.82, 'max_windspeed': 13.8}, 'distance': 60.37692802078634}\n",
      "{'_id': ObjectId('64e416a13e678b47926695dc'), 'afternoon_temp': 48.54, 'cloud_cover': 75, 'end_lat': 0.0, 'end_lng': 0.0, 'end_station_id': 'chargingstx07', 'end_station_name': 'Green St & Madison Ave*', 'ended_at': '2022-11-09 11:06:21', 'ended_at_date': '2022-11-09', 'ended_at_time': '11:06:21', 'evening_temp': 51.37, 'max_temp': 60.37, 'max_windspeed': 13.8, 'member_casual': 'member', 'min_temp': 47.35, 'morning_temp': 51.44, 'night_temp': 51.82, 'precipitation': 0, 'ride_id': '0A6988FE859F4D54', 'rideable_type': 'classic_bike', 'start_lat': 41.878166, 'start_lng': -87.631929, 'start_station_id': 'TA1309000004', 'start_station_name': 'LaSalle St & Jackson Blvd', 'started_at': '2022-11-09 10:58:37', 'started_at_date': '2022-11-09', 'started_at_time': '10:58:37', 'weather_data': {'_id': ObjectId('64e434c9b6c5bdee4f41ab80'), 'date': '2022-11-09', 'cloud_cover': 75, 'precipitation': 0, 'min_temp': 47.35, 'max_temp': 60.37, 'morning_temp': 51.44, 'afternoon_temp': 48.54, 'evening_temp': 51.37, 'night_temp': 51.82, 'max_windspeed': 13.8}, 'distance': 60.34348482835676}\n",
      "{'_id': ObjectId('64e416a13e678b4792668fec'), 'afternoon_temp': 48.54, 'cloud_cover': 75, 'end_lat': 0.0, 'end_lng': 0.0, 'end_station_id': 'chargingstx07', 'end_station_name': 'Green St & Madison Ave*', 'ended_at': '2022-11-09 16:26:17', 'ended_at_date': '2022-11-09', 'ended_at_time': '16:26:17', 'evening_temp': 51.37, 'max_temp': 60.37, 'max_windspeed': 13.8, 'member_casual': 'casual', 'min_temp': 47.35, 'morning_temp': 51.44, 'night_temp': 51.82, 'precipitation': 0, 'ride_id': '6AFE1471227BD76F', 'rideable_type': 'classic_bike', 'start_lat': 41.871737, 'start_lng': -87.65103, 'start_station_id': 'TA1307000130', 'start_station_name': 'Morgan St & Polk St', 'started_at': '2022-11-09 16:17:16', 'started_at_date': '2022-11-09', 'started_at_time': '16:17:16', 'weather_data': {'_id': ObjectId('64e434c9b6c5bdee4f41ab80'), 'date': '2022-11-09', 'cloud_cover': 75, 'precipitation': 0, 'min_temp': 47.35, 'max_temp': 60.37, 'morning_temp': 51.44, 'afternoon_temp': 48.54, 'evening_temp': 51.37, 'night_temp': 51.82, 'max_windspeed': 13.8}, 'distance': 60.16971839274559}\n",
      "{'_id': ObjectId('64e4169d3e678b4792632c2c'), 'afternoon_temp': 48.54, 'cloud_cover': 75, 'end_lat': 0.0, 'end_lng': 0.0, 'end_station_id': 'chargingstx07', 'end_station_name': 'Green St & Madison Ave*', 'ended_at': '2022-11-09 16:38:06', 'ended_at_date': '2022-11-09', 'ended_at_time': '16:38:06', 'evening_temp': 51.37, 'max_temp': 60.37, 'max_windspeed': 13.8, 'member_casual': 'casual', 'min_temp': 47.35, 'morning_temp': 51.44, 'night_temp': 51.82, 'precipitation': 0, 'ride_id': '42AF82C53D831251', 'rideable_type': 'electric_bike', 'start_lat': 41.85491616666667, 'start_lng': -87.663692, 'start_station_id': 13307, 'start_station_name': 'Laflin St & Cullerton St', 'started_at': '2022-11-09 16:17:40', 'started_at_date': '2022-11-09', 'started_at_time': '16:17:40', 'weather_data': {'_id': ObjectId('64e434c9b6c5bdee4f41ab80'), 'date': '2022-11-09', 'cloud_cover': 75, 'precipitation': 0, 'min_temp': 47.35, 'max_temp': 60.37, 'morning_temp': 51.44, 'afternoon_temp': 48.54, 'evening_temp': 51.37, 'night_temp': 51.82, 'max_windspeed': 13.8}, 'distance': 59.702291866770615}\n",
      "{'_id': ObjectId('64e4163d948aee61d19be1ad'), 'afternoon_temp': 35.15, 'cloud_cover': 34, 'end_lat': 41.8646, 'end_lng': -87.681, 'end_station_id': 'Pawel Bialowas - Test- PBSC charging station', 'end_station_name': 'Pawel Bialowas - Test- PBSC charging station', 'ended_at': '2022-01-14 11:15:50', 'ended_at_date': '2022-01-14', 'ended_at_time': '11:15:50', 'evening_temp': 32.5, 'max_temp': 38.8, 'max_windspeed': 10, 'member_casual': 'casual', 'min_temp': 30.38, 'morning_temp': 35.74, 'night_temp': 38.39, 'precipitation': 0, 'ride_id': '3327172413547F64', 'rideable_type': 'electric_bike', 'start_lat': 45.635034323, 'start_lng': -73.79647696, 'start_station_id': 'Pawel Bialowas - Test- PBSC charging station', 'start_station_name': 'Pawel Bialowas - Test- PBSC charging station', 'started_at': '2022-01-14 11:13:15', 'started_at_date': '2022-01-14', 'started_at_time': '11:13:15', 'weather_data': {'_id': ObjectId('64e434c9b6c5bdee4f41aa53'), 'date': '2022-01-14', 'cloud_cover': 34, 'precipitation': 0, 'min_temp': 30.38, 'max_temp': 38.8, 'morning_temp': 35.74, 'afternoon_temp': 35.15, 'evening_temp': 32.5, 'night_temp': 38.39, 'max_windspeed': 10}, 'distance': 14.027235887447166}\n",
      "{'_id': ObjectId('64e41674b63a415feabf9c6f'), 'afternoon_temp': 70.48, 'cloud_cover': 20, 'end_lat': 42.37, 'end_lng': -87.83, 'end_station_id': '', 'end_station_name': '', 'ended_at': '2022-07-13 18:02:44', 'ended_at_date': '2022-07-13', 'ended_at_time': '18:02:44', 'evening_temp': 72.48, 'max_temp': 84.45, 'max_windspeed': 14.97, 'member_casual': 'member', 'min_temp': 68.34, 'morning_temp': 78.44, 'night_temp': 84.4, 'precipitation': 0, 'ride_id': '5CE2D7C544D25B78', 'rideable_type': 'electric_bike', 'start_lat': 42.050428867, 'start_lng': -87.677878022, 'start_station_id': 'E008', 'start_station_name': 'Chicago Ave & Sheridan Rd', 'started_at': '2022-07-13 13:51:38', 'started_at_date': '2022-07-13', 'started_at_time': '13:51:38', 'weather_data': {'_id': ObjectId('64e434c9b6c5bdee4f41ab0c'), 'date': '2022-07-13', 'cloud_cover': 20, 'precipitation': 0, 'min_temp': 68.34, 'max_temp': 84.45, 'morning_temp': 78.44, 'afternoon_temp': 70.48, 'evening_temp': 72.48, 'night_temp': 84.4, 'max_windspeed': 14.97}, 'distance': 0.3210151153143836}\n"
     ]
    }
   ],
   "source": [
    "# Find the first 10 documents\n",
    "documents = RouteDistance.find().sort(\"distance\", -1).limit(10)\n",
    "\n",
    "# Print the documents\n",
    "for doc in documents:\n",
    "    print(doc)"
   ]
  },
  {
   "cell_type": "code",
   "execution_count": 148,
   "metadata": {},
   "outputs": [],
   "source": [
    "db[\"divvy_rides_by_month\"].drop()"
   ]
  },
  {
   "cell_type": "code",
   "execution_count": 149,
   "metadata": {},
   "outputs": [
    {
     "name": "stdout",
     "output_type": "stream",
     "text": [
      "Aggregation result has been written to the new collection.\n"
     ]
    }
   ],
   "source": [
    "# Define the aggregation pipeline to pull rides by month \n",
    "pipeline = [\n",
    "    {\n",
    "        \"$group\": {\n",
    "            \"_id\": {\n",
    "                \"year\": {\"$year\": {\"$toDate\": \"$started_at\"}},\n",
    "                \"month\": {\"$month\": {\"$toDate\": \"$started_at\"}}\n",
    "            },\n",
    "            \"total_rides\": {\"$sum\": 1}\n",
    "        }\n",
    "    },\n",
    "    {\n",
    "        \"$project\": {\n",
    "            \"_id\": 0,\n",
    "            \"year\": \"$_id.year\",\n",
    "            \"month\": \"$_id.month\",\n",
    "            \"total_rides\": 1\n",
    "        }\n",
    "    },\n",
    "    {\n",
    "        \"$sort\": {\"year\": 1, \"month\": 1}\n",
    "    }\n",
    "]\n",
    "\n",
    "# Execute the aggregation pipeline and write to a new collection\n",
    "divvy_rides_by_month = db[\"divvy_rides_by_month\"]\n",
    "divvy_rides_by_month.drop()  # Drop the collection\n",
    "aggregated_result = divvy_ridedata_merged.aggregate(pipeline, allowDiskUse=True, collation=None)\n",
    "\n",
    "for doc in aggregated_result:\n",
    "    divvy_rides_by_month.insert_one(doc)\n",
    "\n",
    "print(\"Aggregation result has been written to the new collection.\")"
   ]
  },
  {
   "cell_type": "code",
   "execution_count": 29,
   "metadata": {},
   "outputs": [
    {
     "name": "stdout",
     "output_type": "stream",
     "text": [
      "Inserting document: {'_id': {'year': 2022, 'season': 'Autumn'}, 'total_rides': 1597759}\n",
      "Inserting document: {'_id': {'year': 2022, 'season': 'Spring'}, 'total_rides': 1290149}\n",
      "Inserting document: {'_id': {'year': 2022, 'season': 'Summer'}, 'total_rides': 2378624}\n",
      "Inserting document: {'_id': {'year': 2022, 'season': 'Winter'}, 'total_rides': 401185}\n",
      "Aggregation by season result has been written to the new collection.\n"
     ]
    }
   ],
   "source": [
    "# Define the aggregation pipeline to define divvy rides by season \n",
    "pipeline = [\n",
    "    {\n",
    "        \"$group\": {\n",
    "            \"_id\": {\n",
    "                \"year\": \"$year\",\n",
    "                \"season\": {\n",
    "                    \"$switch\": {\n",
    "                        \"branches\": [\n",
    "                            {\"case\": {\"$in\": [\"$month\", [3, 4, 5]]}, \"then\": \"Spring\"},\n",
    "                            {\"case\": {\"$in\": [\"$month\", [6, 7, 8]]}, \"then\": \"Summer\"},\n",
    "                            {\"case\": {\"$in\": [\"$month\", [9, 10, 11]]}, \"then\": \"Autumn\"},\n",
    "                            {\"case\": {\"$in\": [\"$month\", [12, 1, 2]]}, \"then\": \"Winter\"}\n",
    "                        ],\n",
    "                        \"default\": \"Unknown\"\n",
    "                    }\n",
    "                }\n",
    "            },\n",
    "            \"total_rides\": {\"$sum\": \"$total_rides\"}\n",
    "        }\n",
    "    },\n",
    "    {\n",
    "        \"$sort\": {\"_id.year\": 1, \"_id.season\": 1}\n",
    "    }\n",
    "]\n",
    "\n",
    "# Execute the aggregation pipeline\n",
    "divvy_rides_by_season = db[\"divvy_rides_by_season\"]\n",
    "divvy_rides_by_season.drop()  # Drop the collection\n",
    "aggregated_result = list(divvy_rides_by_month.aggregate(pipeline, allowDiskUse=True, collation=None))\n",
    "\n",
    "# Insert the aggregated documents into the new collection\n",
    "for doc in aggregated_result:\n",
    "    print(\"Inserting document:\", doc)\n",
    "    divvy_rides_by_season.insert_one(doc)\n",
    "\n",
    "print(\"Aggregation by season result has been written to the new collection.\")"
   ]
  },
  {
   "cell_type": "code",
   "execution_count": 321,
   "metadata": {},
   "outputs": [
    {
     "name": "stdout",
     "output_type": "stream",
     "text": [
      "['divvy_rides_by_season', 'withLatLong', 'sig_prcp_yes_month_with_string_id', 'withoutStationName', 'Top10Routes', 'Top10EndStations', 'sig_prcp_yes', 'sig_prcp_no', 'sig_prcp_no_month_with_string_id', 'divvy_rides_by_month', 'sig_prcp_yes_month', 'weather_daily', 'Top10StartStations', 'withStationName', 'divvy_ridedata_merged', 'divvy_ridedata', 'RouteDistance', 'sig_prcp_no_month']\n"
     ]
    }
   ],
   "source": [
    "print(db.list_collection_names())"
   ]
  },
  {
   "cell_type": "code",
   "execution_count": 324,
   "metadata": {},
   "outputs": [
    {
     "name": "stdout",
     "output_type": "stream",
     "text": [
      "1556 distinct station names imported into 'distinct_station_names' collection.\n"
     ]
    }
   ],
   "source": [
    "from bson import ObjectId\n",
    "\n",
    "# Get distinct station names along with start_lat and start_lng\n",
    "distinct_station_data = db[\"withStationName\"].aggregate([\n",
    "    {\n",
    "        \"$group\": {\n",
    "            \"_id\": \"$start_station_name\",\n",
    "            \"start_lat\": {\"$first\": \"$start_lat\"},\n",
    "            \"start_lng\": {\"$first\": \"$start_lng\"}\n",
    "        }\n",
    "    }\n",
    "])\n",
    "\n",
    "collection_name = \"distinct_station_names\"\n",
    "station_names = db[collection_name]\n",
    "\n",
    "station_name_documents = []\n",
    "for data in distinct_station_data:\n",
    "    station_name_documents.append({\n",
    "        \"start_station_name\": data[\"_id\"],\n",
    "        \"start_lat\": data[\"start_lat\"],\n",
    "        \"start_lng\": data[\"start_lng\"],\n",
    "        \"_id\": str(ObjectId())\n",
    "    })\n",
    "\n",
    "station_names.insert_many(station_name_documents)\n",
    "\n",
    "print(f\"{len(station_name_documents)} distinct station names imported into '{collection_name}' collection.\")"
   ]
  },
  {
   "cell_type": "code",
   "execution_count": 323,
   "metadata": {},
   "outputs": [
    {
     "name": "stdout",
     "output_type": "stream",
     "text": [
      "['10101 S Stony Island Ave', '111th St - Morgan Park Metra', '2112 W Peterson Ave', '532 E 43rd St', '63rd & Western Ave - north corner', '63rd & Western Ave - south corner', '63rd St Beach', '83rd St (Avalon Park) Metra', '900 W Harrison St', 'Abbott Park', 'Aberdeen St & Jackson Blvd', 'Aberdeen St & Monroe St', 'Aberdeen St & Randolph St', 'Ada St & 113th St', 'Ada St & 117th St', 'Ada St & 79th St', 'Ada St & 95th St', 'Ada St & Washington Blvd', 'Adler Planetarium', 'Al Raby School', 'Albany Ave & 103rd St', 'Albany Ave & 111th St - NW', 'Albany Ave & 16th St', 'Albany Ave & 26th St', 'Albany Ave & 63rd St', 'Albany Ave & Belmont Ave', 'Albany Ave & Bloomingdale Ave', 'Albany Ave & Douglas Blvd', 'Albany Ave & Montrose Ave', 'Altgeld Gardens', 'Archer (Damen) Ave & 37th St', 'Archer Ave & 43rd St', 'Archer Park', 'Artesian Ave & 55th St', 'Artesian Ave & Hubbard St', 'Ashland Ave & 13th St', 'Ashland Ave & 45th St', 'Ashland Ave & 45th St - midblock south', 'Ashland Ave & 46th St', 'Ashland Ave & 50th St', 'Ashland Ave & 63rd St', 'Ashland Ave & 66th St', 'Ashland Ave & 71st St', 'Ashland Ave & 73rd St', 'Ashland Ave & 74th St', 'Ashland Ave & 76th St', 'Ashland Ave & 78th St', 'Ashland Ave & Archer Ave', 'Ashland Ave & Augusta Blvd', 'Ashland Ave & Belle Plaine Ave', 'Ashland Ave & Blackhawk St', 'Ashland Ave & Chicago Ave', 'Ashland Ave & Division St', 'Ashland Ave & Garfield Blvd', 'Ashland Ave & Grace St', 'Ashland Ave & Grand Ave', 'Ashland Ave & Lake St', 'Ashland Ave & McDowell Ave', 'Ashland Ave & Pershing Rd', 'Ashland Ave & Wellington Ave', 'Ashland Ave & Wrightwood Ave', 'Augusta Blvd & Laramie Ave', 'Austin Ave & Roscoe St', 'Austin Ave & Wellington Ave - midblock', 'Austin Ave & Wrightwood Ave', 'Austin Blvd & Chicago Ave', 'Austin Blvd & Lake St', 'Austin Blvd & Madison St', 'Austin Blvd & North Ave', 'Austin Branch Chicago Public Library', 'Avenue J & 106th St', 'Avenue J & 112th St', 'Avenue L & 114th St', 'Avenue M & 132nd St', 'Avenue O & 118th St', 'Avenue O & 134th St', 'Avers Ave & Archer Ave', 'Avers Ave & Belmont Ave', 'Avers Ave & Irving Park Rd', 'Avers Ave & Ogden Ave', 'Avondale Ave & Addison St', 'Avondale Ave & Irving Park Rd', 'Back of the Yards Park', 'Baltimore Ave & 133rd St', 'Baltimore Ave & 87th St', 'Base - 2132 W Hubbard', 'Base - 2132 W Hubbard Warehouse', 'Bell Ave & 95th St', 'Bennett Ave & 79th St', 'Bennett Ave & 96th St', 'Bensley Ave & 103rd St', 'Benson Ave & Church St', 'Bernard St & Elston Ave', 'Big Marsh Park', 'Bishop St & 46th St', 'Bissell St & Armitage Ave', 'Bissell St & Armitage Ave - Charging', 'Bissell St & Armitage Ave*', 'Blackstone Ave & Hyde Park Blvd', 'Bloomingdale Ave & Harlem Ave', 'Blue Island Ave & 18th St', 'Bosworth Ave & Howard St', 'Bradley Park', 'Brandon Ave & 91st St', 'Brighton Park Branch Chicago Library', 'Broadway & Argyle St', 'Broadway & Barry Ave', 'Broadway & Belmont Ave', 'Broadway & Berwyn Ave', 'Broadway & Cornelia Ave', 'Broadway & Granville Ave', 'Broadway & Ridge Ave', 'Broadway & Sheridan Rd', 'Broadway & Thorndale Ave', 'Broadway & Waveland Ave', 'Broadway & Wilson - Truman College Vaccination Site', 'Broadway & Wilson Ave', 'Buckingham Fountain', 'Buckingham Fountain (Temp)', 'Budlong Woods Library', 'Buffalo Ave & 133rd St', 'Buffalo Ave & 89th St', 'Burling St & Diversey Pkwy', 'Burnham Greenway & 105th St', 'Burnham Greenway & 112th St', 'Burnham Harbor', 'California & 16th St', 'California Ave & 21st St', 'California Ave & 23rd Pl', 'California Ave & 26th St', 'California Ave & 29th St', 'California Ave & 36th St', 'California Ave & Altgeld St', 'California Ave & Byron St', 'California Ave & Cortez St', 'California Ave & Devon Ave - NE', 'California Ave & Devon Ave - NW', 'California Ave & Division St', 'California Ave & Fletcher St', 'California Ave & Francis Pl (Temp)', 'California Ave & Lake St', 'California Ave & Marquette Rd', 'California Ave & Milwaukee Ave', 'California Ave & Montrose Ave', 'California Ave & North Ave', 'California Ave & Ogden Ave', 'California Ave & Pershing Rd', 'California Ave & Touhy Ave - NW', 'California Ave & Winona St', 'Calumet Ave & 103rd St', 'Calumet Ave & 18th St', 'Calumet Ave & 21st St', 'Calumet Ave & 33rd St', 'Calumet Ave & 35th St', 'Calumet Ave & 51st St', 'Calumet Ave & 71st St', 'Calumet Ave & Garfield Blvd', 'Calumet Park', 'Campbell Ave & 51st St', 'Campbell Ave & Fullerton Ave', 'Campbell Ave & Irving Park Rd', 'Campbell Ave & Montrose Ave', 'Campbell Ave & Montrose Ave (Temp)', 'Campbell Ave & North Ave', 'Canal St & Adams St', 'Canal St & Harrison St', 'Canal St & Jackson Blvd', 'Canal St & Madison St', 'Canal St & Monroe St', 'Canal St & Taylor St', 'Cannon Dr & Fullerton Ave', 'Carpenter St & 63rd St', 'Carpenter St & Huron St', 'Central Ave & Chicago Ave', 'Central Ave & Corcoran Pl', 'Central Ave & George St', 'Central Ave & Harrison St', 'Central Ave & Lake St', 'Central Ave & Madison St', 'Central Ave & North Ave', 'Central Ave & Parker Ave', 'Central Ave & Roscoe St', 'Central Park & Augusta Blvd', 'Central Park Ave & 24th St', 'Central Park Ave & Bloomingdale Ave', 'Central Park Ave & Douglas Blvd', 'Central Park Ave & Elbridge Ave', 'Central Park Ave & North Ave', 'Central Park Ave & Ogden Ave', 'Central Park Ave & Ohio St', 'Central Park Blvd & 5th Ave', 'Central St & Girard Ave', 'Central St Metra', 'Chappel Ave & 71st St', 'Chase Ave & Touhy Ave - NE', 'Chase Ave & Touhy Ave - NW', 'Cherry Ave & Blackhawk St', 'Chicago Ave & Sheridan Rd', 'Chicago Ave & Washington St', 'Chicago State University', 'Chopin Park', 'Christiana Ave & 55th St', 'Christiana Ave & Archer Ave', 'Christiana Ave & Belmont Ave', 'Christiana Ave & Bryn Mawr Ave', 'Christiana Ave & Lawrence Ave', 'Cicero Ave & Altgeld St', 'Cicero Ave & Cortland St - midblock', 'Cicero Ave & Flournoy St', 'Cicero Ave & Grace St', 'Cicero Ave & Lake St', 'Cicero Ave & Le Moyne St - midblock', 'Cicero Ave & North Ave', 'Cicero Ave & Quincy St', 'Cicero Ave & Roscoe St', 'Cicero Ave & Wellington Ave', 'Cicero Ave & Wrightwood Ave', 'City Rack - Albany Ave & 103rd St', 'Cityfront Plaza Dr & Pioneer Ct', 'Claremont Ave & 71st St', 'Claremont Ave & Hirsch St', 'Clarendon Ave & Gordon Ter', 'Clarendon Ave & Junior Ter', 'Clarendon Ave & Leland Ave', 'Clark St & 9th St (AMLI)', 'Clark St & Armitage Ave', 'Clark St & Berwyn Ave', 'Clark St & Bryn Mawr Ave', 'Clark St & Chicago Ave', 'Clark St & Columbia Ave', 'Clark St & Drummond Pl', 'Clark St & Elm St', 'Clark St & Elmdale Ave', 'Clark St & Grace St', 'Clark St & Ida B Wells Dr', 'Clark St & Jarvis Ave', 'Clark St & Lake St', 'Clark St & Leland Ave', 'Clark St & Lincoln Ave', 'Clark St & Lunt Ave', 'Clark St & Montrose Ave', 'Clark St & Newport St', 'Clark St & North Ave', 'Clark St & Randolph St', 'Clark St & Schiller St', 'Clark St & Schreiber Ave', 'Clark St & Touhy Ave', 'Clark St & Wellington Ave', 'Clark St & Winnemac Ave', 'Clark St & Wrightwood Ave', 'Clifton Ave & Armitage Ave', 'Clinton St & 18th St', 'Clinton St & Jackson Blvd', 'Clinton St & Lake St', 'Clinton St & Madison St', 'Clinton St & Polk St', 'Clinton St & Roosevelt Rd', 'Clinton St & Tilden St', 'Clinton St & Washington Blvd', 'Clybourn Ave & Division St', 'Clyde Ave & 87th St', 'Colfax Ave & 83rd St', 'Columbus Dr & Randolph St', 'Commercial Ave & 100th St', 'Commercial Ave & 130th St', 'Commercial Ave & 83rd St', 'Commercial Ave & 89th St', 'Conservatory Dr & Lake St', 'Constance Ave & 95th St', 'Corliss Ave & 133rd St', 'Cornell Ave & Hyde Park Blvd', 'Cornell Dr & Hayes Dr', 'Cottage Grove & 85th St', 'Cottage Grove & 86th St', 'Cottage Grove Ave & 111th Pl', 'Cottage Grove Ave & 111th St', 'Cottage Grove Ave & 43rd St', 'Cottage Grove Ave & 47th St', 'Cottage Grove Ave & 51st St', 'Cottage Grove Ave & 63rd St', 'Cottage Grove Ave & 67th St', 'Cottage Grove Ave & 71st St', 'Cottage Grove Ave & 75th St', 'Cottage Grove Ave & 78th St', 'Cottage Grove Ave & 83rd St', 'Cottage Grove Ave & 87th St', 'Cottage Grove Ave & 91st St', 'Cottage Grove Ave & 92nd St', 'Cottage Grove Ave & 98th St', 'Cottage Grove Ave & Oakwood Blvd', 'Daley Center Plaza', 'Damen Ave & 33rd St', 'Damen Ave & 47th St', 'Damen Ave & 51st St', 'Damen Ave & 59th St', 'Damen Ave & 74th St', 'Damen Ave & 80th St', 'Damen Ave & Charleston St', 'Damen Ave & Chicago Ave', 'Damen Ave & Clybourn Ave', 'Damen Ave & Cortland St', 'Damen Ave & Coulter St', 'Damen Ave & Cullerton St', 'Damen Ave & Division St', 'Damen Ave & Foster Ave', 'Damen Ave & Grand Ave', 'Damen Ave & Leland Ave', 'Damen Ave & Madison St', 'Damen Ave & Melrose Ave', 'Damen Ave & Pershing Rd', 'Damen Ave & Pierce Ave', 'Damen Ave & Sunnyside Ave', 'Damen Ave & Thomas St (Augusta Blvd)', 'Damen Ave & Wabansia Ave', 'Damen Ave & Walnut (Lake) St', 'Damen Ave & Wellington Ave', 'Dauphin Ave & 103rd St', 'Dauphin Ave & 87th St', 'Dayton St & North Ave', 'Dearborn Pkwy & Delaware Pl', 'Dearborn St & Adams St', 'Dearborn St & Erie St', 'Dearborn St & Monroe St', 'Dearborn St & Van Buren St', 'Delano Ct & Roosevelt Rd', 'Desplaines St & Jackson Blvd', 'Desplaines St & Kinzie St', 'Desplaines St & Randolph St', 'Divvy Valet - Oakwood Beach', 'Dodge Ave & Church St', 'Dodge Ave & Main St', 'Dodge Ave & Mulford St', 'Dorchester Ave & 49th St', 'Dorchester Ave & 63rd St', 'Doty Ave & 111th St', 'Drake Ave & Addison St', 'Drake Ave & Montrose Ave', 'Drexel Ave & 87th St', 'DuSable Lake Shore Dr & Belmont Ave', 'DuSable Lake Shore Dr & Diversey Pkwy', 'DuSable Lake Shore Dr & Monroe St', 'DuSable Lake Shore Dr & North Blvd', 'DuSable Lake Shore Dr & Wellington Ave', 'DuSable Museum', 'Dusable Harbor', 'East End Ave & 87th St', 'Eastlake Ter & Howard St', 'Eastlake Ter & Rogers Ave', 'Eberhart Ave & 131st St', 'Eberhart Ave & 61st St', 'Eberhart Ave & 91st St', 'Eckhart Park', 'Eggleston Ave & 114th St', 'Eggleston Ave & 69th St', 'Eggleston Ave & 92nd St', 'Eli Whitney Public School', 'Elizabeth (May) St & Fulton St', 'Elizabeth St & 47th St', 'Elizabeth St & 59th St', 'Elizabeth St & 92nd St', 'Elizabeth St & Fulton St', 'Ellis Ave & 132nd Pl', 'Ellis Ave & 53rd St', 'Ellis Ave & 55th St', 'Ellis Ave & 58th St', 'Ellis Ave & 60th St', 'Ellis Ave & 83rd St', 'Elmwood Ave & Austin St', 'Elston Ave & Cortland St', 'Elston Ave & George St', 'Elston Ave & Henderson St', 'Elston Ave & Wabansia Ave', 'Emerald Ave & 28th St', 'Emerald Ave & 31st St', 'Emerald Ave & 43rd St', 'Emerald Ave & 45th St', 'Evans Ave & 63rd St', 'Evans Ave & 75th St', 'Evanston Civic Center', 'Ewing Ave & 101st St', 'Ewing Ave & 105th St', 'Ewing Ave & 106th St', 'Ewing Ave & 112th St', 'Ewing Ave & 96th St', 'Ewing Ave & 99th St', 'Ewing Ave & Burnham Greenway', 'Ewing Ave & Indianapolis Ave', 'Exchange Ave & 79th St', 'Fairbanks Ct & Grand Ave', 'Fairbanks St & Superior St', 'Fairfield Ave & 44th St', 'Fairfield Ave & Roosevelt Rd', 'Federal St & Polk St', 'Field Blvd & South Water St', 'Field Museum', 'Financial Pl & Ida B Wells Dr', 'Forrestville Ave & 47th St', 'Fort Dearborn Dr & 31st St', 'Francisco Ave & 47th St', 'Francisco Ave & Bloomingdale Ave', 'Francisco Ave & Foster Ave', 'Francisco Ave & Hollywood Ave', 'Francisco Ave & Montrose Ave', 'Franklin St & Adams St (Temp)', 'Franklin St & Chicago Ave', 'Franklin St & Illinois St', 'Franklin St & Jackson Blvd', 'Franklin St & Lake St', 'Franklin St & Monroe St', 'Fullerton & Monitor', 'Glenwood Ave & Morse Ave', 'Glenwood Ave & Touhy Ave', 'Grand Ave & North Ave', 'Green St & 103rd St', 'Green St & Madison Ave*', 'Green St & Madison St', 'Green St & Randolph St', 'Green St & Randolph St*', 'Green St & Washington Blvd', 'Greenview Ave & Diversey Pkwy', 'Greenview Ave & Fullerton Ave', 'Greenview Ave & Jarvis Ave', 'Greenwood Ave & 47th St', 'Greenwood Ave & 79th St', 'Greenwood Ave & 87th St', 'Greenwood Ave & 91st St', 'Greenwood Ave & 97th St', 'Greenwood Ave & Lake Park Ave', 'Hale Ave & 107th St', 'Hale Ave & 111th St', 'Halsted & 63rd - Kennedy-King Vaccination Site', 'Halsted St & 102nd St', 'Halsted St & 104th St', 'Halsted St & 111th St', 'Halsted St & 18th St', 'Halsted St & 21st St', 'Halsted St & 35th St', 'Halsted St & 37th St', 'Halsted St & 41st St', 'Halsted St & 47th Pl', 'Halsted St & 51st St', 'Halsted St & 56th St', 'Halsted St & 59th St', 'Halsted St & 63rd St', 'Halsted St & 64th St', 'Halsted St & 69th St', 'Halsted St & 73rd St', 'Halsted St & 76th St', 'Halsted St & 78th St', 'Halsted St & 80th St', 'Halsted St & 95th St - SE', 'Halsted St & 95th St - SW', 'Halsted St & 96th St', 'Halsted St & Archer Ave', 'Halsted St & Clybourn Ave', 'Halsted St & Dickens Ave', 'Halsted St & Maxwell St', 'Halsted St & North Branch St', 'Halsted St & Polk St', 'Halsted St & Roosevelt Rd', 'Halsted St & Roscoe St', 'Halsted St & Willow St', 'Halsted St & Wrightwood Ave', 'Hamilton Ave & 95th St', 'Hamlin Ave & 62nd Pl', 'Hamlin Ave & Chicago Ave', 'Hamlin Ave & Fullerton Ave', 'Hamlin Ave & Grand Ave', 'Hamlin Ave & Montrose Ave', 'Hampden Ct & Diversey Ave', 'Harding Ave & 26th St', 'Harding Ave & 47th St', 'Harlem & Irving Park', 'Harlem Ave & Grace St', 'Harold Washington Park', 'Harper Ave & 59th St', 'Harper Ave & 63rd St', 'Harriet E Sayre Public School', 'Harvard Ave & 103rd St', 'Hastings WH 2', 'Hegewisch Metra Station', 'Hermitage Ave & Polk St', 'Hiawatha Park', 'Homan Ave & 111th St', 'Homan Ave & 65th St', 'Homan Ave & Fillmore St', 'Homewood Ave & 115th St', 'Homewood Ave & Monterey Ave', 'Honore St & Division St', 'Houston Ave & 91st St', 'Houston Ave & 92nd St', 'Hoyne Ave & 110th Pl', 'Hoyne Ave & 34th St', 'Hoyne Ave & 47th St', 'Hoyne Ave & Balmoral Ave', 'Humboldt Blvd & Armitage Ave', 'Hyde Park Blvd & 53rd St', 'Hyde Park Blvd & 55th St', 'Indiana Ave & 103rd St', 'Indiana Ave & 133rd St', 'Indiana Ave & 26th St', 'Indiana Ave & 31st St', 'Indiana Ave & 40th St', 'Indiana Ave & Roosevelt Rd', 'Ingleside Ave & 79th St', 'Jefferson St & Monroe St', 'Jeffery Blvd & 67th St', 'Jeffery Blvd & 71st St', 'Jeffery Blvd & 76th St', 'Jeffery Blvd & 83rd St', 'Jeffrey Blvd & 71st St', 'Jonathan Y Scammon Public School', 'Justine St & 87th St', 'Karlov Ave & Kamerling Ave', 'Karlov Ave & Madison St', 'Karlov Ave & Milwaukee Ave', 'Kedvale Ave & 63rd St', 'Kedvale Ave & Avondale Ave', 'Kedzie & 103rd St - East', 'Kedzie Ave & 104th St', 'Kedzie Ave & 110th St', 'Kedzie Ave & 21st St', 'Kedzie Ave & 24th St', 'Kedzie Ave & 45th St', 'Kedzie Ave & 48th Pl', 'Kedzie Ave & 52nd St', 'Kedzie Ave & 54th St - SE', 'Kedzie Ave & 54th St - SW', 'Kedzie Ave & 57th St', 'Kedzie Ave & 58th St', 'Kedzie Ave & 61st Pl', 'Kedzie Ave & 63rd St', 'Kedzie Ave & 64th St - SE', 'Kedzie Ave & 64th St - SW', 'Kedzie Ave & Archer Ave', 'Kedzie Ave & Argyle St', 'Kedzie Ave & Bryn Mawr Ave', 'Kedzie Ave & Chicago Ave', 'Kedzie Ave & Foster Ave', 'Kedzie Ave & George St', 'Kedzie Ave & Harrison St', 'Kedzie Ave & Lake St', 'Kedzie Ave & Leland Ave', 'Kedzie Ave & Milwaukee Ave', 'Kedzie Ave & Palmer Ct', 'Kedzie Ave & Pershing Rd', 'Kedzie Ave & Roosevelt Rd', 'Keeler Ave & 55th St', 'Keeler Ave & Roosevelt Rd', 'Kenneth Ave & 50th St', 'Kenneth Ave & 63rd St', 'Kenosha & Wellington', 'Kenton Ave & Madison St', 'Kenton Ave & Palmer St', 'Keystone Ave & Fullerton Ave', 'Keystone Ave & Irving Park Rd', 'Keystone Ave & Montrose Ave', 'Keystone Ave & North Ave', 'Kilbourn & Belden', 'Kilbourn & Roscoe', 'Kilbourn Ave & Fullerton Ave', 'Kilbourn Ave & Irving Park Rd', 'Kilbourn Ave & Milwaukee Ave', 'Kildare & Cermak', 'Kildare Ave & 26th St', 'Kildare Ave & 47th St', 'Kildare Ave & 55th St', 'Kildare Ave & 63rd St', 'Kildare Ave & Chicago Ave', 'Kildare Ave & Division Ave', 'Kildare Ave & Division St', 'Kildare Ave & Montrose Ave', 'Kildare Ave & Washignton Blvd', 'Kilpatrick Ave & Grand Ave', 'Kilpatrick Ave & Parker Ave', 'Kimball Ave & Belmont Ave', 'Kimball Ave & Carmen Ave', 'Kimbark Ave & 53rd St', 'Kimbark Ave & 63rd St', 'Kimbark Ave & 67th St', 'Kingsbury St & Erie St', 'Kingsbury St & Kinzie St', 'Knox Ave & Montrose Ave', 'Kolin Ave & Archer Ave', 'Komensky Ave & 31st St', 'Komensky Ave & 55th St', 'Komensky Ave & 59th St', 'Kosciuszko Park', 'Kostner Ave & 63rd St', 'Kostner Ave & Adams St', 'Kostner Ave & Armitage Ave', 'Kostner Ave & Lake St', 'Kostner Ave & North Ave', 'Kostner Ave & Wrightwood Ave', 'La Villita Park (Albany/30th)', 'LaSalle Dr & Huron St', 'LaSalle St & Adams St', 'LaSalle St & Illinois St', 'LaSalle St & Jackson Blvd', 'LaSalle St & Washington St', 'Lafayette Ave & 119th St', 'Lafayette Ave & 87th St - NW', 'Lafayette Ave & 87th St - SW', 'Lafayette Ave & 95th St', 'Laflin St & 51st St', 'Laflin St & 79th St', 'Laflin St & Cullerton St', 'Lake Park Ave & 35th St', 'Lake Park Ave & 44th St', 'Lake Park Ave & 47th St', 'Lake Park Ave & 53rd St', 'Lake Park Ave & 56th St', 'Lakefront Trail & Bryn Mawr Ave', 'Lakefront Trail & Wilson Ave', 'Lakeview Ave & Fullerton Pkwy', 'Lamon Ave & Archer Ave', 'Lamon Ave & Armitage Ave', 'Lamon Ave & Belmont Ave', 'Lamon Ave & Chicago Ave', 'Langley Ave & 105th Pl', 'Langley Ave & 79th St', 'Laramie Ave & Belmont Ave', 'Laramie Ave & Fullerton Ave', 'Laramie Ave & Gladys Ave', 'Laramie Ave & Grand Ave', 'Laramie Ave & Kinzie St', 'Laramie Ave & Madison St', 'Larrabee St & Armitage Ave', 'Larrabee St & Division St', 'Larrabee St & Kingsbury St', 'Larrabee St & Menomonee St', 'Larrabee St & North Ave', 'Larrabee St & Oak St', 'Larrabee St & Webster Ave', 'Latrobe Ave & Chicago Ave', 'Latrobe Ave & Lake St', 'Lavergne & Fullerton', 'Lavergne Ave & 46th St', 'Lavergne Ave & Division St', 'Lawler Ave & 50th St', 'Lawndale Ave & 111th St', 'Lawndale Ave & 16th St', 'Lawndale Ave & 30th St', 'Lawndale Ave & Diversey Ave', 'Lawndale Ave & Polk St', 'Lawrence Ave & 103rd St', 'Leamington Ave & Hirsch St', 'Leavitt St & Addison St', 'Leavitt St & Archer Ave', 'Leavitt St & Armitage Ave', 'Leavitt St & Belmont Ave', 'Leavitt St & Chicago Ave', 'Leavitt St & Division St', 'Leavitt St & Lawrence Ave', 'Leavitt St & North Ave', 'Legler Regional Library', 'Lincoln Ave & Addison St', 'Lincoln Ave & Balmoral Ave', 'Lincoln Ave & Belle Plaine Ave', 'Lincoln Ave & Belmont Ave', 'Lincoln Ave & Belmont Ave (Temp)', 'Lincoln Ave & Diversey Pkwy', 'Lincoln Ave & Fullerton Ave', 'Lincoln Ave & Peterson Ave', 'Lincoln Ave & Roscoe St', 'Lincoln Ave & Roscoe St - Charging', 'Lincoln Ave & Roscoe St*', 'Lincoln Ave & Sunnyside Ave', 'Lincoln Ave & Waveland Ave', 'Lincoln Ave & Winona St', 'Lincoln Park Conservatory', 'Lincolnwood Dr & Central St', 'Linder Ave & Belmont Ave', 'Lockwood Ave & Wrightwood Ave', 'Logan Blvd & Elston Ave', 'Long & Irving Park', 'Long Ave & Belden Ave', 'Long Ave & Belmont Ave', 'Long Ave & North Ave', 'Longwood Dr & 111th St', 'Loomis Blvd & 83rd St', 'Loomis Blvd & 84th St', 'Loomis St & 87th St', 'Loomis St & 89th St', 'Loomis St & Archer Ave', 'Loomis St & Jackson Blvd', 'Loomis St & Lexington St', 'Loomis St & Lexington St*', 'Lorel Ave & Chicago Ave', 'Lowe Ave & 98th St', 'Lowell Ave & Elston Ave', 'MLK Jr Dr & 29th St', 'MLK Jr Dr & 47th St', 'MLK Jr Dr & 56th St', 'MLK Jr Dr & 63rd St', 'MLK Jr Dr & 83rd St', 'MLK Jr Dr & Pershing Rd', 'MTV Hubbard St', 'Mackinaw Ave & 106th St', 'Mackinaw Ave & 108th St', 'Mackinaw Ave & 85th St', 'Major Ave & Bloomingdale Ave', 'Major Taylor Trail & 115th St', 'Major Taylor Trail & 124th St', 'Malcolm X College', 'Malcolm X College Vaccination Site', 'Manor Ave & Leland Ave', 'Maplewood Ave & 59th St', 'Maplewood Ave & Peterson Ave', 'Marine Dr & Ainslie St', 'Marquette Ave & 79th St', 'Marquette Ave & 89th St', 'Marshfield Ave & 44th St', 'Marshfield Ave & 45th St', 'Marshfield Ave & 59th St', 'Marshfield Ave & 87th St', 'Martin Luther King Dr & 111th St', 'Martin Luther King Dr & 44th St', 'Martin Luther King Dr & 69th St', 'Maryland Ave & 104th St', 'Maryland Ave & 87th ST', 'Mason Ave & Belmont Ave', 'Mason Ave & Roosevelt Rd', 'May St & 63rd St', 'May St & 69th St', 'May St & Cullerton St', 'May St & Taylor St', 'Mayfield & Roosevelt Rd', 'McClurg Ct & Erie St', 'McClurg Ct & Ohio St', 'McCormick Blvd & Devon Ave', 'McCormick Place', 'McVicker Ave & Grand Ave', 'Meade Ave & Addison St', 'Meade Ave & Diversey Ave', 'Melvina Ave & Belmont Ave', 'Menard Ave & Adams Blvd', 'Menard Ave & Agusta Blvd', 'Menard Ave & Belmont Ave', 'Menard Ave & Dakin St - midblock', 'Menard Ave & Division St', 'Menard Ave & Grand Ave', 'Menard Ave & Madison St', 'Menard Ave & North Ave', 'Michigan Ave & 102nd St', 'Michigan Ave & 110th St', 'Michigan Ave & 113th St', 'Michigan Ave & 114th St', 'Michigan Ave & 119th St', 'Michigan Ave & 14th St', 'Michigan Ave & 18th St', 'Michigan Ave & 71st St', 'Michigan Ave & 8th St', 'Michigan Ave & 96th St', 'Michigan Ave & Ida B Wells Dr', 'Michigan Ave & Jackson Blvd', 'Michigan Ave & Lake St', 'Michigan Ave & Madison St', 'Michigan Ave & Oak St', 'Michigan Ave & Pearson St', 'Michigan Ave & Washington St', 'Midway Orange Line', 'Mies van der Rohe Way & Chestnut St', 'Mies van der Rohe Way & Chicago Ave', 'Millard Ave & 26th St', 'Millennium Park', 'Milwaukee Ave & Addison St', 'Milwaukee Ave & Cuyler Ave', 'Milwaukee Ave & Diversey Ave', 'Milwaukee Ave & Fullerton Ave', 'Milwaukee Ave & Grand Ave', 'Milwaukee Ave & Haussen Ct', 'Milwaukee Ave & Rockwell St', 'Milwaukee Ave & School St', 'Milwaukee Ave & Wabansia Ave', 'Milwaukee Ave & Waveland Ave', 'Monticello Ave & Belmont Ave', 'Monticello Ave & Chicago Ave', 'Monticello Ave & Irving Park Rd', 'Montrose Harbor', 'Morgan Ave & 14th Pl', 'Morgan St & 103rd St', 'Morgan St & 18th St', 'Morgan St & 31st St', 'Morgan St & 87th St', 'Morgan St & 95th St', 'Morgan St & Lake St', 'Morgan St & Lake St*', 'Morgan St & Pershing Rd', 'Morgan St & Polk St', 'Mozart Elementary School', 'Mozart St & Jackson Blvd', 'Mt Greenwood Library - North', 'Mt Greenwood Library - South', 'Mulligan Ave & Wellington Ave', 'Museum of Science and Industry', 'Muskegon Ave & 89th St', 'N Carpenter St & W Lake St', 'N Clark St & W Elm St', 'N Damen Ave & W Chicago Ave', 'N Green St & W Lake St', 'N Narragansett Ave & Grand Ave', 'N Paulina St & Lincoln Ave', 'N Sheffield Ave & W Wellington Ave', 'N Shore Channel Trail & Argyle Ave', 'N Shore Channel Trail & Argyle St', 'N Southport Ave & W Newport Ave', 'Nagle Ave & Belmont Ave', 'Narragansett & Irving Park', 'Narragansett & McLean', 'Narragansett & Wrightwood', 'Narragansett Ave & Fullerton Ave', 'Narragansett Ave & School St', 'Neva Ave & Grand Ave', 'New England Ave & Grace St', 'New St & Illinois St', 'NewHastings', 'Newcastle Ave & Belden Ave', 'Newcastle Ave & Belmont Ave', 'Newcastle Ave & Wellington Ave', 'Newland Ave & Diversey Ave', 'Noble St & Milwaukee Ave', 'Nordica & Medill', 'Normal Ave & 72nd St', 'Normal Ave & Archer Ave', 'North Ave & New England Ave', 'Oak Park & Wellington', 'Oakley Ave & Irving Park Rd', 'Oakley Ave & Touhy Ave', 'Ogden Ave & Chicago Ave', 'Ogden Ave & Congress Pkwy', 'Ogden Ave & Race Ave', 'Ogden Ave & Roosevelt Rd', 'Oglesby Ave & 100th St', 'Oglesby Ave & 105th St', 'Oglesby Ave & 95th St', 'Oketo Ave & Addison St', 'Oketo Ave & Belmont Ave', 'Oleander Ave & Addison St', 'Olive Harvey College', 'Orange & Addison', 'Orleans St & Chestnut St (NEXT Apts)', 'Orleans St & Elm St', 'Orleans St & Hubbard St', 'Orleans St & Merchandise Mart Plaza', 'Orville T Bright School', 'Ozark Ave & Addison St', 'Panama Ave & Grace St', 'Park Manor Elementary School', 'Parkside Ave & Armitage Ave', 'Parnell Ave & 119th St', 'Parnell Ave & 98th St', 'Paulina Ave & North Ave', 'Paulina St & 18th St', 'Paulina St & Flournoy St', 'Paulina St & Howard St', 'Paulina St & Montrose Ave', 'Pawel Bialowas - Test- PBSC charging station', 'Penn Elementary School / KIPP Ascend Middle School', 'Peoria St & Jackson Blvd', 'Perry Ave & 108th Pl', 'Perry Ave & 69th St', 'Phillips Ave & 79th St', 'Phillips Ave & 83rd St', 'Pine Grove Ave & Irving Park Rd', 'Pine Grove Ave & Waveland Ave', 'Ping Tom Park (East)', 'Piotrowski Park', 'Pittsburgh Ave & Irving Park', 'Plainfield & Irving Park', 'Plainfield Ave & Irving Park Rd', 'Prairie Ave & 43rd St', 'Prairie Ave & 47th St - midblock', 'Prairie Ave & Garfield Blvd', 'Princeton Ave & 43rd St', 'Princeton Ave & 47th St', 'Princeton Ave & Garfield Blvd', 'Prospect Sq & 91st St', 'Pubic Rack - Pulaski Rd & 41st', 'Public  Rack - Albany Ave & 63rd St', 'Public Rack - 10557 S Western Ave', 'Public Rack - 111th St - Morgan Park Metra', 'Public Rack - 532 E 43rd St', 'Public Rack - 53rd St & Indiana Ave', 'Public Rack - 63rd & Western Ave N', 'Public Rack - 63rd & Western Ave S', 'Public Rack - Abbott Park', 'Public Rack - Al Raby School', 'Public Rack - Albany Ave & 111th St - NW', 'Public Rack - Ashland Ave & 45th St', 'Public Rack - Ashland Ave & 63rd St', 'Public Rack - Ashland Ave & 71st St', 'Public Rack - Ashland Ave & 76th St', 'Public Rack - Ashland Ave & 83rd St', 'Public Rack - Ashland Ave & 91st St', 'Public Rack - Austin Ave & Roscoe St', 'Public Rack - Austin Ave & Wellington Ave', 'Public Rack - Austin Ave & Wrightwood Ave', 'Public Rack - Austin Blvd & North Ave', 'Public Rack - Austin Branch Chicago Public Library', 'Public Rack - Avenue J & 102nd St', 'Public Rack - Avers Ave & Archer Ave', 'Public Rack - Avers Ave & Irving Park Rd', 'Public Rack - Avers Ave & Ogden Ave', 'Public Rack - Avondale Ave & Addison St', 'Public Rack - Baltimore Ave & 132nd St', 'Public Rack - Bell Ave & 95th St', 'Public Rack - Bensley Ave & 103rd St', 'Public Rack - Brainerd Park', 'Public Rack - Brighton Park Branch Chicago Library', 'Public Rack - Buffalo Ave & 133rd St', 'Public Rack - Buffalo Ave & 89th St', 'Public Rack - California Ave & Cortez St', 'Public Rack - California Ave & Devon Ave - NE', 'Public Rack - California Ave & Devon Ave - NW', 'Public Rack - California Ave & Ogden Ave', 'Public Rack - California Ave & Pershing Rd', 'Public Rack - California Ave & Touhy Ave - NW', 'Public Rack - California Ave & Touhy Ave - SW', 'Public Rack - Calumet Ave & 51st St', 'Public Rack - Campbell Ave & Pratt Blvd', 'Public Rack - Central Ave & Corcoran Pl', 'Public Rack - Central Ave & George St', 'Public Rack - Central Ave & North Ave', 'Public Rack - Central Park Ave & 16th St', 'Public Rack - Central Park Ave & Fillmore St', 'Public Rack - Central Park Ave & Fulton Blvd', 'Public Rack - Central Park Ave & Ogden Ave', 'Public Rack - Champlain Ave & 65th St', 'Public Rack - Chappel Ave & 71st St', 'Public Rack - Chase Ave & Touhy Ave - NE', 'Public Rack - Chase Ave & Touhy Ave - NW', 'Public Rack - Chopin Park', 'Public Rack - Christiana Ave & 55th St', 'Public Rack - Christiana Ave & Archer Ave', 'Public Rack - Christiana Ave & Belmont Ave', 'Public Rack - Christiana Ave & Bryn Mawr Ave', 'Public Rack - Christiana Ave & Lawrence Ave', 'Public Rack - Cicero Ave & Altgeld St', 'Public Rack - Cicero Ave & Cortland St - midblock', 'Public Rack - Cicero Ave & Le Moyne St - midblock', 'Public Rack - Cicero Ave & North Ave', 'Public Rack - Cicero Ave & Roscoe St', 'Public Rack - Cicero Ave & Wellington Ave', 'Public Rack - Cicero Ave & Wrightwood Ave', 'Public Rack - Claremont Ave & 71st St', 'Public Rack - Clyde Ave & 87th St', 'Public Rack - Colfax Ave & 83rd St', 'Public Rack - Commercial Ave & 89th St', 'Public Rack - Cornell Ave & 87th Pl', 'Public Rack - Cottage Grove & 85th St', 'Public Rack - Cottage Grove & 86th St', 'Public Rack - Cottage Grove Ave & 87th St', 'Public Rack - Cottage Grove Ave & 92nd St', 'Public Rack - Cottage Grove Ave & 98th St', 'Public Rack - Damen Ave & 47th St', 'Public Rack - Division St & Christiana Ave', 'Public Rack - Drake Ave & Leland Ave', 'Public Rack - East End Ave & 75th St', 'Public Rack - Eberhart Ave & 61st St', 'Public Rack - Eggleston Ave & 115th St', 'Public Rack - Eli Whitney Public School', 'Public Rack - Ellis Ave & Doty Ave', 'Public Rack - Emerald Ave & 43rd St', 'Public Rack - Emerald Ave & 45th St', 'Public Rack - Evans Ave & 63rd St', 'Public Rack - Ewing Ave & 106th St', 'Public Rack - Ewing Ave & 107th St', 'Public Rack - Ewing Ave & 95th St', 'Public Rack - Ewing Ave & 96th St S', 'Public Rack - Exchange Ave & 73rd Pl', 'Public Rack - Fairfield Ave & 63rd St', 'Public Rack - Forrestville Ave & 47th St', 'Public Rack - Francisco Ave & Touhy Ave', 'Public Rack - Fullerton Ave & Lavergne Ave', 'Public Rack - Fullerton Ave & Narragansett Ave', 'Public Rack - Garfield Park Conservatory', 'Public Rack - Grand Ave & Lawndale Ave', 'Public Rack - Grand Ave & North Ave', 'Public Rack - Greenwood Ave & Lake Park Ave', 'Public Rack - Halsted St & 102nd St', 'Public Rack - Halsted St & 109th St', 'Public Rack - Halsted St & 111th St', 'Public Rack - Halsted St & 113th St', 'Public Rack - Halsted St & 63rd St', 'Public Rack - Halsted St & 64th St', 'Public Rack - Halsted St & 76th St', 'Public Rack - Halsted St & 95th St - SE', 'Public Rack - Hamilton Ave & 95th St', 'Public Rack - Hamlin Ave & Chicago Ave', 'Public Rack - Hamlin Ave & Fullerton Ave', 'Public Rack - Hamlin Ave & Grand Ave', 'Public Rack - Hamlin Ave & Madison St', 'Public Rack - Hamlin Ave & Montrose Ave', 'Public Rack - Harold Washington Park', 'Public Rack - Harper Ave & 63rd St', 'Public Rack - Harriet E Sayre Public School', 'Public Rack - Harvey Ave & North Ave', 'Public Rack - Homan Ave & 26th St', 'Public Rack - Homan Ave & Lake St', 'Public Rack - Homan Ave & Roosevelt', 'Public Rack - Houston Ave & 131st St', 'Public Rack - Hoyne Ave & 110th Pl', 'Public Rack - Hoyne Ave & 51st St', 'Public Rack - Hyde Park Blvd & 53rd St', 'Public Rack - Hyde Park Blvd & 55th St', 'Public Rack - Independence Blvd & Roosevelt', 'Public Rack - Jeffery Blvd & 81st St', 'Public Rack - Jeffery Blvd & 83rd St', 'Public Rack - Jensen Park', 'Public Rack - Jonathan Y Scammon Public School', 'Public Rack - Karlov Ave & 26th St', 'Public Rack - Karlov Ave & Kamerling Ave', 'Public Rack - Karlov Ave & Milwaukee Ave', 'Public Rack - Kedvale Ave & 26th St', 'Public Rack - Kedvale Ave & 63rd St', 'Public Rack - Kedvale Ave & Addison St', 'Public Rack - Kedvale Ave & Avondale Ave', 'Public Rack - Kedzie & 103rd St - East', 'Public Rack - Kedzie Ave & 54th Pl', 'Public Rack - Kedzie Ave & 54th St - SE', 'Public Rack - Kedzie Ave & 54th St - SW', 'Public Rack - Kedzie Ave & 58th St', 'Public Rack - Kedzie Ave & 60th St', 'Public Rack - Kedzie Ave & 61st Pl', 'Public Rack - Kedzie Ave & 61st Pl E', 'Public Rack - Kedzie Ave & 61st Pl W', 'Public Rack - Kedzie Ave & 62nd Pl', 'Public Rack - Kedzie Ave & 63rd St', 'Public Rack - Kedzie Ave & 64th St - SE', 'Public Rack - Kedzie Ave & 64th St - SW', 'Public Rack - Kedzie Ave & Archer Ave', 'Public Rack - Kedzie Ave & Argyle St', 'Public Rack - Kedzie Ave & Arthington St', 'Public Rack - Kedzie Ave & Chicago Ave', 'Public Rack - Kedzie Ave & Pershing Rd', 'Public Rack - Kedzie Ave & Walnut St', 'Public Rack - Kedzie Ave &amp; 62nd Pl', 'Public Rack - Keef Ave & South Chicago Ave', 'Public Rack - Keeler Ave & 26th St', 'Public Rack - Kenneth Ave & 63rd St E', 'Public Rack - Kenton Ave & Palmer St', 'Public Rack - Keystone Ave & Irving Park Rd', 'Public Rack - Keystone Ave & North Ave', 'Public Rack - Kilbourn Ave & Fullerton Ave', 'Public Rack - Kildare Ave & 63rd St', 'Public Rack - Kildare Ave & Division St', 'Public Rack - Kildare Ave & North Ave', 'Public Rack - Kimball Ave & Carmen Ave', 'Public Rack - Kimbark Ave & 63rd St', 'Public Rack - Kimbark Ave & 67th St', 'Public Rack - King Dr & 115th St', 'Public Rack - King Dr & 83rd St', 'Public Rack - King Dr & Oakwood Blvd', 'Public Rack - Kingston Ave & 75th St', 'Public Rack - Kolin Ave & Archer Ave', 'Public Rack - Komensky Ave & 26th St', 'Public Rack - Komensky Ave & 59th St', 'Public Rack - Kostner Ave & 16th St', 'Public Rack - Kostner Ave & Armitage Ave', 'Public Rack - Kostner Ave & Diversey Ave', 'Public Rack - Kostner Ave & Lake St', 'Public Rack - Kostner Ave & North Ave', 'Public Rack - Kostner Ave & Wrightwood Ave', 'Public Rack - La Moyne Ave and Leamington Ave', 'Public Rack - Lafayette Ave & 87th St SW', 'Public Rack - Lafayette Ave & 95th St', 'Public Rack - Laflin St & 51st St', 'Public Rack - Lake Shore Dr & Hayes Dr', 'Public Rack - Lamon Ave & Erie St', 'Public Rack - Langley Ave & 49th St', 'Public Rack - Langley Ave & 79th St', 'Public Rack - Langley Ave & 87th St', 'Public Rack - Langley Ave & Oakwood Blvd', 'Public Rack - Laporte Ave & Armitage Ave', 'Public Rack - Laramie Ave & Belmont Ave', 'Public Rack - Laramie Ave & Fullerton Ave', 'Public Rack - Laramie Ave & Grand Ave', 'Public Rack - Laramie Ave & Warwick Ave', 'Public Rack - Latrobe Ave & Lake St', 'Public Rack - Lawndale & 63rd St', 'Public Rack - Lawndale Ave & 23rd St', 'Public Rack - Lawndale Ave & 63rd St', 'Public Rack - Lawndale Ave & Diversey Ave', 'Public Rack - Lawndale Ave & Polk St', 'Public Rack - Leclaire Ave & Division St', 'Public Rack - Legler Regional Library', 'Public Rack - Linder Ave & Belmont Ave', 'Public Rack - Lockwood Ave & Diversey Ave', 'Public Rack - Longwood Dr & 111th St', 'Public Rack - Loomis Blvd & 83rd St', 'Public Rack - Loomis St & 87th St', 'Public Rack - Lorel Ave & Chicago Ave', 'Public Rack - Lorel Ave & Grand Ave', 'Public Rack - Lowell Ave & Elston Ave', 'Public Rack - Maplewood Ave & 47th St', 'Public Rack - Maplewood Ave & 63rd St', 'Public Rack - Marquette Rd & 67th St', 'Public Rack - Marshfield Ave & 45th St', 'Public Rack - Marshfield Ave & 87th St', 'Public Rack - Martin Luther King Dr & 69th St', 'Public Rack - May St & 78th St', 'Public Rack - McCormick Blvd & Devon Ave', 'Public Rack - McVicker Ave & Grand Ave', 'Public Rack - Melvina Ave & Belmont Ave', 'Public Rack - Menard Ave & Adams Blvd', 'Public Rack - Menard Ave & Agusta Blvd', 'Public Rack - Menard Ave & Belmont Ave', 'Public Rack - Menard Ave & Dakin St - midblock', 'Public Rack - Menard Ave & Grand Ave', 'Public Rack - Michele Clark Magnet High School', 'Public Rack - Michigan Ave & 107th St', 'Public Rack - Michigan Ave & 113th St', 'Public Rack - Michigan Ave & 119th St', 'Public Rack - Michigan Ave & 96th St', 'Public Rack - Midway Orange Line', 'Public Rack - Milwaukee Ave & Addison St', 'Public Rack - Milwaukee Ave & Diversey Ave', 'Public Rack - Milwaukee Ave & Haussen Ct', 'Public Rack - Milwaukee Ave & School St', 'Public Rack - Monticello Ave & Belmont Ave', 'Public Rack - Morgan St & 95th St', 'Public Rack - Mozart Elementary School', 'Public Rack - Mt Greenwood Library N', 'Public Rack - N Narragansett Ave & Grand Ave', 'Public Rack - Nagle Ave & Belmont Ave', 'Public Rack - Narragansett Ave & Fullerton Ave', 'Public Rack - Neva Ave & Grand Ave', 'Public Rack - Newcastle Ave & Belmont Ave', 'Public Rack - Nordica Ave & Addison St', 'Public Rack - Normal Ave & 111th St', 'Public Rack - Oakley Ave & 50th Pl', 'Public Rack - Oketo Ave & Belmont Ave', 'Public Rack - Ozark Ave & Addison St', 'Public Rack - Parnell Ave & 103rd St', 'Public Rack - Paxton Ave & 79th St', 'Public Rack - Penn Elementary School / KIPP Ascend Middle School', 'Public Rack - Percy Julian HS', 'Public Rack - Perry Ave & 108th Pl', 'Public Rack - Perry Ave & 111th St', 'Public Rack - Peterson Ave & Bernard Ave', 'Public Rack - Peterson Ave & Drake Ave', 'Public Rack - Prairie Ave & 47th St ', 'Public Rack - Prairie Ave & Garfield Blvd', 'Public Rack - Prairie Ave & Garfield Blvd N', 'Public Rack - Pulaski & 52nd', 'Public Rack - Pulaski Rd & 15th St', 'Public Rack - Pulaski Rd & 40th St', 'Public Rack - Pulaski Rd & 44th St', 'Public Rack - Pulaski Rd & 51st Rd', 'Public Rack - Pulaski Rd & 5th Ave', 'Public Rack - Pulaski Rd & 65th St', 'Public Rack - Pulaski Rd & Armitage Ave', 'Public Rack - Pulaski Rd & Flournoy St', 'Public Rack - Pulaski Rd & Fullerton Ave', 'Public Rack - Pulaski Rd & Grenshaw St', 'Public Rack - Pulaski Rd & Lake St', 'Public Rack - Pulaski Rd & Roosevelt Rd', 'Public Rack - Pulaski Rd &amp; 65th St', 'Public Rack - Pullman - Planet Fitness', 'Public Rack - Pullman - Walmart', 'Public Rack - Pullman Community Center', 'Public Rack - Racine Ave & 109th Pl', 'Public Rack - Racine Ave & 74th St', 'Public Rack - Racine Ave & 76th', 'Public Rack - Richmond St & Thorndale Ave', 'Public Rack - Robert Fulton Elementary School', 'Public Rack - Rockwell & 111th St', 'Public Rack - Rockwell & Division', 'Public Rack - Rockwell Ave & Touhy Ave ', 'Public Rack - Roscoe St & Osceola Ave', 'Public Rack - Roswell B. Mason Elementary School', 'Public Rack - Rutherford Ave & Belmont Ave', 'Public Rack - Sacramento Ave & Devon Ave', 'Public Rack - Sacramento Ave & Greenleaf Ave', 'Public Rack - Sacramento Blvd & Division St', 'Public Rack - Saginaw Ave & 93rd St', 'Public Rack - Sawyer Ave & Bryn Mawr Ave - SE', 'Public Rack - Sawyer Ave & Bryn Mawr Ave - SW', 'Public Rack - Sawyer Ave & Chicago Ave', 'Public Rack - Sawyer Ave & Lawrence Ave', 'Public Rack - South Shore Dr & 71st St', 'Public Rack - Spaulding Ave & Bryn Mawr Ave', 'Public Rack - Spaulding Ave & Evergreen Ave', 'Public Rack - Spaulding Ave & Foster Ave', 'Public Rack - Spaulding Ave & North Ave', 'Public Rack - Spencer Elementary Technology Academy', 'Public Rack - St Louis Ave & Berteau Ave', 'Public Rack - State ST & 42nd St', 'Public Rack - Stewart Ave & 123rd St', 'Public Rack - Stony Island & 87th St', 'Public Rack - Talman Ave & Pershing Rd', 'Public Rack - Throop St & 109th Pl', 'Public Rack - Tripp Ave & North Ave', 'Public Rack - Union Ave & 111th St', 'Public Rack - Vincennes Ave & 95th St', 'Public Rack - Wabash Ave & 87th St', 'Public Rack - Walden Pkwy & 103rd St', 'Public Rack - Walden Pkwy & 99th St', 'Public Rack - Wallace St & 119th St', 'Public Rack - Washington Park Ct & 51st St', 'Public Rack - Washtenaw Ave & Devon Ave', 'Public Rack - Washtenaw Ave & Superior St', 'Public Rack - Wentworth Ave & 79th St', 'Public Rack - West Chatham Park', 'Public Rack - Western Ave & 100th St', 'Public Rack - Western Ave & 104th St - East', 'Public Rack - Western Ave & 104th St - West', 'Public Rack - Western Ave & 106th St - East', 'Public Rack - Western Ave & 107th Pl', 'Public Rack - Western Ave & 107th St', 'Public Rack - Western Ave & 110th St', 'Public Rack - Western Ave & 111th St - NW', 'Public Rack - Western Ave & 116th St', 'Public Rack - Western Ave & 118th St', 'Public Rack - Western Ave & 47th Pl', 'Public Rack - Western Ave & 79th St', 'Public Rack - Western Ave & 92nd Pl', 'Public Rack - Western Ave & 96th St', 'Public Rack - Western Ave & 98th St', 'Public Rack - Western Ave & Devon Ave', 'Public Rack - Western Ave & Jarvis Ave', 'Public Rack - Western Blvd & 49th St', 'Public Rack - Whipple St & 26th St', 'Public Rack - Wood St & 103rd St', 'Public Rack - Wood St & 47th St', 'Public Rack - Woodlawn Ave & 63rd St - NE', 'Public Rack - Woodlawn Ave & 63rd St - SE', 'Public Rack - Woodlawn Ave & 63rd St N', 'Public Rack - Woodlawn Ave & 63rd St S', 'Public Rack - Yates Ave & 100th St', 'Public Rack - Zapata Academy', 'Pulaski & 52nd', 'Pulaski & Ann Lurie Pl', 'Pulaski Rd & 21st St', 'Pulaski Rd & 40th St', 'Pulaski Rd & 41st', 'Pulaski Rd & 44th St', 'Pulaski Rd & 51st Rd', 'Pulaski Rd & 51st St', 'Pulaski Rd & 60th St', 'Pulaski Rd & Armitage Ave', 'Pulaski Rd & Congress Pkwy', 'Pulaski Rd & Eddy St (Temp)', 'Pulaski Rd & Fullerton Ave', 'Pulaski Rd & Lake St', 'Pullman - Ross Dress for Less', 'Pullman - Walmart', 'Pullman Community Center', 'Racine Ave & 109th Pl', 'Racine Ave & 13th St', 'Racine Ave & 15th St', 'Racine Ave & 18th St', 'Racine Ave & 35th St', 'Racine Ave & 61st St', 'Racine Ave & 65th St', 'Racine Ave & 74th St', 'Racine Ave & 76th', 'Racine Ave & Belmont Ave', 'Racine Ave & Congress Pkwy', 'Racine Ave & Fullerton Ave', 'Racine Ave & Fullerton Ave (Temp)', 'Racine Ave & Garfield Blvd', 'Racine Ave & Randolph St', 'Racine Ave & Washington Blvd', 'Racine Ave & Wrightwood Ave', 'Rainbow Beach', 'Ravenswood Ave & Berteau Ave', 'Ravenswood Ave & Irving Park Rd', 'Ravenswood Ave & Lawrence Ave', 'Rhodes Ave & 32nd St', 'Rhodes Ave & 71st St', 'Rhodes Ave & 79th St', 'Richmond St & 59th St', 'Richmond St & Diversey Ave', 'Richmond St & Lincoln Ave', 'Ridge Blvd & Howard St', 'Ridge Blvd & Touhy Ave', 'Ritchie Ct & Banks St', 'Robert Fulton Elementary School', 'Rockwell & 111th St', 'Rockwell Ave & Touhy Ave ', 'Rockwell St & 57th St', 'Rockwell St & 63rd St', 'Rockwell St & Archer Ave', 'Rockwell St & Cermak Rd', 'Rockwell St & Eastwood Ave', 'Rockwell St & Fletcher St', 'Roscoe & Harlem', 'Rush St & Cedar St', 'Rush St & Hubbard St', 'Rush St & Superior St', 'Rutherford Ave & Belmont Ave', 'S Aberdeen St & W 106th St', 'S Michigan Ave & E 118th St', 'S Wentworth Ave & W 111th St', 'Sacramento Ave & 25th St', 'Sacramento Ave & Devon Ave', 'Sacramento Ave & Greenleaf Ave', 'Sacramento Ave & Pershing Rd', 'Sacramento Blvd & Addison St', 'Sacramento Blvd & Franklin Blvd', 'Sacramento Blvd & Fulton Ave', 'Sacramento Blvd & Polk St', 'Sacramento Blvd & Washington Blvd', 'Sangamon St & 79th St', 'Sangamon St & Lake St', 'Sangamon St & Washington Blvd', 'Sawyer Ave & 111th St', 'Sawyer Ave & Bryn Mawr Ave - SE', 'Sawyer Ave & Irving Park Rd', 'Sawyer Ave & Lawrence Ave', 'Sayre & Diversey', 'Sedgwick St & Huron St', 'Sedgwick St & North Ave', 'Sedgwick St & Schiller St', 'Sedgwick St & Webster Ave', 'Seeley Ave & Garfield Blvd', 'Seeley Ave & Roscoe St', 'Shabbona Park', 'Shedd Aquarium', 'Sheffield Ave & Fullerton Ave', 'Sheffield Ave & Kingsbury St', 'Sheffield Ave & Waveland Ave', 'Sheffield Ave & Webster Ave', 'Sheffield Ave & Wellington Ave', 'Sheffield Ave & Willow St', 'Sheffield Ave & Wrightwood Ave', 'Sheridan Rd & Argyle St', 'Sheridan Rd & Buena Ave', 'Sheridan Rd & Columbia Ave', 'Sheridan Rd & Greenleaf Ave', 'Sheridan Rd & Irving Park Rd', 'Sheridan Rd & Lawrence Ave', 'Sheridan Rd & Loyola Ave', 'Sheridan Rd & Montrose Ave', 'Sheridan Rd & Noyes St (NU)', 'Shields Ave & 28th Pl', 'Shields Ave & 31st St', 'Shields Ave & 43rd St', 'Shore Dr & 55th St', 'Smith Park', 'South Chicago Ave & 83rd St', 'South Chicago Ave & Elliot Ave', 'South Shore Dr & 67th St', 'South Shore Dr & 71st St', 'South Shore Dr & 74th St', 'Southport Ave & Belmont Ave', 'Southport Ave & Clark St', 'Southport Ave & Clybourn Ave', 'Southport Ave & Irving Park Rd', 'Southport Ave & Roscoe St', 'Southport Ave & Waveland Ave', 'Southport Ave & Wellington Ave', 'Southport Ave & Wrightwood Ave', 'Spaulding Ave & 16th St', 'Spaulding Ave & 63rd St', 'Spaulding Ave & Armitage Ave', 'Spaulding Ave & Bryn Mawr Ave', 'Spaulding Ave & Division St', 'Spaulding Ave & Evergreen Ave', 'Spaulding Ave & Foster Ave', 'Spaulding Ave & North Ave', 'Springfield Ave & 47th St', 'Springfield Ave & 63rd St', 'St Louis Ave & 59th St', 'St Louis Ave & Berteau Ave', 'St Louis Ave & Norman Bobbins Ave', 'St. Clair St & Erie St', 'St. Louis Ave & Balmoral Ave', 'St. Louis Ave & Fullerton Ave', 'State St & 123rd St', 'State St & 19th St', 'State St & 29th St', 'State St & 33rd St', 'State St & 35th St', 'State St & 47th st', 'State St & 54th St', 'State St & 76th St', 'State St & 79th St', 'State St & 95th St', 'State St & Chicago Ave', 'State St & Harrison St', 'State St & Kinzie St', 'State St & Pearson St', 'State St & Pershing Rd', 'State St & Randolph St', 'State St & Van Buren St', 'Stave St & Armitage Ave', 'Steelworkers Park', 'Stetson Ave & South Water St', 'Stewart Ave & 123rd St', 'Stewart Ave & 63rd St', 'Stewart Ave & 83rd St', 'Stockton Dr & Wrightwood Ave', 'Stony Is Ave & 73rd St', 'Stony Island Ave & 64th St', 'Stony Island Ave & 67th St', 'Stony Island Ave & 71st St', 'Stony Island Ave & 75th St', 'Stony Island Ave & 82nd St', 'Stony Island Ave & 86th St', 'Stony Island Ave & 90th St', 'Stony Island Ave & South Chicago Ave', 'Streeter Dr & Grand Ave', 'Strohacker Park', 'Summit Ave & 86th St', 'Talman Ave & 51st St - midblock', 'Talman Ave & Addison St', 'Theater on the Lake', 'Throop St & 52nd St', 'Throop St & 58th St', 'Throop St & Taylor St', 'Torrence Ave  & 106th St', 'Torrence Ave & 106th St', 'Torrence Ave & 126th Pl', 'Tripp Ave & 15th St', 'Tripp Ave & 31st St', 'Tripp Ave & 65th St', 'Troy & 111th St', 'Troy Ave & 27th St', 'Troy St & Elston Ave', 'Troy St & Grace St', 'Troy St & Jackson Blvd', 'Troy St & North Ave', 'Trumbull Ave & 111th St', 'Tuley (Murray) Park', 'Union Ave & Root St', 'University Ave & 57th St', 'University Library (NU)', 'Valli Produce - Evanston Plaza', 'Vernon Ave & 107th St', 'Vernon Ave & 75th St', 'Vernon Ave & 79th St', 'Vincennes Ave & 104th St', 'Vincennes Ave & 75th St', 'Vincennes Ave & 95th Pl', 'Virginia Ave & Catalpa Ave', 'W 103rd St & S Avers Ave', 'W Armitage Ave & N Sheffield Ave', 'W Oakdale Ave & N Broadway', 'W Washington Blvd & N Peoria St', 'WEST CHI-WATSON', 'Wabash Ave & 16th St', 'Wabash Ave & 83rd St', 'Wabash Ave & 87th St', 'Wabash Ave & 9th St', 'Wabash Ave & Adams St', 'Wabash Ave & Cermak Rd', 'Wabash Ave & Grand Ave', 'Wabash Ave & Roosevelt Rd', 'Wabash Ave & Wacker Pl', 'Wacker Dr & Washington St', 'Walden Pkwy & 100th St', 'Walden Pkwy & 103rd St', 'Walden Pkwy & 99th St', 'Wallace St & 112 St', 'Wallace St & 35th St', 'Waller Ave & Chicago Ave', 'Walsh Park', 'Warren Park East', 'Warren Park West', 'Washtenaw Ave & 63rd St', 'Washtenaw Ave & Lawrence Ave', 'Washtenaw Ave & Madison St', 'Washtenaw Ave & Ogden Ave', 'Washtenaw Ave & Peterson Ave', 'Washtenaw Ave & Polk St', 'Washtenaw Ave & Superior St', 'Wells St & 19th St', 'Wells St & Concord Ln', 'Wells St & Elm St', 'Wells St & Evergreen Ave', 'Wells St & Hubbard St', 'Wells St & Huron St', 'Wells St & Institute Pl', 'Wells St & Polk St', 'Wells St & Walton St', 'Wentworth Ave & 103rd St', 'Wentworth Ave & 104th St', 'Wentworth Ave & 24th St (Temp)', 'Wentworth Ave & 33rd St', 'Wentworth Ave & 35th St', 'Wentworth Ave & 63rd St', 'Wentworth Ave & Cermak Rd', 'WestChi', 'Western & 28th - Velasquez Institute Vaccination Site', 'Western Ave & 100th St', 'Western Ave & 104th St', 'Western Ave & 104th St - East', 'Western Ave & 105th St', 'Western Ave & 106th St - East', 'Western Ave & 106th St - West', 'Western Ave & 111th St', 'Western Ave & 111th St - NW', 'Western Ave & 111th St - SE', 'Western Ave & 111th St - SW', 'Western Ave & 116th St', 'Western Ave & 118th St', 'Western Ave & 21st St', 'Western Ave & 24th St', 'Western Ave & 28th St', 'Western Ave & 62nd St', 'Western Ave & 79th St', 'Western Ave & 92nd Pl', 'Western Ave & Ardmore Ave', 'Western Ave & Berteau Ave', 'Western Ave & Congress Pkwy', 'Western Ave & Division St', 'Western Ave & Fillmore St', 'Western Ave & Grace St', 'Western Ave & Granville Ave', 'Western Ave & Gunnison St', 'Western Ave & Howard St', 'Western Ave & Jarvis Ave', 'Western Ave & Lake St', 'Western Ave & Leland Ave', 'Western Ave & Lunt Ave', 'Western Ave & Monroe St', 'Western Ave & Roscoe St', 'Western Ave & Walton St', 'Western Ave & Winnebago Ave', 'Western Blvd & 48th Pl', 'Western Blvd & 49th St', 'Whipple St & Roosevelt Rd', 'Whipple/Irving Park', 'William Rainey Harper High School', 'Wilton Ave & Belmont Ave', 'Wilton Ave & Diversey Pkwy', 'Wilton Ave & Diversey Pkwy - Charging', 'Wilton Ave & Diversey Pkwy*', 'Winchester (Ravenswood) Ave & Balmoral Ave', 'Winchester Ave & 87th St', 'Winchester Ave & Elston Ave', 'Winthrop Ave & Lawrence Ave', 'Wolcott (Ravenswood) Ave & Montrose Ave', 'Wolcott Ave & Fargo Ave', 'Wolcott Ave & Polk St', 'Wood St & 103rd St', 'Wood St & 35th St', 'Wood St & 47th St', 'Wood St & Augusta Blvd', 'Wood St & Chicago Ave', 'Wood St & Hubbard St', 'Wood St & Milwaukee Ave', 'Wood St & Taylor St (Temp)', 'Wood St & Webster Ave', 'Woodlawn & 103rd - Olive Harvey Vaccination Site', 'Woodlawn Ave & 55th St', 'Woodlawn Ave & 75th St', 'Woodlawn Ave & Lake Park Ave', 'Yale Ave & 119th St', 'Yates Blvd & 75th St', 'Yates Blvd & 93rd St', 'Yates Blvd & Exchange Ave', 'Zapata Academy']\n"
     ]
    }
   ],
   "source": [
    "print(distinct_station_names)"
   ]
  },
  {
   "cell_type": "code",
   "execution_count": 304,
   "metadata": {},
   "outputs": [
    {
     "data": {
      "text/plain": [
       "{'_id': '64ebe319edcee4fd24d8e7fd', 'start_station_name': 'Central Park Ave & Ogden Ave', 'start_lat': 41.85388583333334, 'start_lng': -87.71498416666667}"
      ]
     },
     "execution_count": 304,
     "metadata": {},
     "output_type": "execute_result"
    }
   ],
   "source": [
    "station_names.find_one()\n"
   ]
  },
  {
   "cell_type": "code",
   "execution_count": 212,
   "metadata": {},
   "outputs": [],
   "source": [
    "# Define the aggregation pipeline to pull rides by month \n",
    "\n",
    "# Use aggregation pipeline to create a collection that contains start and end station names\n",
    "pipeline = [\n",
    "         {\"$match\": {\"weather_data.sig_prcp\": {\"$exists\": True, \"$eq\": \"yes\"},\n",
    "                     }},\n",
    "         {\"$out\": \"sig_prcp_yes\"}\n",
    "         \n",
    "]\n",
    "# Perform the aggregation\n",
    "result = list(divvy_ridedata_merged.aggregate(pipeline))\n",
    "# Assign to a variable\n",
    "sig_prcp_yes = db[\"sig_prcp_yes\"]\n"
   ]
  },
  {
   "cell_type": "code",
   "execution_count": 169,
   "metadata": {},
   "outputs": [],
   "source": [
    "# Define the aggregation pipeline to pull rides by month \n",
    "\n",
    "# Use aggregation pipeline to create a collection that contains start and end station names\n",
    "pipeline = [\n",
    "         {\"$match\": {\"weather_data.sig_prcp\": {\"$exists\": True, \"$eq\": \"no\"},\n",
    "                     }},\n",
    "         {\"$out\": \"sig_prcp_no\"}\n",
    "         \n",
    "]\n",
    "# Perform the aggregation\n",
    "result = list(divvy_ridedata_merged.aggregate(pipeline))\n",
    "# Assign to a variable\n",
    "sig_prcp_no = db[\"sig_prcp_no\"]"
   ]
  },
  {
   "cell_type": "code",
   "execution_count": 288,
   "metadata": {},
   "outputs": [],
   "source": [
    "# Create a new collection that shows average daily rides per month with precipitation \n",
    "\n",
    "pipeline = [\n",
    "    {\n",
    "        \"$group\": {\n",
    "            \"_id\": {\n",
    "                \"year\": {\"$year\": {\"$toDate\": \"$started_at\"}},\n",
    "                \"month\": {\"$month\": {\"$toDate\": \"$started_at\"}}\n",
    "            },\n",
    "            \"total_rides\": {\"$sum\": 1}\n",
    "        }\n",
    "    },\n",
    "    {\n",
    "        \"$project\": {\n",
    "            \"_id\": 0,\n",
    "            \"year\": \"$_id.year\",\n",
    "            \"month\": \"$_id.month\",\n",
    "            \"total_rides\": 1\n",
    "        }\n",
    "    },\n",
    "    {\n",
    "        \"$sort\": {\"year\": 1, \"month\": 1}\n",
    "    }\n",
    "]\n",
    "\n",
    "# Execute the aggregation pipeline and write to a new collection\n",
    "sig_prcp_yes_month = db[\"sig_prcp_yes_month\"]\n",
    "#divvy_rides_by_month = db[\"divvy_rides_by_month\"]\n",
    "sig_prcp_yes_month.drop()  # Drop the collection\n",
    "aggregated_result = sig_prcp_yes.aggregate(pipeline, allowDiskUse=True, collation=None)\n",
    "\n",
    "for doc in aggregated_result:\n",
    "    sig_prcp_yes_month.insert_one(doc)\n",
    "\n",
    "# Function to insert number of days and sig_prcp count for each month\n",
    "def update_num_days_and_sig_prcp_count(year, month):\n",
    "    _, num_days = monthrange(year, month)\n",
    "    query = {'year': year, 'month': month}\n",
    "    update_query = {'$set': {'num_days': num_days}}\n",
    "    sig_prcp_yes_month.update_one(query, update_query)\n",
    "\n",
    "    # Count the number of days with sig_prcp = 'no' for the given month\n",
    "# Count the number of days with sig_prcp = 'no' for the given month\n",
    "    sig_prcp_count = weather_daily.count_documents({\n",
    "        'date': {'$regex': f'^{year:04d}-{month:02d}'},  # Match the year and month in the date field\n",
    "        'sig_prcp': 'yes'\n",
    "    })\n",
    "    update_query = {'$set': {'sig_prcp_count': sig_prcp_count}}\n",
    "    sig_prcp_yes_month.update_one(query, update_query)\n",
    "\n",
    "    # Calculate average rides per day\n",
    "    total_rides = sig_prcp_yes_month.find_one(query)['total_rides']\n",
    "    sig_prcp_yes_month.update_one(query, update_query)\n",
    "\n",
    "    # Calculate and update average rides per day with no significant precipitation\n",
    "    query = {'year': 2022, 'month': month}\n",
    "    document = sig_prcp_yes_month.find_one(query)\n",
    "    \n",
    "    if document['sig_prcp_count'] > 0:  # To avoid division by zero\n",
    "        average_rides_per_day = document['total_rides'] / document['sig_prcp_count']\n",
    "        update_query = {'$set': {'average_rides_per_day': average_rides_per_day}}\n",
    "        sig_prcp_yes_month.update_one(query, update_query)\n",
    "\n",
    "# Loop through each month in the year 2022\n",
    "for month in range(1, 13):\n",
    "    update_num_days_and_sig_prcp_count(2022, month)\n"
   ]
  },
  {
   "cell_type": "code",
   "execution_count": 289,
   "metadata": {},
   "outputs": [],
   "source": [
    "# Create a new collection that shows average daily rides per month with no precipitation \n",
    "\n",
    "pipeline = [\n",
    "    {\n",
    "        \"$group\": {\n",
    "            \"_id\": {\n",
    "                \"year\": {\"$year\": {\"$toDate\": \"$started_at\"}},\n",
    "                \"month\": {\"$month\": {\"$toDate\": \"$started_at\"}}\n",
    "            },\n",
    "            \"total_rides\": {\"$sum\": 1}\n",
    "        }\n",
    "    },\n",
    "    {\n",
    "        \"$project\": {\n",
    "            \"_id\": 0,\n",
    "            \"year\": \"$_id.year\",\n",
    "            \"month\": \"$_id.month\",\n",
    "            \"total_rides\": 1\n",
    "        }\n",
    "    },\n",
    "    {\n",
    "        \"$sort\": {\"year\": 1, \"month\": 1}\n",
    "    }\n",
    "]\n",
    "\n",
    "# Execute the aggregation pipeline and write to a new collection\n",
    "sig_prcp_no_month = db[\"sig_prcp_no_month\"]\n",
    "#divvy_rides_by_month = db[\"divvy_rides_by_month\"]\n",
    "sig_prcp_no_month.drop()  # Drop the collection\n",
    "aggregated_result = sig_prcp_no.aggregate(pipeline, allowDiskUse=True, collation=None)\n",
    "\n",
    "for doc in aggregated_result:\n",
    "    sig_prcp_no_month.insert_one(doc)\n",
    "\n",
    "def update_num_days_and_sig_prcp_count(year, month):\n",
    "    _, num_days = monthrange(year, month)\n",
    "    query = {'year': year, 'month': month}\n",
    "    update_query = {'$set': {'num_days': num_days}}\n",
    "    sig_prcp_no_month.update_one(query, update_query)\n",
    "\n",
    "    # Count the number of days with sig_prcp = 'no' for the given month\n",
    "    sig_prcp_count = weather_daily.count_documents({\n",
    "        'date': {'$regex': f'^{year:04d}-{month:02d}'},\n",
    "        'sig_prcp': 'no'\n",
    "    })\n",
    "    update_query = {'$set': {'sig_prcp_count': sig_prcp_count}}\n",
    "    sig_prcp_no_month.update_one(query, update_query)\n",
    "\n",
    "    # Calculate average rides per day\n",
    "    document = sig_prcp_no_month.find_one(query)\n",
    "    \n",
    "    if document['sig_prcp_count'] > 0:\n",
    "        total_rides = document['total_rides']\n",
    "        average_rides_per_day = total_rides / document['sig_prcp_count']\n",
    "        update_query = {'$set': {'average_rides_per_day': average_rides_per_day}}\n",
    "        sig_prcp_no_month.update_one(query, update_query)\n",
    "\n",
    "# Loop through each month in the year 2022\n",
    "for month in range(1, 13):\n",
    "    update_num_days_and_sig_prcp_count(2022, month)\n"
   ]
  },
  {
   "cell_type": "code",
   "execution_count": 294,
   "metadata": {},
   "outputs": [
    {
     "name": "stdout",
     "output_type": "stream",
     "text": [
      "Documents with string _id inserted into the new collection.\n"
     ]
    }
   ],
   "source": [
    "# Create a new collection to store documents with string _id\n",
    "sig_prcp_no_month_string.drop()\n",
    "sig_prcp_no_month_string = db[\"sig_prcp_no_month_with_string_id\"]\n",
    "\n",
    "# Iterate through the documents in the original collection\n",
    "for document in sig_prcp_no_month.find({}):\n",
    "    document_id = document['_id']\n",
    "    string_id = str(document_id)\n",
    "    \n",
    "    # Create a new document with the string _id and other fields\n",
    "    new_document = {\n",
    "        '_id': string_id,\n",
    "        'year': document['year'],\n",
    "        'month': document['month'],\n",
    "        'total_rides': document['total_rides'],\n",
    "        'num_days': document['num_days'],\n",
    "        'sig_prcp_count': document['sig_prcp_count'],\n",
    "        'average_rides_per_day': document['average_rides_per_day']\n",
    "        # Include other fields from the original document\n",
    "    }\n",
    "    \n",
    "    # Insert the new document into the new collection\n",
    "    sig_prcp_no_month_string.insert_one(new_document)\n",
    "\n",
    "print(\"Documents with string _id inserted into the new collection.\")"
   ]
  },
  {
   "cell_type": "code",
   "execution_count": 285,
   "metadata": {},
   "outputs": [
    {
     "name": "stdout",
     "output_type": "stream",
     "text": [
      "Documents with string _id inserted into the new collection.\n"
     ]
    }
   ],
   "source": [
    "# Create a new collection to store documents with string _id\n",
    "sig_prcp_yes_month_string.drop()\n",
    "sig_prcp_yes_month_string = db[\"sig_prcp_yes_month_with_string_id\"]\n",
    "\n",
    "# Iterate through the documents in the original collection\n",
    "for document in sig_prcp_yes_month.find({}):\n",
    "    document_id = document['_id']\n",
    "    string_id = str(document_id)\n",
    "    \n",
    "    # Create a new document with the string _id and other fields\n",
    "    new_document = {\n",
    "        '_id': string_id,\n",
    "        'year': document['year'],\n",
    "        'month': document['month'],\n",
    "        'total_rides': document['total_rides'],\n",
    "        'num_days': document['num_days'],\n",
    "        'sig_prcp_count': document['sig_prcp_count'],\n",
    "        'average_rides_per_day': document['average_rides_per_day']\n",
    "        # Include other fields from the original document\n",
    "    }\n",
    "    \n",
    "    # Insert the new document into the new collection\n",
    "    sig_prcp_yes_month_string.insert_one(new_document)\n",
    "\n",
    "print(\"Documents with string _id inserted into the new collection.\")"
   ]
  },
  {
   "cell_type": "code",
   "execution_count": 290,
   "metadata": {},
   "outputs": [
    {
     "name": "stdout",
     "output_type": "stream",
     "text": [
      "{'_id': '64eb9a3cedcee4fd24d8db45', 'year': 2022, 'month': 1, 'total_rides': 9308, 'num_days': 31, 'sig_prcp_count': 5, 'average_rides_per_day': 1861.6}\n",
      "{'_id': '64eb9a3cedcee4fd24d8db46', 'year': 2022, 'month': 2, 'total_rides': 26036, 'num_days': 28, 'sig_prcp_count': 8, 'average_rides_per_day': 3254.5}\n",
      "{'_id': '64eb9a3cedcee4fd24d8db47', 'year': 2022, 'month': 3, 'total_rides': 71873, 'num_days': 31, 'sig_prcp_count': 9, 'average_rides_per_day': 7985.888888888889}\n",
      "{'_id': '64eb9a3cedcee4fd24d8db48', 'year': 2022, 'month': 4, 'total_rides': 147085, 'num_days': 30, 'sig_prcp_count': 11, 'average_rides_per_day': 13371.363636363636}\n",
      "{'_id': '64eb9a3cedcee4fd24d8db49', 'year': 2022, 'month': 5, 'total_rides': 49842, 'num_days': 31, 'sig_prcp_count': 4, 'average_rides_per_day': 12460.5}\n",
      "{'_id': '64eb9a3cedcee4fd24d8db4a', 'year': 2022, 'month': 6, 'total_rides': 58888, 'num_days': 30, 'sig_prcp_count': 3, 'average_rides_per_day': 19629.333333333332}\n",
      "{'_id': '64eb9a3cedcee4fd24d8db4b', 'year': 2022, 'month': 7, 'total_rides': 134832, 'num_days': 31, 'sig_prcp_count': 6, 'average_rides_per_day': 22472.0}\n",
      "{'_id': '64eb9a3cedcee4fd24d8db4c', 'year': 2022, 'month': 8, 'total_rides': 78175, 'num_days': 31, 'sig_prcp_count': 4, 'average_rides_per_day': 19543.75}\n",
      "{'_id': '64eb9a3cedcee4fd24d8db4d', 'year': 2022, 'month': 9, 'total_rides': 26657, 'num_days': 30, 'sig_prcp_count': 2, 'average_rides_per_day': 13328.5}\n",
      "{'_id': '64eb9a3cedcee4fd24d8db4e', 'year': 2022, 'month': 10, 'total_rides': 72295, 'num_days': 31, 'sig_prcp_count': 5, 'average_rides_per_day': 14459.0}\n",
      "{'_id': '64eb9a3cedcee4fd24d8db4f', 'year': 2022, 'month': 11, 'total_rides': 47911, 'num_days': 30, 'sig_prcp_count': 5, 'average_rides_per_day': 9582.2}\n",
      "{'_id': '64eb9a3cedcee4fd24d8db50', 'year': 2022, 'month': 12, 'total_rides': 25538, 'num_days': 31, 'sig_prcp_count': 6, 'average_rides_per_day': 4256.333333333333}\n"
     ]
    }
   ],
   "source": [
    "# Retrieve all documents from the collection\n",
    "all_documents = sig_prcp_yes_month_string.find({})\n",
    "\n",
    "# Iterate through the documents and print them\n",
    "for doc in all_documents:\n",
    "    print(doc)"
   ]
  },
  {
   "cell_type": "code",
   "execution_count": 295,
   "metadata": {},
   "outputs": [
    {
     "name": "stdout",
     "output_type": "stream",
     "text": [
      "{'_id': '64ebcbc4edcee4fd24d8dbc9', 'year': 2022, 'month': 1, 'total_rides': 94462, 'num_days': 31, 'sig_prcp_count': 26, 'average_rides_per_day': 3633.153846153846}\n",
      "{'_id': '64ebcbc4edcee4fd24d8dbca', 'year': 2022, 'month': 2, 'total_rides': 89573, 'num_days': 28, 'sig_prcp_count': 20, 'average_rides_per_day': 4478.65}\n",
      "{'_id': '64ebcbc4edcee4fd24d8dbcb', 'year': 2022, 'month': 3, 'total_rides': 212169, 'num_days': 31, 'sig_prcp_count': 22, 'average_rides_per_day': 9644.045454545454}\n",
      "{'_id': '64ebcbc4edcee4fd24d8dbcc', 'year': 2022, 'month': 4, 'total_rides': 224164, 'num_days': 30, 'sig_prcp_count': 19, 'average_rides_per_day': 11798.105263157895}\n",
      "{'_id': '64ebcbc4edcee4fd24d8dbcd', 'year': 2022, 'month': 5, 'total_rides': 585016, 'num_days': 31, 'sig_prcp_count': 27, 'average_rides_per_day': 21667.25925925926}\n",
      "{'_id': '64ebcbc4edcee4fd24d8dbce', 'year': 2022, 'month': 6, 'total_rides': 710316, 'num_days': 30, 'sig_prcp_count': 27, 'average_rides_per_day': 26308.0}\n",
      "{'_id': '64ebcbc4edcee4fd24d8dbcf', 'year': 2022, 'month': 7, 'total_rides': 688656, 'num_days': 31, 'sig_prcp_count': 25, 'average_rides_per_day': 27546.24}\n",
      "{'_id': '64ebcbc4edcee4fd24d8dbd0', 'year': 2022, 'month': 8, 'total_rides': 707757, 'num_days': 31, 'sig_prcp_count': 27, 'average_rides_per_day': 26213.222222222223}\n",
      "{'_id': '64ebcbc4edcee4fd24d8dbd1', 'year': 2022, 'month': 9, 'total_rides': 674682, 'num_days': 30, 'sig_prcp_count': 28, 'average_rides_per_day': 24095.785714285714}\n",
      "{'_id': '64ebcbc4edcee4fd24d8dbd2', 'year': 2022, 'month': 10, 'total_rides': 486390, 'num_days': 31, 'sig_prcp_count': 26, 'average_rides_per_day': 18707.30769230769}\n",
      "{'_id': '64ebcbc4edcee4fd24d8dbd3', 'year': 2022, 'month': 11, 'total_rides': 289824, 'num_days': 30, 'sig_prcp_count': 25, 'average_rides_per_day': 11592.96}\n",
      "{'_id': '64ebcbc4edcee4fd24d8dbd4', 'year': 2022, 'month': 12, 'total_rides': 156268, 'num_days': 31, 'sig_prcp_count': 25, 'average_rides_per_day': 6250.72}\n"
     ]
    }
   ],
   "source": [
    "# Retrieve all documents from the collection\n",
    "all_documents = sig_prcp_no_month_string.find({})\n",
    "\n",
    "# Iterate through the documents and print them\n",
    "for doc in all_documents:\n",
    "    print(doc)"
   ]
  }
 ],
 "metadata": {
  "kernelspec": {
   "display_name": "dev2",
   "language": "python",
   "name": "python3"
  },
  "language_info": {
   "codemirror_mode": {
    "name": "ipython",
    "version": 3
   },
   "file_extension": ".py",
   "mimetype": "text/x-python",
   "name": "python",
   "nbconvert_exporter": "python",
   "pygments_lexer": "ipython3",
   "version": "3.7.16"
  },
  "orig_nbformat": 4
 },
 "nbformat": 4,
 "nbformat_minor": 2
}
