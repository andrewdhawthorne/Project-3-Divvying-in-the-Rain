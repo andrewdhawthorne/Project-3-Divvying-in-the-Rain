{
 "cells": [
  {
   "cell_type": "markdown",
   "metadata": {},
   "source": [
    "Final queries for visualizations"
   ]
  },
  {
   "cell_type": "code",
   "execution_count": 1,
   "metadata": {},
   "outputs": [],
   "source": [
    "import pymongo\n",
    "from pymongo import MongoClient, UpdateOne\n",
    "import json"
   ]
  },
  {
   "cell_type": "code",
   "execution_count": 2,
   "metadata": {},
   "outputs": [],
   "source": [
    "# Create an instance of MongoClient\n",
    "mongo = MongoClient(port=27017)"
   ]
  },
  {
   "cell_type": "code",
   "execution_count": 3,
   "metadata": {},
   "outputs": [
    {
     "name": "stdout",
     "output_type": "stream",
     "text": [
      "['admin', 'autosaurus', 'chicago_bikes', 'classDB', 'config', 'epa', 'fruits_db', 'local', 'met', 'travel_db', 'uk_food']\n"
     ]
    }
   ],
   "source": [
    "# Confirm list of databases\n",
    "print(mongo.list_database_names())"
   ]
  },
  {
   "cell_type": "code",
   "execution_count": 4,
   "metadata": {},
   "outputs": [],
   "source": [
    "# Assign the database to a variable name\n",
    "db = mongo.chicago_bikes"
   ]
  },
  {
   "cell_type": "code",
   "execution_count": 9,
   "metadata": {},
   "outputs": [
    {
     "name": "stdout",
     "output_type": "stream",
     "text": [
      "['withLatLong', 'divvy_ridedata', 'Top10EndStations', 'weather_daily', 'withoutStationName', 'Top10StartStations', 'withStationName', 'divvy_ridedata_merged', 'Top10Routes']\n"
     ]
    }
   ],
   "source": [
    "# Review collections in database\n",
    "print(db.list_collection_names())"
   ]
  },
  {
   "cell_type": "code",
   "execution_count": 10,
   "metadata": {},
   "outputs": [],
   "source": [
    "# Assign collections to variables \n",
    "divvy_rides = db['divvy_ridedata']\n",
    "weather_daily = db['weather_daily']\n",
    "divvy_ridedata_merged = db['divvy_ridedata_merged']\n",
    "withoutStation = db['withoutStationName']\n",
    "withStation = db['withStationName']\n",
    "withLatLong = db['withLatLong']"
   ]
  },
  {
   "cell_type": "code",
   "execution_count": 11,
   "metadata": {},
   "outputs": [
    {
     "name": "stdout",
     "output_type": "stream",
     "text": [
      "5667717\n",
      "365\n",
      "5667717\n",
      "427449\n",
      "4369360\n",
      "5661859\n"
     ]
    }
   ],
   "source": [
    "# Count the number of documents in the collections \n",
    "print(divvy_rides.count_documents({}))\n",
    "print(weather_daily.count_documents({}))\n",
    "print(divvy_ridedata_merged.count_documents({}))\n",
    "print(withoutStation.count_documents({}))\n",
    "print(withStation.count_documents({}))\n",
    "print(withLatLong.count_documents({}))"
   ]
  },
  {
   "cell_type": "code",
   "execution_count": 12,
   "metadata": {},
   "outputs": [
    {
     "name": "stdout",
     "output_type": "stream",
     "text": [
      "{'_id': ObjectId('64e4eab4a682807a5695d165'), 'ride_id': 'C2F7DD78E82EC875', 'rideable_type': 'electric_bike', 'started_at': '2022-01-13 11:59:47', 'ended_at': '2022-01-13 12:02:44', 'start_station_name': 'Glenwood Ave & Touhy Ave', 'start_station_id': 525, 'end_station_name': 'Clark St & Touhy Ave', 'end_station_id': 'RP-007', 'start_lat': 42.0128005, 'start_lng': -87.665906, 'end_lat': 42.01256011541, 'end_lng': -87.6743671152, 'member_casual': 'casual', 'started_at_date': '2022-01-13', 'started_at_time': '11:59:47', 'ended_at_date': '2022-01-13', 'ended_at_time': '12:02:44'}\n",
      "{'_id': ObjectId('64e4ebecb589d1838b565c4b'), 'date': '2022-01-01', 'cloud_cover': 90.0, 'precipitation': 0.18, 'min_temp': 33.22, 'max_temp': 42.1, 'morning_temp': 42.1, 'afternoon_temp': 38.43, 'evening_temp': 35.24, 'night_temp': 38.44, 'max_windspeed': 15.01, 'prcp_inches': 0.0070866, 'sig_prcp': 'no', 'avg_temp': 38.59}\n",
      "{'_id': ObjectId('64e4eab4a682807a5695d165'), 'end_lat': 42.01256011541, 'end_lng': -87.6743671152, 'end_station_id': 'RP-007', 'end_station_name': 'Clark St & Touhy Ave', 'ended_at': '2022-01-13 12:02:44', 'ended_at_date': '2022-01-13', 'ended_at_time': '12:02:44', 'member_casual': 'casual', 'ride_id': 'C2F7DD78E82EC875', 'rideable_type': 'electric_bike', 'start_lat': 42.0128005, 'start_lng': -87.665906, 'start_station_id': 525, 'start_station_name': 'Glenwood Ave & Touhy Ave', 'started_at': '2022-01-13 11:59:47', 'started_at_date': '2022-01-13', 'started_at_time': '11:59:47', 'weather_data': {'_id': ObjectId('64e4ebecb589d1838b565c57'), 'date': '2022-01-13', 'cloud_cover': 75.0, 'precipitation': 0.0, 'min_temp': 30.72, 'max_temp': 39.83, 'morning_temp': 35.49, 'afternoon_temp': 30.72, 'evening_temp': 34.38, 'night_temp': 39.22, 'max_windspeed': 8.01}}\n",
      "{'_id': ObjectId('64e4eab4a682807a56961e8e'), 'end_lat': 41.93, 'end_lng': -87.71, 'end_station_id': '', 'end_station_name': '', 'ended_at': '2022-01-04 19:36:45', 'ended_at_date': '2022-01-04', 'ended_at_time': '19:36:45', 'member_casual': 'member', 'ride_id': '4E2C789651AB5E19', 'rideable_type': 'electric_bike', 'start_lat': 41.95, 'start_lng': -87.71, 'start_station_id': '', 'start_station_name': '', 'started_at': '2022-01-04 19:24:02', 'started_at_date': '2022-01-04', 'started_at_time': '19:24:02', 'weather_data': {'_id': ObjectId('64e4ebecb589d1838b565c4e'), 'date': '2022-01-04', 'cloud_cover': 4.0, 'precipitation': 0.0, 'min_temp': 18.03, 'max_temp': 30.36, 'morning_temp': 18.03, 'afternoon_temp': 20.97, 'evening_temp': 21.29, 'night_temp': 19.26, 'max_windspeed': 10.0}}\n",
      "{'_id': ObjectId('64e4eab4a682807a5695d165'), 'end_lat': 42.01256011541, 'end_lng': -87.6743671152, 'end_station_id': 'RP-007', 'end_station_name': 'Clark St & Touhy Ave', 'ended_at': '2022-01-13 12:02:44', 'ended_at_date': '2022-01-13', 'ended_at_time': '12:02:44', 'member_casual': 'casual', 'ride_id': 'C2F7DD78E82EC875', 'rideable_type': 'electric_bike', 'start_lat': 42.0128005, 'start_lng': -87.665906, 'start_station_id': 525, 'start_station_name': 'Glenwood Ave & Touhy Ave', 'started_at': '2022-01-13 11:59:47', 'started_at_date': '2022-01-13', 'started_at_time': '11:59:47', 'weather_data': {'_id': ObjectId('64e4ebecb589d1838b565c57'), 'date': '2022-01-13', 'cloud_cover': 75.0, 'precipitation': 0.0, 'min_temp': 30.72, 'max_temp': 39.83, 'morning_temp': 35.49, 'afternoon_temp': 30.72, 'evening_temp': 34.38, 'night_temp': 39.22, 'max_windspeed': 8.01}}\n",
      "{'_id': ObjectId('64e4eab4a682807a5695d165'), 'end_lat': 42.01256011541, 'end_lng': -87.6743671152, 'end_station_id': 'RP-007', 'end_station_name': 'Clark St & Touhy Ave', 'ended_at': '2022-01-13 12:02:44', 'ended_at_date': '2022-01-13', 'ended_at_time': '12:02:44', 'member_casual': 'casual', 'ride_id': 'C2F7DD78E82EC875', 'rideable_type': 'electric_bike', 'start_lat': 42.0128005, 'start_lng': -87.665906, 'start_station_id': 525, 'start_station_name': 'Glenwood Ave & Touhy Ave', 'started_at': '2022-01-13 11:59:47', 'started_at_date': '2022-01-13', 'started_at_time': '11:59:47', 'weather_data': {'_id': ObjectId('64e4ebecb589d1838b565c57'), 'date': '2022-01-13', 'cloud_cover': 75.0, 'precipitation': 0.0, 'min_temp': 30.72, 'max_temp': 39.83, 'morning_temp': 35.49, 'afternoon_temp': 30.72, 'evening_temp': 34.38, 'night_temp': 39.22, 'max_windspeed': 8.01}}\n"
     ]
    }
   ],
   "source": [
    "# Review a document in each collection \n",
    "print(db.divvy_ridedata.find_one())\n",
    "print(db.weather_daily.find_one())\n",
    "print(db.divvy_ridedata_merged.find_one())\n",
    "print(db.withoutStationName.find_one())\n",
    "print(db.withStationName.find_one())\n",
    "print(db.withLatLong.find_one())"
   ]
  },
  {
   "cell_type": "code",
   "execution_count": 26,
   "metadata": {},
   "outputs": [],
   "source": [
    "# Use aggregation pipeline to find top ten start stations\n",
    "pipeline = [\n",
    "    {\n",
    "        \"$group\": {\n",
    "            \"_id\": \"$start_station_name\",\n",
    "            \"count\": {\"$sum\": 1},\n",
    "            \"latitude\": {\"$first\": \"$end_lat\"},\n",
    "            \"longitude\": {\"$first\": \"$end_lng\"}\n",
    "        }\n",
    "    },\n",
    "    {\n",
    "        \"$sort\": {\"count\": -1}\n",
    "    },\n",
    "    {\n",
    "        \"$limit\": 10\n",
    "    },\n",
    "    {   \"$out\": \"Top10StartStations\"\n",
    "}\n",
    "]\n",
    "# Perform the aggregation\n",
    "result = list(withStation.aggregate(pipeline))\n",
    "\n",
    "# Assign results to variable \n",
    "Top10StartStations = db['Top10StartStations']"
   ]
  },
  {
   "cell_type": "code",
   "execution_count": null,
   "metadata": {},
   "outputs": [],
   "source": [
    "# Count the number of documents in the collection \n",
    "print(Top10StartStations.count_documents({}))"
   ]
  },
  {
   "cell_type": "code",
   "execution_count": 29,
   "metadata": {},
   "outputs": [
    {
     "name": "stdout",
     "output_type": "stream",
     "text": [
      "{'_id': 'Streeter Dr & Grand Ave', 'count': 71269, 'latitude': 41.880958, 'longitude': -87.616743}\n"
     ]
    }
   ],
   "source": [
    "# Review a document in the collection \n",
    "print(db.Top10StartStations.find_one())"
   ]
  },
  {
   "cell_type": "code",
   "execution_count": 30,
   "metadata": {},
   "outputs": [],
   "source": [
    "# Use aggregation pipeline to find top ten end stations\n",
    "pipeline = [\n",
    "    {\n",
    "        \"$group\": {\n",
    "            \"_id\": \"$end_station_name\",\n",
    "            \"count\": {\"$sum\": 1},\n",
    "            \"latitude\": {\"$first\": \"$end_lat\"},\n",
    "            \"longitude\": {\"$first\": \"$end_lng\"}\n",
    "        }\n",
    "    },\n",
    "    {\n",
    "        \"$sort\": {\"count\": -1}\n",
    "    },\n",
    "    {\n",
    "        \"$limit\": 10\n",
    "    },\n",
    "    {   \"$out\": \"Top10EndStations\"\n",
    "}\n",
    "]\n",
    "# Perform the aggregation\n",
    "result = list(withStation.aggregate(pipeline))\n",
    "\n",
    "# Assign to a variable\n",
    "Top10EndStations = db['Top10EndStations']"
   ]
  },
  {
   "cell_type": "code",
   "execution_count": 31,
   "metadata": {},
   "outputs": [
    {
     "name": "stdout",
     "output_type": "stream",
     "text": [
      "10\n"
     ]
    }
   ],
   "source": [
    "# Count the number of documents in the collection \n",
    "print(Top10EndStations.count_documents({}))"
   ]
  },
  {
   "cell_type": "code",
   "execution_count": 32,
   "metadata": {},
   "outputs": [
    {
     "name": "stdout",
     "output_type": "stream",
     "text": [
      "{'_id': 'Streeter Dr & Grand Ave', 'count': 72540, 'latitude': 41.892278, 'longitude': -87.612043}\n"
     ]
    }
   ],
   "source": [
    "# Review a document in the collection \n",
    "print(db.Top10EndStations.find_one())"
   ]
  },
  {
   "cell_type": "code",
   "execution_count": 33,
   "metadata": {},
   "outputs": [],
   "source": [
    "# Create a pipeline query to find the top ten bike routes (by start and end station)\n",
    "pipeline = [\n",
    "    {\n",
    "        \"$group\": {\n",
    "            \"_id\": { \"Start Station\": \"$start_station_name\", \"End Station\": \"$end_station_name\"},\n",
    "            \"count\": {\"$sum\": 1},\n",
    "            \"latitude\": {\"$first\": \"$end_lat\"},\n",
    "            \"longitude\": {\"$first\": \"$end_lng\"}\n",
    "        }\n",
    "    },\n",
    "    {\"$sort\": {\"count\": -1}\n",
    "},\n",
    "    {\n",
    "        \"$limit\": 10\n",
    "},\n",
    "    {   \"$out\": \"Top10Routes\"\n",
    "}\n",
    "]\n",
    "# Perform the aggregation\n",
    "result = list(withStation.aggregate(pipeline))\n",
    "\n",
    "# Assign to a variable\n",
    "Top10Routes = db['Top10Routes']"
   ]
  },
  {
   "cell_type": "code",
   "execution_count": 34,
   "metadata": {},
   "outputs": [
    {
     "name": "stdout",
     "output_type": "stream",
     "text": [
      "10\n"
     ]
    }
   ],
   "source": [
    "# Count the number of documents in the collection \n",
    "print(Top10Routes.count_documents({}))"
   ]
  },
  {
   "cell_type": "code",
   "execution_count": 35,
   "metadata": {},
   "outputs": [
    {
     "name": "stdout",
     "output_type": "stream",
     "text": [
      "{'_id': {'Start Station': 'Streeter Dr & Grand Ave', 'End Station': 'Streeter Dr & Grand Ave'}, 'count': 12202, 'latitude': 41.892278, 'longitude': -87.612043}\n"
     ]
    }
   ],
   "source": [
    "# Review a document in the collection \n",
    "print(db.Top10Routes.find_one())"
   ]
  },
  {
   "cell_type": "code",
   "execution_count": 8,
   "metadata": {},
   "outputs": [],
   "source": [
    "# Create a pipeline query to find docouments that have lat/long  \n",
    "pipeline = [\n",
    "    {\n",
    "        \"$match\": {\n",
    "            \"$and\": [\n",
    "                { \"start_lat\": { \"$ne\": \"\" } },\n",
    "                { \"start_lng\": { \"$ne\": \"\" } },\n",
    "                { \"end_lat\": { \"$ne\": \"\" } },\n",
    "                { \"end_lng\": { \"$ne\": \"\" } }\n",
    "            ]\n",
    "        }\n",
    "    }, \n",
    "    {\"$out\": \"withLatLong\"}\n",
    "]\n",
    "\n",
    "# Perform the aggregation\n",
    "result = list(divvy_ridedata_merged.aggregate(pipeline))"
   ]
  },
  {
   "cell_type": "code",
   "execution_count": 13,
   "metadata": {},
   "outputs": [],
   "source": [
    "# Create a pipeline query to find distance of each route in descending order by length  \n",
    "pipeline = [\n",
    "    {\n",
    "        \"$addFields\": {\n",
    "            \"start_lat\": { \"$toDouble\": \"$start_lat\" },\n",
    "            \"start_lng\": { \"$toDouble\": \"$start_lng\" },\n",
    "            \"end_lat\": { \"$toDouble\": \"$end_lat\" },\n",
    "            \"end_lng\": { \"$toDouble\": \"$end_lng\" }\n",
    "        }\n",
    "    },\n",
    "    {\n",
    "        \"$addFields\": {\n",
    "            \"distance\": {\n",
    "                \"$sqrt\": {\n",
    "                    \"$add\": [\n",
    "                        {\n",
    "                            \"$pow\": [\n",
    "                                { \"$subtract\": [\"$end_lat\", \"$start_lat\"] },\n",
    "                                2\n",
    "                            ]\n",
    "                        },\n",
    "                        {\n",
    "                            \"$pow\": [\n",
    "                                {\n",
    "                                    \"$multiply\": [\n",
    "                                        { \"$subtract\": [\"$end_lng\", \"$start_lng\"] },\n",
    "                                        { \"$cos\": { \"$avg\": [\"$start_lat\", \"$end_lat\"] } }\n",
    "                                    ]\n",
    "                                },\n",
    "                                2\n",
    "                            ]\n",
    "                        }\n",
    "                    ]\n",
    "                }\n",
    "            }\n",
    "        }\n",
    "    },\n",
    "    {\n",
    "        \"$sort\": {\"distance\": -1}\n",
    "    },\n",
    "    {\"$out\": \"RouteDistance\"}\n",
    "]\n",
    "\n",
    "# Perform the aggregation\n",
    "result = list(withLatLong.aggregate(pipeline))\n",
    "\n",
    "# Assign to a variable\n",
    "RouteDistance = db['RouteDistance']"
   ]
  },
  {
   "cell_type": "code",
   "execution_count": 14,
   "metadata": {},
   "outputs": [
    {
     "name": "stdout",
     "output_type": "stream",
     "text": [
      "5661859\n"
     ]
    }
   ],
   "source": [
    "# Count the number of documents in the collection \n",
    "print(RouteDistance.count_documents({}))"
   ]
  },
  {
   "cell_type": "code",
   "execution_count": 19,
   "metadata": {},
   "outputs": [
    {
     "name": "stdout",
     "output_type": "stream",
     "text": [
      "{'_id': ObjectId('64e4ebb2fab60b9d5612c00d'), 'end_lat': 0.0, 'end_lng': 0.0, 'end_station_id': 'chargingstx07', 'end_station_name': 'Green St & Madison Ave*', 'ended_at': '2022-11-09 12:26:18', 'ended_at_date': '2022-11-09', 'ended_at_time': '12:26:18', 'member_casual': 'member', 'ride_id': 'E9495F1DC3475D41', 'rideable_type': 'classic_bike', 'start_lat': 41.884114, 'start_lng': -87.654264, 'start_station_id': 18062, 'start_station_name': 'Aberdeen St & Randolph St', 'started_at': '2022-11-09 12:21:55', 'started_at_date': '2022-11-09', 'started_at_time': '12:21:55', 'weather_data': {'_id': ObjectId('64e4ebecb589d1838b565d7c'), 'date': '2022-11-09', 'cloud_cover': 75.0, 'precipitation': 0.0, 'min_temp': 47.35, 'max_temp': 60.37, 'morning_temp': 51.44, 'afternoon_temp': 48.54, 'evening_temp': 51.37, 'night_temp': 51.82, 'max_windspeed': 13.8}, 'distance': 60.51865544715035}\n",
      "{'_id': ObjectId('64e4ebb2fab60b9d5612c20d'), 'end_lat': 0.0, 'end_lng': 0.0, 'end_station_id': 'chargingstx07', 'end_station_name': 'Green St & Madison Ave*', 'ended_at': '2022-11-09 13:28:28', 'ended_at_date': '2022-11-09', 'ended_at_time': '13:28:28', 'member_casual': 'member', 'ride_id': '7F49424E860E7094', 'rideable_type': 'classic_bike', 'start_lat': 41.88318130597391, 'start_lng': -87.64872461557388, 'start_station_id': 13053, 'start_station_name': 'Green St & Washington Blvd', 'started_at': '2022-11-09 13:27:04', 'started_at_date': '2022-11-09', 'started_at_time': '13:27:04', 'weather_data': {'_id': ObjectId('64e4ebecb589d1838b565d7c'), 'date': '2022-11-09', 'cloud_cover': 75.0, 'precipitation': 0.0, 'min_temp': 47.35, 'max_temp': 60.37, 'morning_temp': 51.44, 'afternoon_temp': 48.54, 'evening_temp': 51.37, 'night_temp': 51.82, 'max_windspeed': 13.8}, 'distance': 60.49044026059129}\n",
      "{'_id': ObjectId('64e4ebb2fab60b9d5612c110'), 'end_lat': 0.0, 'end_lng': 0.0, 'end_station_id': 'chargingstx07', 'end_station_name': 'Green St & Madison Ave*', 'ended_at': '2022-11-09 15:52:23', 'ended_at_date': '2022-11-09', 'ended_at_time': '15:52:23', 'member_casual': 'member', 'ride_id': '75DE33501313D0CE', 'rideable_type': 'classic_bike', 'start_lat': 41.881892, 'start_lng': -87.648789, 'start_station_id': 'TA1307000120', 'start_station_name': 'Green St & Madison St', 'started_at': '2022-11-09 15:52:08', 'started_at_date': '2022-11-09', 'started_at_time': '15:52:08', 'weather_data': {'_id': ObjectId('64e4ebecb589d1838b565d7c'), 'date': '2022-11-09', 'cloud_cover': 75.0, 'precipitation': 0.0, 'min_temp': 47.35, 'max_temp': 60.37, 'morning_temp': 51.44, 'afternoon_temp': 48.54, 'evening_temp': 51.37, 'night_temp': 51.82, 'max_windspeed': 13.8}, 'distance': 60.45421892068916}\n",
      "{'_id': ObjectId('64e4ebabfab60b9d560f0b75'), 'end_lat': 0.0, 'end_lng': 0.0, 'end_station_id': 'chargingstx07', 'end_station_name': 'Green St & Madison Ave*', 'ended_at': '2022-11-09 13:44:38', 'ended_at_date': '2022-11-09', 'ended_at_time': '13:44:38', 'member_casual': 'member', 'ride_id': '3B47B333C0D186F0', 'rideable_type': 'classic_bike', 'start_lat': 41.87943409140013, 'start_lng': -87.63550400733948, 'start_station_id': 'TA1309000008', 'start_station_name': 'Franklin St & Adams St (Temp)', 'started_at': '2022-11-09 13:39:03', 'started_at_date': '2022-11-09', 'started_at_time': '13:39:03', 'weather_data': {'_id': ObjectId('64e4ebecb589d1838b565d7c'), 'date': '2022-11-09', 'cloud_cover': 75.0, 'precipitation': 0.0, 'min_temp': 47.35, 'max_temp': 60.37, 'morning_temp': 51.44, 'afternoon_temp': 48.54, 'evening_temp': 51.37, 'night_temp': 51.82, 'max_windspeed': 13.8}, 'distance': 60.3803869222743}\n",
      "{'_id': ObjectId('64e4ebacfab60b9d560f6af9'), 'end_lat': 0.0, 'end_lng': 0.0, 'end_station_id': 'chargingstx07', 'end_station_name': 'Green St & Madison Ave*', 'ended_at': '2022-11-09 11:37:30', 'ended_at_date': '2022-11-09', 'ended_at_time': '11:37:30', 'member_casual': 'member', 'ride_id': 'BB8AA29838266294', 'rideable_type': 'classic_bike', 'start_lat': 41.879255, 'start_lng': -87.639904, 'start_station_id': 13011, 'start_station_name': 'Canal St & Adams St', 'started_at': '2022-11-09 11:32:53', 'started_at_date': '2022-11-09', 'started_at_time': '11:32:53', 'weather_data': {'_id': ObjectId('64e4ebecb589d1838b565d7c'), 'date': '2022-11-09', 'cloud_cover': 75.0, 'precipitation': 0.0, 'min_temp': 47.35, 'max_temp': 60.37, 'morning_temp': 51.44, 'afternoon_temp': 48.54, 'evening_temp': 51.37, 'night_temp': 51.82, 'max_windspeed': 13.8}, 'distance': 60.37692802078634}\n",
      "{'_id': ObjectId('64e4ebb2fab60b9d5612c1bf'), 'end_lat': 0.0, 'end_lng': 0.0, 'end_station_id': 'chargingstx07', 'end_station_name': 'Green St & Madison Ave*', 'ended_at': '2022-11-09 11:06:21', 'ended_at_date': '2022-11-09', 'ended_at_time': '11:06:21', 'member_casual': 'member', 'ride_id': '0A6988FE859F4D54', 'rideable_type': 'classic_bike', 'start_lat': 41.878166, 'start_lng': -87.631929, 'start_station_id': 'TA1309000004', 'start_station_name': 'LaSalle St & Jackson Blvd', 'started_at': '2022-11-09 10:58:37', 'started_at_date': '2022-11-09', 'started_at_time': '10:58:37', 'weather_data': {'_id': ObjectId('64e4ebecb589d1838b565d7c'), 'date': '2022-11-09', 'cloud_cover': 75.0, 'precipitation': 0.0, 'min_temp': 47.35, 'max_temp': 60.37, 'morning_temp': 51.44, 'afternoon_temp': 48.54, 'evening_temp': 51.37, 'night_temp': 51.82, 'max_windspeed': 13.8}, 'distance': 60.34348482835676}\n",
      "{'_id': ObjectId('64e4ebb2fab60b9d5612bbda'), 'end_lat': 0.0, 'end_lng': 0.0, 'end_station_id': 'chargingstx07', 'end_station_name': 'Green St & Madison Ave*', 'ended_at': '2022-11-09 16:26:17', 'ended_at_date': '2022-11-09', 'ended_at_time': '16:26:17', 'member_casual': 'casual', 'ride_id': '6AFE1471227BD76F', 'rideable_type': 'classic_bike', 'start_lat': 41.871737, 'start_lng': -87.65103, 'start_station_id': 'TA1307000130', 'start_station_name': 'Morgan St & Polk St', 'started_at': '2022-11-09 16:17:16', 'started_at_date': '2022-11-09', 'started_at_time': '16:17:16', 'weather_data': {'_id': ObjectId('64e4ebecb589d1838b565d7c'), 'date': '2022-11-09', 'cloud_cover': 75.0, 'precipitation': 0.0, 'min_temp': 47.35, 'max_temp': 60.37, 'morning_temp': 51.44, 'afternoon_temp': 48.54, 'evening_temp': 51.37, 'night_temp': 51.82, 'max_windspeed': 13.8}, 'distance': 60.16971839274559}\n",
      "{'_id': ObjectId('64e4ebacfab60b9d560f581a'), 'end_lat': 0.0, 'end_lng': 0.0, 'end_station_id': 'chargingstx07', 'end_station_name': 'Green St & Madison Ave*', 'ended_at': '2022-11-09 16:38:06', 'ended_at_date': '2022-11-09', 'ended_at_time': '16:38:06', 'member_casual': 'casual', 'ride_id': '42AF82C53D831251', 'rideable_type': 'electric_bike', 'start_lat': 41.85491616666667, 'start_lng': -87.663692, 'start_station_id': 13307, 'start_station_name': 'Laflin St & Cullerton St', 'started_at': '2022-11-09 16:17:40', 'started_at_date': '2022-11-09', 'started_at_time': '16:17:40', 'weather_data': {'_id': ObjectId('64e4ebecb589d1838b565d7c'), 'date': '2022-11-09', 'cloud_cover': 75.0, 'precipitation': 0.0, 'min_temp': 47.35, 'max_temp': 60.37, 'morning_temp': 51.44, 'afternoon_temp': 48.54, 'evening_temp': 51.37, 'night_temp': 51.82, 'max_windspeed': 13.8}, 'distance': 59.702291866770615}\n",
      "{'_id': ObjectId('64e4eab4a682807a5695ff56'), 'end_lat': 41.8646, 'end_lng': -87.681, 'end_station_id': 'Pawel Bialowas - Test- PBSC charging station', 'end_station_name': 'Pawel Bialowas - Test- PBSC charging station', 'ended_at': '2022-01-14 11:15:50', 'ended_at_date': '2022-01-14', 'ended_at_time': '11:15:50', 'member_casual': 'casual', 'ride_id': '3327172413547F64', 'rideable_type': 'electric_bike', 'start_lat': 45.635034323, 'start_lng': -73.79647696, 'start_station_id': 'Pawel Bialowas - Test- PBSC charging station', 'start_station_name': 'Pawel Bialowas - Test- PBSC charging station', 'started_at': '2022-01-14 11:13:15', 'started_at_date': '2022-01-14', 'started_at_time': '11:13:15', 'weather_data': {'_id': ObjectId('64e4ebecb589d1838b565c58'), 'date': '2022-01-14', 'cloud_cover': 34.0, 'precipitation': 0.0, 'min_temp': 30.38, 'max_temp': 38.8, 'morning_temp': 35.74, 'afternoon_temp': 35.15, 'evening_temp': 32.5, 'night_temp': 38.39, 'max_windspeed': 10.0}, 'distance': 14.027235887447166}\n",
      "{'_id': ObjectId('64e4eb4b3567408a212c9de6'), 'end_lat': 42.37, 'end_lng': -87.83, 'end_station_id': '', 'end_station_name': '', 'ended_at': '2022-07-13 18:02:44', 'ended_at_date': '2022-07-13', 'ended_at_time': '18:02:44', 'member_casual': 'member', 'ride_id': '5CE2D7C544D25B78', 'rideable_type': 'electric_bike', 'start_lat': 42.050428867, 'start_lng': -87.677878022, 'start_station_id': 'E008', 'start_station_name': 'Chicago Ave & Sheridan Rd', 'started_at': '2022-07-13 13:51:38', 'started_at_date': '2022-07-13', 'started_at_time': '13:51:38', 'weather_data': {'_id': ObjectId('64e4ebecb589d1838b565d06'), 'date': '2022-07-13', 'cloud_cover': 20.0, 'precipitation': 0.0, 'min_temp': 68.34, 'max_temp': 84.45, 'morning_temp': 78.44, 'afternoon_temp': 70.48, 'evening_temp': 72.48, 'night_temp': 84.4, 'max_windspeed': 14.97}, 'distance': 0.3210151153143836}\n"
     ]
    }
   ],
   "source": [
    "# Find the first 10 documents\n",
    "documents = RouteDistance.find().sort(\"distance\", -1).limit(10)\n",
    "\n",
    "# Print the documents\n",
    "for doc in documents:\n",
    "    print(doc)"
   ]
  }
 ],
 "metadata": {
  "kernelspec": {
   "display_name": "dev2",
   "language": "python",
   "name": "python3"
  },
  "language_info": {
   "codemirror_mode": {
    "name": "ipython",
    "version": 3
   },
   "file_extension": ".py",
   "mimetype": "text/x-python",
   "name": "python",
   "nbconvert_exporter": "python",
   "pygments_lexer": "ipython3",
   "version": "3.10.12"
  },
  "orig_nbformat": 4
 },
 "nbformat": 4,
 "nbformat_minor": 2
}
