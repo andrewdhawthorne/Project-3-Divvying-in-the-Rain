{
 "cells": [
  {
   "cell_type": "code",
   "execution_count": 1,
   "metadata": {},
   "outputs": [],
   "source": [
    "# Import dependencies \n",
    "import pymongo\n",
    "from pymongo import MongoClient, UpdateOne\n",
    "import json"
   ]
  },
  {
   "cell_type": "code",
   "execution_count": 2,
   "metadata": {},
   "outputs": [],
   "source": [
    "# Create an instance of MongoClient\n",
    "mongo = MongoClient(port=27017)"
   ]
  },
  {
   "cell_type": "code",
   "execution_count": 3,
   "metadata": {},
   "outputs": [
    {
     "name": "stdout",
     "output_type": "stream",
     "text": [
      "['admin', 'chicago_bikes', 'classDB', 'config', 'fruits_db', 'gardenDB', 'local', 'met', 'travel_db', 'uk_food']\n"
     ]
    }
   ],
   "source": [
    "# Confirm list of databases\n",
    "print(mongo.list_database_names())"
   ]
  },
  {
   "cell_type": "code",
   "execution_count": 4,
   "metadata": {},
   "outputs": [],
   "source": [
    "# Assign the database to a variable name\n",
    "db = mongo.chicago_bikes"
   ]
  },
  {
   "cell_type": "code",
   "execution_count": 5,
   "metadata": {},
   "outputs": [
    {
     "name": "stdout",
     "output_type": "stream",
     "text": [
      "['divvy_ridedata', 'Top10EndStations', 'withLatLong', 'weather_daily', 'withoutStationName', 'divvy_rides_by_season', 'divvy_rides_by_month', 'Top10StartStations', 'withStationName', 'RouteDistance', 'divvy_ridedata_merged', 'Top10Routes']\n"
     ]
    }
   ],
   "source": [
    "# Review collections in database\n",
    "print(db.list_collection_names())"
   ]
  },
  {
   "cell_type": "markdown",
   "metadata": {},
   "source": [
    "Remove dictionary from 'weather_data' field in 'withoutStation' collection and add 'weather_date' field "
   ]
  },
  {
   "cell_type": "code",
   "execution_count": 5,
   "metadata": {},
   "outputs": [
    {
     "name": "stdout",
     "output_type": "stream",
     "text": [
      "{'_id': ObjectId('64e4163d948aee61d19c00e4'), 'afternoon_temp': 20.97, 'cloud_cover': 4, 'end_lat': 41.95, 'end_lng': -87.71, 'end_station_id': '', 'end_station_name': '', 'ended_at': '2022-01-04 19:11:14', 'ended_at_date': '2022-01-04', 'ended_at_time': '19:11:14', 'evening_temp': 21.29, 'max_temp': 30.36, 'max_windspeed': 10, 'member_casual': 'member', 'min_temp': 18.03, 'morning_temp': 18.03, 'night_temp': 19.26, 'precipitation': 0, 'ride_id': 'B2147BB28A87F330', 'rideable_type': 'electric_bike', 'start_lat': 41.95, 'start_lng': -87.71, 'start_station_id': '', 'start_station_name': '', 'started_at': '2022-01-04 19:09:38', 'started_at_date': '2022-01-04', 'started_at_time': '19:09:38', 'weather_data': {'_id': ObjectId('64e434c9b6c5bdee4f41aa51'), 'date': '2022-01-04', 'cloud_cover': 4, 'precipitation': 0, 'min_temp': 18.03, 'max_temp': 30.36, 'morning_temp': 18.03, 'afternoon_temp': 20.97, 'evening_temp': 21.29, 'night_temp': 19.26, 'max_windspeed': 10}}\n"
     ]
    }
   ],
   "source": [
    "# Review a document in the collection \n",
    "print(db.withoutStationName.find_one())"
   ]
  },
  {
   "cell_type": "code",
   "execution_count": 6,
   "metadata": {},
   "outputs": [],
   "source": [
    "# Assign collection to variable \n",
    "withoutStation = db['withoutStationName']"
   ]
  },
  {
   "cell_type": "code",
   "execution_count": 7,
   "metadata": {},
   "outputs": [],
   "source": [
    "# Iterate through each document in the collection\n",
    "for document in withoutStation.find():\n",
    "    if 'weather_data' in document:\n",
    "        weather_data = document['weather_data']\n",
    "        \n",
    "        # Remove the '_id' field from weather_data\n",
    "        weather_data_id = weather_data.pop('_id')\n",
    "        \n",
    "        # Rename 'date' to 'weather_date' within weather_data\n",
    "        weather_data['weather_date'] = weather_data.pop('date')\n",
    "        \n",
    "        # Add weather_data fields to the document\n",
    "        document.update(weather_data)\n",
    "        \n",
    "        # Set the value of 'weather_data' to the original _id value\n",
    "        document['weather_data'] = weather_data_id\n",
    "        \n",
    "        # Remove the old 'weather_data' field\n",
    "        document.pop('weather_data')\n",
    "        \n",
    "        # Update the document in the collection\n",
    "        withoutStation.update_one({'_id': document['_id']}, {'$set': document})"
   ]
  },
  {
   "cell_type": "code",
   "execution_count": 9,
   "metadata": {},
   "outputs": [
    {
     "name": "stdout",
     "output_type": "stream",
     "text": [
      "{'_id': ObjectId('64e4163d948aee61d19c00e4'), 'afternoon_temp': 20.97, 'cloud_cover': 4, 'end_lat': 41.95, 'end_lng': -87.71, 'end_station_id': '', 'end_station_name': '', 'ended_at': '2022-01-04 19:11:14', 'ended_at_date': '2022-01-04', 'ended_at_time': '19:11:14', 'evening_temp': 21.29, 'max_temp': 30.36, 'max_windspeed': 10, 'member_casual': 'member', 'min_temp': 18.03, 'morning_temp': 18.03, 'night_temp': 19.26, 'precipitation': 0, 'ride_id': 'B2147BB28A87F330', 'rideable_type': 'electric_bike', 'start_lat': 41.95, 'start_lng': -87.71, 'start_station_id': '', 'start_station_name': '', 'started_at': '2022-01-04 19:09:38', 'started_at_date': '2022-01-04', 'started_at_time': '19:09:38', 'weather_data': {'_id': ObjectId('64e434c9b6c5bdee4f41aa51'), 'date': '2022-01-04', 'cloud_cover': 4, 'precipitation': 0, 'min_temp': 18.03, 'max_temp': 30.36, 'morning_temp': 18.03, 'afternoon_temp': 20.97, 'evening_temp': 21.29, 'night_temp': 19.26, 'max_windspeed': 10}, 'weather_date': '2022-01-04'}\n"
     ]
    }
   ],
   "source": [
    "# Review document in updated collection \n",
    "print(db.withoutStationName.find_one())"
   ]
  },
  {
   "cell_type": "markdown",
   "metadata": {},
   "source": [
    "Remove dictionary from 'weather_data' field in 'withStation' collection and add 'weather_date' field "
   ]
  },
  {
   "cell_type": "code",
   "execution_count": 10,
   "metadata": {},
   "outputs": [
    {
     "name": "stdout",
     "output_type": "stream",
     "text": [
      "{'_id': ObjectId('64e4163d948aee61d19bb3bc'), 'afternoon_temp': 9.73, 'cloud_cover': 17, 'end_lat': 42.01256011541, 'end_lng': -87.6743671152, 'end_station_id': 'RP-007', 'end_station_name': 'Clark St & Touhy Ave', 'ended_at': '2022-01-10 08:46:17', 'ended_at_date': '2022-01-10', 'ended_at_time': '08:46:17', 'evening_temp': 14, 'max_temp': 20.84, 'max_windspeed': 16.35, 'member_casual': 'casual', 'min_temp': 9.5, 'morning_temp': 13.69, 'night_temp': 20.75, 'precipitation': 0.24, 'ride_id': 'A6CF8980A652D272', 'rideable_type': 'electric_bike', 'start_lat': 42.012763, 'start_lng': -87.6659675, 'start_station_id': 525, 'start_station_name': 'Glenwood Ave & Touhy Ave', 'started_at': '2022-01-10 08:41:56', 'started_at_date': '2022-01-10', 'started_at_time': '08:41:56', 'weather_data': {'_id': ObjectId('64e434c9b6c5bdee4f41aa4e'), 'date': '2022-01-10', 'cloud_cover': 17, 'precipitation': 0.24, 'min_temp': 9.5, 'max_temp': 20.84, 'morning_temp': 13.69, 'afternoon_temp': 9.73, 'evening_temp': 14, 'night_temp': 20.75, 'max_windspeed': 16.35}}\n"
     ]
    }
   ],
   "source": [
    "# Review a document in the collection \n",
    "print(db.withStationName.find_one())"
   ]
  },
  {
   "cell_type": "code",
   "execution_count": 11,
   "metadata": {},
   "outputs": [],
   "source": [
    "# Assign collection to variable \n",
    "withStation = db['withStationName']"
   ]
  },
  {
   "cell_type": "code",
   "execution_count": 13,
   "metadata": {},
   "outputs": [],
   "source": [
    "# Iterate through each document in the collection\n",
    "for document in withStation.find():\n",
    "    if 'weather_data' in document:\n",
    "        weather_data = document['weather_data']\n",
    "        \n",
    "        # Remove the '_id' field from weather_data\n",
    "        weather_data_id = weather_data.pop('_id')\n",
    "        \n",
    "        # Rename 'date' to 'weather_date' within weather_data\n",
    "        weather_data['weather_date'] = weather_data.pop('date')\n",
    "        \n",
    "        # Add weather_data fields to the document\n",
    "        document.update(weather_data)\n",
    "        \n",
    "        # Set the value of 'weather_data' to the original _id value\n",
    "        document['weather_data'] = weather_data_id\n",
    "        \n",
    "        # Remove the old 'weather_data' field\n",
    "        document.pop('weather_data')\n",
    "        \n",
    "        # Update the document in the collection\n",
    "        withStation.update_one({'_id': document['_id']}, {'$set': document})"
   ]
  },
  {
   "cell_type": "code",
   "execution_count": 17,
   "metadata": {},
   "outputs": [],
   "source": [
    "from pymongo import UpdateOne\n",
    "\n",
    "# Set the batch size\n",
    "batch_size = 1000\n",
    "\n",
    "# Create an empty list to hold the update operations\n",
    "update_operations = []\n",
    "\n",
    "# Iterate through each document in the collection\n",
    "cursor = withStation.find().batch_size(batch_size)\n",
    "\n",
    "for document in cursor:\n",
    "    if 'weather_data' in document:\n",
    "        weather_data = document['weather_data']\n",
    "        \n",
    "        # Remove the '_id' field from weather_data\n",
    "        weather_data_id = weather_data.pop('_id')\n",
    "        \n",
    "        # Rename 'date' to 'weather_date' within weather_data\n",
    "        weather_data['weather_date'] = weather_data.pop('date')\n",
    "        \n",
    "        # Create the update operation for the current document\n",
    "        update_operation = UpdateOne(\n",
    "            {'_id': document['_id']},\n",
    "            [\n",
    "                {'$set': weather_data},\n",
    "                {'$set': {'weather_data': weather_data_id}}\n",
    "            ]\n",
    "        )\n",
    "        \n",
    "        # Add the update operation to the list\n",
    "        update_operations.append(update_operation)\n",
    "\n",
    "    # Execute bulk write operations when the batch size is reached\n",
    "    if len(update_operations) >= batch_size:\n",
    "        withStation.bulk_write(update_operations)\n",
    "        update_operations = []\n",
    "\n",
    "# Execute any remaining update operations\n",
    "if update_operations:\n",
    "    withStation.bulk_write(update_operations)\n"
   ]
  },
  {
   "cell_type": "code",
   "execution_count": 18,
   "metadata": {},
   "outputs": [
    {
     "name": "stdout",
     "output_type": "stream",
     "text": [
      "{'_id': ObjectId('64e4163d948aee61d19bb3bc'), 'afternoon_temp': 9.73, 'cloud_cover': 17, 'end_lat': 42.01256011541, 'end_lng': -87.6743671152, 'end_station_id': 'RP-007', 'end_station_name': 'Clark St & Touhy Ave', 'ended_at': '2022-01-10 08:46:17', 'ended_at_date': '2022-01-10', 'ended_at_time': '08:46:17', 'evening_temp': 14, 'max_temp': 20.84, 'max_windspeed': 16.35, 'member_casual': 'casual', 'min_temp': 9.5, 'morning_temp': 13.69, 'night_temp': 20.75, 'precipitation': 0.24, 'ride_id': 'A6CF8980A652D272', 'rideable_type': 'electric_bike', 'start_lat': 42.012763, 'start_lng': -87.6659675, 'start_station_id': 525, 'start_station_name': 'Glenwood Ave & Touhy Ave', 'started_at': '2022-01-10 08:41:56', 'started_at_date': '2022-01-10', 'started_at_time': '08:41:56', 'weather_data': ObjectId('64e434c9b6c5bdee4f41aa4e'), 'weather_date': '2022-01-10'}\n"
     ]
    }
   ],
   "source": [
    "# Review document in updated collection \n",
    "print(db.withStationName.find_one())"
   ]
  },
  {
   "cell_type": "markdown",
   "metadata": {},
   "source": [
    "Remove dictionary from 'weather_data' field in 'withLatLong' collection and add 'weather_date' field "
   ]
  },
  {
   "cell_type": "code",
   "execution_count": 15,
   "metadata": {},
   "outputs": [
    {
     "name": "stdout",
     "output_type": "stream",
     "text": [
      "{'_id': ObjectId('64e4eab4a682807a5695d165'), 'end_lat': 42.01256011541, 'end_lng': -87.6743671152, 'end_station_id': 'RP-007', 'end_station_name': 'Clark St & Touhy Ave', 'ended_at': '2022-01-13 12:02:44', 'ended_at_date': '2022-01-13', 'ended_at_time': '12:02:44', 'member_casual': 'casual', 'ride_id': 'C2F7DD78E82EC875', 'rideable_type': 'electric_bike', 'start_lat': 42.0128005, 'start_lng': -87.665906, 'start_station_id': 525, 'start_station_name': 'Glenwood Ave & Touhy Ave', 'started_at': '2022-01-13 11:59:47', 'started_at_date': '2022-01-13', 'started_at_time': '11:59:47', 'weather_data': {'_id': ObjectId('64e4ebecb589d1838b565c57'), 'date': '2022-01-13', 'cloud_cover': 75.0, 'precipitation': 0.0, 'min_temp': 30.72, 'max_temp': 39.83, 'morning_temp': 35.49, 'afternoon_temp': 30.72, 'evening_temp': 34.38, 'night_temp': 39.22, 'max_windspeed': 8.01}}\n"
     ]
    }
   ],
   "source": [
    "# Review a document in the collection \n",
    "print(db.withLatLong.find_one())"
   ]
  },
  {
   "cell_type": "code",
   "execution_count": 16,
   "metadata": {},
   "outputs": [],
   "source": [
    "# Assign collection to variable \n",
    "withLatLong = db['withLatLong']"
   ]
  },
  {
   "cell_type": "code",
   "execution_count": 17,
   "metadata": {},
   "outputs": [],
   "source": [
    "# Iterate through each document in the collection\n",
    "for document in withLatLong.find():\n",
    "    if 'weather_data' in document:\n",
    "        weather_data = document['weather_data']\n",
    "        \n",
    "        # Remove the '_id' field from weather_data\n",
    "        weather_data_id = weather_data.pop('_id')\n",
    "        \n",
    "        # Rename 'date' to 'weather_date' within weather_data\n",
    "        weather_data['weather_date'] = weather_data.pop('date')\n",
    "        \n",
    "        # Add weather_data fields to the document\n",
    "        document.update(weather_data)\n",
    "        \n",
    "        # Set the value of 'weather_data' to the original _id value\n",
    "        document['weather_data'] = weather_data_id\n",
    "        \n",
    "        # Remove the old 'weather_data' field\n",
    "        document.pop('weather_data')\n",
    "        \n",
    "        # Update the document in the collection\n",
    "        withLatLong.update_one({'_id': document['_id']}, {'$set': document})"
   ]
  },
  {
   "cell_type": "code",
   "execution_count": 18,
   "metadata": {},
   "outputs": [
    {
     "name": "stdout",
     "output_type": "stream",
     "text": [
      "{'_id': ObjectId('64e4eab4a682807a5695d165'), 'end_lat': 42.01256011541, 'end_lng': -87.6743671152, 'end_station_id': 'RP-007', 'end_station_name': 'Clark St & Touhy Ave', 'ended_at': '2022-01-13 12:02:44', 'ended_at_date': '2022-01-13', 'ended_at_time': '12:02:44', 'member_casual': 'casual', 'ride_id': 'C2F7DD78E82EC875', 'rideable_type': 'electric_bike', 'start_lat': 42.0128005, 'start_lng': -87.665906, 'start_station_id': 525, 'start_station_name': 'Glenwood Ave & Touhy Ave', 'started_at': '2022-01-13 11:59:47', 'started_at_date': '2022-01-13', 'started_at_time': '11:59:47', 'weather_data': {'_id': ObjectId('64e4ebecb589d1838b565c57'), 'date': '2022-01-13', 'cloud_cover': 75.0, 'precipitation': 0.0, 'min_temp': 30.72, 'max_temp': 39.83, 'morning_temp': 35.49, 'afternoon_temp': 30.72, 'evening_temp': 34.38, 'night_temp': 39.22, 'max_windspeed': 8.01}, 'afternoon_temp': 30.72, 'cloud_cover': 75.0, 'evening_temp': 34.38, 'max_temp': 39.83, 'max_windspeed': 8.01, 'min_temp': 30.72, 'morning_temp': 35.49, 'night_temp': 39.22, 'precipitation': 0.0, 'weather_date': '2022-01-13'}\n"
     ]
    }
   ],
   "source": [
    "# Review document in updated collection \n",
    "print(db.withLatLong.find_one())"
   ]
  },
  {
   "cell_type": "markdown",
   "metadata": {},
   "source": [
    "Remove dictionary from 'weather_data' field in 'RouteDistance' collection and add 'weather_date' field "
   ]
  },
  {
   "cell_type": "code",
   "execution_count": 19,
   "metadata": {},
   "outputs": [
    {
     "name": "stdout",
     "output_type": "stream",
     "text": [
      "{'_id': ObjectId('64e4eab4a682807a5695ff56'), 'end_lat': 41.8646, 'end_lng': -87.681, 'end_station_id': 'Pawel Bialowas - Test- PBSC charging station', 'end_station_name': 'Pawel Bialowas - Test- PBSC charging station', 'ended_at': '2022-01-14 11:15:50', 'ended_at_date': '2022-01-14', 'ended_at_time': '11:15:50', 'member_casual': 'casual', 'ride_id': '3327172413547F64', 'rideable_type': 'electric_bike', 'start_lat': 45.635034323, 'start_lng': -73.79647696, 'start_station_id': 'Pawel Bialowas - Test- PBSC charging station', 'start_station_name': 'Pawel Bialowas - Test- PBSC charging station', 'started_at': '2022-01-14 11:13:15', 'started_at_date': '2022-01-14', 'started_at_time': '11:13:15', 'weather_data': {'_id': ObjectId('64e4ebecb589d1838b565c58'), 'date': '2022-01-14', 'cloud_cover': 34.0, 'precipitation': 0.0, 'min_temp': 30.38, 'max_temp': 38.8, 'morning_temp': 35.74, 'afternoon_temp': 35.15, 'evening_temp': 32.5, 'night_temp': 38.39, 'max_windspeed': 10.0}, 'distance': 14.027235887447166}\n"
     ]
    }
   ],
   "source": [
    "# Review a document in the collection \n",
    "print(db.RouteDistance.find_one())"
   ]
  },
  {
   "cell_type": "code",
   "execution_count": 20,
   "metadata": {},
   "outputs": [],
   "source": [
    "# Assign collection to variable \n",
    "RouteDistance = db['RouteDistance']"
   ]
  },
  {
   "cell_type": "code",
   "execution_count": 21,
   "metadata": {},
   "outputs": [],
   "source": [
    "# Iterate through each document in the collection\n",
    "for document in RouteDistance.find():\n",
    "    if 'weather_data' in document:\n",
    "        weather_data = document['weather_data']\n",
    "        \n",
    "        # Remove the '_id' field from weather_data\n",
    "        weather_data_id = weather_data.pop('_id')\n",
    "        \n",
    "        # Rename 'date' to 'weather_date' within weather_data\n",
    "        weather_data['weather_date'] = weather_data.pop('date')\n",
    "        \n",
    "        # Add weather_data fields to the document\n",
    "        document.update(weather_data)\n",
    "        \n",
    "        # Set the value of 'weather_data' to the original _id value\n",
    "        document['weather_data'] = weather_data_id\n",
    "        \n",
    "        # Remove the old 'weather_data' field\n",
    "        document.pop('weather_data')\n",
    "        \n",
    "        # Update the document in the collection\n",
    "        RouteDistance.update_one({'_id': document['_id']}, {'$set': document})"
   ]
  },
  {
   "cell_type": "code",
   "execution_count": 22,
   "metadata": {},
   "outputs": [
    {
     "name": "stdout",
     "output_type": "stream",
     "text": [
      "{'_id': ObjectId('64e4eab4a682807a5695ff56'), 'end_lat': 41.8646, 'end_lng': -87.681, 'end_station_id': 'Pawel Bialowas - Test- PBSC charging station', 'end_station_name': 'Pawel Bialowas - Test- PBSC charging station', 'ended_at': '2022-01-14 11:15:50', 'ended_at_date': '2022-01-14', 'ended_at_time': '11:15:50', 'member_casual': 'casual', 'ride_id': '3327172413547F64', 'rideable_type': 'electric_bike', 'start_lat': 45.635034323, 'start_lng': -73.79647696, 'start_station_id': 'Pawel Bialowas - Test- PBSC charging station', 'start_station_name': 'Pawel Bialowas - Test- PBSC charging station', 'started_at': '2022-01-14 11:13:15', 'started_at_date': '2022-01-14', 'started_at_time': '11:13:15', 'weather_data': {'_id': ObjectId('64e4ebecb589d1838b565c58'), 'date': '2022-01-14', 'cloud_cover': 34.0, 'precipitation': 0.0, 'min_temp': 30.38, 'max_temp': 38.8, 'morning_temp': 35.74, 'afternoon_temp': 35.15, 'evening_temp': 32.5, 'night_temp': 38.39, 'max_windspeed': 10.0}, 'distance': 14.027235887447166, 'afternoon_temp': 35.15, 'cloud_cover': 34.0, 'evening_temp': 32.5, 'max_temp': 38.8, 'max_windspeed': 10.0, 'min_temp': 30.38, 'morning_temp': 35.74, 'night_temp': 38.39, 'precipitation': 0.0, 'weather_date': '2022-01-14'}\n"
     ]
    }
   ],
   "source": [
    "# Review document in updated collection \n",
    "print(db.RouteDistance.find_one())"
   ]
  }
 ],
 "metadata": {
  "kernelspec": {
   "display_name": "dev2",
   "language": "python",
   "name": "python3"
  },
  "language_info": {
   "codemirror_mode": {
    "name": "ipython",
    "version": 3
   },
   "file_extension": ".py",
   "mimetype": "text/x-python",
   "name": "python",
   "nbconvert_exporter": "python",
   "pygments_lexer": "ipython3",
   "version": "3.10.12"
  },
  "orig_nbformat": 4
 },
 "nbformat": 4,
 "nbformat_minor": 2
}
