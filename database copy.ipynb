{
 "cells": [
  {
   "cell_type": "markdown",
   "metadata": {},
   "source": [
    "### Import Divvy Bike Data: \n",
    "\n",
    "mongoimport --type csv -d chicago_bikes -c divvy_ridedata --headerline 202201-divvy-tripdata.csv<br>\n",
    "mongoimport --type csv -d chicago_bikes -c divvy_ridedata --headerline 202202-divvy-tripdata.csv<br>\n",
    "mongoimport --type csv -d chicago_bikes -c divvy_ridedata --headerline 202203-divvy-tripdata.csv<br>\n",
    "mongoimport --type csv -d chicago_bikes -c divvy_ridedata --headerline 202204-divvy-tripdata.csv<br>\n",
    "mongoimport --type csv -d chicago_bikes -c divvy_ridedata --headerline 202205-divvy-tripdata.csv<br>\n",
    "mongoimport --type csv -d chicago_bikes -c divvy_ridedata --headerline 202206-divvy-tripdata.csv<br>\n",
    "mongoimport --type csv -d chicago_bikes -c divvy_ridedata --headerline 202207-divvy-tripdata.csv<br>\n",
    "mongoimport --type csv -d chicago_bikes -c divvy_ridedata --headerline 202208-divvy-tripdata.csv<br>\n",
    "mongoimport --type csv -d chicago_bikes -c divvy_ridedata --headerline 202209-divvy-publictripdata.csv<br>\n",
    "mongoimport --type csv -d chicago_bikes -c divvy_ridedata --headerline 202210-divvy-tripdata.csv<br>\n",
    "mongoimport --type csv -d chicago_bikes -c divvy_ridedata --headerline 202211-divvy-tripdata.csv<br>\n",
    "mongoimport --type csv -d chicago_bikes -c divvy_ridedata --headerline  202212-divvy-tripdata.csv<br>\n",
    "\n",
    "### Import Weather Data: \n",
    "mongoimport --type csv -d chicago_bikes -c weather_daily --headerline weather_daily.csv"
   ]
  },
  {
   "cell_type": "code",
   "execution_count": 75,
   "metadata": {},
   "outputs": [],
   "source": [
    "import pymongo\n",
    "from pymongo import MongoClient, UpdateOne\n",
    "import json"
   ]
  },
  {
   "cell_type": "code",
   "execution_count": 12,
   "metadata": {},
   "outputs": [],
   "source": [
    "# Create an instance of MongoClient\n",
    "mongo = MongoClient(port=27017)"
   ]
  },
  {
   "cell_type": "code",
   "execution_count": 13,
   "metadata": {},
   "outputs": [
    {
     "name": "stdout",
     "output_type": "stream",
     "text": [
      "['admin', 'chicago_bikes', 'classDB', 'config', 'fruits_db', 'gardenDB', 'local', 'met', 'travel_db', 'uk_food']\n"
     ]
    }
   ],
   "source": [
    "# confirm that our new database was created\n",
    "print(mongo.list_database_names())"
   ]
  },
  {
   "cell_type": "code",
   "execution_count": 14,
   "metadata": {},
   "outputs": [],
   "source": [
    "# assign the database to a variable name\n",
    "db = mongo.chicago_bikes"
   ]
  },
  {
   "cell_type": "code",
   "execution_count": 15,
   "metadata": {},
   "outputs": [
    {
     "name": "stdout",
     "output_type": "stream",
     "text": [
      "['divvy_ridedata', 'weather_daily']\n"
     ]
    }
   ],
   "source": [
    "# review the collections in our new database\n",
    "print(db.list_collection_names())"
   ]
  },
  {
   "cell_type": "code",
   "execution_count": 17,
   "metadata": {},
   "outputs": [
    {
     "name": "stdout",
     "output_type": "stream",
     "text": [
      "{'_id': ObjectId('64e11f4d696f85250a48ff98'), 'ride_id': '81751A3186E59A6B', 'rideable_type': 'classic_bike', 'started_at': '2022-01-22 12:20:02', 'ended_at': '2022-01-22 12:32:06', 'start_station_name': 'Sheffield Ave & Fullerton Ave', 'start_station_id': 'TA1306000016', 'end_station_name': 'Damen Ave & Clybourn Ave', 'end_station_id': 13271, 'start_lat': 41.9256018819, 'start_lng': -87.6537080423, 'end_lat': 41.931931, 'end_lng': -87.677856, 'member_casual': 'member', 'date_column': '2022-01-22', 'time_column': '12:20:02', 'ended_at_date': '2022-01-22', 'ended_at_time': '12:32:06'}\n",
      "{'_id': ObjectId('64e2bd76124daffb9a1d7f44'), 'date': '2022-01-01', 'cloud_cover': 90.0, 'precipitation': 0.18, 'min_temp': 273.83, 'max_temp': 278.76, 'morning_temp': 278.76, 'afternoon_temp': 276.72, 'evening_temp': 274.95, 'night_temp': 276.73, 'max_windspeed': 6.71}\n"
     ]
    }
   ],
   "source": [
    "# review a document in the customer_list collection\n",
    "print(db.divvy_ridedata.find_one())\n",
    "print(db.weather_daily.find_one())"
   ]
  },
  {
   "cell_type": "code",
   "execution_count": 18,
   "metadata": {},
   "outputs": [],
   "source": [
    "divvy_rides = db['divvy_ridedata']\n",
    "weather_daily = db['weather_daily']"
   ]
  },
  {
   "cell_type": "code",
   "execution_count": 19,
   "metadata": {},
   "outputs": [
    {
     "data": {
      "text/plain": [
       "365"
      ]
     },
     "execution_count": 19,
     "metadata": {},
     "output_type": "execute_result"
    }
   ],
   "source": [
    "divvy_rides.count_documents({})\n",
    "weather_daily.count_documents({})"
   ]
  },
  {
   "cell_type": "code",
   "execution_count": 33,
   "metadata": {},
   "outputs": [
    {
     "data": {
      "text/plain": [
       "<pymongo.results.BulkWriteResult at 0x11e62a640>"
      ]
     },
     "execution_count": 33,
     "metadata": {},
     "output_type": "execute_result"
    }
   ],
   "source": [
    "documents = divvy_rides.find({})\n",
    "bulk_updates = []\n",
    "\n",
    "for document in documents:\n",
    "    original_value = document[\"started_at\"]\n",
    "    parts = original_value.split(\" \")\n",
    "    date_part = parts[0]\n",
    "    time_part = parts[1]\n",
    "    bulk_updates.append(\n",
    "        pymongo.UpdateOne(\n",
    "            {\"_id\": document[\"_id\"]},\n",
    "            {\n",
    "                \"$set\": {\n",
    "                    \"started_at_date\": date_part,\n",
    "                    \"started_at_time\": time_part\n",
    "                }\n",
    "            }\n",
    "        )\n",
    "    )\n",
    "\n",
    "# Execute bulk write operations\n",
    "divvy_rides.bulk_write(bulk_updates)\n"
   ]
  },
  {
   "cell_type": "code",
   "execution_count": 40,
   "metadata": {},
   "outputs": [
    {
     "data": {
      "text/plain": [
       "<pymongo.results.BulkWriteResult at 0x2c91c7440>"
      ]
     },
     "execution_count": 40,
     "metadata": {},
     "output_type": "execute_result"
    }
   ],
   "source": [
    "documents = divvy_rides.find({})\n",
    "bulk_updates = []\n",
    "\n",
    "for document in documents:\n",
    "    original_value = document[\"ended_at\"]\n",
    "    parts = original_value.split(\" \")\n",
    "    date_part = parts[0]\n",
    "    time_part = parts[1]\n",
    "    bulk_updates.append(\n",
    "        pymongo.UpdateOne(\n",
    "            {\"_id\": document[\"_id\"]},\n",
    "            {\n",
    "                \"$set\": {\n",
    "                    \"ended_at_date\": date_part,\n",
    "                    \"ended_at_time\": time_part\n",
    "                }\n",
    "            }\n",
    "        )\n",
    "    )\n",
    "\n",
    "# Execute bulk write operations\n",
    "divvy_rides.bulk_write(bulk_updates)"
   ]
  },
  {
   "cell_type": "code",
   "execution_count": 34,
   "metadata": {},
   "outputs": [
    {
     "name": "stdout",
     "output_type": "stream",
     "text": [
      "{'_id': ObjectId('64e11f4d696f85250a48ff98'), 'ride_id': '81751A3186E59A6B', 'rideable_type': 'classic_bike', 'started_at': '2022-01-22 12:20:02', 'ended_at': '2022-01-22 12:32:06', 'start_station_name': 'Sheffield Ave & Fullerton Ave', 'start_station_id': 'TA1306000016', 'end_station_name': 'Damen Ave & Clybourn Ave', 'end_station_id': 13271, 'start_lat': 41.9256018819, 'start_lng': -87.6537080423, 'end_lat': 41.931931, 'end_lng': -87.677856, 'member_casual': 'member', 'date_column': '2022-01-22', 'time_column': '12:20:02', 'ended_at_date': '2022-01-22', 'ended_at_time': '12:32:06'}\n",
      "{'_id': ObjectId('64e2bd76124daffb9a1d7f44'), 'date': '2022-01-01', 'cloud_cover': 90.0, 'precipitation': 0.18, 'min_temp': 273.83, 'max_temp': 278.76, 'morning_temp': 278.76, 'afternoon_temp': 276.72, 'evening_temp': 274.95, 'night_temp': 276.73, 'max_windspeed': 6.71}\n"
     ]
    }
   ],
   "source": [
    "print(divvy_rides.find_one())\n",
    "print(weather_daily.find_one())"
   ]
  },
  {
   "cell_type": "code",
   "execution_count": 115,
   "metadata": {},
   "outputs": [
    {
     "ename": "KeyboardInterrupt",
     "evalue": "",
     "output_type": "error",
     "traceback": [
      "\u001b[0;31m---------------------------------------------------------------------------\u001b[0m",
      "\u001b[0;31mKeyboardInterrupt\u001b[0m                         Traceback (most recent call last)",
      "Cell \u001b[0;32mIn[115], line 10\u001b[0m\n\u001b[1;32m      7\u001b[0m \u001b[39mfor\u001b[39;00m weather_document \u001b[39min\u001b[39;00m weather_data:\n\u001b[1;32m      8\u001b[0m     \u001b[39m# Get the corresponding divvy_rides document based on the end_date\u001b[39;00m\n\u001b[1;32m      9\u001b[0m     ended_at_date \u001b[39m=\u001b[39m weather_document[\u001b[39m'\u001b[39m\u001b[39mdate\u001b[39m\u001b[39m'\u001b[39m]  \u001b[39m# Adjust to the correct field name\u001b[39;00m\n\u001b[0;32m---> 10\u001b[0m     divvy_rides_document \u001b[39m=\u001b[39m divvy_rides\u001b[39m.\u001b[39;49mfind_one({\u001b[39m'\u001b[39;49m\u001b[39mended_at_date\u001b[39;49m\u001b[39m'\u001b[39;49m: ended_at_date})\n\u001b[1;32m     12\u001b[0m     \u001b[39m# If a matching divvy_rides document is found, update it\u001b[39;00m\n\u001b[1;32m     13\u001b[0m     \u001b[39mif\u001b[39;00m divvy_rides_document:\n",
      "File \u001b[0;32m~/anaconda3/envs/dev/lib/python3.10/site-packages/pymongo/collection.py:1328\u001b[0m, in \u001b[0;36mCollection.find_one\u001b[0;34m(self, filter, *args, **kwargs)\u001b[0m\n\u001b[1;32m   1325\u001b[0m     \u001b[39mfilter\u001b[39m \u001b[39m=\u001b[39m {\u001b[39m\"\u001b[39m\u001b[39m_id\u001b[39m\u001b[39m\"\u001b[39m: \u001b[39mfilter\u001b[39m}\n\u001b[1;32m   1327\u001b[0m cursor \u001b[39m=\u001b[39m \u001b[39mself\u001b[39m\u001b[39m.\u001b[39mfind(\u001b[39mfilter\u001b[39m, \u001b[39m*\u001b[39margs, \u001b[39m*\u001b[39m\u001b[39m*\u001b[39mkwargs)\n\u001b[0;32m-> 1328\u001b[0m \u001b[39mfor\u001b[39;00m result \u001b[39min\u001b[39;00m cursor\u001b[39m.\u001b[39mlimit(\u001b[39m-\u001b[39m\u001b[39m1\u001b[39m):\n\u001b[1;32m   1329\u001b[0m     \u001b[39mreturn\u001b[39;00m result\n\u001b[1;32m   1330\u001b[0m \u001b[39mreturn\u001b[39;00m \u001b[39mNone\u001b[39;00m\n",
      "File \u001b[0;32m~/anaconda3/envs/dev/lib/python3.10/site-packages/pymongo/cursor.py:1238\u001b[0m, in \u001b[0;36mCursor.next\u001b[0;34m(self)\u001b[0m\n\u001b[1;32m   1236\u001b[0m \u001b[39mif\u001b[39;00m \u001b[39mself\u001b[39m\u001b[39m.\u001b[39m__empty:\n\u001b[1;32m   1237\u001b[0m     \u001b[39mraise\u001b[39;00m \u001b[39mStopIteration\u001b[39;00m\n\u001b[0;32m-> 1238\u001b[0m \u001b[39mif\u001b[39;00m \u001b[39mlen\u001b[39m(\u001b[39mself\u001b[39m\u001b[39m.\u001b[39m__data) \u001b[39mor\u001b[39;00m \u001b[39mself\u001b[39;49m\u001b[39m.\u001b[39;49m_refresh():\n\u001b[1;32m   1239\u001b[0m     \u001b[39mif\u001b[39;00m \u001b[39mself\u001b[39m\u001b[39m.\u001b[39m__manipulate:\n\u001b[1;32m   1240\u001b[0m         _db \u001b[39m=\u001b[39m \u001b[39mself\u001b[39m\u001b[39m.\u001b[39m__collection\u001b[39m.\u001b[39mdatabase\n",
      "File \u001b[0;32m~/anaconda3/envs/dev/lib/python3.10/site-packages/pymongo/cursor.py:1155\u001b[0m, in \u001b[0;36mCursor._refresh\u001b[0;34m(self)\u001b[0m\n\u001b[1;32m   1134\u001b[0m         warnings\u001b[39m.\u001b[39mwarn(\u001b[39m\"\u001b[39m\u001b[39musing a min/max query operator without \u001b[39m\u001b[39m\"\u001b[39m\n\u001b[1;32m   1135\u001b[0m                       \u001b[39m\"\u001b[39m\u001b[39mspecifying a Cursor.hint is deprecated. A \u001b[39m\u001b[39m\"\u001b[39m\n\u001b[1;32m   1136\u001b[0m                       \u001b[39m\"\u001b[39m\u001b[39mhint will be required when using min/max in \u001b[39m\u001b[39m\"\u001b[39m\n\u001b[1;32m   1137\u001b[0m                       \u001b[39m\"\u001b[39m\u001b[39mPyMongo 4.0\u001b[39m\u001b[39m\"\u001b[39m,\n\u001b[1;32m   1138\u001b[0m                       \u001b[39mDeprecationWarning\u001b[39;00m, stacklevel\u001b[39m=\u001b[39m\u001b[39m3\u001b[39m)\n\u001b[1;32m   1139\u001b[0m     q \u001b[39m=\u001b[39m \u001b[39mself\u001b[39m\u001b[39m.\u001b[39m_query_class(\u001b[39mself\u001b[39m\u001b[39m.\u001b[39m__query_flags,\n\u001b[1;32m   1140\u001b[0m                           \u001b[39mself\u001b[39m\u001b[39m.\u001b[39m__collection\u001b[39m.\u001b[39mdatabase\u001b[39m.\u001b[39mname,\n\u001b[1;32m   1141\u001b[0m                           \u001b[39mself\u001b[39m\u001b[39m.\u001b[39m__collection\u001b[39m.\u001b[39mname,\n\u001b[0;32m   (...)\u001b[0m\n\u001b[1;32m   1153\u001b[0m                           \u001b[39mself\u001b[39m\u001b[39m.\u001b[39m__allow_disk_use,\n\u001b[1;32m   1154\u001b[0m                           \u001b[39mself\u001b[39m\u001b[39m.\u001b[39m__exhaust)\n\u001b[0;32m-> 1155\u001b[0m     \u001b[39mself\u001b[39;49m\u001b[39m.\u001b[39;49m__send_message(q)\n\u001b[1;32m   1156\u001b[0m \u001b[39melif\u001b[39;00m \u001b[39mself\u001b[39m\u001b[39m.\u001b[39m__id:  \u001b[39m# Get More\u001b[39;00m\n\u001b[1;32m   1157\u001b[0m     \u001b[39mif\u001b[39;00m \u001b[39mself\u001b[39m\u001b[39m.\u001b[39m__limit:\n",
      "File \u001b[0;32m~/anaconda3/envs/dev/lib/python3.10/site-packages/pymongo/cursor.py:1044\u001b[0m, in \u001b[0;36mCursor.__send_message\u001b[0;34m(self, operation)\u001b[0m\n\u001b[1;32m   1040\u001b[0m     \u001b[39mraise\u001b[39;00m InvalidOperation(\n\u001b[1;32m   1041\u001b[0m         \u001b[39m\"\u001b[39m\u001b[39mexhaust cursors do not support auto encryption\u001b[39m\u001b[39m\"\u001b[39m)\n\u001b[1;32m   1043\u001b[0m \u001b[39mtry\u001b[39;00m:\n\u001b[0;32m-> 1044\u001b[0m     response \u001b[39m=\u001b[39m client\u001b[39m.\u001b[39;49m_run_operation(\n\u001b[1;32m   1045\u001b[0m         operation, \u001b[39mself\u001b[39;49m\u001b[39m.\u001b[39;49m_unpack_response, address\u001b[39m=\u001b[39;49m\u001b[39mself\u001b[39;49m\u001b[39m.\u001b[39;49m__address)\n\u001b[1;32m   1046\u001b[0m \u001b[39mexcept\u001b[39;00m OperationFailure \u001b[39mas\u001b[39;00m exc:\n\u001b[1;32m   1047\u001b[0m     \u001b[39mif\u001b[39;00m exc\u001b[39m.\u001b[39mcode \u001b[39min\u001b[39;00m _CURSOR_CLOSED_ERRORS \u001b[39mor\u001b[39;00m \u001b[39mself\u001b[39m\u001b[39m.\u001b[39m__exhaust:\n\u001b[1;32m   1048\u001b[0m         \u001b[39m# Don't send killCursors because the cursor is already closed.\u001b[39;00m\n",
      "File \u001b[0;32m~/anaconda3/envs/dev/lib/python3.10/site-packages/pymongo/mongo_client.py:1424\u001b[0m, in \u001b[0;36mMongoClient._run_operation\u001b[0;34m(self, operation, unpack_res, address)\u001b[0m\n\u001b[1;32m   1419\u001b[0m \u001b[39mdef\u001b[39;00m \u001b[39m_cmd\u001b[39m(session, server, sock_info, secondary_ok):\n\u001b[1;32m   1420\u001b[0m     \u001b[39mreturn\u001b[39;00m server\u001b[39m.\u001b[39mrun_operation(\n\u001b[1;32m   1421\u001b[0m         sock_info, operation, secondary_ok, \u001b[39mself\u001b[39m\u001b[39m.\u001b[39m_event_listeners,\n\u001b[1;32m   1422\u001b[0m         unpack_res)\n\u001b[0;32m-> 1424\u001b[0m \u001b[39mreturn\u001b[39;00m \u001b[39mself\u001b[39;49m\u001b[39m.\u001b[39;49m_retryable_read(\n\u001b[1;32m   1425\u001b[0m     _cmd, operation\u001b[39m.\u001b[39;49mread_preference, operation\u001b[39m.\u001b[39;49msession,\n\u001b[1;32m   1426\u001b[0m     address\u001b[39m=\u001b[39;49maddress, retryable\u001b[39m=\u001b[39;49m\u001b[39misinstance\u001b[39;49m(operation, message\u001b[39m.\u001b[39;49m_Query))\n",
      "File \u001b[0;32m~/anaconda3/envs/dev/lib/python3.10/site-packages/pymongo/mongo_client.py:1525\u001b[0m, in \u001b[0;36mMongoClient._retryable_read\u001b[0;34m(self, func, read_pref, session, address, retryable)\u001b[0m\n\u001b[1;32m   1521\u001b[0m         \u001b[39mif\u001b[39;00m retrying \u001b[39mand\u001b[39;00m \u001b[39mnot\u001b[39;00m retryable:\n\u001b[1;32m   1522\u001b[0m             \u001b[39m# A retry is not possible because this server does\u001b[39;00m\n\u001b[1;32m   1523\u001b[0m             \u001b[39m# not support retryable reads, raise the last error.\u001b[39;00m\n\u001b[1;32m   1524\u001b[0m             \u001b[39mraise\u001b[39;00m last_error\n\u001b[0;32m-> 1525\u001b[0m         \u001b[39mreturn\u001b[39;00m func(session, server, sock_info, secondary_ok)\n\u001b[1;32m   1526\u001b[0m \u001b[39mexcept\u001b[39;00m ServerSelectionTimeoutError:\n\u001b[1;32m   1527\u001b[0m     \u001b[39mif\u001b[39;00m retrying:\n\u001b[1;32m   1528\u001b[0m         \u001b[39m# The application may think the write was never attempted\u001b[39;00m\n\u001b[1;32m   1529\u001b[0m         \u001b[39m# if we raise ServerSelectionTimeoutError on the retry\u001b[39;00m\n\u001b[1;32m   1530\u001b[0m         \u001b[39m# attempt. Raise the original exception instead.\u001b[39;00m\n",
      "File \u001b[0;32m~/anaconda3/envs/dev/lib/python3.10/site-packages/pymongo/mongo_client.py:1420\u001b[0m, in \u001b[0;36mMongoClient._run_operation.<locals>._cmd\u001b[0;34m(session, server, sock_info, secondary_ok)\u001b[0m\n\u001b[1;32m   1419\u001b[0m \u001b[39mdef\u001b[39;00m \u001b[39m_cmd\u001b[39m(session, server, sock_info, secondary_ok):\n\u001b[0;32m-> 1420\u001b[0m     \u001b[39mreturn\u001b[39;00m server\u001b[39m.\u001b[39;49mrun_operation(\n\u001b[1;32m   1421\u001b[0m         sock_info, operation, secondary_ok, \u001b[39mself\u001b[39;49m\u001b[39m.\u001b[39;49m_event_listeners,\n\u001b[1;32m   1422\u001b[0m         unpack_res)\n",
      "File \u001b[0;32m~/anaconda3/envs/dev/lib/python3.10/site-packages/pymongo/server.py:114\u001b[0m, in \u001b[0;36mServer.run_operation\u001b[0;34m(self, sock_info, operation, set_secondary_okay, listeners, unpack_res)\u001b[0m\n\u001b[1;32m    112\u001b[0m \u001b[39melse\u001b[39;00m:\n\u001b[1;32m    113\u001b[0m     sock_info\u001b[39m.\u001b[39msend_message(data, max_doc_size)\n\u001b[0;32m--> 114\u001b[0m     reply \u001b[39m=\u001b[39m sock_info\u001b[39m.\u001b[39;49mreceive_message(request_id)\n\u001b[1;32m    116\u001b[0m \u001b[39m# Unpack and check for command errors.\u001b[39;00m\n\u001b[1;32m    117\u001b[0m \u001b[39mif\u001b[39;00m use_cmd:\n",
      "File \u001b[0;32m~/anaconda3/envs/dev/lib/python3.10/site-packages/pymongo/pool.py:753\u001b[0m, in \u001b[0;36mSocketInfo.receive_message\u001b[0;34m(self, request_id)\u001b[0m\n\u001b[1;32m    751\u001b[0m     \u001b[39mreturn\u001b[39;00m receive_message(\u001b[39mself\u001b[39m, request_id, \u001b[39mself\u001b[39m\u001b[39m.\u001b[39mmax_message_size)\n\u001b[1;32m    752\u001b[0m \u001b[39mexcept\u001b[39;00m \u001b[39mBaseException\u001b[39;00m \u001b[39mas\u001b[39;00m error:\n\u001b[0;32m--> 753\u001b[0m     \u001b[39mself\u001b[39;49m\u001b[39m.\u001b[39;49m_raise_connection_failure(error)\n",
      "File \u001b[0;32m~/anaconda3/envs/dev/lib/python3.10/site-packages/pymongo/pool.py:751\u001b[0m, in \u001b[0;36mSocketInfo.receive_message\u001b[0;34m(self, request_id)\u001b[0m\n\u001b[1;32m    746\u001b[0m \u001b[39m\u001b[39m\u001b[39m\"\"\"Receive a raw BSON message or raise ConnectionFailure.\u001b[39;00m\n\u001b[1;32m    747\u001b[0m \n\u001b[1;32m    748\u001b[0m \u001b[39mIf any exception is raised, the socket is closed.\u001b[39;00m\n\u001b[1;32m    749\u001b[0m \u001b[39m\"\"\"\u001b[39;00m\n\u001b[1;32m    750\u001b[0m \u001b[39mtry\u001b[39;00m:\n\u001b[0;32m--> 751\u001b[0m     \u001b[39mreturn\u001b[39;00m receive_message(\u001b[39mself\u001b[39;49m, request_id, \u001b[39mself\u001b[39;49m\u001b[39m.\u001b[39;49mmax_message_size)\n\u001b[1;32m    752\u001b[0m \u001b[39mexcept\u001b[39;00m \u001b[39mBaseException\u001b[39;00m \u001b[39mas\u001b[39;00m error:\n\u001b[1;32m    753\u001b[0m     \u001b[39mself\u001b[39m\u001b[39m.\u001b[39m_raise_connection_failure(error)\n",
      "File \u001b[0;32m~/anaconda3/envs/dev/lib/python3.10/site-packages/pymongo/network.py:196\u001b[0m, in \u001b[0;36mreceive_message\u001b[0;34m(sock_info, request_id, max_message_size)\u001b[0m\n\u001b[1;32m    193\u001b[0m     deadline \u001b[39m=\u001b[39m \u001b[39mNone\u001b[39;00m\n\u001b[1;32m    194\u001b[0m \u001b[39m# Ignore the response's request id.\u001b[39;00m\n\u001b[1;32m    195\u001b[0m length, _, response_to, op_code \u001b[39m=\u001b[39m _UNPACK_HEADER(\n\u001b[0;32m--> 196\u001b[0m     _receive_data_on_socket(sock_info, \u001b[39m16\u001b[39;49m, deadline))\n\u001b[1;32m    197\u001b[0m \u001b[39m# No request_id for exhaust cursor \"getMore\".\u001b[39;00m\n\u001b[1;32m    198\u001b[0m \u001b[39mif\u001b[39;00m request_id \u001b[39mis\u001b[39;00m \u001b[39mnot\u001b[39;00m \u001b[39mNone\u001b[39;00m:\n",
      "File \u001b[0;32m~/anaconda3/envs/dev/lib/python3.10/site-packages/pymongo/network.py:287\u001b[0m, in \u001b[0;36m_receive_data_on_socket\u001b[0;34m(sock_info, length, deadline)\u001b[0m\n\u001b[1;32m    285\u001b[0m \u001b[39mtry\u001b[39;00m:\n\u001b[1;32m    286\u001b[0m     wait_for_read(sock_info, deadline)\n\u001b[0;32m--> 287\u001b[0m     chunk_length \u001b[39m=\u001b[39m sock_info\u001b[39m.\u001b[39;49msock\u001b[39m.\u001b[39;49mrecv_into(mv[bytes_read:])\n\u001b[1;32m    288\u001b[0m \u001b[39mexcept\u001b[39;00m (\u001b[39mIOError\u001b[39;00m, \u001b[39mOSError\u001b[39;00m) \u001b[39mas\u001b[39;00m exc:\n\u001b[1;32m    289\u001b[0m     \u001b[39mif\u001b[39;00m _errno_from_exception(exc) \u001b[39m==\u001b[39m errno\u001b[39m.\u001b[39mEINTR:\n",
      "\u001b[0;31mKeyboardInterrupt\u001b[0m: "
     ]
    }
   ],
   "source": [
    "# Retrieve weather data\n",
    "weather_data = weather_daily.find({})\n",
    "\n",
    "# Prepare update operations\n",
    "update_operations = []\n",
    "\n",
    "for weather_document in weather_data:\n",
    "    # Get the corresponding divvy_rides document based on the end_date\n",
    "    started_at_date = weather_document['date']  # Adjust to the correct field name\n",
    "    divvy_rides_document = divvy_rides.find_one({'started_at_date': started_at_date})\n",
    "\n",
    "    # If a matching divvy_rides document is found, update it\n",
    "    if divvy_rides_document:\n",
    "\n",
    "        del weather_document['_id']\n",
    "\n",
    "        update_operation = UpdateOne(\n",
    "            {'_id': divvy_rides_document['_id']},\n",
    "            {'$set': weather_document}\n",
    "        )\n",
    "        update_operations.append(update_operation)\n",
    "\n",
    "# Execute bulk update operations\n",
    "if update_operations:\n",
    "    try:\n",
    "        divvy_rides.bulk_write(update_operations)\n",
    "        print(\"Bulk write completed successfully.\")\n",
    "    except Exception as e:\n",
    "        print(\"Bulk write error:\", e)\n"
   ]
  },
  {
   "cell_type": "code",
   "execution_count": 118,
   "metadata": {},
   "outputs": [
    {
     "data": {
      "text/plain": [
       "{'_id': ObjectId('64e11f4d696f85250a48ff98'),\n",
       " 'ride_id': '81751A3186E59A6B',\n",
       " 'rideable_type': 'classic_bike',\n",
       " 'started_at': '2022-01-22 12:20:02',\n",
       " 'ended_at': '2022-01-22 12:32:06',\n",
       " 'start_station_name': 'Sheffield Ave & Fullerton Ave',\n",
       " 'start_station_id': 'TA1306000016',\n",
       " 'end_station_name': 'Damen Ave & Clybourn Ave',\n",
       " 'end_station_id': 13271,\n",
       " 'start_lat': 41.9256018819,\n",
       " 'start_lng': -87.6537080423,\n",
       " 'end_lat': 41.931931,\n",
       " 'end_lng': -87.677856,\n",
       " 'member_casual': 'member',\n",
       " 'date_column': '2022-01-22',\n",
       " 'time_column': '12:20:02',\n",
       " 'ended_at_date': '2022-01-22',\n",
       " 'ended_at_time': '12:32:06',\n",
       " 'afternoon_temp': 265.74,\n",
       " 'cloud_cover': 90.0,\n",
       " 'date': '2022-01-22',\n",
       " 'evening_temp': 266.09,\n",
       " 'max_temp': 269.31,\n",
       " 'max_windspeed': 3.58,\n",
       " 'min_temp': 265.58,\n",
       " 'morning_temp': 266.95,\n",
       " 'night_temp': 268.02,\n",
       " 'precipitation': 0.0}"
      ]
     },
     "execution_count": 118,
     "metadata": {},
     "output_type": "execute_result"
    }
   ],
   "source": [
    "# test\n",
    "divvy_rides.find_one()"
   ]
  },
  {
   "cell_type": "code",
   "execution_count": null,
   "metadata": {},
   "outputs": [],
   "source": []
  }
 ],
 "metadata": {
  "kernelspec": {
   "display_name": "dev2",
   "language": "python",
   "name": "python3"
  },
  "language_info": {
   "codemirror_mode": {
    "name": "ipython",
    "version": 3
   },
   "file_extension": ".py",
   "mimetype": "text/x-python",
   "name": "python",
   "nbconvert_exporter": "python",
   "pygments_lexer": "ipython3",
   "version": "3.10.12"
  },
  "orig_nbformat": 4
 },
 "nbformat": 4,
 "nbformat_minor": 2
}
