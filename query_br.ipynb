{
 "cells": [
  {
   "cell_type": "code",
   "execution_count": 10,
   "metadata": {},
   "outputs": [],
   "source": [
    "import pymongo\n",
    "from pymongo import MongoClient, UpdateOne\n",
    "import json\n",
    "from datetime import datetime\n",
    "from collections import OrderedDict"
   ]
  },
  {
   "cell_type": "code",
   "execution_count": 11,
   "metadata": {},
   "outputs": [],
   "source": [
    "# Create an instance of MongoClient\n",
    "mongo = MongoClient(port=27017)"
   ]
  },
  {
   "cell_type": "code",
   "execution_count": 12,
   "metadata": {},
   "outputs": [],
   "source": [
    "# assign the database to a variable name\n",
    "db = mongo.chicago_bikes"
   ]
  },
  {
   "cell_type": "code",
   "execution_count": 13,
   "metadata": {},
   "outputs": [],
   "source": [
    "#define collection variables\n",
    "divvy_rides = db['divvy_ridedata']\n",
    "weather_daily = db['weather_daily']\n",
    "divvy_ridedata_merged = db['divvy_ridedata_merged']"
   ]
  },
  {
   "cell_type": "code",
   "execution_count": 60,
   "metadata": {},
   "outputs": [
    {
     "name": "stdout",
     "output_type": "stream",
     "text": [
      "Aggregation result has been written to the new collection.\n"
     ]
    }
   ],
   "source": [
    "divvy_ridedata_merged = db[\"divvy_ridedata_merged\"]\n",
    "\n",
    "# Define the aggregation pipeline\n",
    "pipeline = [\n",
    "    {\n",
    "        \"$group\": {\n",
    "            \"_id\": {\n",
    "                \"year\": {\"$year\": {\"$toDate\": \"$started_at\"}},\n",
    "                \"month\": {\"$month\": {\"$toDate\": \"$started_at\"}}\n",
    "            },\n",
    "            \"total_rides\": {\"$sum\": 1}\n",
    "        }\n",
    "    },\n",
    "    {\n",
    "        \"$project\": {\n",
    "            \"_id\": 0,\n",
    "            \"year\": \"$_id.year\",\n",
    "            \"month\": \"$_id.month\",\n",
    "            \"total_rides\": 1\n",
    "        }\n",
    "    },\n",
    "    {\n",
    "        \"$sort\": {\"year\": 1, \"month\": 1}\n",
    "    }\n",
    "]\n",
    "\n",
    "# Execute the aggregation pipeline and write to a new collection\n",
    "divvy_rides_by_month = db[\"divvy_rides_by_month\"]\n",
    "divvy_rides_by_month.drop()  # Drop the collection\n",
    "aggregated_result = divvy_ridedata_merged.aggregate(pipeline, allowDiskUse=True, collation=None)\n",
    "\n",
    "for doc in aggregated_result:\n",
    "    divvy_rides_by_month.insert_one(doc)\n",
    "\n",
    "print(\"Aggregation result has been written to the new collection.\")"
   ]
  },
  {
   "cell_type": "code",
   "execution_count": 52,
   "metadata": {},
   "outputs": [
    {
     "name": "stdout",
     "output_type": "stream",
     "text": [
      "['divvy_rides_by_month', 'weather_daily', 'divvy_ridedata_merged', 'divvy_rides_by_season', 'divvy_ridedata']\n"
     ]
    }
   ],
   "source": [
    "print(db.list_collection_names())"
   ]
  },
  {
   "cell_type": "code",
   "execution_count": 65,
   "metadata": {},
   "outputs": [
    {
     "name": "stdout",
     "output_type": "stream",
     "text": [
      "{'month': 1}\n"
     ]
    }
   ],
   "source": [
    "# Define the projection to include the \"month\" field and exclude the \"_id\" field\n",
    "projection = {\"month\": 1, \"_id\": 0}\n",
    "\n",
    "# Retrieve the first document using find_one() with the projection\n",
    "result = divvy_rides_by_month.find_one({}, projection)\n",
    "\n",
    "# Print the result\n",
    "print(result)\n"
   ]
  },
  {
   "cell_type": "code",
   "execution_count": 64,
   "metadata": {},
   "outputs": [
    {
     "name": "stdout",
     "output_type": "stream",
     "text": [
      "{'_id': ObjectId('64e7ffcbf51c9daca89e4364'), 'total_rides': 103770, 'year': 2022, 'month': 1}\n",
      "{'_id': ObjectId('64e7ffcbf51c9daca89e4365'), 'total_rides': 115609, 'year': 2022, 'month': 2}\n",
      "{'_id': ObjectId('64e7ffcbf51c9daca89e4366'), 'total_rides': 284042, 'year': 2022, 'month': 3}\n",
      "{'_id': ObjectId('64e7ffcbf51c9daca89e4367'), 'total_rides': 371249, 'year': 2022, 'month': 4}\n",
      "{'_id': ObjectId('64e7ffcbf51c9daca89e4368'), 'total_rides': 634858, 'year': 2022, 'month': 5}\n",
      "{'_id': ObjectId('64e7ffcbf51c9daca89e4369'), 'total_rides': 769204, 'year': 2022, 'month': 6}\n",
      "{'_id': ObjectId('64e7ffcbf51c9daca89e436a'), 'total_rides': 823488, 'year': 2022, 'month': 7}\n",
      "{'_id': ObjectId('64e7ffcbf51c9daca89e436b'), 'total_rides': 785932, 'year': 2022, 'month': 8}\n",
      "{'_id': ObjectId('64e7ffcbf51c9daca89e436c'), 'total_rides': 701339, 'year': 2022, 'month': 9}\n",
      "{'_id': ObjectId('64e7ffcbf51c9daca89e436d'), 'total_rides': 558685, 'year': 2022, 'month': 10}\n",
      "{'_id': ObjectId('64e7ffcbf51c9daca89e436e'), 'total_rides': 337735, 'year': 2022, 'month': 11}\n",
      "{'_id': ObjectId('64e7ffcbf51c9daca89e436f'), 'total_rides': 181806, 'year': 2022, 'month': 12}\n"
     ]
    }
   ],
   "source": [
    "# Find all documents in the collection\n",
    "all_documents = divvy_rides_by_month.find({})\n",
    "\n",
    "# Print each document\n",
    "for document in all_documents:\n",
    "    print(document)"
   ]
  },
  {
   "cell_type": "code",
   "execution_count": 72,
   "metadata": {},
   "outputs": [
    {
     "name": "stdout",
     "output_type": "stream",
     "text": [
      "Inserting document: {'_id': {'year': 2022, 'season': 'Autumn'}, 'total_rides': 1597759}\n",
      "Inserting document: {'_id': {'year': 2022, 'season': 'Spring'}, 'total_rides': 1290149}\n",
      "Inserting document: {'_id': {'year': 2022, 'season': 'Summer'}, 'total_rides': 2378624}\n",
      "Inserting document: {'_id': {'year': 2022, 'season': 'Winter'}, 'total_rides': 401185}\n",
      "Aggregation by season result has been written to the new collection.\n"
     ]
    }
   ],
   "source": [
    "divvy_rides_by_month = db[\"divvy_rides_by_month\"]\n",
    "\n",
    "# Define the aggregation pipeline\n",
    "pipeline = [\n",
    "    {\n",
    "        \"$group\": {\n",
    "            \"_id\": {\n",
    "                \"year\": \"$year\",\n",
    "                \"season\": {\n",
    "                    \"$switch\": {\n",
    "                        \"branches\": [\n",
    "                            {\"case\": {\"$in\": [\"$month\", [3, 4, 5]]}, \"then\": \"Spring\"},\n",
    "                            {\"case\": {\"$in\": [\"$month\", [6, 7, 8]]}, \"then\": \"Summer\"},\n",
    "                            {\"case\": {\"$in\": [\"$month\", [9, 10, 11]]}, \"then\": \"Autumn\"},\n",
    "                            {\"case\": {\"$in\": [\"$month\", [12, 1, 2]]}, \"then\": \"Winter\"}\n",
    "                        ],\n",
    "                        \"default\": \"Unknown\"\n",
    "                    }\n",
    "                }\n",
    "            },\n",
    "            \"total_rides\": {\"$sum\": \"$total_rides\"}\n",
    "        }\n",
    "    },\n",
    "    {\n",
    "        \"$sort\": {\"_id.year\": 1, \"_id.season\": 1}\n",
    "    }\n",
    "]\n",
    "\n",
    "# Execute the aggregation pipeline\n",
    "divvy_rides_by_season = db[\"divvy_rides_by_season\"]\n",
    "divvy_rides_by_season.drop()  # Drop the collection\n",
    "aggregated_result = list(divvy_rides_by_month.aggregate(pipeline, allowDiskUse=True, collation=None))\n",
    "\n",
    "# Insert the aggregated documents into the new collection\n",
    "for doc in aggregated_result:\n",
    "    print(\"Inserting document:\", doc)\n",
    "    divvy_rides_by_season.insert_one(doc)\n",
    "\n",
    "print(\"Aggregation by season result has been written to the new collection.\")"
   ]
  },
  {
   "cell_type": "code",
   "execution_count": 73,
   "metadata": {},
   "outputs": [
    {
     "name": "stdout",
     "output_type": "stream",
     "text": [
      "{'_id': {'year': 2022, 'season': 'Autumn'}, 'total_rides': 1597759}\n",
      "{'_id': {'year': 2022, 'season': 'Spring'}, 'total_rides': 1290149}\n",
      "{'_id': {'year': 2022, 'season': 'Summer'}, 'total_rides': 2378624}\n",
      "{'_id': {'year': 2022, 'season': 'Winter'}, 'total_rides': 401185}\n"
     ]
    }
   ],
   "source": [
    "# Find all documents in the collection\n",
    "all_documents = divvy_rides_by_season.find({})\n",
    "\n",
    "# Print each document\n",
    "for document in all_documents:\n",
    "    print(document)"
   ]
  }
 ],
 "metadata": {
  "language_info": {
   "name": "python"
  },
  "orig_nbformat": 4
 },
 "nbformat": 4,
 "nbformat_minor": 2
}
