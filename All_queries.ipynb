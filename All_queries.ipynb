{
 "cells": [
  {
   "cell_type": "markdown",
   "metadata": {},
   "source": [
    "### Import Divvy Bike Data: \n",
    "\n",
    "mongoimport --type csv -d chicago_bikes -c divvy_ridedata --headerline 202201-divvy-tripdata.csv<br>\n",
    "mongoimport --type csv -d chicago_bikes -c divvy_ridedata --headerline 202202-divvy-tripdata.csv<br>\n",
    "mongoimport --type csv -d chicago_bikes -c divvy_ridedata --headerline 202203-divvy-tripdata.csv<br>\n",
    "mongoimport --type csv -d chicago_bikes -c divvy_ridedata --headerline 202204-divvy-tripdata.csv<br>\n",
    "mongoimport --type csv -d chicago_bikes -c divvy_ridedata --headerline 202205-divvy-tripdata.csv<br>\n",
    "mongoimport --type csv -d chicago_bikes -c divvy_ridedata --headerline 202206-divvy-tripdata.csv<br>\n",
    "mongoimport --type csv -d chicago_bikes -c divvy_ridedata --headerline 202207-divvy-tripdata.csv<br>\n",
    "mongoimport --type csv -d chicago_bikes -c divvy_ridedata --headerline 202208-divvy-tripdata.csv<br>\n",
    "mongoimport --type csv -d chicago_bikes -c divvy_ridedata --headerline 202209-divvy-publictripdata.csv<br>\n",
    "mongoimport --type csv -d chicago_bikes -c divvy_ridedata --headerline 202210-divvy-tripdata.csv<br>\n",
    "mongoimport --type csv -d chicago_bikes -c divvy_ridedata --headerline 202211-divvy-tripdata.csv<br>\n",
    "mongoimport --type csv -d chicago_bikes -c divvy_ridedata --headerline  202212-divvy-tripdata.csv<br>\n",
    "\n",
    "### Import Weather Data: \n",
    "please run OpenWeather.ipynb first to create weather_daily.csv file and then import using the mongoimport statement below\n",
    "\n",
    "mongoimport --type csv -d chicago_bikes -c weather_daily --headerline weather_daily.csv"
   ]
  },
  {
   "cell_type": "code",
   "execution_count": 1,
   "metadata": {},
   "outputs": [],
   "source": [
    "# Import Dependencies\n",
    "import pymongo\n",
    "from pymongo import MongoClient, UpdateOne\n",
    "import json\n",
    "from calendar import monthrange\n",
    "from datetime import datetime"
   ]
  },
  {
   "cell_type": "code",
   "execution_count": 2,
   "metadata": {},
   "outputs": [],
   "source": [
    "# Create an instance of MongoClient\n",
    "mongo = MongoClient(port=27017)"
   ]
  },
  {
   "cell_type": "code",
   "execution_count": 3,
   "metadata": {},
   "outputs": [
    {
     "name": "stdout",
     "output_type": "stream",
     "text": [
      "['admin', 'autosaurus', 'chicago_bikes', 'classDB', 'config', 'epa', 'fruits_db', 'gardenDB', 'local', 'met', 'mongodbVSCodePlaygroundDB', 'petsitly_marketing', 'travel_db', 'uk_food']\n"
     ]
    }
   ],
   "source": [
    "# check our list of collections\n",
    "print(mongo.list_database_names())"
   ]
  },
  {
   "cell_type": "code",
   "execution_count": 4,
   "metadata": {},
   "outputs": [],
   "source": [
    "# assign the database to a variable name\n",
    "db = mongo.chicago_bikes"
   ]
  },
  {
   "cell_type": "code",
   "execution_count": 5,
   "metadata": {},
   "outputs": [
    {
     "name": "stdout",
     "output_type": "stream",
     "text": [
      "['distinct_station_names', 'divvy_ridedata_merged', 'RouteDistance', 'divvy_rides_by_season', 'withStationName', 'weather_daily', 'Top10EndStations', 'Top10Routes', 'sig_prcp_yes', 'sig_prcp_no', 'withoutStationName', 'withLatLong', 'divvy_ridedata', 'divvy_rides_by_month', 'Top10StartStations']\n"
     ]
    }
   ],
   "source": [
    "# review the collections in our new database\n",
    "print(db.list_collection_names())"
   ]
  },
  {
   "cell_type": "code",
   "execution_count": 6,
   "metadata": {},
   "outputs": [
    {
     "name": "stdout",
     "output_type": "stream",
     "text": [
      "{'_id': ObjectId('6544a1406281b360c1f8c053'), 'ride_id': 'C2F7DD78E82EC875', 'rideable_type': 'electric_bike', 'started_at': '2022-01-13 11:59:47', 'ended_at': '2022-01-13 12:02:44', 'start_station_name': 'Glenwood Ave & Touhy Ave', 'start_station_id': 525, 'end_station_name': 'Clark St & Touhy Ave', 'end_station_id': 'RP-007', 'start_lat': 42.0128005, 'start_lng': -87.665906, 'end_lat': 42.01256011541, 'end_lng': -87.6743671152, 'member_casual': 'casual', 'started_at_date': '2022-01-13', 'started_at_time': '11:59:47', 'ended_at_date': '2022-01-13', 'ended_at_time': '12:02:44'}\n"
     ]
    }
   ],
   "source": [
    "# review a document in the customer_list collection\n",
    "print(db.divvy_ridedata.find_one())"
   ]
  },
  {
   "cell_type": "code",
   "execution_count": 7,
   "metadata": {},
   "outputs": [],
   "source": [
    "#Assign divvy_rides and weather_daily collections to variables for later use\n",
    "divvy_rides = db['divvy_ridedata']\n",
    "weather_daily = db['weather_daily']"
   ]
  },
  {
   "cell_type": "code",
   "execution_count": 8,
   "metadata": {},
   "outputs": [],
   "source": [
    "# Convert precipitation field value to inches (currently in mm) in weather_daily collection\n",
    "# Conversion factor: 1 mm = 0.03937 inches\n",
    "mm_to_inches = 0.03937"
   ]
  },
  {
   "cell_type": "code",
   "execution_count": 9,
   "metadata": {},
   "outputs": [],
   "source": [
    "# Iterate through documents and update values\n",
    "for document in weather_daily.find():\n",
    "    size_mm = document.get(\"precipitation\")\n",
    "    if size_mm is not None:\n",
    "        size_inches = size_mm * mm_to_inches\n",
    "        # Update the document with the new size value in inches\n",
    "        weather_daily.update_one({\"_id\": document[\"_id\"]}, {\"$set\": {\"prcp_inches\": size_inches}})"
   ]
  },
  {
   "cell_type": "code",
   "execution_count": 10,
   "metadata": {},
   "outputs": [
    {
     "name": "stdout",
     "output_type": "stream",
     "text": [
      "{'_id': ObjectId('6544a21516ac0221c1a8c57f'), 'date': '2022-01-01', 'cloud_cover': 90.0, 'precipitation': 0.18, 'min_temp': 33.22, 'max_temp': 42.1, 'morning_temp': 42.1, 'afternoon_temp': 38.43, 'evening_temp': 35.24, 'night_temp': 38.44, 'max_windspeed': 15.01, 'prcp_inches': 0.0070866}\n"
     ]
    }
   ],
   "source": [
    "# Review a document in the weather_daily collection to confirm update\n",
    "print(db.weather_daily.find_one())"
   ]
  },
  {
   "cell_type": "code",
   "execution_count": 11,
   "metadata": {},
   "outputs": [],
   "source": [
    "# Drop 'size_inches' field as it has been replaced with 'prcp_inches' and values match \n",
    "# Specify the field you want to drop\n",
    "field_to_drop = \"size_inches\""
   ]
  },
  {
   "cell_type": "code",
   "execution_count": 12,
   "metadata": {},
   "outputs": [
    {
     "data": {
      "text/plain": [
       "<pymongo.results.UpdateResult at 0x19a2e59c3d0>"
      ]
     },
     "execution_count": 12,
     "metadata": {},
     "output_type": "execute_result"
    }
   ],
   "source": [
    "# Update documents to unset the specified field\n",
    "weather_daily.update_many({}, {\"$unset\": {field_to_drop: 1}})"
   ]
  },
  {
   "cell_type": "code",
   "execution_count": 13,
   "metadata": {},
   "outputs": [
    {
     "name": "stdout",
     "output_type": "stream",
     "text": [
      "{'_id': ObjectId('6544a21516ac0221c1a8c57f'), 'date': '2022-01-01', 'cloud_cover': 90.0, 'precipitation': 0.18, 'min_temp': 33.22, 'max_temp': 42.1, 'morning_temp': 42.1, 'afternoon_temp': 38.43, 'evening_temp': 35.24, 'night_temp': 38.44, 'max_windspeed': 15.01, 'prcp_inches': 0.0070866}\n"
     ]
    }
   ],
   "source": [
    "# Review a document in the weather_daily collection to confirm drop\n",
    "print(db.weather_daily.find_one())"
   ]
  },
  {
   "cell_type": "code",
   "execution_count": 14,
   "metadata": {},
   "outputs": [],
   "source": [
    "# Define the threshold value for significant precipitation comparison \n",
    "threshold = 0.1"
   ]
  },
  {
   "cell_type": "code",
   "execution_count": 15,
   "metadata": {},
   "outputs": [
    {
     "data": {
      "text/plain": [
       "<pymongo.results.UpdateResult at 0x19a2e629270>"
      ]
     },
     "execution_count": 15,
     "metadata": {},
     "output_type": "execute_result"
    }
   ],
   "source": [
    "# Update documents to add the new field \"sig_prcp\"\n",
    "# Add a new field 'sig_prcp' and populate 'yes' values if 'prcp_inches' is greather than or equal .1 inches\n",
    "weather_daily.update_many(\n",
    "    {\"prcp_inches\": {\"$gte\": threshold}},\n",
    "    {\"$set\": {\"sig_prcp\": \"yes\"}}\n",
    ")\n",
    "\n",
    "weather_daily.update_many(\n",
    "    {\"prcp_inches\": {\"$lt\": threshold}},\n",
    "    {\"$set\": {\"sig_prcp\": \"no\"}}\n",
    ")"
   ]
  },
  {
   "cell_type": "code",
   "execution_count": 16,
   "metadata": {},
   "outputs": [
    {
     "name": "stdout",
     "output_type": "stream",
     "text": [
      "{'_id': ObjectId('6544a21516ac0221c1a8c57f'), 'date': '2022-01-01', 'cloud_cover': 90.0, 'precipitation': 0.18, 'min_temp': 33.22, 'max_temp': 42.1, 'morning_temp': 42.1, 'afternoon_temp': 38.43, 'evening_temp': 35.24, 'night_temp': 38.44, 'max_windspeed': 15.01, 'prcp_inches': 0.0070866, 'sig_prcp': 'no'}\n"
     ]
    }
   ],
   "source": [
    "# Review a document in the weather_daily collection to confirm update\n",
    "print(db.weather_daily.find_one())"
   ]
  },
  {
   "cell_type": "code",
   "execution_count": 17,
   "metadata": {},
   "outputs": [
    {
     "data": {
      "text/plain": [
       "<pymongo.results.UpdateResult at 0x19a2beaa410>"
      ]
     },
     "execution_count": 17,
     "metadata": {},
     "output_type": "execute_result"
    }
   ],
   "source": [
    "# Update documents to add the new field \"avg_temp\"\n",
    "weather_daily.update_many(\n",
    "    {},\n",
    "    [\n",
    "        {\n",
    "            \"$set\": {\n",
    "                \"avg_temp\": {\n",
    "                    \"$avg\": [\"$morning_temp\", \"$afternoon_temp\", \"$evening_temp\"]\n",
    "                }\n",
    "            }\n",
    "        }\n",
    "    ]\n",
    ")"
   ]
  },
  {
   "cell_type": "code",
   "execution_count": 18,
   "metadata": {},
   "outputs": [
    {
     "name": "stdout",
     "output_type": "stream",
     "text": [
      "{'_id': ObjectId('6544a21516ac0221c1a8c57f'), 'date': '2022-01-01', 'cloud_cover': 90.0, 'precipitation': 0.18, 'min_temp': 33.22, 'max_temp': 42.1, 'morning_temp': 42.1, 'afternoon_temp': 38.43, 'evening_temp': 35.24, 'night_temp': 38.44, 'max_windspeed': 15.01, 'prcp_inches': 0.0070866, 'sig_prcp': 'no', 'avg_temp': 38.59}\n"
     ]
    }
   ],
   "source": [
    "# Review a document in the weather_daily collection to confirm update\n",
    "print(db.weather_daily.find_one())"
   ]
  },
  {
   "cell_type": "code",
   "execution_count": 19,
   "metadata": {},
   "outputs": [
    {
     "data": {
      "text/plain": [
       "<pymongo.results.BulkWriteResult at 0x19b1c1bcd60>"
      ]
     },
     "execution_count": 19,
     "metadata": {},
     "output_type": "execute_result"
    }
   ],
   "source": [
    "# Perform bulk update operation on 'started_at' field to split date and time into two separate fields\n",
    "documents = divvy_rides.find({})\n",
    "bulk_updates = []\n",
    "\n",
    "for document in documents:\n",
    "    original_value = document[\"started_at\"]\n",
    "    parts = original_value.split(\" \")\n",
    "    date_part = parts[0]\n",
    "    time_part = parts[1]\n",
    "    bulk_updates.append(\n",
    "        pymongo.UpdateOne(\n",
    "            {\"_id\": document[\"_id\"]},\n",
    "            {\n",
    "                \"$set\": {\n",
    "                    \"started_at_date\": date_part,\n",
    "                    \"started_at_time\": time_part\n",
    "                }\n",
    "            }\n",
    "        )\n",
    "    )\n",
    "\n",
    "# Execute bulk write operations\n",
    "divvy_rides.bulk_write(bulk_updates)"
   ]
  },
  {
   "cell_type": "code",
   "execution_count": 20,
   "metadata": {},
   "outputs": [
    {
     "data": {
      "text/plain": [
       "<pymongo.results.BulkWriteResult at 0x19a307bc1c0>"
      ]
     },
     "execution_count": 20,
     "metadata": {},
     "output_type": "execute_result"
    }
   ],
   "source": [
    "# Perform bulk update operation on 'ended_at' field to split date and time into two separate fields\n",
    "documents = divvy_rides.find({})\n",
    "bulk_updates = []\n",
    "\n",
    "for document in documents:\n",
    "    original_value = document[\"ended_at\"]\n",
    "    parts = original_value.split(\" \")\n",
    "    date_part = parts[0]\n",
    "    time_part = parts[1]\n",
    "    bulk_updates.append(\n",
    "        pymongo.UpdateOne(\n",
    "            {\"_id\": document[\"_id\"]},\n",
    "            {\n",
    "                \"$set\": {\n",
    "                    \"ended_at_date\": date_part,\n",
    "                    \"ended_at_time\": time_part\n",
    "                }\n",
    "            }\n",
    "        )\n",
    "    )\n",
    "\n",
    "# Execute bulk write operations\n",
    "divvy_rides.bulk_write(bulk_updates)"
   ]
  },
  {
   "cell_type": "code",
   "execution_count": 21,
   "metadata": {},
   "outputs": [
    {
     "data": {
      "text/plain": [
       "'date_1'"
      ]
     },
     "execution_count": 21,
     "metadata": {},
     "output_type": "execute_result"
    }
   ],
   "source": [
    "#Assign an index to each collection for use in pipeline merging of the two collections\n",
    "divvy_rides.create_index([(\"started_at_date\", 1)])\n",
    "weather_daily.create_index([(\"date\", 1)])"
   ]
  },
  {
   "cell_type": "code",
   "execution_count": 22,
   "metadata": {},
   "outputs": [
    {
     "name": "stdout",
     "output_type": "stream",
     "text": [
      "Update completed successfully.\n"
     ]
    }
   ],
   "source": [
    "#Create and run a pipeling to merge divvy_rides and weather_daily collections into divvy_ridedata_merged collection\n",
    "pipeline = [\n",
    "    {\n",
    "        '$lookup': {\n",
    "            'from': 'weather_daily',\n",
    "            'localField': 'started_at_date',\n",
    "            'foreignField': 'date',\n",
    "            'as': 'weather_data'\n",
    "        }\n",
    "    },\n",
    "    {\n",
    "        '$unwind': {\n",
    "            'path': '$weather_data',\n",
    "            'preserveNullAndEmptyArrays': True\n",
    "        }\n",
    "    },\n",
    "    {\n",
    "        '$merge': {\n",
    "            'into': 'divvy_ridedata_merged',  # Replace with your new collection name\n",
    "            'whenMatched': 'merge',  # Merge documents with matching _id fields\n",
    "            'whenNotMatched': 'insert'  # Insert documents that don't match\n",
    "        }\n",
    "    },\n",
    "]\n",
    "\n",
    "divvy_rides.aggregate(pipeline)\n",
    "print(\"Update completed successfully.\")"
   ]
  },
  {
   "cell_type": "code",
   "execution_count": 23,
   "metadata": {},
   "outputs": [
    {
     "data": {
      "text/plain": [
       "{'_id': ObjectId('6544a1406281b360c1f8c053'),\n",
       " 'end_lat': 42.01256011541,\n",
       " 'end_lng': -87.6743671152,\n",
       " 'end_station_id': 'RP-007',\n",
       " 'end_station_name': 'Clark St & Touhy Ave',\n",
       " 'ended_at': '2022-01-13 12:02:44',\n",
       " 'ended_at_date': '2022-01-13',\n",
       " 'ended_at_time': '12:02:44',\n",
       " 'member_casual': 'casual',\n",
       " 'ride_id': 'C2F7DD78E82EC875',\n",
       " 'rideable_type': 'electric_bike',\n",
       " 'start_lat': 42.0128005,\n",
       " 'start_lng': -87.665906,\n",
       " 'start_station_id': 525,\n",
       " 'start_station_name': 'Glenwood Ave & Touhy Ave',\n",
       " 'started_at': '2022-01-13 11:59:47',\n",
       " 'started_at_date': '2022-01-13',\n",
       " 'started_at_time': '11:59:47',\n",
       " 'weather_data': {'_id': ObjectId('6544a21516ac0221c1a8c58a'),\n",
       "  'date': '2022-01-13',\n",
       "  'cloud_cover': 75.0,\n",
       "  'precipitation': 0.0,\n",
       "  'min_temp': 30.72,\n",
       "  'max_temp': 39.83,\n",
       "  'morning_temp': 35.49,\n",
       "  'afternoon_temp': 30.72,\n",
       "  'evening_temp': 34.38,\n",
       "  'night_temp': 39.22,\n",
       "  'max_windspeed': 8.01,\n",
       "  'prcp_inches': 0.0,\n",
       "  'sig_prcp': 'no',\n",
       "  'avg_temp': 33.53}}"
      ]
     },
     "execution_count": 23,
     "metadata": {},
     "output_type": "execute_result"
    }
   ],
   "source": [
    "#Assign the new merged collection to a variable and print a document from the collection\n",
    "divvy_ridedata_merged = db['divvy_ridedata_merged']\n",
    "divvy_ridedata_merged.find_one()"
   ]
  },
  {
   "cell_type": "code",
   "execution_count": 24,
   "metadata": {},
   "outputs": [
    {
     "name": "stdout",
     "output_type": "stream",
     "text": [
      "['distinct_station_names', 'divvy_ridedata_merged', 'RouteDistance', 'divvy_rides_by_season', 'withStationName', 'weather_daily', 'Top10EndStations', 'Top10Routes', 'sig_prcp_yes', 'sig_prcp_no', 'withoutStationName', 'withLatLong', 'divvy_ridedata', 'divvy_rides_by_month', 'Top10StartStations']\n"
     ]
    }
   ],
   "source": [
    "# review the collections in our new database\n",
    "print(db.list_collection_names())"
   ]
  },
  {
   "cell_type": "code",
   "execution_count": 25,
   "metadata": {},
   "outputs": [],
   "source": [
    "# Use aggregation pipeline to create a collection that contains start and end station names\n",
    "pipeline = [\n",
    "         {\"$match\": {\"start_station_name\": {\"$exists\": True, \"$ne\": \"\"}, \n",
    "                     \"end_station_name\":{\"$exists\": True, \"$ne\": \"\"}}},\n",
    "\n",
    "         {\"$out\": \"withStationName\"}\n",
    "]\n",
    "\n",
    "# Perform the aggregation\n",
    "result = list(divvy_ridedata_merged.aggregate(pipeline))"
   ]
  },
  {
   "cell_type": "code",
   "execution_count": 26,
   "metadata": {},
   "outputs": [
    {
     "data": {
      "text/plain": [
       "['distinct_station_names',\n",
       " 'divvy_ridedata_merged',\n",
       " 'withStationName',\n",
       " 'RouteDistance',\n",
       " 'divvy_rides_by_season',\n",
       " 'weather_daily',\n",
       " 'Top10EndStations',\n",
       " 'Top10Routes',\n",
       " 'sig_prcp_yes',\n",
       " 'sig_prcp_no',\n",
       " 'withoutStationName',\n",
       " 'withLatLong',\n",
       " 'divvy_ridedata',\n",
       " 'divvy_rides_by_month',\n",
       " 'Top10StartStations']"
      ]
     },
     "execution_count": 26,
     "metadata": {},
     "output_type": "execute_result"
    }
   ],
   "source": [
    "#check to make sure that collections is updated\n",
    "db.list_collection_names()"
   ]
  },
  {
   "cell_type": "code",
   "execution_count": 27,
   "metadata": {},
   "outputs": [
    {
     "name": "stdout",
     "output_type": "stream",
     "text": [
      "None\n",
      "None\n"
     ]
    }
   ],
   "source": [
    "#check if there are any documents without start or end station names\n",
    "print(db.withStationName.find_one({\"start_station_name\":\"\"}))\n",
    "print(db.withStationName.find_one({\"end_station_name\":\"\"}))"
   ]
  },
  {
   "cell_type": "code",
   "execution_count": 28,
   "metadata": {},
   "outputs": [],
   "source": [
    "# Use aggregation pipeline to create a collection that doesn't contain start and end station names\n",
    "pipeline = [\n",
    "         {\"$match\": {\"start_station_name\": {\"$exists\": True, \"$eq\": \"\"}, \n",
    "                     \"end_station_name\":{\"$exists\": True, \"$eq\": \"\"}}},\n",
    "\n",
    "         {\"$out\": \"withoutStationName\"}\n",
    "]\n",
    "\n",
    "# Perform the aggregation\n",
    "result = list(divvy_ridedata_merged.aggregate(pipeline))"
   ]
  },
  {
   "cell_type": "code",
   "execution_count": 29,
   "metadata": {},
   "outputs": [
    {
     "data": {
      "text/plain": [
       "['distinct_station_names',\n",
       " 'divvy_ridedata_merged',\n",
       " 'withStationName',\n",
       " 'RouteDistance',\n",
       " 'divvy_rides_by_season',\n",
       " 'weather_daily',\n",
       " 'Top10EndStations',\n",
       " 'Top10Routes',\n",
       " 'sig_prcp_yes',\n",
       " 'sig_prcp_no',\n",
       " 'withoutStationName',\n",
       " 'withLatLong',\n",
       " 'divvy_ridedata',\n",
       " 'divvy_rides_by_month',\n",
       " 'Top10StartStations']"
      ]
     },
     "execution_count": 29,
     "metadata": {},
     "output_type": "execute_result"
    }
   ],
   "source": [
    "#Check to see that the collection was added\n",
    "db.list_collection_names()"
   ]
  },
  {
   "cell_type": "code",
   "execution_count": 30,
   "metadata": {},
   "outputs": [
    {
     "name": "stdout",
     "output_type": "stream",
     "text": [
      "None\n",
      "None\n"
     ]
    }
   ],
   "source": [
    "#check if there are any documents without start or end station names\n",
    "print(db.withoutStationName.find_one({\"start_station_name\":{\"$ne\":\"\"}}))\n",
    "print(db.withoutStationName.find_one({\"end_station_name\":{\"$ne\":\"\"}}))"
   ]
  },
  {
   "cell_type": "code",
   "execution_count": 31,
   "metadata": {},
   "outputs": [
    {
     "ename": "NameError",
     "evalue": "name 'withStation' is not defined",
     "output_type": "error",
     "traceback": [
      "\u001b[1;31m---------------------------------------------------------------------------\u001b[0m",
      "\u001b[1;31mNameError\u001b[0m                                 Traceback (most recent call last)",
      "\u001b[1;32mc:\\Users\\alici\\Desktop\\Project-3-Divvying-in-the-Rain\\All_queries.ipynb Cell 32\u001b[0m line \u001b[0;36m2\n\u001b[0;32m      <a href='vscode-notebook-cell:/c%3A/Users/alici/Desktop/Project-3-Divvying-in-the-Rain/All_queries.ipynb#X43sZmlsZQ%3D%3D?line=1'>2</a>\u001b[0m pipeline \u001b[39m=\u001b[39m [\n\u001b[0;32m      <a href='vscode-notebook-cell:/c%3A/Users/alici/Desktop/Project-3-Divvying-in-the-Rain/All_queries.ipynb#X43sZmlsZQ%3D%3D?line=2'>3</a>\u001b[0m     {\n\u001b[0;32m      <a href='vscode-notebook-cell:/c%3A/Users/alici/Desktop/Project-3-Divvying-in-the-Rain/All_queries.ipynb#X43sZmlsZQ%3D%3D?line=3'>4</a>\u001b[0m         \u001b[39m\"\u001b[39m\u001b[39m$group\u001b[39m\u001b[39m\"\u001b[39m: {\n\u001b[1;32m   (...)\u001b[0m\n\u001b[0;32m     <a href='vscode-notebook-cell:/c%3A/Users/alici/Desktop/Project-3-Divvying-in-the-Rain/All_queries.ipynb#X43sZmlsZQ%3D%3D?line=17'>18</a>\u001b[0m }\n\u001b[0;32m     <a href='vscode-notebook-cell:/c%3A/Users/alici/Desktop/Project-3-Divvying-in-the-Rain/All_queries.ipynb#X43sZmlsZQ%3D%3D?line=18'>19</a>\u001b[0m ]\n\u001b[0;32m     <a href='vscode-notebook-cell:/c%3A/Users/alici/Desktop/Project-3-Divvying-in-the-Rain/All_queries.ipynb#X43sZmlsZQ%3D%3D?line=20'>21</a>\u001b[0m \u001b[39m# Perform the aggregation\u001b[39;00m\n\u001b[1;32m---> <a href='vscode-notebook-cell:/c%3A/Users/alici/Desktop/Project-3-Divvying-in-the-Rain/All_queries.ipynb#X43sZmlsZQ%3D%3D?line=21'>22</a>\u001b[0m result \u001b[39m=\u001b[39m \u001b[39mlist\u001b[39m(withStation\u001b[39m.\u001b[39maggregate(pipeline))\n",
      "\u001b[1;31mNameError\u001b[0m: name 'withStation' is not defined"
     ]
    }
   ],
   "source": [
    "# Use aggregation pipeline to find top ten start stations \n",
    "pipeline = [\n",
    "    {\n",
    "        \"$group\": {\n",
    "            \"_id\": \"$start_station_name\",\n",
    "            \"count\": {\"$sum\": 1},\n",
    "            \"latitude\": {\"$first\": \"$end_lat\"},\n",
    "            \"longitude\": {\"$first\": \"$end_lng\"}\n",
    "        }\n",
    "    },\n",
    "    {\n",
    "        \"$sort\": {\"count\": -1}\n",
    "    },\n",
    "    {\n",
    "        \"$limit\": 10\n",
    "    },\n",
    "    {   \"$out\": \"Top10StartStations\"\n",
    "}\n",
    "]\n",
    "\n",
    "# Perform the aggregation\n",
    "result = list(withStation.aggregate(pipeline))\n",
    "\n"
   ]
  },
  {
   "cell_type": "code",
   "execution_count": 32,
   "metadata": {},
   "outputs": [],
   "source": [
    "# Assign collection to a variable\n",
    "Top10StartStations = db['Top10StartStations']"
   ]
  },
  {
   "cell_type": "code",
   "execution_count": 33,
   "metadata": {},
   "outputs": [
    {
     "data": {
      "text/plain": [
       "['distinct_station_names',\n",
       " 'divvy_ridedata_merged',\n",
       " 'withStationName',\n",
       " 'RouteDistance',\n",
       " 'divvy_rides_by_season',\n",
       " 'weather_daily',\n",
       " 'Top10EndStations',\n",
       " 'Top10Routes',\n",
       " 'sig_prcp_yes',\n",
       " 'sig_prcp_no',\n",
       " 'withoutStationName',\n",
       " 'withLatLong',\n",
       " 'divvy_ridedata',\n",
       " 'divvy_rides_by_month',\n",
       " 'Top10StartStations']"
      ]
     },
     "execution_count": 33,
     "metadata": {},
     "output_type": "execute_result"
    }
   ],
   "source": [
    "# Check to see that the collection was added\n",
    "db.list_collection_names()"
   ]
  },
  {
   "cell_type": "code",
   "execution_count": 34,
   "metadata": {},
   "outputs": [
    {
     "data": {
      "text/plain": [
       "{'_id': 'Streeter Dr & Grand Ave',\n",
       " 'count': 68245,\n",
       " 'latitude': 41.880958,\n",
       " 'longitude': -87.616743}"
      ]
     },
     "execution_count": 34,
     "metadata": {},
     "output_type": "execute_result"
    }
   ],
   "source": [
    "#Pull a document from the collection\n",
    "Top10StartStations.find_one()"
   ]
  },
  {
   "cell_type": "code",
   "execution_count": null,
   "metadata": {},
   "outputs": [],
   "source": [
    "# Use aggregation pipeline to find top ten end stations \n",
    "pipeline = [\n",
    "    {\n",
    "        \"$group\": {\n",
    "            \"_id\": \"$end_station_name\",\n",
    "            \"count\": {\"$sum\": 1},\n",
    "            \"latitude\": {\"$first\": \"$end_lat\"},\n",
    "            \"longitude\": {\"$first\": \"$end_lng\"}\n",
    "        }\n",
    "    },\n",
    "    {\n",
    "        \"$sort\": {\"count\": -1}\n",
    "    },\n",
    "    {\n",
    "        \"$limit\": 10\n",
    "    },\n",
    "    {   \"$out\": \"Top10EndStations\"\n",
    "}\n",
    "]\n",
    "\n",
    "# Perform the aggregation\n",
    "result = list(withStation.aggregate(pipeline))\n",
    "\n"
   ]
  },
  {
   "cell_type": "code",
   "execution_count": null,
   "metadata": {},
   "outputs": [],
   "source": [
    "# Assign to a variable\n",
    "Top10EndStations = db['Top10EndStations']"
   ]
  },
  {
   "cell_type": "code",
   "execution_count": null,
   "metadata": {},
   "outputs": [],
   "source": [
    "# Create a pipeline query to find the top ten bike routes (by start and end station)\n",
    "pipeline = [\n",
    "    {\n",
    "        \"$group\": {\n",
    "            \"_id\": { \"Start Station\": \"$start_station_name\", \"End Station\": \"$end_station_name\"},\n",
    "            \"count\": {\"$sum\": 1},\n",
    "            \"start latitude\": {\"$first\": \"$start_lat\"},\n",
    "            \"start longitude\": {\"$first\": \"$start_lng\"},\n",
    "            \"end latitude\": {\"$first\": \"$end_lat\"},\n",
    "            \"end longitude\": {\"$first\": \"$end_lng\"}\n",
    "        }\n",
    "    },\n",
    "    {\"$sort\": {\"count\": -1}\n",
    "},\n",
    "    {\n",
    "        \"$limit\": 10\n",
    "},\n",
    "    {   \"$out\": \"Top10Routes\"\n",
    "}\n",
    "]\n",
    "# Perform the aggregation\n",
    "result = list(withStation.aggregate(pipeline))\n",
    "\n"
   ]
  },
  {
   "cell_type": "code",
   "execution_count": null,
   "metadata": {},
   "outputs": [],
   "source": [
    "# Assign to a variable\n",
    "Top10Routes = db['Top10Routes']"
   ]
  },
  {
   "cell_type": "code",
   "execution_count": null,
   "metadata": {},
   "outputs": [],
   "source": [
    "# Check to see that the collection was added\n",
    "db.list_collection_names()"
   ]
  },
  {
   "cell_type": "code",
   "execution_count": null,
   "metadata": {},
   "outputs": [],
   "source": [
    "# Review a document in the collection \n",
    "Top10Routes.find_one()"
   ]
  },
  {
   "cell_type": "code",
   "execution_count": 35,
   "metadata": {},
   "outputs": [],
   "source": [
    "# Create a pipeline query to find docouments that have lat/long  \n",
    "pipeline = [\n",
    "    {\n",
    "        \"$match\": {\n",
    "            \"$and\": [\n",
    "                { \"start_lat\": { \"$ne\": \"\" } },\n",
    "                { \"start_lng\": { \"$ne\": \"\" } },\n",
    "                { \"end_lat\": { \"$ne\": \"\" } },\n",
    "                { \"end_lng\": { \"$ne\": \"\" } }\n",
    "            ]\n",
    "        }\n",
    "    }, \n",
    "    {\"$out\": \"withLatLong\"}\n",
    "]\n",
    "\n",
    "# Perform the aggregation\n",
    "result = list(divvy_ridedata_merged.aggregate(pipeline))\n",
    "\n"
   ]
  },
  {
   "cell_type": "code",
   "execution_count": 36,
   "metadata": {},
   "outputs": [],
   "source": [
    "#Assign the collection to a variable\n",
    "withLatLong = db['withLatLong']"
   ]
  },
  {
   "cell_type": "code",
   "execution_count": 37,
   "metadata": {},
   "outputs": [],
   "source": [
    "# Create a pipeline query to find distance of each route in descending order by length  \n",
    "pipeline = [\n",
    "    {\n",
    "        \"$addFields\": {\n",
    "            \"start_lat\": { \"$toDouble\": \"$start_lat\" },\n",
    "            \"start_lng\": { \"$toDouble\": \"$start_lng\" },\n",
    "            \"end_lat\": { \"$toDouble\": \"$end_lat\" },\n",
    "            \"end_lng\": { \"$toDouble\": \"$end_lng\" }\n",
    "        }\n",
    "    },\n",
    "    {\n",
    "        \"$addFields\": {\n",
    "            \"distance\": {\n",
    "                \"$sqrt\": {\n",
    "                    \"$add\": [\n",
    "                        {\n",
    "                            \"$pow\": [\n",
    "                                { \"$subtract\": [\"$end_lat\", \"$start_lat\"] },\n",
    "                                2\n",
    "                            ]\n",
    "                        },\n",
    "                        {\n",
    "                            \"$pow\": [\n",
    "                                {\n",
    "                                    \"$multiply\": [\n",
    "                                        { \"$subtract\": [\"$end_lng\", \"$start_lng\"] },\n",
    "                                        { \"$cos\": { \"$avg\": [\"$start_lat\", \"$end_lat\"] } }\n",
    "                                    ]\n",
    "                                },\n",
    "                                2\n",
    "                            ]\n",
    "                        }\n",
    "                    ]\n",
    "                }\n",
    "            }\n",
    "        }\n",
    "    },\n",
    "    {\n",
    "        \"$sort\": {\"distance\": -1}\n",
    "    },\n",
    "    {\"$out\": \"RouteDistance\"}\n",
    "]\n",
    "\n",
    "# Perform the aggregation\n",
    "result = list(withLatLong.aggregate(pipeline))\n",
    "\n"
   ]
  },
  {
   "cell_type": "code",
   "execution_count": 38,
   "metadata": {},
   "outputs": [],
   "source": [
    "# Assign to a variable\n",
    "RouteDistance = db['RouteDistance']"
   ]
  },
  {
   "cell_type": "code",
   "execution_count": 39,
   "metadata": {},
   "outputs": [
    {
     "name": "stdout",
     "output_type": "stream",
     "text": [
      "5429682\n"
     ]
    }
   ],
   "source": [
    "# Count the number of documents in the collection \n",
    "print(RouteDistance.count_documents({}))"
   ]
  },
  {
   "cell_type": "code",
   "execution_count": 40,
   "metadata": {},
   "outputs": [
    {
     "name": "stdout",
     "output_type": "stream",
     "text": [
      "{'_id': ObjectId('6544a1ade61f9c6d659ecc3a'), 'end_lat': 0.0, 'end_lng': 0.0, 'end_station_id': 'chargingstx07', 'end_station_name': 'Green St & Madison Ave*', 'ended_at': '2022-11-09 12:26:18', 'ended_at_date': '2022-11-09', 'ended_at_time': '12:26:18', 'member_casual': 'member', 'ride_id': 'E9495F1DC3475D41', 'rideable_type': 'classic_bike', 'start_lat': 41.884114, 'start_lng': -87.654264, 'start_station_id': 18062, 'start_station_name': 'Aberdeen St & Randolph St', 'started_at': '2022-11-09 12:21:55', 'started_at_date': '2022-11-09', 'started_at_time': '12:21:55', 'weather_data': {'_id': ObjectId('6544a21516ac0221c1a8c6b5'), 'date': '2022-11-09', 'cloud_cover': 75.0, 'precipitation': 0.0, 'min_temp': 47.35, 'max_temp': 60.37, 'morning_temp': 51.44, 'afternoon_temp': 48.54, 'evening_temp': 51.37, 'night_temp': 51.82, 'max_windspeed': 13.8, 'prcp_inches': 0.0, 'sig_prcp': 'no', 'avg_temp': 50.449999999999996}, 'distance': 60.51865544715035}\n",
      "{'_id': ObjectId('6544a1ade61f9c6d659ece3a'), 'end_lat': 0.0, 'end_lng': 0.0, 'end_station_id': 'chargingstx07', 'end_station_name': 'Green St & Madison Ave*', 'ended_at': '2022-11-09 13:28:28', 'ended_at_date': '2022-11-09', 'ended_at_time': '13:28:28', 'member_casual': 'member', 'ride_id': '7F49424E860E7094', 'rideable_type': 'classic_bike', 'start_lat': 41.88318130597391, 'start_lng': -87.64872461557388, 'start_station_id': 13053, 'start_station_name': 'Green St & Washington Blvd', 'started_at': '2022-11-09 13:27:04', 'started_at_date': '2022-11-09', 'started_at_time': '13:27:04', 'weather_data': {'_id': ObjectId('6544a21516ac0221c1a8c6b5'), 'date': '2022-11-09', 'cloud_cover': 75.0, 'precipitation': 0.0, 'min_temp': 47.35, 'max_temp': 60.37, 'morning_temp': 51.44, 'afternoon_temp': 48.54, 'evening_temp': 51.37, 'night_temp': 51.82, 'max_windspeed': 13.8, 'prcp_inches': 0.0, 'sig_prcp': 'no', 'avg_temp': 50.449999999999996}, 'distance': 60.49044026059129}\n",
      "{'_id': ObjectId('6544a1ade61f9c6d659ecd3d'), 'end_lat': 0.0, 'end_lng': 0.0, 'end_station_id': 'chargingstx07', 'end_station_name': 'Green St & Madison Ave*', 'ended_at': '2022-11-09 15:52:23', 'ended_at_date': '2022-11-09', 'ended_at_time': '15:52:23', 'member_casual': 'member', 'ride_id': '75DE33501313D0CE', 'rideable_type': 'classic_bike', 'start_lat': 41.881892, 'start_lng': -87.648789, 'start_station_id': 'TA1307000120', 'start_station_name': 'Green St & Madison St', 'started_at': '2022-11-09 15:52:08', 'started_at_date': '2022-11-09', 'started_at_time': '15:52:08', 'weather_data': {'_id': ObjectId('6544a21516ac0221c1a8c6b5'), 'date': '2022-11-09', 'cloud_cover': 75.0, 'precipitation': 0.0, 'min_temp': 47.35, 'max_temp': 60.37, 'morning_temp': 51.44, 'afternoon_temp': 48.54, 'evening_temp': 51.37, 'night_temp': 51.82, 'max_windspeed': 13.8, 'prcp_inches': 0.0, 'sig_prcp': 'no', 'avg_temp': 50.449999999999996}, 'distance': 60.45421892068916}\n",
      "{'_id': ObjectId('6544a1aae61f9c6d659b17a2'), 'end_lat': 0.0, 'end_lng': 0.0, 'end_station_id': 'chargingstx07', 'end_station_name': 'Green St & Madison Ave*', 'ended_at': '2022-11-09 13:44:38', 'ended_at_date': '2022-11-09', 'ended_at_time': '13:44:38', 'member_casual': 'member', 'ride_id': '3B47B333C0D186F0', 'rideable_type': 'classic_bike', 'start_lat': 41.87943409140013, 'start_lng': -87.63550400733948, 'start_station_id': 'TA1309000008', 'start_station_name': 'Franklin St & Adams St (Temp)', 'started_at': '2022-11-09 13:39:03', 'started_at_date': '2022-11-09', 'started_at_time': '13:39:03', 'weather_data': {'_id': ObjectId('6544a21516ac0221c1a8c6b5'), 'date': '2022-11-09', 'cloud_cover': 75.0, 'precipitation': 0.0, 'min_temp': 47.35, 'max_temp': 60.37, 'morning_temp': 51.44, 'afternoon_temp': 48.54, 'evening_temp': 51.37, 'night_temp': 51.82, 'max_windspeed': 13.8, 'prcp_inches': 0.0, 'sig_prcp': 'no', 'avg_temp': 50.449999999999996}, 'distance': 60.3803869222743}\n",
      "{'_id': ObjectId('6544a1aae61f9c6d659b7728'), 'end_lat': 0.0, 'end_lng': 0.0, 'end_station_id': 'chargingstx07', 'end_station_name': 'Green St & Madison Ave*', 'ended_at': '2022-11-09 11:37:30', 'ended_at_date': '2022-11-09', 'ended_at_time': '11:37:30', 'member_casual': 'member', 'ride_id': 'BB8AA29838266294', 'rideable_type': 'classic_bike', 'start_lat': 41.879255, 'start_lng': -87.639904, 'start_station_id': 13011, 'start_station_name': 'Canal St & Adams St', 'started_at': '2022-11-09 11:32:53', 'started_at_date': '2022-11-09', 'started_at_time': '11:32:53', 'weather_data': {'_id': ObjectId('6544a21516ac0221c1a8c6b5'), 'date': '2022-11-09', 'cloud_cover': 75.0, 'precipitation': 0.0, 'min_temp': 47.35, 'max_temp': 60.37, 'morning_temp': 51.44, 'afternoon_temp': 48.54, 'evening_temp': 51.37, 'night_temp': 51.82, 'max_windspeed': 13.8, 'prcp_inches': 0.0, 'sig_prcp': 'no', 'avg_temp': 50.449999999999996}, 'distance': 60.37692802078634}\n",
      "{'_id': ObjectId('6544a1ade61f9c6d659ecdf4'), 'end_lat': 0.0, 'end_lng': 0.0, 'end_station_id': 'chargingstx07', 'end_station_name': 'Green St & Madison Ave*', 'ended_at': '2022-11-09 11:06:21', 'ended_at_date': '2022-11-09', 'ended_at_time': '11:06:21', 'member_casual': 'member', 'ride_id': '0A6988FE859F4D54', 'rideable_type': 'classic_bike', 'start_lat': 41.878166, 'start_lng': -87.631929, 'start_station_id': 'TA1309000004', 'start_station_name': 'LaSalle St & Jackson Blvd', 'started_at': '2022-11-09 10:58:37', 'started_at_date': '2022-11-09', 'started_at_time': '10:58:37', 'weather_data': {'_id': ObjectId('6544a21516ac0221c1a8c6b5'), 'date': '2022-11-09', 'cloud_cover': 75.0, 'precipitation': 0.0, 'min_temp': 47.35, 'max_temp': 60.37, 'morning_temp': 51.44, 'afternoon_temp': 48.54, 'evening_temp': 51.37, 'night_temp': 51.82, 'max_windspeed': 13.8, 'prcp_inches': 0.0, 'sig_prcp': 'no', 'avg_temp': 50.449999999999996}, 'distance': 60.34348482835676}\n",
      "{'_id': ObjectId('6544a1ade61f9c6d659ec807'), 'end_lat': 0.0, 'end_lng': 0.0, 'end_station_id': 'chargingstx07', 'end_station_name': 'Green St & Madison Ave*', 'ended_at': '2022-11-09 16:26:17', 'ended_at_date': '2022-11-09', 'ended_at_time': '16:26:17', 'member_casual': 'casual', 'ride_id': '6AFE1471227BD76F', 'rideable_type': 'classic_bike', 'start_lat': 41.871737, 'start_lng': -87.65103, 'start_station_id': 'TA1307000130', 'start_station_name': 'Morgan St & Polk St', 'started_at': '2022-11-09 16:17:16', 'started_at_date': '2022-11-09', 'started_at_time': '16:17:16', 'weather_data': {'_id': ObjectId('6544a21516ac0221c1a8c6b5'), 'date': '2022-11-09', 'cloud_cover': 75.0, 'precipitation': 0.0, 'min_temp': 47.35, 'max_temp': 60.37, 'morning_temp': 51.44, 'afternoon_temp': 48.54, 'evening_temp': 51.37, 'night_temp': 51.82, 'max_windspeed': 13.8, 'prcp_inches': 0.0, 'sig_prcp': 'no', 'avg_temp': 50.449999999999996}, 'distance': 60.16971839274559}\n",
      "{'_id': ObjectId('6544a1aae61f9c6d659b6446'), 'end_lat': 0.0, 'end_lng': 0.0, 'end_station_id': 'chargingstx07', 'end_station_name': 'Green St & Madison Ave*', 'ended_at': '2022-11-09 16:38:06', 'ended_at_date': '2022-11-09', 'ended_at_time': '16:38:06', 'member_casual': 'casual', 'ride_id': '42AF82C53D831251', 'rideable_type': 'electric_bike', 'start_lat': 41.85491616666667, 'start_lng': -87.663692, 'start_station_id': 13307, 'start_station_name': 'Laflin St & Cullerton St', 'started_at': '2022-11-09 16:17:40', 'started_at_date': '2022-11-09', 'started_at_time': '16:17:40', 'weather_data': {'_id': ObjectId('6544a21516ac0221c1a8c6b5'), 'date': '2022-11-09', 'cloud_cover': 75.0, 'precipitation': 0.0, 'min_temp': 47.35, 'max_temp': 60.37, 'morning_temp': 51.44, 'afternoon_temp': 48.54, 'evening_temp': 51.37, 'night_temp': 51.82, 'max_windspeed': 13.8, 'prcp_inches': 0.0, 'sig_prcp': 'no', 'avg_temp': 50.449999999999996}, 'distance': 59.702291866770615}\n",
      "{'_id': ObjectId('6544a1406281b360c1f8ee45'), 'end_lat': 41.8646, 'end_lng': -87.681, 'end_station_id': 'Pawel Bialowas - Test- PBSC charging station', 'end_station_name': 'Pawel Bialowas - Test- PBSC charging station', 'ended_at': '2022-01-14 11:15:50', 'ended_at_date': '2022-01-14', 'ended_at_time': '11:15:50', 'member_casual': 'casual', 'ride_id': '3327172413547F64', 'rideable_type': 'electric_bike', 'start_lat': 45.635034323, 'start_lng': -73.79647696, 'start_station_id': 'Pawel Bialowas - Test- PBSC charging station', 'start_station_name': 'Pawel Bialowas - Test- PBSC charging station', 'started_at': '2022-01-14 11:13:15', 'started_at_date': '2022-01-14', 'started_at_time': '11:13:15', 'weather_data': {'_id': ObjectId('6544a21516ac0221c1a8c58b'), 'date': '2022-01-14', 'cloud_cover': 34.0, 'precipitation': 0.0, 'min_temp': 30.38, 'max_temp': 38.8, 'morning_temp': 35.74, 'afternoon_temp': 35.15, 'evening_temp': 32.5, 'night_temp': 38.39, 'max_windspeed': 10.0, 'prcp_inches': 0.0, 'sig_prcp': 'no', 'avg_temp': 34.46333333333333}, 'distance': 14.027235887447166}\n",
      "{'_id': ObjectId('6544a16d1514b2d4b466041e'), 'end_lat': 42.37, 'end_lng': -87.83, 'end_station_id': '', 'end_station_name': '', 'ended_at': '2022-07-13 18:02:44', 'ended_at_date': '2022-07-13', 'ended_at_time': '18:02:44', 'member_casual': 'member', 'ride_id': '5CE2D7C544D25B78', 'rideable_type': 'electric_bike', 'start_lat': 42.050428867, 'start_lng': -87.677878022, 'start_station_id': 'E008', 'start_station_name': 'Chicago Ave & Sheridan Rd', 'started_at': '2022-07-13 13:51:38', 'started_at_date': '2022-07-13', 'started_at_time': '13:51:38', 'weather_data': {'_id': ObjectId('6544a21516ac0221c1a8c63f'), 'date': '2022-07-13', 'cloud_cover': 20.0, 'precipitation': 0.0, 'min_temp': 68.34, 'max_temp': 84.45, 'morning_temp': 78.44, 'afternoon_temp': 70.48, 'evening_temp': 72.48, 'night_temp': 84.4, 'max_windspeed': 14.97, 'prcp_inches': 0.0, 'sig_prcp': 'no', 'avg_temp': 73.8}, 'distance': 0.3210151153143836}\n"
     ]
    }
   ],
   "source": [
    "# Find the first 10 documents\n",
    "documents = RouteDistance.find().sort(\"distance\", -1).limit(10)\n",
    "\n",
    "# Print the documents\n",
    "for doc in documents:\n",
    "    print(doc)"
   ]
  },
  {
   "cell_type": "code",
   "execution_count": 41,
   "metadata": {},
   "outputs": [
    {
     "name": "stdout",
     "output_type": "stream",
     "text": [
      "Aggregation result has been written to the new collection.\n"
     ]
    }
   ],
   "source": [
    "# Define the aggregation pipeline to pull rides by month \n",
    "pipeline = [\n",
    "    {\n",
    "        \"$group\": {\n",
    "            \"_id\": {\n",
    "                \"year\": {\"$year\": {\"$toDate\": \"$started_at\"}},\n",
    "                \"month\": {\"$month\": {\"$toDate\": \"$started_at\"}}\n",
    "            },\n",
    "            \"total_rides\": {\"$sum\": 1}\n",
    "        }\n",
    "    },\n",
    "    {\n",
    "        \"$project\": {\n",
    "            \"_id\": 0,\n",
    "            \"year\": \"$_id.year\",\n",
    "            \"month\": \"$_id.month\",\n",
    "            \"total_rides\": 1\n",
    "        }\n",
    "    },\n",
    "    {\n",
    "        \"$sort\": {\"year\": 1, \"month\": 1}\n",
    "    }\n",
    "]\n",
    "\n",
    "# Execute the aggregation pipeline and write to a new collection\n",
    "divvy_rides_by_month = db[\"divvy_rides_by_month\"]\n",
    "divvy_rides_by_month.drop()  # Drop the collection\n",
    "aggregated_result = divvy_ridedata_merged.aggregate(pipeline, allowDiskUse=True, collation=None)\n",
    "\n",
    "for doc in aggregated_result:\n",
    "    divvy_rides_by_month.insert_one(doc)\n",
    "\n",
    "print(\"Aggregation result has been written to the new collection.\")"
   ]
  },
  {
   "cell_type": "code",
   "execution_count": 42,
   "metadata": {},
   "outputs": [
    {
     "name": "stdout",
     "output_type": "stream",
     "text": [
      "Inserting document: {'_id': {'year': 2022, 'season': 'Autumn'}, 'total_rides': 1597759}\n",
      "Inserting document: {'_id': {'year': 2022, 'season': 'Spring'}, 'total_rides': 1057778}\n",
      "Inserting document: {'_id': {'year': 2022, 'season': 'Summer'}, 'total_rides': 2378624}\n",
      "Inserting document: {'_id': {'year': 2022, 'season': 'Winter'}, 'total_rides': 401185}\n",
      "Aggregation by season result has been written to the new collection.\n"
     ]
    }
   ],
   "source": [
    "# Define the aggregation pipeline to define divvy rides by season \n",
    "pipeline = [\n",
    "    {\n",
    "        \"$group\": {\n",
    "            \"_id\": {\n",
    "                \"year\": \"$year\",\n",
    "                \"season\": {\n",
    "                    \"$switch\": {\n",
    "                        \"branches\": [\n",
    "                            {\"case\": {\"$in\": [\"$month\", [3, 4, 5]]}, \"then\": \"Spring\"},\n",
    "                            {\"case\": {\"$in\": [\"$month\", [6, 7, 8]]}, \"then\": \"Summer\"},\n",
    "                            {\"case\": {\"$in\": [\"$month\", [9, 10, 11]]}, \"then\": \"Autumn\"},\n",
    "                            {\"case\": {\"$in\": [\"$month\", [12, 1, 2]]}, \"then\": \"Winter\"}\n",
    "                        ],\n",
    "                        \"default\": \"Unknown\"\n",
    "                    }\n",
    "                }\n",
    "            },\n",
    "            \"total_rides\": {\"$sum\": \"$total_rides\"}\n",
    "        }\n",
    "    },\n",
    "    {\n",
    "        \"$sort\": {\"_id.year\": 1, \"_id.season\": 1}\n",
    "    }\n",
    "]\n",
    "\n",
    "# Execute the aggregation pipeline\n",
    "divvy_rides_by_season = db[\"divvy_rides_by_season\"]\n",
    "divvy_rides_by_season.drop()  # Drop the collection\n",
    "aggregated_result = list(divvy_rides_by_month.aggregate(pipeline, allowDiskUse=True, collation=None))\n",
    "\n",
    "# Insert the aggregated documents into the new collection\n",
    "for doc in aggregated_result:\n",
    "    print(\"Inserting document:\", doc)\n",
    "    divvy_rides_by_season.insert_one(doc)\n",
    "\n",
    "print(\"Aggregation by season result has been written to the new collection.\")"
   ]
  },
  {
   "cell_type": "code",
   "execution_count": 43,
   "metadata": {},
   "outputs": [
    {
     "name": "stdout",
     "output_type": "stream",
     "text": [
      "['distinct_station_names', 'withLatLong', 'divvy_ridedata_merged', 'withStationName', 'RouteDistance', 'weather_daily', 'Top10EndStations', 'Top10Routes', 'divvy_rides_by_season', 'sig_prcp_yes', 'sig_prcp_no', 'withoutStationName', 'divvy_ridedata', 'divvy_rides_by_month', 'Top10StartStations']\n"
     ]
    }
   ],
   "source": [
    "print(db.list_collection_names())"
   ]
  },
  {
   "cell_type": "code",
   "execution_count": 44,
   "metadata": {},
   "outputs": [
    {
     "name": "stdout",
     "output_type": "stream",
     "text": [
      "1635 distinct station names imported into 'distinct_station_names' collection.\n"
     ]
    }
   ],
   "source": [
    "from bson import ObjectId\n",
    "\n",
    "# Get distinct station names along with start_lat and start_lng\n",
    "distinct_station_data = db[\"withStationName\"].aggregate([\n",
    "    {\n",
    "        \"$group\": {\n",
    "            \"_id\": \"$start_station_name\",\n",
    "            \"start_lat\": {\"$first\": \"$start_lat\"},\n",
    "            \"start_lng\": {\"$first\": \"$start_lng\"}\n",
    "        }\n",
    "    }\n",
    "])\n",
    "\n",
    "collection_name = \"distinct_station_names\"\n",
    "station_names = db[collection_name]\n",
    "\n",
    "station_name_documents = []\n",
    "for data in distinct_station_data:\n",
    "    station_name_documents.append({\n",
    "        \"start_station_name\": data[\"_id\"],\n",
    "        \"start_lat\": data[\"start_lat\"],\n",
    "        \"start_lng\": data[\"start_lng\"],\n",
    "        \"_id\": str(ObjectId())\n",
    "    })\n",
    "\n",
    "station_names.insert_many(station_name_documents)\n",
    "\n",
    "print(f\"{len(station_name_documents)} distinct station names imported into '{collection_name}' collection.\")"
   ]
  },
  {
   "cell_type": "code",
   "execution_count": 45,
   "metadata": {},
   "outputs": [
    {
     "data": {
      "text/plain": [
       "{'_id': '6544b085cd1525c0862447b5',\n",
       " 'start_station_name': 'Clinton St & Polk St',\n",
       " 'start_lat': 41.87146651779,\n",
       " 'start_lng': -87.6409491327}"
      ]
     },
     "execution_count": 45,
     "metadata": {},
     "output_type": "execute_result"
    }
   ],
   "source": [
    "#Find a station name from the collection\n",
    "station_names.find_one()"
   ]
  },
  {
   "cell_type": "code",
   "execution_count": 46,
   "metadata": {},
   "outputs": [],
   "source": [
    "# Use aggregation pipeline to create a collection that contains rides on days with significant precipitation\n",
    "pipeline = [\n",
    "         {\"$match\": {\"weather_data.sig_prcp\": {\"$exists\": True, \"$eq\": \"yes\"},\n",
    "                     }},\n",
    "         {\"$out\": \"sig_prcp_yes\"}\n",
    "         \n",
    "]\n",
    "# Perform the aggregation\n",
    "result = list(divvy_ridedata_merged.aggregate(pipeline))\n"
   ]
  },
  {
   "cell_type": "code",
   "execution_count": 47,
   "metadata": {},
   "outputs": [],
   "source": [
    "# Assign to a variable\n",
    "sig_prcp_yes = db[\"sig_prcp_yes\"]"
   ]
  },
  {
   "cell_type": "code",
   "execution_count": 48,
   "metadata": {},
   "outputs": [
    {
     "data": {
      "text/plain": [
       "{'_id': ObjectId('6544a1406281b360c1f8c056'),\n",
       " 'end_lat': 41.88338,\n",
       " 'end_lng': -87.64117,\n",
       " 'end_station_id': 'WL-012',\n",
       " 'end_station_name': 'Clinton St & Washington Blvd',\n",
       " 'ended_at': '2022-01-28 15:35:16',\n",
       " 'ended_at_date': '2022-01-28',\n",
       " 'ended_at_time': '15:35:16',\n",
       " 'member_casual': 'member',\n",
       " 'ride_id': '72DC25B2DD467EEF',\n",
       " 'rideable_type': 'classic_bike',\n",
       " 'start_lat': 41.878166,\n",
       " 'start_lng': -87.631929,\n",
       " 'start_station_id': 'TA1309000004',\n",
       " 'start_station_name': 'LaSalle St & Jackson Blvd',\n",
       " 'started_at': '2022-01-28 15:27:53',\n",
       " 'started_at_date': '2022-01-28',\n",
       " 'started_at_time': '15:27:53',\n",
       " 'weather_data': {'_id': ObjectId('6544a21516ac0221c1a8c599'),\n",
       "  'date': '2022-01-28',\n",
       "  'cloud_cover': 100.0,\n",
       "  'precipitation': 6.18,\n",
       "  'min_temp': 15.89,\n",
       "  'max_temp': 32.04,\n",
       "  'morning_temp': 29.03,\n",
       "  'afternoon_temp': 26.51,\n",
       "  'evening_temp': 17.65,\n",
       "  'night_temp': 29.01,\n",
       "  'max_windspeed': 11.5,\n",
       "  'prcp_inches': 0.2433066,\n",
       "  'sig_prcp': 'yes',\n",
       "  'avg_temp': 24.396666666666665}}"
      ]
     },
     "execution_count": 48,
     "metadata": {},
     "output_type": "execute_result"
    }
   ],
   "source": [
    "sig_prcp_yes.find_one()"
   ]
  },
  {
   "cell_type": "code",
   "execution_count": 49,
   "metadata": {},
   "outputs": [],
   "source": [
    "# Use aggregation pipeline to create a collection that contains rides on days without significant precipitation\n",
    "pipeline = [\n",
    "         {\"$match\": {\"weather_data.sig_prcp\": {\"$exists\": True, \"$eq\": \"no\"},\n",
    "                     }},\n",
    "         {\"$out\": \"sig_prcp_no\"}\n",
    "         \n",
    "]\n",
    "# Perform the aggregation\n",
    "result = list(divvy_ridedata_merged.aggregate(pipeline))\n"
   ]
  },
  {
   "cell_type": "code",
   "execution_count": 50,
   "metadata": {},
   "outputs": [],
   "source": [
    "# Assign to a variable\n",
    "sig_prcp_no = db[\"sig_prcp_no\"]"
   ]
  },
  {
   "cell_type": "code",
   "execution_count": 51,
   "metadata": {},
   "outputs": [
    {
     "data": {
      "text/plain": [
       "{'_id': ObjectId('6544a1406281b360c1f8c053'),\n",
       " 'end_lat': 42.01256011541,\n",
       " 'end_lng': -87.6743671152,\n",
       " 'end_station_id': 'RP-007',\n",
       " 'end_station_name': 'Clark St & Touhy Ave',\n",
       " 'ended_at': '2022-01-13 12:02:44',\n",
       " 'ended_at_date': '2022-01-13',\n",
       " 'ended_at_time': '12:02:44',\n",
       " 'member_casual': 'casual',\n",
       " 'ride_id': 'C2F7DD78E82EC875',\n",
       " 'rideable_type': 'electric_bike',\n",
       " 'start_lat': 42.0128005,\n",
       " 'start_lng': -87.665906,\n",
       " 'start_station_id': 525,\n",
       " 'start_station_name': 'Glenwood Ave & Touhy Ave',\n",
       " 'started_at': '2022-01-13 11:59:47',\n",
       " 'started_at_date': '2022-01-13',\n",
       " 'started_at_time': '11:59:47',\n",
       " 'weather_data': {'_id': ObjectId('6544a21516ac0221c1a8c58a'),\n",
       "  'date': '2022-01-13',\n",
       "  'cloud_cover': 75.0,\n",
       "  'precipitation': 0.0,\n",
       "  'min_temp': 30.72,\n",
       "  'max_temp': 39.83,\n",
       "  'morning_temp': 35.49,\n",
       "  'afternoon_temp': 30.72,\n",
       "  'evening_temp': 34.38,\n",
       "  'night_temp': 39.22,\n",
       "  'max_windspeed': 8.01,\n",
       "  'prcp_inches': 0.0,\n",
       "  'sig_prcp': 'no',\n",
       "  'avg_temp': 33.53}}"
      ]
     },
     "execution_count": 51,
     "metadata": {},
     "output_type": "execute_result"
    }
   ],
   "source": [
    "sig_prcp_no.find_one()"
   ]
  },
  {
   "cell_type": "code",
   "execution_count": 56,
   "metadata": {},
   "outputs": [
    {
     "ename": "TypeError",
     "evalue": "'NoneType' object is not subscriptable",
     "output_type": "error",
     "traceback": [
      "\u001b[1;31m---------------------------------------------------------------------------\u001b[0m",
      "\u001b[1;31mTypeError\u001b[0m                                 Traceback (most recent call last)",
      "\u001b[1;32mc:\\Users\\alici\\Desktop\\Project-3-Divvying-in-the-Rain\\All_queries.ipynb Cell 59\u001b[0m line \u001b[0;36m6\n\u001b[0;32m     <a href='vscode-notebook-cell:/c%3A/Users/alici/Desktop/Project-3-Divvying-in-the-Rain/All_queries.ipynb#Y112sZmlsZQ%3D%3D?line=63'>64</a>\u001b[0m \u001b[39m# Loop through each month in the year 2022\u001b[39;00m\n\u001b[0;32m     <a href='vscode-notebook-cell:/c%3A/Users/alici/Desktop/Project-3-Divvying-in-the-Rain/All_queries.ipynb#Y112sZmlsZQ%3D%3D?line=64'>65</a>\u001b[0m \u001b[39mfor\u001b[39;00m month \u001b[39min\u001b[39;00m \u001b[39mrange\u001b[39m(\u001b[39m1\u001b[39m, \u001b[39m13\u001b[39m):\n\u001b[1;32m---> <a href='vscode-notebook-cell:/c%3A/Users/alici/Desktop/Project-3-Divvying-in-the-Rain/All_queries.ipynb#Y112sZmlsZQ%3D%3D?line=65'>66</a>\u001b[0m     update_num_days_and_sig_prcp_count(\u001b[39m2022\u001b[39;49m, month)\n",
      "\u001b[1;32mc:\\Users\\alici\\Desktop\\Project-3-Divvying-in-the-Rain\\All_queries.ipynb Cell 59\u001b[0m line \u001b[0;36m5\n\u001b[0;32m     <a href='vscode-notebook-cell:/c%3A/Users/alici/Desktop/Project-3-Divvying-in-the-Rain/All_queries.ipynb#Y112sZmlsZQ%3D%3D?line=48'>49</a>\u001b[0m sig_prcp_yes_month\u001b[39m.\u001b[39mupdate_one(query, update_query)\n\u001b[0;32m     <a href='vscode-notebook-cell:/c%3A/Users/alici/Desktop/Project-3-Divvying-in-the-Rain/All_queries.ipynb#Y112sZmlsZQ%3D%3D?line=50'>51</a>\u001b[0m \u001b[39m# Calculate average rides per day\u001b[39;00m\n\u001b[1;32m---> <a href='vscode-notebook-cell:/c%3A/Users/alici/Desktop/Project-3-Divvying-in-the-Rain/All_queries.ipynb#Y112sZmlsZQ%3D%3D?line=51'>52</a>\u001b[0m total_rides \u001b[39m=\u001b[39m sig_prcp_yes_month\u001b[39m.\u001b[39;49mfind_one(query)[\u001b[39m'\u001b[39;49m\u001b[39mtotal_rides\u001b[39;49m\u001b[39m'\u001b[39;49m]\n\u001b[0;32m     <a href='vscode-notebook-cell:/c%3A/Users/alici/Desktop/Project-3-Divvying-in-the-Rain/All_queries.ipynb#Y112sZmlsZQ%3D%3D?line=52'>53</a>\u001b[0m sig_prcp_yes_month\u001b[39m.\u001b[39mupdate_one(query, update_query)\n\u001b[0;32m     <a href='vscode-notebook-cell:/c%3A/Users/alici/Desktop/Project-3-Divvying-in-the-Rain/All_queries.ipynb#Y112sZmlsZQ%3D%3D?line=54'>55</a>\u001b[0m \u001b[39m# Calculate and update average rides per day with no significant precipitation\u001b[39;00m\n",
      "\u001b[1;31mTypeError\u001b[0m: 'NoneType' object is not subscriptable"
     ]
    }
   ],
   "source": [
    "# Create a new collection that shows average daily rides per month with precipitation \n",
    "\n",
    "pipeline = [\n",
    "    {\n",
    "        \"$group\": {\n",
    "            \"_id\": {\n",
    "                \"year\": {\"$year\": {\"$toDate\": \"$started_at\"}},\n",
    "                \"month\": {\"$month\": {\"$toDate\": \"$started_at\"}}\n",
    "            },\n",
    "            \"total_rides\": {\"$sum\": 1}\n",
    "        }\n",
    "    },\n",
    "    {\n",
    "        \"$project\": {\n",
    "            \"_id\": 0,\n",
    "            \"year\": \"$_id.year\",\n",
    "            \"month\": \"$_id.month\",\n",
    "            \"total_rides\": 1\n",
    "        }\n",
    "    },\n",
    "    {\n",
    "        \"$sort\": {\"year\": 1, \"month\": 1}\n",
    "    }\n",
    "]\n",
    "\n",
    "# Execute the aggregation pipeline and write to a new collection\n",
    "sig_prcp_yes_month = db[\"sig_prcp_yes_month\"]\n",
    "#divvy_rides_by_month = db[\"divvy_rides_by_month\"]\n",
    "sig_prcp_yes_month.drop()  # Drop the collection\n",
    "aggregated_result = sig_prcp_yes.aggregate(pipeline, allowDiskUse=True, collation=None)\n",
    "\n",
    "for doc in aggregated_result:\n",
    "    sig_prcp_yes_month.insert_one(doc)\n",
    "\n",
    "# Function to insert number of days and sig_prcp count for each month\n",
    "def update_num_days_and_sig_prcp_count(year, month):\n",
    "    _, num_days = monthrange(year, month)\n",
    "    query = {'year': year, 'month': month}\n",
    "    update_query = {'$set': {'num_days': num_days}}\n",
    "    sig_prcp_yes_month.update_one(query, update_query)\n",
    "\n",
    "    # Count the number of days with sig_prcp = 'no' for the given month\n",
    "# Count the number of days with sig_prcp = 'no' for the given month\n",
    "    sig_prcp_count = weather_daily.count_documents({\n",
    "        'date': {'$regex': f'^{year:04d}-{month:02d}'},  # Match the year and month in the date field\n",
    "        'sig_prcp': 'yes'\n",
    "    })\n",
    "    update_query = {'$set': {'sig_prcp_count': sig_prcp_count}}\n",
    "    sig_prcp_yes_month.update_one(query, update_query)\n",
    "\n",
    "    # Calculate average rides per day\n",
    "    total_rides = sig_prcp_yes_month.find_one(query)['total_rides']\n",
    "    sig_prcp_yes_month.update_one(query, update_query)\n",
    "\n",
    "    # Calculate and update average rides per day with no significant precipitation\n",
    "    query = {'year': 2022, 'month': month}\n",
    "    document = sig_prcp_yes_month.find_one(query)\n",
    "    \n",
    "    if document is not None and document['sig_prcp_count'] > 0:  # To avoid division by zero\n",
    "        average_rides_per_day = document['total_rides'] / document['sig_prcp_count']\n",
    "        update_query = {'$set': {'average_rides_per_day': average_rides_per_day}}\n",
    "        sig_prcp_yes_month.update_one(query, update_query)\n",
    "\n",
    "# Loop through each month in the year 2022\n",
    "for month in range(1, 13):\n",
    "    update_num_days_and_sig_prcp_count(2022, month)\n"
   ]
  },
  {
   "cell_type": "code",
   "execution_count": null,
   "metadata": {},
   "outputs": [
    {
     "ename": "TypeError",
     "evalue": "'NoneType' object is not subscriptable",
     "output_type": "error",
     "traceback": [
      "\u001b[1;31m---------------------------------------------------------------------------\u001b[0m",
      "\u001b[1;31mTypeError\u001b[0m                                 Traceback (most recent call last)",
      "\u001b[1;32mc:\\Users\\alici\\Desktop\\Project-3-Divvying-in-the-Rain\\All_queries.ipynb Cell 60\u001b[0m line \u001b[0;36m6\n\u001b[0;32m     <a href='vscode-notebook-cell:/c%3A/Users/alici/Desktop/Project-3-Divvying-in-the-Rain/All_queries.ipynb#Y113sZmlsZQ%3D%3D?line=57'>58</a>\u001b[0m \u001b[39m# Loop through each month in the year 2022\u001b[39;00m\n\u001b[0;32m     <a href='vscode-notebook-cell:/c%3A/Users/alici/Desktop/Project-3-Divvying-in-the-Rain/All_queries.ipynb#Y113sZmlsZQ%3D%3D?line=58'>59</a>\u001b[0m \u001b[39mfor\u001b[39;00m month \u001b[39min\u001b[39;00m \u001b[39mrange\u001b[39m(\u001b[39m1\u001b[39m, \u001b[39m13\u001b[39m):\n\u001b[1;32m---> <a href='vscode-notebook-cell:/c%3A/Users/alici/Desktop/Project-3-Divvying-in-the-Rain/All_queries.ipynb#Y113sZmlsZQ%3D%3D?line=59'>60</a>\u001b[0m     update_num_days_and_sig_prcp_count(\u001b[39m2022\u001b[39;49m, month)\n",
      "\u001b[1;32mc:\\Users\\alici\\Desktop\\Project-3-Divvying-in-the-Rain\\All_queries.ipynb Cell 60\u001b[0m line \u001b[0;36m5\n\u001b[0;32m     <a href='vscode-notebook-cell:/c%3A/Users/alici/Desktop/Project-3-Divvying-in-the-Rain/All_queries.ipynb#Y113sZmlsZQ%3D%3D?line=48'>49</a>\u001b[0m \u001b[39m# Calculate average rides per day\u001b[39;00m\n\u001b[0;32m     <a href='vscode-notebook-cell:/c%3A/Users/alici/Desktop/Project-3-Divvying-in-the-Rain/All_queries.ipynb#Y113sZmlsZQ%3D%3D?line=49'>50</a>\u001b[0m document \u001b[39m=\u001b[39m sig_prcp_no_month\u001b[39m.\u001b[39mfind_one(query)\n\u001b[1;32m---> <a href='vscode-notebook-cell:/c%3A/Users/alici/Desktop/Project-3-Divvying-in-the-Rain/All_queries.ipynb#Y113sZmlsZQ%3D%3D?line=51'>52</a>\u001b[0m \u001b[39mif\u001b[39;00m document[\u001b[39m'\u001b[39;49m\u001b[39msig_prcp_count\u001b[39;49m\u001b[39m'\u001b[39;49m] \u001b[39m>\u001b[39m \u001b[39m0\u001b[39m:\n\u001b[0;32m     <a href='vscode-notebook-cell:/c%3A/Users/alici/Desktop/Project-3-Divvying-in-the-Rain/All_queries.ipynb#Y113sZmlsZQ%3D%3D?line=52'>53</a>\u001b[0m     total_rides \u001b[39m=\u001b[39m document[\u001b[39m'\u001b[39m\u001b[39mtotal_rides\u001b[39m\u001b[39m'\u001b[39m]\n\u001b[0;32m     <a href='vscode-notebook-cell:/c%3A/Users/alici/Desktop/Project-3-Divvying-in-the-Rain/All_queries.ipynb#Y113sZmlsZQ%3D%3D?line=53'>54</a>\u001b[0m     average_rides_per_day \u001b[39m=\u001b[39m total_rides \u001b[39m/\u001b[39m document[\u001b[39m'\u001b[39m\u001b[39msig_prcp_count\u001b[39m\u001b[39m'\u001b[39m]\n",
      "\u001b[1;31mTypeError\u001b[0m: 'NoneType' object is not subscriptable"
     ]
    }
   ],
   "source": [
    "# Create a new collection that shows average daily rides per month with no precipitation \n",
    "\n",
    "pipeline = [\n",
    "    {\n",
    "        \"$group\": {\n",
    "            \"_id\": {\n",
    "                \"year\": {\"$year\": {\"$toDate\": \"$started_at\"}},\n",
    "                \"month\": {\"$month\": {\"$toDate\": \"$started_at\"}}\n",
    "            },\n",
    "            \"total_rides\": {\"$sum\": 1}\n",
    "        }\n",
    "    },\n",
    "    {\n",
    "        \"$project\": {\n",
    "            \"_id\": 0,\n",
    "            \"year\": \"$_id.year\",\n",
    "            \"month\": \"$_id.month\",\n",
    "            \"total_rides\": 1\n",
    "        }\n",
    "    },\n",
    "    {\n",
    "        \"$sort\": {\"year\": 1, \"month\": 1}\n",
    "    }\n",
    "]\n",
    "\n",
    "# Execute the aggregation pipeline and write to a new collection\n",
    "sig_prcp_no_month = db[\"sig_prcp_no_month\"]\n",
    "#divvy_rides_by_month = db[\"divvy_rides_by_month\"]\n",
    "sig_prcp_no_month.drop()  # Drop the collection\n",
    "aggregated_result = sig_prcp_no.aggregate(pipeline, allowDiskUse=True, collation=None)\n",
    "\n",
    "for doc in aggregated_result:\n",
    "    sig_prcp_no_month.insert_one(doc)\n",
    "\n",
    "def update_num_days_and_sig_prcp_count(year, month):\n",
    "    _, num_days = monthrange(year, month)\n",
    "    query = {'year': year, 'month': month}\n",
    "    update_query = {'$set': {'num_days': num_days}}\n",
    "    sig_prcp_no_month.update_one(query, update_query)\n",
    "\n",
    "    # Count the number of days with sig_prcp = 'no' for the given month\n",
    "    sig_prcp_count = weather_daily.count_documents({\n",
    "        'date': {'$regex': f'^{year:04d}-{month:02d}'},\n",
    "        'sig_prcp': 'no'\n",
    "    })\n",
    "    update_query = {'$set': {'sig_prcp_count': sig_prcp_count}}\n",
    "    sig_prcp_no_month.update_one(query, update_query)\n",
    "\n",
    "    # Calculate average rides per day\n",
    "    document = sig_prcp_no_month.find_one(query)\n",
    "    \n",
    "    if document['sig_prcp_count'] > 0:\n",
    "        total_rides = document['total_rides']\n",
    "        average_rides_per_day = total_rides / document['sig_prcp_count']\n",
    "        update_query = {'$set': {'average_rides_per_day': average_rides_per_day}}\n",
    "        sig_prcp_no_month.update_one(query, update_query)\n",
    "\n",
    "# Loop through each month in the year 2022\n",
    "for month in range(1, 13):\n",
    "    update_num_days_and_sig_prcp_count(2022, month)\n"
   ]
  },
  {
   "cell_type": "code",
   "execution_count": null,
   "metadata": {},
   "outputs": [
    {
     "ename": "NameError",
     "evalue": "name 'sig_prcp_no_month_string' is not defined",
     "output_type": "error",
     "traceback": [
      "\u001b[1;31m---------------------------------------------------------------------------\u001b[0m",
      "\u001b[1;31mNameError\u001b[0m                                 Traceback (most recent call last)",
      "\u001b[1;32mc:\\Users\\alici\\Desktop\\Project-3-Divvying-in-the-Rain\\All_queries.ipynb Cell 61\u001b[0m line \u001b[0;36m2\n\u001b[0;32m      <a href='vscode-notebook-cell:/c%3A/Users/alici/Desktop/Project-3-Divvying-in-the-Rain/All_queries.ipynb#Y114sZmlsZQ%3D%3D?line=0'>1</a>\u001b[0m \u001b[39m# Create a new collection to store documents with string _id\u001b[39;00m\n\u001b[1;32m----> <a href='vscode-notebook-cell:/c%3A/Users/alici/Desktop/Project-3-Divvying-in-the-Rain/All_queries.ipynb#Y114sZmlsZQ%3D%3D?line=1'>2</a>\u001b[0m sig_prcp_no_month_string\u001b[39m.\u001b[39mdrop()\n\u001b[0;32m      <a href='vscode-notebook-cell:/c%3A/Users/alici/Desktop/Project-3-Divvying-in-the-Rain/All_queries.ipynb#Y114sZmlsZQ%3D%3D?line=2'>3</a>\u001b[0m sig_prcp_no_month_string \u001b[39m=\u001b[39m db[\u001b[39m\"\u001b[39m\u001b[39msig_prcp_no_month_with_string_id\u001b[39m\u001b[39m\"\u001b[39m]\n\u001b[0;32m      <a href='vscode-notebook-cell:/c%3A/Users/alici/Desktop/Project-3-Divvying-in-the-Rain/All_queries.ipynb#Y114sZmlsZQ%3D%3D?line=4'>5</a>\u001b[0m \u001b[39m# Iterate through the documents in the original collection\u001b[39;00m\n",
      "\u001b[1;31mNameError\u001b[0m: name 'sig_prcp_no_month_string' is not defined"
     ]
    }
   ],
   "source": [
    "# Create a new collection to store documents with string _id\n",
    "sig_prcp_no_month_string.drop()\n",
    "sig_prcp_no_month_string = db[\"sig_prcp_no_month_with_string_id\"]\n",
    "\n",
    "# Iterate through the documents in the original collection\n",
    "for document in sig_prcp_no_month.find({}):\n",
    "    document_id = document['_id']\n",
    "    string_id = str(document_id)\n",
    "    \n",
    "    # Create a new document with the string _id and other fields\n",
    "    new_document = {\n",
    "        '_id': string_id,\n",
    "        'year': document['year'],\n",
    "        'month': document['month'],\n",
    "        'total_rides': document['total_rides'],\n",
    "        'num_days': document['num_days'],\n",
    "        'sig_prcp_count': document['sig_prcp_count'],\n",
    "        'average_rides_per_day': document['average_rides_per_day']\n",
    "        # Include other fields from the original document\n",
    "    }\n",
    "    \n",
    "    # Insert the new document into the new collection\n",
    "    sig_prcp_no_month_string.insert_one(new_document)\n",
    "\n",
    "print(\"Documents with string _id inserted into the new collection.\")"
   ]
  },
  {
   "cell_type": "code",
   "execution_count": null,
   "metadata": {},
   "outputs": [
    {
     "ename": "NameError",
     "evalue": "name 'sig_prcp_yes_month_string' is not defined",
     "output_type": "error",
     "traceback": [
      "\u001b[1;31m---------------------------------------------------------------------------\u001b[0m",
      "\u001b[1;31mNameError\u001b[0m                                 Traceback (most recent call last)",
      "\u001b[1;32mc:\\Users\\alici\\Desktop\\Project-3-Divvying-in-the-Rain\\All_queries.ipynb Cell 62\u001b[0m line \u001b[0;36m2\n\u001b[0;32m      <a href='vscode-notebook-cell:/c%3A/Users/alici/Desktop/Project-3-Divvying-in-the-Rain/All_queries.ipynb#Y115sZmlsZQ%3D%3D?line=0'>1</a>\u001b[0m \u001b[39m# Create a new collection to store documents with string _id\u001b[39;00m\n\u001b[1;32m----> <a href='vscode-notebook-cell:/c%3A/Users/alici/Desktop/Project-3-Divvying-in-the-Rain/All_queries.ipynb#Y115sZmlsZQ%3D%3D?line=1'>2</a>\u001b[0m sig_prcp_yes_month_string\u001b[39m.\u001b[39mdrop()\n\u001b[0;32m      <a href='vscode-notebook-cell:/c%3A/Users/alici/Desktop/Project-3-Divvying-in-the-Rain/All_queries.ipynb#Y115sZmlsZQ%3D%3D?line=2'>3</a>\u001b[0m sig_prcp_yes_month_string \u001b[39m=\u001b[39m db[\u001b[39m\"\u001b[39m\u001b[39msig_prcp_yes_month_with_string_id\u001b[39m\u001b[39m\"\u001b[39m]\n\u001b[0;32m      <a href='vscode-notebook-cell:/c%3A/Users/alici/Desktop/Project-3-Divvying-in-the-Rain/All_queries.ipynb#Y115sZmlsZQ%3D%3D?line=4'>5</a>\u001b[0m \u001b[39m# Iterate through the documents in the original collection\u001b[39;00m\n",
      "\u001b[1;31mNameError\u001b[0m: name 'sig_prcp_yes_month_string' is not defined"
     ]
    }
   ],
   "source": [
    "# Create a new collection to store documents with string _id\n",
    "sig_prcp_yes_month_string.drop()\n",
    "sig_prcp_yes_month_string = db[\"sig_prcp_yes_month_with_string_id\"]\n",
    "\n",
    "# Iterate through the documents in the original collection\n",
    "for document in sig_prcp_yes_month.find({}):\n",
    "    document_id = document['_id']\n",
    "    string_id = str(document_id)\n",
    "    \n",
    "    # Create a new document with the string _id and other fields\n",
    "    new_document = {\n",
    "        '_id': string_id,\n",
    "        'year': document['year'],\n",
    "        'month': document['month'],\n",
    "        'total_rides': document['total_rides'],\n",
    "        'num_days': document['num_days'],\n",
    "        'sig_prcp_count': document['sig_prcp_count'],\n",
    "        'average_rides_per_day': document['average_rides_per_day']\n",
    "        # Include other fields from the original document\n",
    "    }\n",
    "    \n",
    "    # Insert the new document into the new collection\n",
    "    sig_prcp_yes_month_string.insert_one(new_document)\n",
    "\n",
    "print(\"Documents with string _id inserted into the new collection.\")"
   ]
  },
  {
   "cell_type": "code",
   "execution_count": null,
   "metadata": {},
   "outputs": [],
   "source": []
  }
 ],
 "metadata": {
  "kernelspec": {
   "display_name": "intro_python_requirements_windo",
   "language": "python",
   "name": "python3"
  },
  "language_info": {
   "codemirror_mode": {
    "name": "ipython",
    "version": 3
   },
   "file_extension": ".py",
   "mimetype": "text/x-python",
   "name": "python",
   "nbconvert_exporter": "python",
   "pygments_lexer": "ipython3",
   "version": "3.10.9"
  },
  "orig_nbformat": 4
 },
 "nbformat": 4,
 "nbformat_minor": 2
}
